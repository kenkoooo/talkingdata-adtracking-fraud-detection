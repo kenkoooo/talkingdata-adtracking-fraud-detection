{
 "cells": [
  {
   "cell_type": "code",
   "execution_count": 2,
   "metadata": {},
   "outputs": [],
   "source": [
    "import pandas as pd"
   ]
  },
  {
   "cell_type": "code",
   "execution_count": 4,
   "metadata": {},
   "outputs": [
    {
     "name": "stdout",
     "output_type": "stream",
     "text": [
      "CPU times: user 7.45 s, sys: 7.38 s, total: 14.8 s\n",
      "Wall time: 14.8 s\n"
     ]
    }
   ],
   "source": [
    "%%time\n",
    "df = pd.read_feather(\"../data/merged_click_data\")"
   ]
  },
  {
   "cell_type": "code",
   "execution_count": 5,
   "metadata": {},
   "outputs": [
    {
     "data": {
      "text/plain": [
       "app                                              uint16\n",
       "channel                                          uint16\n",
       "click_id                                         uint32\n",
       "device                                           uint16\n",
       "ip                                               uint32\n",
       "is_attributed                                     uint8\n",
       "os                                               uint16\n",
       "click_count_by_ip_os_device_dow                  uint32\n",
       "click_count_by_ip_os_device_dow_hour             uint16\n",
       "click_count_by_ip                                uint32\n",
       "dow                                               uint8\n",
       "hour                                              uint8\n",
       "minute                                            uint8\n",
       "second                                            uint8\n",
       "rank_by_ip                                       uint32\n",
       "rank_by_ip_os_device                             uint32\n",
       "rank_by_ip_os_device_dow                         uint32\n",
       "click_time_interval_by_ip                        uint32\n",
       "click_time_interval_by_ip_os_device              uint32\n",
       "click_time_interval_by_ip_os_device_dow          uint32\n",
       "click_time_interval_by_ip_os_device_dow_hour     uint32\n",
       "ip_device_os_cumcount                            uint32\n",
       "ip_cumcount                                      uint32\n",
       "ip_channel_countuniq                              uint8\n",
       "ip_dow_hour_countuniq                             uint8\n",
       "ip_app_countuniq                                  uint8\n",
       "ip_app_os_countuniq                               uint8\n",
       "ip_device_countuniq                              uint16\n",
       "app_channel_countuniq                            uint32\n",
       "ip_device_os_app_countuniq                       uint32\n",
       "ip_dow_hour_count                                uint32\n",
       "ip_app_count                                     uint32\n",
       "ip_app_os_count                                  uint16\n",
       "ip_dow_channel_var                              float32\n",
       "ip_app_os_var                                   float32\n",
       "ip_app_channel_var                              float32\n",
       "ip_app_channel_mean                             float32\n",
       "ip_os_device_app_hash                            uint32\n",
       "first_click_by_ip                                  bool\n",
       "first_click_by_ip_os_device                        bool\n",
       "first_click_by_ip_os_device_dow                    bool\n",
       "first_click_by_ip_os_device_dow_hour               bool\n",
       "dtype: object"
      ]
     },
     "execution_count": 5,
     "metadata": {},
     "output_type": "execute_result"
    }
   ],
   "source": [
    "df.dtypes"
   ]
  },
  {
   "cell_type": "code",
   "execution_count": 6,
   "metadata": {},
   "outputs": [
    {
     "name": "stdout",
     "output_type": "stream",
     "text": [
      "CPU times: user 12.2 s, sys: 10.8 s, total: 23.1 s\n",
      "Wall time: 23.1 s\n"
     ]
    }
   ],
   "source": [
    "%%time\n",
    "basic_columns = [\"app\", \"channel\", \"click_id\", \"device\", \"ip\", \"is_attributed\", \"os\"]\n",
    "basic_table = df[basic_columns]\n",
    "df.drop(columns=basic_columns, inplace=True)"
   ]
  },
  {
   "cell_type": "code",
   "execution_count": 21,
   "metadata": {},
   "outputs": [],
   "source": [
    "basic_table.to_feather(\"../data/basic_table\")"
   ]
  },
  {
   "cell_type": "code",
   "execution_count": 33,
   "metadata": {},
   "outputs": [
    {
     "name": "stdout",
     "output_type": "stream",
     "text": [
      "total 65G\r\n",
      "drwxrwxr-x 3 ubuntu ubuntu  4.0K Apr 29 08:48 \u001b[0m\u001b[01;34m.\u001b[0m/\r\n",
      "drwxrwxr-x 7 ubuntu ubuntu  4.0K Apr 28 16:26 \u001b[01;34m..\u001b[0m/\r\n",
      "drwxrwxr-x 2 ubuntu ubuntu  4.0K Apr 28 16:52 \u001b[01;34m.ipynb_checkpoints\u001b[0m/\r\n",
      "-rw-r--r-- 1 ubuntu ubuntu  3.3G Apr 29 08:47 basic_table\r\n",
      "-rw-rw-r-- 1 ubuntu ubuntu  1.5G Apr 29 03:27 \u001b[01;31mclick_count.zip\u001b[0m\r\n",
      "-rw-rw-r-- 1 ubuntu ubuntu  1.3G Apr 29 04:44 \u001b[01;31mclick_data.hdf.zip\u001b[0m\r\n",
      "-rw-rw-r-- 1 ubuntu ubuntu  2.5G Apr 29 04:17 click_time_interval_ip_device_os_app_hash.hdf\r\n",
      "-rw-rw-r-- 1 ubuntu ubuntu 1020M Apr 29 03:15 \u001b[01;31mclick_time_intervals.hdf.zip\u001b[0m\r\n",
      "-rw-rw-r-- 1 ubuntu ubuntu  313M Apr 29 04:49 \u001b[01;31mclick_times.hdf.zip\u001b[0m\r\n",
      "-rw-rw-r-- 1 ubuntu ubuntu  2.5G Apr 29 03:05 \u001b[01;31mintervals.zip\u001b[0m\r\n",
      "-rw-r--r-- 1 ubuntu ubuntu  3.2G Apr 29 08:48 intervals_table\r\n",
      "-rw-rw-r-- 1 ubuntu ubuntu  3.0G Apr 28 16:48 ip_os_device.hdf\r\n",
      "-rw-rw-r-- 1 ubuntu ubuntu  4.6G Apr 28 17:04 ip_os_device_dow.hdf\r\n",
      "-rw-r--r-- 1 ubuntu ubuntu   22G Apr 29 05:04 merged_click_data\r\n",
      "-rw-rw-r-- 1 ubuntu ubuntu   17G Apr 29 08:26 \u001b[01;31mmerged_click_data.hdf.zip\u001b[0m\r\n",
      "-rw-rw-r-- 1 ubuntu ubuntu  2.4G Apr 29 03:43 \u001b[01;31mranks.zip\u001b[0m\r\n",
      "-rw-rw-r-- 1 ubuntu ubuntu  1.4G Apr 28 17:20 \u001b[01;31mraw.zip\u001b[0m\r\n",
      "-rw-rw-r-- 1 ubuntu ubuntu  187M Feb 27 06:52 sample_submission.csv\r\n",
      "-rw-r--r-- 1 ubuntu ubuntu  778M Apr 29 08:47 time_table\r\n"
     ]
    }
   ],
   "source": [
    "ls -lah ../data/"
   ]
  },
  {
   "cell_type": "code",
   "execution_count": 23,
   "metadata": {},
   "outputs": [],
   "source": [
    "time_columns = [\"dow\", \"hour\", \"minute\", \"second\"]\n",
    "time_table = df[time_columns]\n",
    "df.drop(columns=time_columns, inplace=True)"
   ]
  },
  {
   "cell_type": "code",
   "execution_count": 24,
   "metadata": {},
   "outputs": [],
   "source": [
    "time_table.to_feather(\"../data/time_table\")"
   ]
  },
  {
   "cell_type": "code",
   "execution_count": 25,
   "metadata": {},
   "outputs": [
    {
     "data": {
      "text/plain": [
       "click_count_by_ip_os_device_dow                  uint32\n",
       "click_count_by_ip_os_device_dow_hour             uint16\n",
       "click_count_by_ip                                uint32\n",
       "rank_by_ip                                       uint32\n",
       "rank_by_ip_os_device                             uint32\n",
       "rank_by_ip_os_device_dow                         uint32\n",
       "click_time_interval_by_ip                        uint32\n",
       "click_time_interval_by_ip_os_device              uint32\n",
       "click_time_interval_by_ip_os_device_dow          uint32\n",
       "click_time_interval_by_ip_os_device_dow_hour     uint32\n",
       "ip_device_os_cumcount                            uint32\n",
       "ip_cumcount                                      uint32\n",
       "ip_channel_countuniq                              uint8\n",
       "ip_dow_hour_countuniq                             uint8\n",
       "ip_app_countuniq                                  uint8\n",
       "ip_app_os_countuniq                               uint8\n",
       "ip_device_countuniq                              uint16\n",
       "app_channel_countuniq                            uint32\n",
       "ip_device_os_app_countuniq                       uint32\n",
       "ip_dow_hour_count                                uint32\n",
       "ip_app_count                                     uint32\n",
       "ip_app_os_count                                  uint16\n",
       "ip_dow_channel_var                              float32\n",
       "ip_app_os_var                                   float32\n",
       "ip_app_channel_var                              float32\n",
       "ip_app_channel_mean                             float32\n",
       "ip_os_device_app_hash                            uint32\n",
       "first_click_by_ip                                  bool\n",
       "first_click_by_ip_os_device                        bool\n",
       "first_click_by_ip_os_device_dow                    bool\n",
       "first_click_by_ip_os_device_dow_hour               bool\n",
       "dtype: object"
      ]
     },
     "execution_count": 25,
     "metadata": {},
     "output_type": "execute_result"
    }
   ],
   "source": [
    "df.dtypes"
   ]
  },
  {
   "cell_type": "code",
   "execution_count": 27,
   "metadata": {},
   "outputs": [],
   "source": [
    "intervals_columns=[\"click_time_interval_by_ip\", \"click_time_interval_by_ip_os_device\", \"click_time_interval_by_ip_os_device_dow\", \"click_time_interval_by_ip_os_device_dow_hour\",\n",
    "                  \"first_click_by_ip\", \"first_click_by_ip_os_device\", \"first_click_by_ip_os_device_dow\", \"first_click_by_ip_os_device_dow_hour\"]\n",
    "intervals_table=df[intervals_columns]\n",
    "df.drop(columns=intervals_columns, inplace=True)"
   ]
  },
  {
   "cell_type": "code",
   "execution_count": 28,
   "metadata": {},
   "outputs": [],
   "source": [
    "intervals_table.to_feather(\"../data/intervals_table\")"
   ]
  },
  {
   "cell_type": "code",
   "execution_count": 29,
   "metadata": {},
   "outputs": [],
   "source": [
    "click_count_columns=[\"click_count_by_ip\", \"click_count_by_ip_os_device_dow\", \"click_count_by_ip_os_device_dow_hour\"]\n",
    "click_count_table = df[click_count_columns]\n",
    "df.drop(columns=click_count_columns, inplace=True)"
   ]
  },
  {
   "cell_type": "code",
   "execution_count": 31,
   "metadata": {},
   "outputs": [
    {
     "data": {
      "text/plain": [
       "3036"
      ]
     },
     "execution_count": 31,
     "metadata": {},
     "output_type": "execute_result"
    }
   ],
   "source": [
    "import gc\n",
    "gc.collect()"
   ]
  },
  {
   "cell_type": "code",
   "execution_count": 34,
   "metadata": {},
   "outputs": [],
   "source": [
    "click_count_table.to_feather(\"../data/click_count_table\")"
   ]
  },
  {
   "cell_type": "code",
   "execution_count": 35,
   "metadata": {},
   "outputs": [
    {
     "data": {
      "text/plain": [
       "rank_by_ip                     uint32\n",
       "rank_by_ip_os_device           uint32\n",
       "rank_by_ip_os_device_dow       uint32\n",
       "ip_device_os_cumcount          uint32\n",
       "ip_cumcount                    uint32\n",
       "ip_channel_countuniq            uint8\n",
       "ip_dow_hour_countuniq           uint8\n",
       "ip_app_countuniq                uint8\n",
       "ip_app_os_countuniq             uint8\n",
       "ip_device_countuniq            uint16\n",
       "app_channel_countuniq          uint32\n",
       "ip_device_os_app_countuniq     uint32\n",
       "ip_dow_hour_count              uint32\n",
       "ip_app_count                   uint32\n",
       "ip_app_os_count                uint16\n",
       "ip_dow_channel_var            float32\n",
       "ip_app_os_var                 float32\n",
       "ip_app_channel_var            float32\n",
       "ip_app_channel_mean           float32\n",
       "ip_os_device_app_hash          uint32\n",
       "dtype: object"
      ]
     },
     "execution_count": 35,
     "metadata": {},
     "output_type": "execute_result"
    }
   ],
   "source": [
    "df.dtypes"
   ]
  },
  {
   "cell_type": "code",
   "execution_count": 36,
   "metadata": {},
   "outputs": [],
   "source": [
    "ranks_columns = [\"rank_by_ip\", \"rank_by_ip_os_device\", \"rank_by_ip_os_device_dow\"]\n",
    "ranks_table=df[ranks_columns]\n",
    "df.drop(columns=ranks_columns, inplace=True)"
   ]
  },
  {
   "cell_type": "code",
   "execution_count": 37,
   "metadata": {},
   "outputs": [],
   "source": [
    "ranks_table.to_feather(\"../data/ranks_table\")"
   ]
  },
  {
   "cell_type": "code",
   "execution_count": 38,
   "metadata": {},
   "outputs": [
    {
     "data": {
      "text/plain": [
       "ip_device_os_cumcount          uint32\n",
       "ip_cumcount                    uint32\n",
       "ip_channel_countuniq            uint8\n",
       "ip_dow_hour_countuniq           uint8\n",
       "ip_app_countuniq                uint8\n",
       "ip_app_os_countuniq             uint8\n",
       "ip_device_countuniq            uint16\n",
       "app_channel_countuniq          uint32\n",
       "ip_device_os_app_countuniq     uint32\n",
       "ip_dow_hour_count              uint32\n",
       "ip_app_count                   uint32\n",
       "ip_app_os_count                uint16\n",
       "ip_dow_channel_var            float32\n",
       "ip_app_os_var                 float32\n",
       "ip_app_channel_var            float32\n",
       "ip_app_channel_mean           float32\n",
       "ip_os_device_app_hash          uint32\n",
       "dtype: object"
      ]
     },
     "execution_count": 38,
     "metadata": {},
     "output_type": "execute_result"
    }
   ],
   "source": [
    "df.dtypes"
   ]
  },
  {
   "cell_type": "code",
   "execution_count": 39,
   "metadata": {},
   "outputs": [],
   "source": [
    "df.to_feather(\"../data/misc_counts\")"
   ]
  },
  {
   "cell_type": "code",
   "execution_count": 41,
   "metadata": {},
   "outputs": [
    {
     "name": "stdout",
     "output_type": "stream",
     "text": [
      "total 80G\r\n",
      "drwxrwxr-x 3 ubuntu ubuntu  4.0K Apr 29 08:51 \u001b[0m\u001b[01;34m.\u001b[0m/\r\n",
      "drwxrwxr-x 7 ubuntu ubuntu  4.0K Apr 28 16:26 \u001b[01;34m..\u001b[0m/\r\n",
      "drwxrwxr-x 2 ubuntu ubuntu  4.0K Apr 28 16:52 \u001b[01;34m.ipynb_checkpoints\u001b[0m/\r\n",
      "-rw-r--r-- 1 ubuntu ubuntu  3.3G Apr 29 08:47 basic_table\r\n",
      "-rw-rw-r-- 1 ubuntu ubuntu  1.5G Apr 29 03:27 \u001b[01;31mclick_count.zip\u001b[0m\r\n",
      "-rw-r--r-- 1 ubuntu ubuntu  1.9G Apr 29 08:50 click_count_table\r\n",
      "-rw-rw-r-- 1 ubuntu ubuntu  1.3G Apr 29 04:44 \u001b[01;31mclick_data.hdf.zip\u001b[0m\r\n",
      "-rw-rw-r-- 1 ubuntu ubuntu  2.5G Apr 29 04:17 click_time_interval_ip_device_os_app_hash.hdf\r\n",
      "-rw-rw-r-- 1 ubuntu ubuntu 1020M Apr 29 03:15 \u001b[01;31mclick_time_intervals.hdf.zip\u001b[0m\r\n",
      "-rw-rw-r-- 1 ubuntu ubuntu  313M Apr 29 04:49 \u001b[01;31mclick_times.hdf.zip\u001b[0m\r\n",
      "-rw-rw-r-- 1 ubuntu ubuntu  2.5G Apr 29 03:05 \u001b[01;31mintervals.zip\u001b[0m\r\n",
      "-rw-r--r-- 1 ubuntu ubuntu  3.2G Apr 29 08:48 intervals_table\r\n",
      "-rw-rw-r-- 1 ubuntu ubuntu  3.0G Apr 28 16:48 ip_os_device.hdf\r\n",
      "-rw-rw-r-- 1 ubuntu ubuntu  4.6G Apr 28 17:04 ip_os_device_dow.hdf\r\n",
      "-rw-r--r-- 1 ubuntu ubuntu   22G Apr 29 05:04 merged_click_data\r\n",
      "-rw-rw-r-- 1 ubuntu ubuntu   17G Apr 29 08:26 \u001b[01;31mmerged_click_data.hdf.zip\u001b[0m\r\n",
      "-rw-r--r-- 1 ubuntu ubuntu   10G Apr 29 08:51 misc_counts\r\n",
      "-rw-rw-r-- 1 ubuntu ubuntu  2.4G Apr 29 03:43 \u001b[01;31mranks.zip\u001b[0m\r\n",
      "-rw-r--r-- 1 ubuntu ubuntu  2.3G Apr 29 08:50 ranks_table\r\n",
      "-rw-rw-r-- 1 ubuntu ubuntu  1.4G Apr 28 17:20 \u001b[01;31mraw.zip\u001b[0m\r\n",
      "-rw-rw-r-- 1 ubuntu ubuntu  187M Feb 27 06:52 sample_submission.csv\r\n",
      "-rw-r--r-- 1 ubuntu ubuntu  778M Apr 29 08:47 time_table\r\n"
     ]
    }
   ],
   "source": [
    "ls -lah ../data/"
   ]
  }
 ],
 "metadata": {
  "kernelspec": {
   "display_name": "Python 3",
   "language": "python",
   "name": "python3"
  },
  "language_info": {
   "codemirror_mode": {
    "name": "ipython",
    "version": 3
   },
   "file_extension": ".py",
   "mimetype": "text/x-python",
   "name": "python",
   "nbconvert_exporter": "python",
   "pygments_lexer": "ipython3",
   "version": "3.6.4"
  }
 },
 "nbformat": 4,
 "nbformat_minor": 2
}
