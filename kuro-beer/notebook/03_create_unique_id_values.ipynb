{
 "cells": [
  {
   "cell_type": "code",
   "execution_count": 1,
   "metadata": {},
   "outputs": [],
   "source": [
    "import gc\n",
    "import time\n",
    "import numpy as np\n",
    "import pandas as pd\n",
    "from sklearn.preprocessing import LabelEncoder"
   ]
  },
  {
   "cell_type": "code",
   "execution_count": 2,
   "metadata": {},
   "outputs": [
    {
     "name": "stdout",
     "output_type": "stream",
     "text": [
      "total 13G\r\n",
      "drwxrwxr-x 5 ubuntu ubuntu 4.0K Apr 30 07:21 \u001b[0m\u001b[01;34m.\u001b[0m/\r\n",
      "drwxrwxr-x 8 ubuntu ubuntu 4.0K Apr 30 17:30 \u001b[01;34m..\u001b[0m/\r\n",
      "drwxrwxr-x 2 ubuntu ubuntu 4.0K Apr 28 16:52 \u001b[01;34m.ipynb_checkpoints\u001b[0m/\r\n",
      "-rw-r--r-- 1 ubuntu ubuntu 4.8G Apr 30 14:27 click_data.feather\r\n",
      "drwxrwxr-x 2 ubuntu ubuntu 4.0K Apr 29 14:21 \u001b[01;34mkenkoooos\u001b[0m/\r\n",
      "-rw-r--r-- 1 ubuntu ubuntu 6.3G May  2 13:22 merge.feather\r\n",
      "drwxrwxr-x 2 ubuntu ubuntu 4.0K Apr 28 17:13 \u001b[01;34mraw\u001b[0m/\r\n",
      "-rw-rw-r-- 1 ubuntu ubuntu 1.4G Apr 28 17:20 \u001b[01;31mraw.zip\u001b[0m\r\n"
     ]
    }
   ],
   "source": [
    "ls -lah ../data/"
   ]
  },
  {
   "cell_type": "code",
   "execution_count": 3,
   "metadata": {},
   "outputs": [
    {
     "name": "stdout",
     "output_type": "stream",
     "text": [
      "CPU times: user 0 ns, sys: 0 ns, total: 0 ns\n",
      "Wall time: 8.34 µs\n"
     ]
    }
   ],
   "source": [
    "%time\n",
    "merge = pd.read_feather(\"../data/merge.feather\", nthreads=4)"
   ]
  },
  {
   "cell_type": "code",
   "execution_count": 4,
   "metadata": {},
   "outputs": [],
   "source": [
    "train_size = merge[merge.is_test == 0].shape[0]"
   ]
  },
  {
   "cell_type": "code",
   "execution_count": 5,
   "metadata": {},
   "outputs": [
    {
     "data": {
      "text/plain": [
       "(145713707, 16)"
      ]
     },
     "execution_count": 5,
     "metadata": {},
     "output_type": "execute_result"
    }
   ],
   "source": [
    "merge.shape"
   ]
  },
  {
   "cell_type": "code",
   "execution_count": 6,
   "metadata": {},
   "outputs": [
    {
     "data": {
      "text/plain": [
       "app                      uint16\n",
       "channel                  uint16\n",
       "click_id                 uint32\n",
       "device                   uint16\n",
       "ip                       uint32\n",
       "is_attributed             uint8\n",
       "os                       uint16\n",
       "click_time       datetime64[ns]\n",
       "is_test                    bool\n",
       "dow                       uint8\n",
       "hour                      uint8\n",
       "minute                    uint8\n",
       "min5                      uint8\n",
       "second                    uint8\n",
       "sin_time                float64\n",
       "cos_time                float64\n",
       "dtype: object"
      ]
     },
     "execution_count": 6,
     "metadata": {},
     "output_type": "execute_result"
    }
   ],
   "source": [
    "merge.dtypes"
   ]
  },
  {
   "cell_type": "markdown",
   "metadata": {},
   "source": [
    "### get \"ip_os_device_dow\"\n",
    "### get \"ip_os_device_dow_hour\"\n",
    "### get \"ip_os_device_dow_hour_min5\"\n",
    "ip_os_device_dowは，testデータがhour単位で虫食いなので作成しない"
   ]
  },
  {
   "cell_type": "code",
   "execution_count": 7,
   "metadata": {},
   "outputs": [
    {
     "name": "stdout",
     "output_type": "stream",
     "text": [
      "ip:      0 364778\n",
      "os:      0 956\n",
      "device:  0 4227\n"
     ]
    }
   ],
   "source": [
    "print('ip:     ', np.min(merge.ip), np.max(merge.ip))\n",
    "print('os:     ', np.min(merge.os), np.max(merge.os))\n",
    "print('device: ', np.min(merge.device), np.max(merge.device))"
   ]
  },
  {
   "cell_type": "code",
   "execution_count": 8,
   "metadata": {},
   "outputs": [
    {
     "name": "stdout",
     "output_type": "stream",
     "text": [
      "CPU times: user 8.56 s, sys: 11.1 s, total: 19.7 s\n",
      "Wall time: 19.7 s\n"
     ]
    }
   ],
   "source": [
    "%%time\n",
    "merge['ip_os_device'] = \\\n",
    "    (merge.device.astype('uint64')\n",
    "     + merge.os.astype('uint64')*10000\n",
    "     + merge.ip.astype('uint64')*10000000)\n",
    "\n",
    "merge['ip_os_device_dow_hour'] = \\\n",
    "    (merge.hour.astype('uint64')\n",
    "     + merge.dow.astype('uint64')*100\n",
    "     + merge.device.astype('uint64')*1000\n",
    "     + merge.os.astype('uint64')*10000000\n",
    "     + merge.ip.astype('uint64')*10000000000)\n",
    "    \n",
    "merge['ip_os_device_dow_hour_min5'] = \\\n",
    "    (merge.min5.astype('uint64')\n",
    "     + merge.hour.astype('uint64')*100\n",
    "     + merge.dow.astype('uint64')*10000\n",
    "     + merge.device.astype('uint64')*100000\n",
    "     + merge.os.astype('uint64')*1000000000\n",
    "     + merge.ip.astype('uint64')*1000000000000)"
   ]
  },
  {
   "cell_type": "code",
   "execution_count": 9,
   "metadata": {},
   "outputs": [
    {
     "data": {
      "text/plain": [
       "app                                   uint16\n",
       "channel                               uint16\n",
       "click_id                              uint32\n",
       "device                                uint16\n",
       "ip                                    uint32\n",
       "is_attributed                          uint8\n",
       "os                                    uint16\n",
       "click_time                    datetime64[ns]\n",
       "is_test                                 bool\n",
       "dow                                    uint8\n",
       "hour                                   uint8\n",
       "minute                                 uint8\n",
       "min5                                   uint8\n",
       "second                                 uint8\n",
       "sin_time                             float64\n",
       "cos_time                             float64\n",
       "ip_os_device                          uint64\n",
       "ip_os_device_dow_hour                 uint64\n",
       "ip_os_device_dow_hour_min5            uint64\n",
       "dtype: object"
      ]
     },
     "execution_count": 9,
     "metadata": {},
     "output_type": "execute_result"
    }
   ],
   "source": [
    "merge.dtypes"
   ]
  },
  {
   "cell_type": "code",
   "execution_count": 10,
   "metadata": {},
   "outputs": [
    {
     "data": {
      "text/html": [
       "<div>\n",
       "<style scoped>\n",
       "    .dataframe tbody tr th:only-of-type {\n",
       "        vertical-align: middle;\n",
       "    }\n",
       "\n",
       "    .dataframe tbody tr th {\n",
       "        vertical-align: top;\n",
       "    }\n",
       "\n",
       "    .dataframe thead th {\n",
       "        text-align: right;\n",
       "    }\n",
       "</style>\n",
       "<table border=\"1\" class=\"dataframe\">\n",
       "  <thead>\n",
       "    <tr style=\"text-align: right;\">\n",
       "      <th></th>\n",
       "      <th>app</th>\n",
       "      <th>channel</th>\n",
       "      <th>click_id</th>\n",
       "      <th>device</th>\n",
       "      <th>ip</th>\n",
       "      <th>is_attributed</th>\n",
       "      <th>os</th>\n",
       "      <th>click_time</th>\n",
       "      <th>is_test</th>\n",
       "      <th>dow</th>\n",
       "      <th>hour</th>\n",
       "      <th>minute</th>\n",
       "      <th>min5</th>\n",
       "      <th>second</th>\n",
       "      <th>sin_time</th>\n",
       "      <th>cos_time</th>\n",
       "      <th>ip_os_device</th>\n",
       "      <th>ip_os_device_dow_hour</th>\n",
       "      <th>ip_os_device_dow_hour_min5</th>\n",
       "    </tr>\n",
       "  </thead>\n",
       "  <tbody>\n",
       "    <tr>\n",
       "      <th>145713702</th>\n",
       "      <td>9</td>\n",
       "      <td>127</td>\n",
       "      <td>18790464</td>\n",
       "      <td>1</td>\n",
       "      <td>99442</td>\n",
       "      <td>99</td>\n",
       "      <td>13</td>\n",
       "      <td>2017-11-10 14:59:59</td>\n",
       "      <td>True</td>\n",
       "      <td>4</td>\n",
       "      <td>14</td>\n",
       "      <td>59</td>\n",
       "      <td>55</td>\n",
       "      <td>59</td>\n",
       "      <td>-0.707107</td>\n",
       "      <td>-0.707107</td>\n",
       "      <td>994420130001</td>\n",
       "      <td>994420130001414</td>\n",
       "      <td>99442013000141455</td>\n",
       "    </tr>\n",
       "    <tr>\n",
       "      <th>145713703</th>\n",
       "      <td>23</td>\n",
       "      <td>153</td>\n",
       "      <td>18790465</td>\n",
       "      <td>1</td>\n",
       "      <td>88046</td>\n",
       "      <td>99</td>\n",
       "      <td>37</td>\n",
       "      <td>2017-11-10 14:59:59</td>\n",
       "      <td>True</td>\n",
       "      <td>4</td>\n",
       "      <td>14</td>\n",
       "      <td>59</td>\n",
       "      <td>55</td>\n",
       "      <td>59</td>\n",
       "      <td>-0.707107</td>\n",
       "      <td>-0.707107</td>\n",
       "      <td>880460370001</td>\n",
       "      <td>880460370001414</td>\n",
       "      <td>88046037000141455</td>\n",
       "    </tr>\n",
       "    <tr>\n",
       "      <th>145713704</th>\n",
       "      <td>18</td>\n",
       "      <td>265</td>\n",
       "      <td>18790467</td>\n",
       "      <td>1</td>\n",
       "      <td>81398</td>\n",
       "      <td>99</td>\n",
       "      <td>17</td>\n",
       "      <td>2017-11-10 14:59:59</td>\n",
       "      <td>True</td>\n",
       "      <td>4</td>\n",
       "      <td>14</td>\n",
       "      <td>59</td>\n",
       "      <td>55</td>\n",
       "      <td>59</td>\n",
       "      <td>-0.707107</td>\n",
       "      <td>-0.707107</td>\n",
       "      <td>813980170001</td>\n",
       "      <td>813980170001414</td>\n",
       "      <td>81398017000141455</td>\n",
       "    </tr>\n",
       "    <tr>\n",
       "      <th>145713705</th>\n",
       "      <td>27</td>\n",
       "      <td>122</td>\n",
       "      <td>18790466</td>\n",
       "      <td>1</td>\n",
       "      <td>123236</td>\n",
       "      <td>99</td>\n",
       "      <td>13</td>\n",
       "      <td>2017-11-10 14:59:59</td>\n",
       "      <td>True</td>\n",
       "      <td>4</td>\n",
       "      <td>14</td>\n",
       "      <td>59</td>\n",
       "      <td>55</td>\n",
       "      <td>59</td>\n",
       "      <td>-0.707107</td>\n",
       "      <td>-0.707107</td>\n",
       "      <td>1232360130001</td>\n",
       "      <td>1232360130001414</td>\n",
       "      <td>123236013000141455</td>\n",
       "    </tr>\n",
       "    <tr>\n",
       "      <th>145713706</th>\n",
       "      <td>12</td>\n",
       "      <td>265</td>\n",
       "      <td>18790468</td>\n",
       "      <td>2</td>\n",
       "      <td>73516</td>\n",
       "      <td>99</td>\n",
       "      <td>27</td>\n",
       "      <td>2017-11-10 14:59:59</td>\n",
       "      <td>True</td>\n",
       "      <td>4</td>\n",
       "      <td>14</td>\n",
       "      <td>59</td>\n",
       "      <td>55</td>\n",
       "      <td>59</td>\n",
       "      <td>-0.707107</td>\n",
       "      <td>-0.707107</td>\n",
       "      <td>735160270002</td>\n",
       "      <td>735160270002414</td>\n",
       "      <td>73516027000241455</td>\n",
       "    </tr>\n",
       "  </tbody>\n",
       "</table>\n",
       "</div>"
      ],
      "text/plain": [
       "           app  channel  click_id  device      ip  is_attributed  os  \\\n",
       "145713702    9      127  18790464       1   99442             99  13   \n",
       "145713703   23      153  18790465       1   88046             99  37   \n",
       "145713704   18      265  18790467       1   81398             99  17   \n",
       "145713705   27      122  18790466       1  123236             99  13   \n",
       "145713706   12      265  18790468       2   73516             99  27   \n",
       "\n",
       "                   click_time  is_test  dow  hour  minute  min5  second  \\\n",
       "145713702 2017-11-10 14:59:59     True    4    14      59    55      59   \n",
       "145713703 2017-11-10 14:59:59     True    4    14      59    55      59   \n",
       "145713704 2017-11-10 14:59:59     True    4    14      59    55      59   \n",
       "145713705 2017-11-10 14:59:59     True    4    14      59    55      59   \n",
       "145713706 2017-11-10 14:59:59     True    4    14      59    55      59   \n",
       "\n",
       "           sin_time  cos_time   ip_os_device  ip_os_device_dow_hour  \\\n",
       "145713702 -0.707107 -0.707107   994420130001        994420130001414   \n",
       "145713703 -0.707107 -0.707107   880460370001        880460370001414   \n",
       "145713704 -0.707107 -0.707107   813980170001        813980170001414   \n",
       "145713705 -0.707107 -0.707107  1232360130001       1232360130001414   \n",
       "145713706 -0.707107 -0.707107   735160270002        735160270002414   \n",
       "\n",
       "           ip_os_device_dow_hour_min5  \n",
       "145713702           99442013000141455  \n",
       "145713703           88046037000141455  \n",
       "145713704           81398017000141455  \n",
       "145713705          123236013000141455  \n",
       "145713706           73516027000241455  "
      ]
     },
     "execution_count": 10,
     "metadata": {},
     "output_type": "execute_result"
    }
   ],
   "source": [
    "merge.tail()"
   ]
  },
  {
   "cell_type": "markdown",
   "metadata": {},
   "source": [
    "### get \"ip_os_device_app_encoded\"\n",
    "### get \"ip_os_device_channel_encoded\"\n",
    "stringで作ってhashすると時間かかりすぎてアレだったのでLabelEncoderを使用"
   ]
  },
  {
   "cell_type": "code",
   "execution_count": 11,
   "metadata": {},
   "outputs": [
    {
     "name": "stdout",
     "output_type": "stream",
     "text": [
      "app:  0 768\n",
      "channel:  0 500\n"
     ]
    }
   ],
   "source": [
    "print('app: ', np.min(merge.app), np.max(merge.app))\n",
    "print('channel: ', np.min(merge.channel), np.max(merge.channel))"
   ]
  },
  {
   "cell_type": "code",
   "execution_count": 12,
   "metadata": {},
   "outputs": [
    {
     "name": "stdout",
     "output_type": "stream",
     "text": [
      "CPU times: user 40.9 s, sys: 3.03 s, total: 43.9 s\n",
      "Wall time: 43.9 s\n"
     ]
    }
   ],
   "source": [
    "%%time\n",
    "le = LabelEncoder()\n",
    "merge['ip_os_device_app_encoded'] = \\\n",
    "    le.fit_transform(merge.ip_os_device*1000 + merge.app.astype('uint64')).astype('uint32')\n",
    "del le"
   ]
  },
  {
   "cell_type": "code",
   "execution_count": 13,
   "metadata": {},
   "outputs": [
    {
     "name": "stdout",
     "output_type": "stream",
     "text": [
      "CPU times: user 41.6 s, sys: 3.04 s, total: 44.7 s\n",
      "Wall time: 44.7 s\n"
     ]
    }
   ],
   "source": [
    "%%time\n",
    "le = LabelEncoder()\n",
    "merge['ip_os_device_channel_encoded'] = \\\n",
    "    le.fit_transform(merge.ip_os_device*1000 + merge.channel.astype('uint64')).astype('uint32')\n",
    "del le"
   ]
  },
  {
   "cell_type": "code",
   "execution_count": 14,
   "metadata": {},
   "outputs": [
    {
     "name": "stdout",
     "output_type": "stream",
     "text": [
      "21160759\n",
      "37126014\n"
     ]
    }
   ],
   "source": [
    "print(np.max(merge.ip_os_device_app_encoded))\n",
    "print(np.max(merge.ip_os_device_channel_encoded))"
   ]
  },
  {
   "cell_type": "code",
   "execution_count": 15,
   "metadata": {},
   "outputs": [],
   "source": [
    "merge.to_feather(\"../data/merge.feather\")"
   ]
  }
 ],
 "metadata": {
  "kernelspec": {
   "display_name": "Python 3",
   "language": "python",
   "name": "python3"
  },
  "language_info": {
   "codemirror_mode": {
    "name": "ipython",
    "version": 3
   },
   "file_extension": ".py",
   "mimetype": "text/x-python",
   "name": "python",
   "nbconvert_exporter": "python",
   "pygments_lexer": "ipython3",
   "version": "3.6.4"
  }
 },
 "nbformat": 4,
 "nbformat_minor": 2
}
