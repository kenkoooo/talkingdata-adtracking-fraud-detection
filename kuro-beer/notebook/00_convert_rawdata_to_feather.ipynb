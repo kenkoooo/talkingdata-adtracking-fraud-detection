{
 "cells": [
  {
   "cell_type": "code",
   "execution_count": 1,
   "metadata": {},
   "outputs": [],
   "source": [
    "import gc\n",
    "import time\n",
    "import numpy as np\n",
    "import pandas as pd"
   ]
  },
  {
   "cell_type": "code",
   "execution_count": 2,
   "metadata": {},
   "outputs": [
    {
     "name": "stdout",
     "output_type": "stream",
     "text": [
      "total 7.7G\r\n",
      "drwxrwxr-x 5 ubuntu ubuntu 4.0K Apr 29 15:09 \u001b[0m\u001b[01;34m.\u001b[0m/\r\n",
      "drwxrwxr-x 7 ubuntu ubuntu 4.0K Apr 28 16:26 \u001b[01;34m..\u001b[0m/\r\n",
      "drwxrwxr-x 2 ubuntu ubuntu 4.0K Apr 28 16:52 \u001b[01;34m.ipynb_checkpoints\u001b[0m/\r\n",
      "drwxrwxr-x 2 ubuntu ubuntu 4.0K Apr 29 14:21 \u001b[01;34mkenkoooos\u001b[0m/\r\n",
      "-rw-r--r-- 1 ubuntu ubuntu 6.3G Apr 29 16:13 merge.feather\r\n",
      "drwxrwxr-x 2 ubuntu ubuntu 4.0K Apr 28 17:13 \u001b[01;34mraw\u001b[0m/\r\n",
      "-rw-rw-r-- 1 ubuntu ubuntu 1.4G Apr 28 17:20 \u001b[01;31mraw.zip\u001b[0m\r\n"
     ]
    }
   ],
   "source": [
    "ls -lah ../data/"
   ]
  },
  {
   "cell_type": "code",
   "execution_count": 3,
   "metadata": {},
   "outputs": [],
   "source": [
    "path = '../data/'\n",
    "dtypes = {\n",
    "        'ip'            : 'uint32',\n",
    "        'app'           : 'uint16',\n",
    "        'device'        : 'uint16',\n",
    "        'os'            : 'uint16',\n",
    "        'channel'       : 'uint16',\n",
    "        'is_attributed' : 'uint8',\n",
    "        'click_id'      : 'uint32'\n",
    "        }\n",
    "train_columns = ['ip', 'app', 'device', 'os', 'channel', 'click_time', 'is_attributed']\n",
    "test_columns  = ['ip', 'app', 'device', 'os', 'channel', 'click_time', 'click_id']"
   ]
  },
  {
   "cell_type": "markdown",
   "metadata": {},
   "source": [
    "### Read csv\n"
   ]
  },
  {
   "cell_type": "code",
   "execution_count": 4,
   "metadata": {},
   "outputs": [
    {
     "name": "stdout",
     "output_type": "stream",
     "text": [
      "(184903890, 7)\n",
      "CPU times: user 1min 34s, sys: 4.83 s, total: 1min 39s\n",
      "Wall time: 1min 39s\n"
     ]
    }
   ],
   "source": [
    "%%time\n",
    "train = pd.read_csv(path + 'raw/train.csv', \n",
    "                    dtype = dtypes,\n",
    "                    usecols = train_columns,\n",
    "                    engine = 'c')\n",
    "print(train.shape)"
   ]
  },
  {
   "cell_type": "code",
   "execution_count": 5,
   "metadata": {},
   "outputs": [
    {
     "data": {
      "text/plain": [
       "ip               uint32\n",
       "app              uint16\n",
       "device           uint16\n",
       "os               uint16\n",
       "channel          uint16\n",
       "click_time       object\n",
       "is_attributed     uint8\n",
       "dtype: object"
      ]
     },
     "execution_count": 5,
     "metadata": {},
     "output_type": "execute_result"
    }
   ],
   "source": [
    "train.dtypes"
   ]
  },
  {
   "cell_type": "code",
   "execution_count": 6,
   "metadata": {},
   "outputs": [
    {
     "name": "stdout",
     "output_type": "stream",
     "text": [
      "(184903407, 7)\n"
     ]
    },
    {
     "data": {
      "text/plain": [
       "0"
      ]
     },
     "execution_count": 6,
     "metadata": {},
     "output_type": "execute_result"
    }
   ],
   "source": [
    "# drop messy records\n",
    "train = train[train.click_time >= '2017-11-06 16:00:00'] \n",
    "print(train.shape)\n",
    "train_size = train.shape[0]\n",
    "gc.collect()"
   ]
  },
  {
   "cell_type": "code",
   "execution_count": 7,
   "metadata": {},
   "outputs": [
    {
     "name": "stdout",
     "output_type": "stream",
     "text": [
      "(18790469, 7)\n",
      "CPU times: user 10.6 s, sys: 168 ms, total: 10.8 s\n",
      "Wall time: 10.8 s\n"
     ]
    }
   ],
   "source": [
    "%%time\n",
    "test = pd.read_csv(path + 'raw/test.csv', \n",
    "                   dtype = dtypes,\n",
    "                   usecols = test_columns,\n",
    "                   engine = 'c')\n",
    "test_size = test.shape[0]\n",
    "print(test.shape)"
   ]
  },
  {
   "cell_type": "code",
   "execution_count": 8,
   "metadata": {},
   "outputs": [
    {
     "name": "stdout",
     "output_type": "stream",
     "text": [
      "(203693876, 8)\n"
     ]
    }
   ],
   "source": [
    "merge = pd.concat([train, test])\n",
    "print(merge.shape)"
   ]
  },
  {
   "cell_type": "code",
   "execution_count": 9,
   "metadata": {},
   "outputs": [
    {
     "data": {
      "text/html": [
       "<div>\n",
       "<style scoped>\n",
       "    .dataframe tbody tr th:only-of-type {\n",
       "        vertical-align: middle;\n",
       "    }\n",
       "\n",
       "    .dataframe tbody tr th {\n",
       "        vertical-align: top;\n",
       "    }\n",
       "\n",
       "    .dataframe thead th {\n",
       "        text-align: right;\n",
       "    }\n",
       "</style>\n",
       "<table border=\"1\" class=\"dataframe\">\n",
       "  <thead>\n",
       "    <tr style=\"text-align: right;\">\n",
       "      <th></th>\n",
       "      <th>app</th>\n",
       "      <th>channel</th>\n",
       "      <th>click_id</th>\n",
       "      <th>click_time</th>\n",
       "      <th>device</th>\n",
       "      <th>ip</th>\n",
       "      <th>is_attributed</th>\n",
       "      <th>os</th>\n",
       "    </tr>\n",
       "  </thead>\n",
       "  <tbody>\n",
       "    <tr>\n",
       "      <th>483</th>\n",
       "      <td>20</td>\n",
       "      <td>259</td>\n",
       "      <td>NaN</td>\n",
       "      <td>2017-11-06 16:00:00</td>\n",
       "      <td>1</td>\n",
       "      <td>14901</td>\n",
       "      <td>0.0</td>\n",
       "      <td>17</td>\n",
       "    </tr>\n",
       "    <tr>\n",
       "      <th>484</th>\n",
       "      <td>2</td>\n",
       "      <td>477</td>\n",
       "      <td>NaN</td>\n",
       "      <td>2017-11-06 16:00:00</td>\n",
       "      <td>2</td>\n",
       "      <td>5729</td>\n",
       "      <td>0.0</td>\n",
       "      <td>37</td>\n",
       "    </tr>\n",
       "    <tr>\n",
       "      <th>485</th>\n",
       "      <td>8</td>\n",
       "      <td>145</td>\n",
       "      <td>NaN</td>\n",
       "      <td>2017-11-06 16:00:00</td>\n",
       "      <td>1</td>\n",
       "      <td>105475</td>\n",
       "      <td>0.0</td>\n",
       "      <td>19</td>\n",
       "    </tr>\n",
       "    <tr>\n",
       "      <th>486</th>\n",
       "      <td>26</td>\n",
       "      <td>121</td>\n",
       "      <td>NaN</td>\n",
       "      <td>2017-11-06 16:00:00</td>\n",
       "      <td>1</td>\n",
       "      <td>93021</td>\n",
       "      <td>0.0</td>\n",
       "      <td>13</td>\n",
       "    </tr>\n",
       "    <tr>\n",
       "      <th>487</th>\n",
       "      <td>20</td>\n",
       "      <td>259</td>\n",
       "      <td>NaN</td>\n",
       "      <td>2017-11-06 16:00:00</td>\n",
       "      <td>1</td>\n",
       "      <td>78507</td>\n",
       "      <td>0.0</td>\n",
       "      <td>30</td>\n",
       "    </tr>\n",
       "  </tbody>\n",
       "</table>\n",
       "</div>"
      ],
      "text/plain": [
       "     app  channel  click_id           click_time  device      ip  \\\n",
       "483   20      259       NaN  2017-11-06 16:00:00       1   14901   \n",
       "484    2      477       NaN  2017-11-06 16:00:00       2    5729   \n",
       "485    8      145       NaN  2017-11-06 16:00:00       1  105475   \n",
       "486   26      121       NaN  2017-11-06 16:00:00       1   93021   \n",
       "487   20      259       NaN  2017-11-06 16:00:00       1   78507   \n",
       "\n",
       "     is_attributed  os  \n",
       "483            0.0  17  \n",
       "484            0.0  37  \n",
       "485            0.0  19  \n",
       "486            0.0  13  \n",
       "487            0.0  30  "
      ]
     },
     "execution_count": 9,
     "metadata": {},
     "output_type": "execute_result"
    }
   ],
   "source": [
    "merge.head()"
   ]
  },
  {
   "cell_type": "code",
   "execution_count": 10,
   "metadata": {},
   "outputs": [
    {
     "data": {
      "text/plain": [
       "7"
      ]
     },
     "execution_count": 10,
     "metadata": {},
     "output_type": "execute_result"
    }
   ],
   "source": [
    "del train, test\n",
    "gc.collect()"
   ]
  },
  {
   "cell_type": "code",
   "execution_count": 11,
   "metadata": {},
   "outputs": [],
   "source": [
    "click_time_numeric = merge.click_time.astype('datetime64[ns]')\n",
    "merge = merge.drop(['click_time'], axis=1)\n",
    "merge['click_time'] = click_time_numeric"
   ]
  },
  {
   "cell_type": "code",
   "execution_count": 12,
   "metadata": {},
   "outputs": [
    {
     "name": "stdout",
     "output_type": "stream",
     "text": [
      "(203693876, 8)\n"
     ]
    },
    {
     "data": {
      "text/html": [
       "<div>\n",
       "<style scoped>\n",
       "    .dataframe tbody tr th:only-of-type {\n",
       "        vertical-align: middle;\n",
       "    }\n",
       "\n",
       "    .dataframe tbody tr th {\n",
       "        vertical-align: top;\n",
       "    }\n",
       "\n",
       "    .dataframe thead th {\n",
       "        text-align: right;\n",
       "    }\n",
       "</style>\n",
       "<table border=\"1\" class=\"dataframe\">\n",
       "  <thead>\n",
       "    <tr style=\"text-align: right;\">\n",
       "      <th></th>\n",
       "      <th>app</th>\n",
       "      <th>channel</th>\n",
       "      <th>click_id</th>\n",
       "      <th>device</th>\n",
       "      <th>ip</th>\n",
       "      <th>is_attributed</th>\n",
       "      <th>os</th>\n",
       "      <th>click_time</th>\n",
       "    </tr>\n",
       "  </thead>\n",
       "  <tbody>\n",
       "    <tr>\n",
       "      <th>483</th>\n",
       "      <td>20</td>\n",
       "      <td>259</td>\n",
       "      <td>NaN</td>\n",
       "      <td>1</td>\n",
       "      <td>14901</td>\n",
       "      <td>0.0</td>\n",
       "      <td>17</td>\n",
       "      <td>2017-11-06 16:00:00</td>\n",
       "    </tr>\n",
       "    <tr>\n",
       "      <th>484</th>\n",
       "      <td>2</td>\n",
       "      <td>477</td>\n",
       "      <td>NaN</td>\n",
       "      <td>2</td>\n",
       "      <td>5729</td>\n",
       "      <td>0.0</td>\n",
       "      <td>37</td>\n",
       "      <td>2017-11-06 16:00:00</td>\n",
       "    </tr>\n",
       "    <tr>\n",
       "      <th>485</th>\n",
       "      <td>8</td>\n",
       "      <td>145</td>\n",
       "      <td>NaN</td>\n",
       "      <td>1</td>\n",
       "      <td>105475</td>\n",
       "      <td>0.0</td>\n",
       "      <td>19</td>\n",
       "      <td>2017-11-06 16:00:00</td>\n",
       "    </tr>\n",
       "    <tr>\n",
       "      <th>486</th>\n",
       "      <td>26</td>\n",
       "      <td>121</td>\n",
       "      <td>NaN</td>\n",
       "      <td>1</td>\n",
       "      <td>93021</td>\n",
       "      <td>0.0</td>\n",
       "      <td>13</td>\n",
       "      <td>2017-11-06 16:00:00</td>\n",
       "    </tr>\n",
       "    <tr>\n",
       "      <th>487</th>\n",
       "      <td>20</td>\n",
       "      <td>259</td>\n",
       "      <td>NaN</td>\n",
       "      <td>1</td>\n",
       "      <td>78507</td>\n",
       "      <td>0.0</td>\n",
       "      <td>30</td>\n",
       "      <td>2017-11-06 16:00:00</td>\n",
       "    </tr>\n",
       "  </tbody>\n",
       "</table>\n",
       "</div>"
      ],
      "text/plain": [
       "     app  channel  click_id  device      ip  is_attributed  os  \\\n",
       "483   20      259       NaN       1   14901            0.0  17   \n",
       "484    2      477       NaN       2    5729            0.0  37   \n",
       "485    8      145       NaN       1  105475            0.0  19   \n",
       "486   26      121       NaN       1   93021            0.0  13   \n",
       "487   20      259       NaN       1   78507            0.0  30   \n",
       "\n",
       "             click_time  \n",
       "483 2017-11-06 16:00:00  \n",
       "484 2017-11-06 16:00:00  \n",
       "485 2017-11-06 16:00:00  \n",
       "486 2017-11-06 16:00:00  \n",
       "487 2017-11-06 16:00:00  "
      ]
     },
     "execution_count": 12,
     "metadata": {},
     "output_type": "execute_result"
    }
   ],
   "source": [
    "print(merge.shape)\n",
    "merge.head()"
   ]
  },
  {
   "cell_type": "code",
   "execution_count": 13,
   "metadata": {},
   "outputs": [],
   "source": [
    "merge.reset_index(inplace=True)"
   ]
  },
  {
   "cell_type": "code",
   "execution_count": 14,
   "metadata": {},
   "outputs": [
    {
     "data": {
      "text/plain": [
       "index                     int64\n",
       "app                      uint16\n",
       "channel                  uint16\n",
       "click_id                float64\n",
       "device                   uint16\n",
       "ip                       uint32\n",
       "is_attributed           float64\n",
       "os                       uint16\n",
       "click_time       datetime64[ns]\n",
       "dtype: object"
      ]
     },
     "execution_count": 14,
     "metadata": {},
     "output_type": "execute_result"
    }
   ],
   "source": [
    "merge.dtypes"
   ]
  },
  {
   "cell_type": "code",
   "execution_count": 15,
   "metadata": {},
   "outputs": [],
   "source": [
    "# drop original index\n",
    "merge = merge.drop(['index'], axis=1)"
   ]
  },
  {
   "cell_type": "markdown",
   "metadata": {},
   "source": [
    "### fillna and create 'is_test' variable"
   ]
  },
  {
   "cell_type": "code",
   "execution_count": 16,
   "metadata": {},
   "outputs": [
    {
     "name": "stdout",
     "output_type": "stream",
     "text": [
      "0.0 18790468.0\n"
     ]
    }
   ],
   "source": [
    "print(np.min(merge.click_id), np.max(merge.click_id))"
   ]
  },
  {
   "cell_type": "code",
   "execution_count": 17,
   "metadata": {},
   "outputs": [],
   "source": [
    "merge['click_id'] = merge.click_id.fillna(99999999).astype('uint32')"
   ]
  },
  {
   "cell_type": "code",
   "execution_count": 18,
   "metadata": {},
   "outputs": [],
   "source": [
    "merge['is_attributed'] = merge.click_id.fillna(99).astype('uint8')"
   ]
  },
  {
   "cell_type": "code",
   "execution_count": 19,
   "metadata": {},
   "outputs": [],
   "source": [
    "merge['is_test'] = pd.Series([0]*train_size + [1]*test_size, dtype='bool')"
   ]
  },
  {
   "cell_type": "code",
   "execution_count": 20,
   "metadata": {},
   "outputs": [
    {
     "name": "stdout",
     "output_type": "stream",
     "text": [
      "(203693876, 9)\n"
     ]
    },
    {
     "data": {
      "text/html": [
       "<div>\n",
       "<style scoped>\n",
       "    .dataframe tbody tr th:only-of-type {\n",
       "        vertical-align: middle;\n",
       "    }\n",
       "\n",
       "    .dataframe tbody tr th {\n",
       "        vertical-align: top;\n",
       "    }\n",
       "\n",
       "    .dataframe thead th {\n",
       "        text-align: right;\n",
       "    }\n",
       "</style>\n",
       "<table border=\"1\" class=\"dataframe\">\n",
       "  <thead>\n",
       "    <tr style=\"text-align: right;\">\n",
       "      <th></th>\n",
       "      <th>app</th>\n",
       "      <th>channel</th>\n",
       "      <th>click_id</th>\n",
       "      <th>device</th>\n",
       "      <th>ip</th>\n",
       "      <th>is_attributed</th>\n",
       "      <th>os</th>\n",
       "      <th>click_time</th>\n",
       "      <th>is_test</th>\n",
       "    </tr>\n",
       "  </thead>\n",
       "  <tbody>\n",
       "    <tr>\n",
       "      <th>0</th>\n",
       "      <td>20</td>\n",
       "      <td>259</td>\n",
       "      <td>99999999</td>\n",
       "      <td>1</td>\n",
       "      <td>14901</td>\n",
       "      <td>255</td>\n",
       "      <td>17</td>\n",
       "      <td>2017-11-06 16:00:00</td>\n",
       "      <td>False</td>\n",
       "    </tr>\n",
       "    <tr>\n",
       "      <th>1</th>\n",
       "      <td>2</td>\n",
       "      <td>477</td>\n",
       "      <td>99999999</td>\n",
       "      <td>2</td>\n",
       "      <td>5729</td>\n",
       "      <td>255</td>\n",
       "      <td>37</td>\n",
       "      <td>2017-11-06 16:00:00</td>\n",
       "      <td>False</td>\n",
       "    </tr>\n",
       "    <tr>\n",
       "      <th>2</th>\n",
       "      <td>8</td>\n",
       "      <td>145</td>\n",
       "      <td>99999999</td>\n",
       "      <td>1</td>\n",
       "      <td>105475</td>\n",
       "      <td>255</td>\n",
       "      <td>19</td>\n",
       "      <td>2017-11-06 16:00:00</td>\n",
       "      <td>False</td>\n",
       "    </tr>\n",
       "    <tr>\n",
       "      <th>3</th>\n",
       "      <td>26</td>\n",
       "      <td>121</td>\n",
       "      <td>99999999</td>\n",
       "      <td>1</td>\n",
       "      <td>93021</td>\n",
       "      <td>255</td>\n",
       "      <td>13</td>\n",
       "      <td>2017-11-06 16:00:00</td>\n",
       "      <td>False</td>\n",
       "    </tr>\n",
       "    <tr>\n",
       "      <th>4</th>\n",
       "      <td>20</td>\n",
       "      <td>259</td>\n",
       "      <td>99999999</td>\n",
       "      <td>1</td>\n",
       "      <td>78507</td>\n",
       "      <td>255</td>\n",
       "      <td>30</td>\n",
       "      <td>2017-11-06 16:00:00</td>\n",
       "      <td>False</td>\n",
       "    </tr>\n",
       "  </tbody>\n",
       "</table>\n",
       "</div>"
      ],
      "text/plain": [
       "   app  channel  click_id  device      ip  is_attributed  os  \\\n",
       "0   20      259  99999999       1   14901            255  17   \n",
       "1    2      477  99999999       2    5729            255  37   \n",
       "2    8      145  99999999       1  105475            255  19   \n",
       "3   26      121  99999999       1   93021            255  13   \n",
       "4   20      259  99999999       1   78507            255  30   \n",
       "\n",
       "           click_time  is_test  \n",
       "0 2017-11-06 16:00:00    False  \n",
       "1 2017-11-06 16:00:00    False  \n",
       "2 2017-11-06 16:00:00    False  \n",
       "3 2017-11-06 16:00:00    False  \n",
       "4 2017-11-06 16:00:00    False  "
      ]
     },
     "execution_count": 20,
     "metadata": {},
     "output_type": "execute_result"
    }
   ],
   "source": [
    "print(merge.shape)\n",
    "merge.head()"
   ]
  },
  {
   "cell_type": "code",
   "execution_count": 21,
   "metadata": {},
   "outputs": [
    {
     "data": {
      "text/plain": [
       "app                      uint16\n",
       "channel                  uint16\n",
       "click_id                 uint32\n",
       "device                   uint16\n",
       "ip                       uint32\n",
       "is_attributed             uint8\n",
       "os                       uint16\n",
       "click_time       datetime64[ns]\n",
       "is_test                    bool\n",
       "dtype: object"
      ]
     },
     "execution_count": 21,
     "metadata": {},
     "output_type": "execute_result"
    }
   ],
   "source": [
    "merge.dtypes"
   ]
  },
  {
   "cell_type": "code",
   "execution_count": 22,
   "metadata": {},
   "outputs": [],
   "source": [
    "merge.to_feather(path + 'merge.feather')"
   ]
  },
  {
   "cell_type": "code",
   "execution_count": null,
   "metadata": {},
   "outputs": [],
   "source": []
  }
 ],
 "metadata": {
  "kernelspec": {
   "display_name": "Python 3",
   "language": "python",
   "name": "python3"
  },
  "language_info": {
   "codemirror_mode": {
    "name": "ipython",
    "version": 3
   },
   "file_extension": ".py",
   "mimetype": "text/x-python",
   "name": "python",
   "nbconvert_exporter": "python",
   "pygments_lexer": "ipython3",
   "version": "3.6.4"
  }
 },
 "nbformat": 4,
 "nbformat_minor": 2
}
