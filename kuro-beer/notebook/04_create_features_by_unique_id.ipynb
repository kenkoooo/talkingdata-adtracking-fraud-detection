{
 "cells": [
  {
   "cell_type": "code",
   "execution_count": 1,
   "metadata": {},
   "outputs": [],
   "source": [
    "import gc\n",
    "import time\n",
    "from logzero import logger\n",
    "import numpy as np\n",
    "import pandas as pd\n",
    "from sklearn.preprocessing import LabelEncoder"
   ]
  },
  {
   "cell_type": "code",
   "execution_count": 2,
   "metadata": {},
   "outputs": [
    {
     "name": "stdout",
     "output_type": "stream",
     "text": [
      "total 17G\r\n",
      "drwxrwxr-x 5 ubuntu ubuntu 4.0K Apr 30 07:21 \u001b[0m\u001b[01;34m.\u001b[0m/\r\n",
      "drwxrwxr-x 7 ubuntu ubuntu 4.0K Apr 28 16:26 \u001b[01;34m..\u001b[0m/\r\n",
      "drwxrwxr-x 2 ubuntu ubuntu 4.0K Apr 28 16:52 \u001b[01;34m.ipynb_checkpoints\u001b[0m/\r\n",
      "-rw-r--r-- 1 ubuntu ubuntu 4.8G Apr 30 14:27 click_data.feather\r\n",
      "drwxrwxr-x 2 ubuntu ubuntu 4.0K Apr 29 14:21 \u001b[01;34mkenkoooos\u001b[0m/\r\n",
      "-rw-r--r-- 1 ubuntu ubuntu  11G Apr 30 14:43 merge.feather\r\n",
      "drwxrwxr-x 2 ubuntu ubuntu 4.0K Apr 28 17:13 \u001b[01;34mraw\u001b[0m/\r\n",
      "-rw-rw-r-- 1 ubuntu ubuntu 1.4G Apr 28 17:20 \u001b[01;31mraw.zip\u001b[0m\r\n"
     ]
    }
   ],
   "source": [
    "ls -lah ../data/"
   ]
  },
  {
   "cell_type": "code",
   "execution_count": 3,
   "metadata": {},
   "outputs": [
    {
     "name": "stdout",
     "output_type": "stream",
     "text": [
      "CPU times: user 0 ns, sys: 0 ns, total: 0 ns\n",
      "Wall time: 6.2 µs\n"
     ]
    }
   ],
   "source": [
    "%time\n",
    "merge = pd.read_feather(\"../data/merge.feather\", nthreads=4)"
   ]
  },
  {
   "cell_type": "code",
   "execution_count": 4,
   "metadata": {},
   "outputs": [
    {
     "data": {
      "text/plain": [
       "14"
      ]
     },
     "execution_count": 4,
     "metadata": {},
     "output_type": "execute_result"
    }
   ],
   "source": [
    "# merge = merge[:1000000]\n",
    "gc.collect()"
   ]
  },
  {
   "cell_type": "code",
   "execution_count": 5,
   "metadata": {},
   "outputs": [],
   "source": [
    "train_size = merge[merge.is_test == 0].shape[0]"
   ]
  },
  {
   "cell_type": "code",
   "execution_count": 6,
   "metadata": {},
   "outputs": [
    {
     "data": {
      "text/plain": [
       "(145713707, 21)"
      ]
     },
     "execution_count": 6,
     "metadata": {},
     "output_type": "execute_result"
    }
   ],
   "source": [
    "merge.shape"
   ]
  },
  {
   "cell_type": "code",
   "execution_count": 7,
   "metadata": {},
   "outputs": [
    {
     "data": {
      "text/plain": [
       "app                                     uint16\n",
       "channel                                 uint16\n",
       "click_id                                uint32\n",
       "device                                  uint16\n",
       "ip                                      uint32\n",
       "is_attributed                            uint8\n",
       "os                                      uint16\n",
       "click_time                      datetime64[ns]\n",
       "is_test                                   bool\n",
       "dow                                      uint8\n",
       "hour                                     uint8\n",
       "minute                                   uint8\n",
       "min5                                     uint8\n",
       "second                                   uint8\n",
       "sin_time                               float64\n",
       "cos_time                               float64\n",
       "ip_os_device                            uint64\n",
       "ip_os_device_dow_hour                   uint64\n",
       "ip_os_device_dow_hour_min5              uint64\n",
       "ip_os_device_app_encoded                uint32\n",
       "ip_os_device_channel_encoded            uint32\n",
       "dtype: object"
      ]
     },
     "execution_count": 7,
     "metadata": {},
     "output_type": "execute_result"
    }
   ],
   "source": [
    "merge.dtypes"
   ]
  },
  {
   "cell_type": "markdown",
   "metadata": {},
   "source": [
    "### count"
   ]
  },
  {
   "cell_type": "code",
   "execution_count": 8,
   "metadata": {},
   "outputs": [],
   "source": [
    "columns = ['ip_os_device_dow_hour', 'ip_os_device_dow_hour_min5']"
   ]
  },
  {
   "cell_type": "code",
   "execution_count": 9,
   "metadata": {},
   "outputs": [
    {
     "name": "stderr",
     "output_type": "stream",
     "text": [
      "[I 180430 14:51:06 <timed exec>:8] ip_os_device_dow_hour 9284\n",
      "[I 180430 14:53:37 <timed exec>:8] ip_os_device_dow_hour_min5 1620\n"
     ]
    },
    {
     "name": "stdout",
     "output_type": "stream",
     "text": [
      "CPU times: user 5min 3s, sys: 1min 7s, total: 6min 10s\n",
      "Wall time: 6min 10s\n"
     ]
    }
   ],
   "source": [
    "%%time\n",
    "for col in columns:\n",
    "    merge = pd.merge(merge,\n",
    "                     merge.sort_index().sort_values([col])\n",
    "                         .groupby(col, as_index=False).ip\n",
    "                         .count()\n",
    "                         .rename(columns={\"ip\": \"count_by_\" + col})\n",
    "                    )\n",
    "    logger.info(\"{} {}\".format(col, merge[\"count_by_\" + col].max()))"
   ]
  },
  {
   "cell_type": "code",
   "execution_count": 10,
   "metadata": {},
   "outputs": [
    {
     "name": "stdout",
     "output_type": "stream",
     "text": [
      "CPU times: user 568 ms, sys: 592 ms, total: 1.16 s\n",
      "Wall time: 1.16 s\n"
     ]
    }
   ],
   "source": [
    "%%time\n",
    "for col in columns:\n",
    "    merge[\"count_by_\" + col] = merge[\"count_by_\" + col].astype('uint32')"
   ]
  },
  {
   "cell_type": "code",
   "execution_count": 11,
   "metadata": {},
   "outputs": [
    {
     "name": "stdout",
     "output_type": "stream",
     "text": [
      "(145713707, 23)\n"
     ]
    },
    {
     "data": {
      "text/html": [
       "<div>\n",
       "<style scoped>\n",
       "    .dataframe tbody tr th:only-of-type {\n",
       "        vertical-align: middle;\n",
       "    }\n",
       "\n",
       "    .dataframe tbody tr th {\n",
       "        vertical-align: top;\n",
       "    }\n",
       "\n",
       "    .dataframe thead th {\n",
       "        text-align: right;\n",
       "    }\n",
       "</style>\n",
       "<table border=\"1\" class=\"dataframe\">\n",
       "  <thead>\n",
       "    <tr style=\"text-align: right;\">\n",
       "      <th></th>\n",
       "      <th>app</th>\n",
       "      <th>channel</th>\n",
       "      <th>click_id</th>\n",
       "      <th>device</th>\n",
       "      <th>ip</th>\n",
       "      <th>is_attributed</th>\n",
       "      <th>os</th>\n",
       "      <th>click_time</th>\n",
       "      <th>is_test</th>\n",
       "      <th>dow</th>\n",
       "      <th>...</th>\n",
       "      <th>second</th>\n",
       "      <th>sin_time</th>\n",
       "      <th>cos_time</th>\n",
       "      <th>ip_os_device</th>\n",
       "      <th>ip_os_device_dow_hour</th>\n",
       "      <th>ip_os_device_dow_hour_min5</th>\n",
       "      <th>ip_os_device_app_encoded</th>\n",
       "      <th>ip_os_device_channel_encoded</th>\n",
       "      <th>count_by_ip_os_device_dow_hour</th>\n",
       "      <th>count_by_ip_os_device_dow_hour_min5</th>\n",
       "    </tr>\n",
       "  </thead>\n",
       "  <tbody>\n",
       "    <tr>\n",
       "      <th>0</th>\n",
       "      <td>23</td>\n",
       "      <td>153</td>\n",
       "      <td>99999999</td>\n",
       "      <td>1</td>\n",
       "      <td>76508</td>\n",
       "      <td>0</td>\n",
       "      <td>35</td>\n",
       "      <td>2017-11-07 03:00:00</td>\n",
       "      <td>False</td>\n",
       "      <td>1</td>\n",
       "      <td>...</td>\n",
       "      <td>0</td>\n",
       "      <td>0.707107</td>\n",
       "      <td>0.707107</td>\n",
       "      <td>765080350001</td>\n",
       "      <td>765080350001103</td>\n",
       "      <td>76508035000110300</td>\n",
       "      <td>8759992</td>\n",
       "      <td>16206049</td>\n",
       "      <td>7</td>\n",
       "      <td>7</td>\n",
       "    </tr>\n",
       "    <tr>\n",
       "      <th>1</th>\n",
       "      <td>18</td>\n",
       "      <td>134</td>\n",
       "      <td>99999999</td>\n",
       "      <td>1</td>\n",
       "      <td>76508</td>\n",
       "      <td>0</td>\n",
       "      <td>35</td>\n",
       "      <td>2017-11-07 03:02:24</td>\n",
       "      <td>False</td>\n",
       "      <td>1</td>\n",
       "      <td>...</td>\n",
       "      <td>24</td>\n",
       "      <td>0.714473</td>\n",
       "      <td>0.699663</td>\n",
       "      <td>765080350001</td>\n",
       "      <td>765080350001103</td>\n",
       "      <td>76508035000110300</td>\n",
       "      <td>8759990</td>\n",
       "      <td>16206047</td>\n",
       "      <td>7</td>\n",
       "      <td>7</td>\n",
       "    </tr>\n",
       "    <tr>\n",
       "      <th>2</th>\n",
       "      <td>15</td>\n",
       "      <td>315</td>\n",
       "      <td>99999999</td>\n",
       "      <td>1</td>\n",
       "      <td>76508</td>\n",
       "      <td>0</td>\n",
       "      <td>35</td>\n",
       "      <td>2017-11-07 03:02:29</td>\n",
       "      <td>False</td>\n",
       "      <td>1</td>\n",
       "      <td>...</td>\n",
       "      <td>29</td>\n",
       "      <td>0.714727</td>\n",
       "      <td>0.699403</td>\n",
       "      <td>765080350001</td>\n",
       "      <td>765080350001103</td>\n",
       "      <td>76508035000110300</td>\n",
       "      <td>8759989</td>\n",
       "      <td>16206054</td>\n",
       "      <td>7</td>\n",
       "      <td>7</td>\n",
       "    </tr>\n",
       "    <tr>\n",
       "      <th>3</th>\n",
       "      <td>11</td>\n",
       "      <td>469</td>\n",
       "      <td>99999999</td>\n",
       "      <td>1</td>\n",
       "      <td>76508</td>\n",
       "      <td>0</td>\n",
       "      <td>35</td>\n",
       "      <td>2017-11-07 03:02:32</td>\n",
       "      <td>False</td>\n",
       "      <td>1</td>\n",
       "      <td>...</td>\n",
       "      <td>32</td>\n",
       "      <td>0.714880</td>\n",
       "      <td>0.699248</td>\n",
       "      <td>765080350001</td>\n",
       "      <td>765080350001103</td>\n",
       "      <td>76508035000110300</td>\n",
       "      <td>8759985</td>\n",
       "      <td>16206062</td>\n",
       "      <td>7</td>\n",
       "      <td>7</td>\n",
       "    </tr>\n",
       "    <tr>\n",
       "      <th>4</th>\n",
       "      <td>3</td>\n",
       "      <td>379</td>\n",
       "      <td>99999999</td>\n",
       "      <td>1</td>\n",
       "      <td>76508</td>\n",
       "      <td>0</td>\n",
       "      <td>35</td>\n",
       "      <td>2017-11-07 03:02:36</td>\n",
       "      <td>False</td>\n",
       "      <td>1</td>\n",
       "      <td>...</td>\n",
       "      <td>36</td>\n",
       "      <td>0.715083</td>\n",
       "      <td>0.699040</td>\n",
       "      <td>765080350001</td>\n",
       "      <td>765080350001103</td>\n",
       "      <td>76508035000110300</td>\n",
       "      <td>8759984</td>\n",
       "      <td>16206057</td>\n",
       "      <td>7</td>\n",
       "      <td>7</td>\n",
       "    </tr>\n",
       "    <tr>\n",
       "      <th>5</th>\n",
       "      <td>2</td>\n",
       "      <td>452</td>\n",
       "      <td>99999999</td>\n",
       "      <td>1</td>\n",
       "      <td>76508</td>\n",
       "      <td>0</td>\n",
       "      <td>35</td>\n",
       "      <td>2017-11-07 03:02:37</td>\n",
       "      <td>False</td>\n",
       "      <td>1</td>\n",
       "      <td>...</td>\n",
       "      <td>37</td>\n",
       "      <td>0.715134</td>\n",
       "      <td>0.698988</td>\n",
       "      <td>765080350001</td>\n",
       "      <td>765080350001103</td>\n",
       "      <td>76508035000110300</td>\n",
       "      <td>8759983</td>\n",
       "      <td>16206061</td>\n",
       "      <td>7</td>\n",
       "      <td>7</td>\n",
       "    </tr>\n",
       "    <tr>\n",
       "      <th>6</th>\n",
       "      <td>14</td>\n",
       "      <td>439</td>\n",
       "      <td>99999999</td>\n",
       "      <td>1</td>\n",
       "      <td>76508</td>\n",
       "      <td>0</td>\n",
       "      <td>35</td>\n",
       "      <td>2017-11-07 03:02:38</td>\n",
       "      <td>False</td>\n",
       "      <td>1</td>\n",
       "      <td>...</td>\n",
       "      <td>38</td>\n",
       "      <td>0.715185</td>\n",
       "      <td>0.698936</td>\n",
       "      <td>765080350001</td>\n",
       "      <td>765080350001103</td>\n",
       "      <td>76508035000110300</td>\n",
       "      <td>8759988</td>\n",
       "      <td>16206059</td>\n",
       "      <td>7</td>\n",
       "      <td>7</td>\n",
       "    </tr>\n",
       "    <tr>\n",
       "      <th>7</th>\n",
       "      <td>3</td>\n",
       "      <td>280</td>\n",
       "      <td>99999999</td>\n",
       "      <td>1</td>\n",
       "      <td>23907</td>\n",
       "      <td>0</td>\n",
       "      <td>18</td>\n",
       "      <td>2017-11-07 03:00:00</td>\n",
       "      <td>False</td>\n",
       "      <td>1</td>\n",
       "      <td>...</td>\n",
       "      <td>0</td>\n",
       "      <td>0.707107</td>\n",
       "      <td>0.707107</td>\n",
       "      <td>239070180001</td>\n",
       "      <td>239070180001103</td>\n",
       "      <td>23907018000110300</td>\n",
       "      <td>2725266</td>\n",
       "      <td>5029631</td>\n",
       "      <td>20</td>\n",
       "      <td>7</td>\n",
       "    </tr>\n",
       "  </tbody>\n",
       "</table>\n",
       "<p>8 rows × 23 columns</p>\n",
       "</div>"
      ],
      "text/plain": [
       "   app  channel  click_id  device     ip  is_attributed  os  \\\n",
       "0   23      153  99999999       1  76508              0  35   \n",
       "1   18      134  99999999       1  76508              0  35   \n",
       "2   15      315  99999999       1  76508              0  35   \n",
       "3   11      469  99999999       1  76508              0  35   \n",
       "4    3      379  99999999       1  76508              0  35   \n",
       "5    2      452  99999999       1  76508              0  35   \n",
       "6   14      439  99999999       1  76508              0  35   \n",
       "7    3      280  99999999       1  23907              0  18   \n",
       "\n",
       "           click_time  is_test  dow                 ...                   \\\n",
       "0 2017-11-07 03:00:00    False    1                 ...                    \n",
       "1 2017-11-07 03:02:24    False    1                 ...                    \n",
       "2 2017-11-07 03:02:29    False    1                 ...                    \n",
       "3 2017-11-07 03:02:32    False    1                 ...                    \n",
       "4 2017-11-07 03:02:36    False    1                 ...                    \n",
       "5 2017-11-07 03:02:37    False    1                 ...                    \n",
       "6 2017-11-07 03:02:38    False    1                 ...                    \n",
       "7 2017-11-07 03:00:00    False    1                 ...                    \n",
       "\n",
       "   second  sin_time  cos_time  ip_os_device  ip_os_device_dow_hour  \\\n",
       "0       0  0.707107  0.707107  765080350001        765080350001103   \n",
       "1      24  0.714473  0.699663  765080350001        765080350001103   \n",
       "2      29  0.714727  0.699403  765080350001        765080350001103   \n",
       "3      32  0.714880  0.699248  765080350001        765080350001103   \n",
       "4      36  0.715083  0.699040  765080350001        765080350001103   \n",
       "5      37  0.715134  0.698988  765080350001        765080350001103   \n",
       "6      38  0.715185  0.698936  765080350001        765080350001103   \n",
       "7       0  0.707107  0.707107  239070180001        239070180001103   \n",
       "\n",
       "   ip_os_device_dow_hour_min5  ip_os_device_app_encoded  \\\n",
       "0           76508035000110300                   8759992   \n",
       "1           76508035000110300                   8759990   \n",
       "2           76508035000110300                   8759989   \n",
       "3           76508035000110300                   8759985   \n",
       "4           76508035000110300                   8759984   \n",
       "5           76508035000110300                   8759983   \n",
       "6           76508035000110300                   8759988   \n",
       "7           23907018000110300                   2725266   \n",
       "\n",
       "   ip_os_device_channel_encoded  count_by_ip_os_device_dow_hour  \\\n",
       "0                      16206049                               7   \n",
       "1                      16206047                               7   \n",
       "2                      16206054                               7   \n",
       "3                      16206062                               7   \n",
       "4                      16206057                               7   \n",
       "5                      16206061                               7   \n",
       "6                      16206059                               7   \n",
       "7                       5029631                              20   \n",
       "\n",
       "   count_by_ip_os_device_dow_hour_min5  \n",
       "0                                    7  \n",
       "1                                    7  \n",
       "2                                    7  \n",
       "3                                    7  \n",
       "4                                    7  \n",
       "5                                    7  \n",
       "6                                    7  \n",
       "7                                    7  \n",
       "\n",
       "[8 rows x 23 columns]"
      ]
     },
     "execution_count": 11,
     "metadata": {},
     "output_type": "execute_result"
    }
   ],
   "source": [
    "print(merge.shape)\n",
    "merge.head(8)"
   ]
  },
  {
   "cell_type": "code",
   "execution_count": 12,
   "metadata": {},
   "outputs": [
    {
     "data": {
      "text/plain": [
       "app                                            uint16\n",
       "channel                                        uint16\n",
       "click_id                                       uint32\n",
       "device                                         uint16\n",
       "ip                                             uint32\n",
       "is_attributed                                   uint8\n",
       "os                                             uint16\n",
       "click_time                             datetime64[ns]\n",
       "is_test                                          bool\n",
       "dow                                             uint8\n",
       "hour                                            uint8\n",
       "minute                                          uint8\n",
       "min5                                            uint8\n",
       "second                                          uint8\n",
       "sin_time                                      float64\n",
       "cos_time                                      float64\n",
       "ip_os_device                                   uint64\n",
       "ip_os_device_dow_hour                          uint64\n",
       "ip_os_device_dow_hour_min5                     uint64\n",
       "ip_os_device_app_encoded                       uint32\n",
       "ip_os_device_channel_encoded                   uint32\n",
       "count_by_ip_os_device_dow_hour                 uint32\n",
       "count_by_ip_os_device_dow_hour_min5            uint32\n",
       "dtype: object"
      ]
     },
     "execution_count": 12,
     "metadata": {},
     "output_type": "execute_result"
    }
   ],
   "source": [
    "merge.dtypes"
   ]
  },
  {
   "cell_type": "markdown",
   "metadata": {},
   "source": [
    "### variety of app and channel"
   ]
  },
  {
   "cell_type": "code",
   "execution_count": 13,
   "metadata": {},
   "outputs": [],
   "source": [
    "columns = ['ip_os_device_dow_hour', 'ip_os_device_dow_hour_min5']"
   ]
  },
  {
   "cell_type": "code",
   "execution_count": 14,
   "metadata": {},
   "outputs": [
    {
     "name": "stderr",
     "output_type": "stream",
     "text": [
      "[I 180430 14:57:04 <timed exec>:7] ip_os_device_dow_hour 43\n",
      "[I 180430 14:57:05 <timed exec>:8] ip_os_device_dow_hour 119\n",
      "[I 180430 15:00:51 <timed exec>:7] ip_os_device_dow_hour_min5 33\n",
      "[I 180430 15:00:53 <timed exec>:8] ip_os_device_dow_hour_min5 90\n"
     ]
    },
    {
     "name": "stdout",
     "output_type": "stream",
     "text": [
      "CPU times: user 6min 12s, sys: 1min 2s, total: 7min 14s\n",
      "Wall time: 7min 14s\n"
     ]
    }
   ],
   "source": [
    "%%time\n",
    "for col in columns:\n",
    "    merge = pd.merge(merge,\n",
    "                     merge[[col, 'app', 'channel']]\n",
    "                         .groupby(col, as_index=False)\n",
    "                         .agg({'app':'nunique', 'channel':'nunique'})\n",
    "                         .rename(columns={\"app\": \"app_variety_\" + col, \"channel\": \"chan_variety_\" + col}))\n",
    "    logger.info(\"{} {}\".format(col, merge[\"app_variety_\" + col].max()))\n",
    "    logger.info(\"{} {}\".format(col, merge[\"chan_variety_\" + col].max()))"
   ]
  },
  {
   "cell_type": "code",
   "execution_count": 15,
   "metadata": {},
   "outputs": [
    {
     "name": "stdout",
     "output_type": "stream",
     "text": [
      "CPU times: user 1.36 s, sys: 1.22 s, total: 2.57 s\n",
      "Wall time: 2.57 s\n"
     ]
    }
   ],
   "source": [
    "%%time\n",
    "for j in columns:\n",
    "    for k in ['app', 'chan']:\n",
    "        merge[k + \"_variety_\" + j] = merge[k + \"_variety_\" + j].astype('uint16')"
   ]
  },
  {
   "cell_type": "code",
   "execution_count": 16,
   "metadata": {},
   "outputs": [
    {
     "data": {
      "text/plain": [
       "app                                                uint16\n",
       "channel                                            uint16\n",
       "click_id                                           uint32\n",
       "device                                             uint16\n",
       "ip                                                 uint32\n",
       "is_attributed                                       uint8\n",
       "os                                                 uint16\n",
       "click_time                                 datetime64[ns]\n",
       "is_test                                              bool\n",
       "dow                                                 uint8\n",
       "hour                                                uint8\n",
       "minute                                              uint8\n",
       "min5                                                uint8\n",
       "second                                              uint8\n",
       "sin_time                                          float64\n",
       "cos_time                                          float64\n",
       "ip_os_device                                       uint64\n",
       "ip_os_device_dow_hour                              uint64\n",
       "ip_os_device_dow_hour_min5                         uint64\n",
       "ip_os_device_app_encoded                           uint32\n",
       "ip_os_device_channel_encoded                       uint32\n",
       "count_by_ip_os_device_dow_hour                     uint32\n",
       "count_by_ip_os_device_dow_hour_min5                uint32\n",
       "app_variety_ip_os_device_dow_hour                  uint16\n",
       "chan_variety_ip_os_device_dow_hour                 uint16\n",
       "app_variety_ip_os_device_dow_hour_min5             uint16\n",
       "chan_variety_ip_os_device_dow_hour_min5            uint16\n",
       "dtype: object"
      ]
     },
     "execution_count": 16,
     "metadata": {},
     "output_type": "execute_result"
    }
   ],
   "source": [
    "merge.dtypes"
   ]
  },
  {
   "cell_type": "markdown",
   "metadata": {},
   "source": [
    "### rank"
   ]
  },
  {
   "cell_type": "code",
   "execution_count": 17,
   "metadata": {},
   "outputs": [],
   "source": [
    "columns = ['ip_os_device_dow_hour', 'ip_os_device_dow_hour_min5']"
   ]
  },
  {
   "cell_type": "code",
   "execution_count": 18,
   "metadata": {},
   "outputs": [
    {
     "name": "stderr",
     "output_type": "stream",
     "text": [
      "[I 180430 15:01:34 <timed exec>:4] ip_os_device_dow_hour\n",
      "[I 180430 15:02:16 <timed exec>:4] ip_os_device_dow_hour_min5\n"
     ]
    },
    {
     "name": "stdout",
     "output_type": "stream",
     "text": [
      "CPU times: user 1min, sys: 21.1 s, total: 1min 21s\n",
      "Wall time: 1min 20s\n"
     ]
    }
   ],
   "source": [
    "%%time\n",
    "merge.sort_index(inplace=True)\n",
    "for col in columns:\n",
    "    merge['rank_by_' + col] = merge.sort_index().groupby(col, as_index=False).cumcount() + 1\n",
    "    logger.info(\"{}\".format(col))"
   ]
  },
  {
   "cell_type": "code",
   "execution_count": 19,
   "metadata": {},
   "outputs": [
    {
     "name": "stdout",
     "output_type": "stream",
     "text": [
      "CPU times: user 540 ms, sys: 620 ms, total: 1.16 s\n",
      "Wall time: 1.16 s\n"
     ]
    }
   ],
   "source": [
    "%%time\n",
    "for j in columns:\n",
    "    merge[\"rank_by_\" + j] = merge[\"rank_by_\" + j].astype('uint32')"
   ]
  },
  {
   "cell_type": "code",
   "execution_count": 20,
   "metadata": {},
   "outputs": [
    {
     "data": {
      "text/plain": [
       "app                                                uint16\n",
       "channel                                            uint16\n",
       "click_id                                           uint32\n",
       "device                                             uint16\n",
       "ip                                                 uint32\n",
       "is_attributed                                       uint8\n",
       "os                                                 uint16\n",
       "click_time                                 datetime64[ns]\n",
       "is_test                                              bool\n",
       "dow                                                 uint8\n",
       "hour                                                uint8\n",
       "minute                                              uint8\n",
       "min5                                                uint8\n",
       "second                                              uint8\n",
       "sin_time                                          float64\n",
       "cos_time                                          float64\n",
       "ip_os_device                                       uint64\n",
       "ip_os_device_dow_hour                              uint64\n",
       "ip_os_device_dow_hour_min5                         uint64\n",
       "ip_os_device_app_encoded                           uint32\n",
       "ip_os_device_channel_encoded                       uint32\n",
       "count_by_ip_os_device_dow_hour                     uint32\n",
       "count_by_ip_os_device_dow_hour_min5                uint32\n",
       "app_variety_ip_os_device_dow_hour                  uint16\n",
       "chan_variety_ip_os_device_dow_hour                 uint16\n",
       "app_variety_ip_os_device_dow_hour_min5             uint16\n",
       "chan_variety_ip_os_device_dow_hour_min5            uint16\n",
       "rank_by_ip_os_device_dow_hour                      uint32\n",
       "rank_by_ip_os_device_dow_hour_min5                 uint32\n",
       "dtype: object"
      ]
     },
     "execution_count": 20,
     "metadata": {},
     "output_type": "execute_result"
    }
   ],
   "source": [
    "merge.dtypes"
   ]
  },
  {
   "cell_type": "markdown",
   "metadata": {},
   "source": [
    "### previous values / click interval"
   ]
  },
  {
   "cell_type": "code",
   "execution_count": 21,
   "metadata": {},
   "outputs": [],
   "source": [
    "columns = ['ip_os_device_dow_hour', 'rank_by_ip_os_device_dow_hour', 'click_time', 'app', 'channel']\n",
    "prev_names = {\n",
    "    \"click_time\": \"click_time_prev\",\n",
    "    \"app\": \"app_prev\",\n",
    "    \"channel\": \"channel_prev\"\n",
    "}\n",
    "\n",
    "merge_prev = merge[columns].rename(columns=prev_names)\n",
    "merge_prev['rank_by_ip_os_device_dow_hour'] = merge_prev['rank_by_ip_os_device_dow_hour'] + 1"
   ]
  },
  {
   "cell_type": "code",
   "execution_count": 22,
   "metadata": {},
   "outputs": [
    {
     "data": {
      "text/html": [
       "<div>\n",
       "<style scoped>\n",
       "    .dataframe tbody tr th:only-of-type {\n",
       "        vertical-align: middle;\n",
       "    }\n",
       "\n",
       "    .dataframe tbody tr th {\n",
       "        vertical-align: top;\n",
       "    }\n",
       "\n",
       "    .dataframe thead th {\n",
       "        text-align: right;\n",
       "    }\n",
       "</style>\n",
       "<table border=\"1\" class=\"dataframe\">\n",
       "  <thead>\n",
       "    <tr style=\"text-align: right;\">\n",
       "      <th></th>\n",
       "      <th>ip_os_device_dow_hour</th>\n",
       "      <th>rank_by_ip_os_device_dow_hour</th>\n",
       "      <th>click_time_prev</th>\n",
       "      <th>app_prev</th>\n",
       "      <th>channel_prev</th>\n",
       "    </tr>\n",
       "  </thead>\n",
       "  <tbody>\n",
       "    <tr>\n",
       "      <th>0</th>\n",
       "      <td>765080350001103</td>\n",
       "      <td>2</td>\n",
       "      <td>2017-11-07 03:00:00</td>\n",
       "      <td>23</td>\n",
       "      <td>153</td>\n",
       "    </tr>\n",
       "    <tr>\n",
       "      <th>1</th>\n",
       "      <td>765080350001103</td>\n",
       "      <td>3</td>\n",
       "      <td>2017-11-07 03:02:24</td>\n",
       "      <td>18</td>\n",
       "      <td>134</td>\n",
       "    </tr>\n",
       "    <tr>\n",
       "      <th>2</th>\n",
       "      <td>765080350001103</td>\n",
       "      <td>4</td>\n",
       "      <td>2017-11-07 03:02:29</td>\n",
       "      <td>15</td>\n",
       "      <td>315</td>\n",
       "    </tr>\n",
       "    <tr>\n",
       "      <th>3</th>\n",
       "      <td>765080350001103</td>\n",
       "      <td>5</td>\n",
       "      <td>2017-11-07 03:02:32</td>\n",
       "      <td>11</td>\n",
       "      <td>469</td>\n",
       "    </tr>\n",
       "    <tr>\n",
       "      <th>4</th>\n",
       "      <td>765080350001103</td>\n",
       "      <td>6</td>\n",
       "      <td>2017-11-07 03:02:36</td>\n",
       "      <td>3</td>\n",
       "      <td>379</td>\n",
       "    </tr>\n",
       "  </tbody>\n",
       "</table>\n",
       "</div>"
      ],
      "text/plain": [
       "   ip_os_device_dow_hour  rank_by_ip_os_device_dow_hour     click_time_prev  \\\n",
       "0        765080350001103                              2 2017-11-07 03:00:00   \n",
       "1        765080350001103                              3 2017-11-07 03:02:24   \n",
       "2        765080350001103                              4 2017-11-07 03:02:29   \n",
       "3        765080350001103                              5 2017-11-07 03:02:32   \n",
       "4        765080350001103                              6 2017-11-07 03:02:36   \n",
       "\n",
       "   app_prev  channel_prev  \n",
       "0        23           153  \n",
       "1        18           134  \n",
       "2        15           315  \n",
       "3        11           469  \n",
       "4         3           379  "
      ]
     },
     "execution_count": 22,
     "metadata": {},
     "output_type": "execute_result"
    }
   ],
   "source": [
    "merge_prev.head()"
   ]
  },
  {
   "cell_type": "code",
   "execution_count": 23,
   "metadata": {},
   "outputs": [
    {
     "name": "stdout",
     "output_type": "stream",
     "text": [
      "CPU times: user 1min 57s, sys: 36.7 s, total: 2min 34s\n",
      "Wall time: 2min 34s\n"
     ]
    }
   ],
   "source": [
    "%%time\n",
    "merge = pd.merge(merge,\n",
    "                 merge_prev,\n",
    "                 on=['ip_os_device_dow_hour', 'rank_by_ip_os_device_dow_hour'],\n",
    "                 how='left')\n",
    "\n",
    "del merge_prev\n",
    "gc.collect()"
   ]
  },
  {
   "cell_type": "code",
   "execution_count": 24,
   "metadata": {},
   "outputs": [
    {
     "data": {
      "text/html": [
       "<div>\n",
       "<style scoped>\n",
       "    .dataframe tbody tr th:only-of-type {\n",
       "        vertical-align: middle;\n",
       "    }\n",
       "\n",
       "    .dataframe tbody tr th {\n",
       "        vertical-align: top;\n",
       "    }\n",
       "\n",
       "    .dataframe thead th {\n",
       "        text-align: right;\n",
       "    }\n",
       "</style>\n",
       "<table border=\"1\" class=\"dataframe\">\n",
       "  <thead>\n",
       "    <tr style=\"text-align: right;\">\n",
       "      <th></th>\n",
       "      <th>app</th>\n",
       "      <th>channel</th>\n",
       "      <th>click_id</th>\n",
       "      <th>device</th>\n",
       "      <th>ip</th>\n",
       "      <th>is_attributed</th>\n",
       "      <th>os</th>\n",
       "      <th>click_time</th>\n",
       "      <th>is_test</th>\n",
       "      <th>dow</th>\n",
       "      <th>...</th>\n",
       "      <th>count_by_ip_os_device_dow_hour_min5</th>\n",
       "      <th>app_variety_ip_os_device_dow_hour</th>\n",
       "      <th>chan_variety_ip_os_device_dow_hour</th>\n",
       "      <th>app_variety_ip_os_device_dow_hour_min5</th>\n",
       "      <th>chan_variety_ip_os_device_dow_hour_min5</th>\n",
       "      <th>rank_by_ip_os_device_dow_hour</th>\n",
       "      <th>rank_by_ip_os_device_dow_hour_min5</th>\n",
       "      <th>click_time_prev</th>\n",
       "      <th>app_prev</th>\n",
       "      <th>channel_prev</th>\n",
       "    </tr>\n",
       "  </thead>\n",
       "  <tbody>\n",
       "    <tr>\n",
       "      <th>0</th>\n",
       "      <td>23</td>\n",
       "      <td>153</td>\n",
       "      <td>99999999</td>\n",
       "      <td>1</td>\n",
       "      <td>76508</td>\n",
       "      <td>0</td>\n",
       "      <td>35</td>\n",
       "      <td>2017-11-07 03:00:00</td>\n",
       "      <td>False</td>\n",
       "      <td>1</td>\n",
       "      <td>...</td>\n",
       "      <td>7</td>\n",
       "      <td>7</td>\n",
       "      <td>7</td>\n",
       "      <td>7</td>\n",
       "      <td>7</td>\n",
       "      <td>1</td>\n",
       "      <td>1</td>\n",
       "      <td>NaT</td>\n",
       "      <td>NaN</td>\n",
       "      <td>NaN</td>\n",
       "    </tr>\n",
       "    <tr>\n",
       "      <th>1</th>\n",
       "      <td>18</td>\n",
       "      <td>134</td>\n",
       "      <td>99999999</td>\n",
       "      <td>1</td>\n",
       "      <td>76508</td>\n",
       "      <td>0</td>\n",
       "      <td>35</td>\n",
       "      <td>2017-11-07 03:02:24</td>\n",
       "      <td>False</td>\n",
       "      <td>1</td>\n",
       "      <td>...</td>\n",
       "      <td>7</td>\n",
       "      <td>7</td>\n",
       "      <td>7</td>\n",
       "      <td>7</td>\n",
       "      <td>7</td>\n",
       "      <td>2</td>\n",
       "      <td>2</td>\n",
       "      <td>2017-11-07 03:00:00</td>\n",
       "      <td>23.0</td>\n",
       "      <td>153.0</td>\n",
       "    </tr>\n",
       "    <tr>\n",
       "      <th>2</th>\n",
       "      <td>15</td>\n",
       "      <td>315</td>\n",
       "      <td>99999999</td>\n",
       "      <td>1</td>\n",
       "      <td>76508</td>\n",
       "      <td>0</td>\n",
       "      <td>35</td>\n",
       "      <td>2017-11-07 03:02:29</td>\n",
       "      <td>False</td>\n",
       "      <td>1</td>\n",
       "      <td>...</td>\n",
       "      <td>7</td>\n",
       "      <td>7</td>\n",
       "      <td>7</td>\n",
       "      <td>7</td>\n",
       "      <td>7</td>\n",
       "      <td>3</td>\n",
       "      <td>3</td>\n",
       "      <td>2017-11-07 03:02:24</td>\n",
       "      <td>18.0</td>\n",
       "      <td>134.0</td>\n",
       "    </tr>\n",
       "    <tr>\n",
       "      <th>3</th>\n",
       "      <td>11</td>\n",
       "      <td>469</td>\n",
       "      <td>99999999</td>\n",
       "      <td>1</td>\n",
       "      <td>76508</td>\n",
       "      <td>0</td>\n",
       "      <td>35</td>\n",
       "      <td>2017-11-07 03:02:32</td>\n",
       "      <td>False</td>\n",
       "      <td>1</td>\n",
       "      <td>...</td>\n",
       "      <td>7</td>\n",
       "      <td>7</td>\n",
       "      <td>7</td>\n",
       "      <td>7</td>\n",
       "      <td>7</td>\n",
       "      <td>4</td>\n",
       "      <td>4</td>\n",
       "      <td>2017-11-07 03:02:29</td>\n",
       "      <td>15.0</td>\n",
       "      <td>315.0</td>\n",
       "    </tr>\n",
       "    <tr>\n",
       "      <th>4</th>\n",
       "      <td>3</td>\n",
       "      <td>379</td>\n",
       "      <td>99999999</td>\n",
       "      <td>1</td>\n",
       "      <td>76508</td>\n",
       "      <td>0</td>\n",
       "      <td>35</td>\n",
       "      <td>2017-11-07 03:02:36</td>\n",
       "      <td>False</td>\n",
       "      <td>1</td>\n",
       "      <td>...</td>\n",
       "      <td>7</td>\n",
       "      <td>7</td>\n",
       "      <td>7</td>\n",
       "      <td>7</td>\n",
       "      <td>7</td>\n",
       "      <td>5</td>\n",
       "      <td>5</td>\n",
       "      <td>2017-11-07 03:02:32</td>\n",
       "      <td>11.0</td>\n",
       "      <td>469.0</td>\n",
       "    </tr>\n",
       "  </tbody>\n",
       "</table>\n",
       "<p>5 rows × 32 columns</p>\n",
       "</div>"
      ],
      "text/plain": [
       "   app  channel  click_id  device     ip  is_attributed  os  \\\n",
       "0   23      153  99999999       1  76508              0  35   \n",
       "1   18      134  99999999       1  76508              0  35   \n",
       "2   15      315  99999999       1  76508              0  35   \n",
       "3   11      469  99999999       1  76508              0  35   \n",
       "4    3      379  99999999       1  76508              0  35   \n",
       "\n",
       "           click_time  is_test  dow      ...       \\\n",
       "0 2017-11-07 03:00:00    False    1      ...        \n",
       "1 2017-11-07 03:02:24    False    1      ...        \n",
       "2 2017-11-07 03:02:29    False    1      ...        \n",
       "3 2017-11-07 03:02:32    False    1      ...        \n",
       "4 2017-11-07 03:02:36    False    1      ...        \n",
       "\n",
       "   count_by_ip_os_device_dow_hour_min5  app_variety_ip_os_device_dow_hour  \\\n",
       "0                                    7                                  7   \n",
       "1                                    7                                  7   \n",
       "2                                    7                                  7   \n",
       "3                                    7                                  7   \n",
       "4                                    7                                  7   \n",
       "\n",
       "   chan_variety_ip_os_device_dow_hour  app_variety_ip_os_device_dow_hour_min5  \\\n",
       "0                                   7                                       7   \n",
       "1                                   7                                       7   \n",
       "2                                   7                                       7   \n",
       "3                                   7                                       7   \n",
       "4                                   7                                       7   \n",
       "\n",
       "   chan_variety_ip_os_device_dow_hour_min5  rank_by_ip_os_device_dow_hour  \\\n",
       "0                                        7                              1   \n",
       "1                                        7                              2   \n",
       "2                                        7                              3   \n",
       "3                                        7                              4   \n",
       "4                                        7                              5   \n",
       "\n",
       "   rank_by_ip_os_device_dow_hour_min5     click_time_prev  app_prev  \\\n",
       "0                                   1                 NaT       NaN   \n",
       "1                                   2 2017-11-07 03:00:00      23.0   \n",
       "2                                   3 2017-11-07 03:02:24      18.0   \n",
       "3                                   4 2017-11-07 03:02:29      15.0   \n",
       "4                                   5 2017-11-07 03:02:32      11.0   \n",
       "\n",
       "   channel_prev  \n",
       "0           NaN  \n",
       "1         153.0  \n",
       "2         134.0  \n",
       "3         315.0  \n",
       "4         469.0  \n",
       "\n",
       "[5 rows x 32 columns]"
      ]
     },
     "execution_count": 24,
     "metadata": {},
     "output_type": "execute_result"
    }
   ],
   "source": [
    "merge.head()"
   ]
  },
  {
   "cell_type": "code",
   "execution_count": 25,
   "metadata": {},
   "outputs": [
    {
     "name": "stdout",
     "output_type": "stream",
     "text": [
      "CPU times: user 2.54 s, sys: 1.43 s, total: 3.96 s\n",
      "Wall time: 3.96 s\n"
     ]
    }
   ],
   "source": [
    "%%time\n",
    "merge['app_prev'] = merge.app_prev.fillna(9999).astype('uint16')\n",
    "merge['app_prev'] = merge.app_prev.where((merge.app == merge.app_prev) | (merge.app_prev == 9999), 8888)"
   ]
  },
  {
   "cell_type": "code",
   "execution_count": 26,
   "metadata": {},
   "outputs": [
    {
     "name": "stdout",
     "output_type": "stream",
     "text": [
      "CPU times: user 2.32 s, sys: 1.12 s, total: 3.44 s\n",
      "Wall time: 3.44 s\n"
     ]
    }
   ],
   "source": [
    "%%time\n",
    "merge['channel_prev'] = merge.channel_prev.fillna(9999).astype('uint16')\n",
    "merge['channel_prev'] = merge.channel_prev.where((merge.channel == merge.channel_prev) | (merge.channel_prev == 9999), 8888)"
   ]
  },
  {
   "cell_type": "code",
   "execution_count": 27,
   "metadata": {},
   "outputs": [
    {
     "name": "stdout",
     "output_type": "stream",
     "text": [
      "CPU times: user 16min 37s, sys: 5.45 s, total: 16min 42s\n",
      "Wall time: 16min 42s\n"
     ]
    }
   ],
   "source": [
    "%%time\n",
    "merge['interval_prev'] = (merge.click_time - merge.click_time_prev).dt.seconds.fillna(9999).astype('uint16')"
   ]
  },
  {
   "cell_type": "code",
   "execution_count": 28,
   "metadata": {},
   "outputs": [
    {
     "data": {
      "text/html": [
       "<div>\n",
       "<style scoped>\n",
       "    .dataframe tbody tr th:only-of-type {\n",
       "        vertical-align: middle;\n",
       "    }\n",
       "\n",
       "    .dataframe tbody tr th {\n",
       "        vertical-align: top;\n",
       "    }\n",
       "\n",
       "    .dataframe thead th {\n",
       "        text-align: right;\n",
       "    }\n",
       "</style>\n",
       "<table border=\"1\" class=\"dataframe\">\n",
       "  <thead>\n",
       "    <tr style=\"text-align: right;\">\n",
       "      <th></th>\n",
       "      <th>app</th>\n",
       "      <th>channel</th>\n",
       "      <th>click_id</th>\n",
       "      <th>device</th>\n",
       "      <th>ip</th>\n",
       "      <th>is_attributed</th>\n",
       "      <th>os</th>\n",
       "      <th>click_time</th>\n",
       "      <th>is_test</th>\n",
       "      <th>dow</th>\n",
       "      <th>...</th>\n",
       "      <th>app_variety_ip_os_device_dow_hour</th>\n",
       "      <th>chan_variety_ip_os_device_dow_hour</th>\n",
       "      <th>app_variety_ip_os_device_dow_hour_min5</th>\n",
       "      <th>chan_variety_ip_os_device_dow_hour_min5</th>\n",
       "      <th>rank_by_ip_os_device_dow_hour</th>\n",
       "      <th>rank_by_ip_os_device_dow_hour_min5</th>\n",
       "      <th>click_time_prev</th>\n",
       "      <th>app_prev</th>\n",
       "      <th>channel_prev</th>\n",
       "      <th>interval_prev</th>\n",
       "    </tr>\n",
       "  </thead>\n",
       "  <tbody>\n",
       "    <tr>\n",
       "      <th>0</th>\n",
       "      <td>23</td>\n",
       "      <td>153</td>\n",
       "      <td>99999999</td>\n",
       "      <td>1</td>\n",
       "      <td>76508</td>\n",
       "      <td>0</td>\n",
       "      <td>35</td>\n",
       "      <td>2017-11-07 03:00:00</td>\n",
       "      <td>False</td>\n",
       "      <td>1</td>\n",
       "      <td>...</td>\n",
       "      <td>7</td>\n",
       "      <td>7</td>\n",
       "      <td>7</td>\n",
       "      <td>7</td>\n",
       "      <td>1</td>\n",
       "      <td>1</td>\n",
       "      <td>NaT</td>\n",
       "      <td>9999</td>\n",
       "      <td>9999</td>\n",
       "      <td>9999</td>\n",
       "    </tr>\n",
       "    <tr>\n",
       "      <th>7</th>\n",
       "      <td>3</td>\n",
       "      <td>280</td>\n",
       "      <td>99999999</td>\n",
       "      <td>1</td>\n",
       "      <td>23907</td>\n",
       "      <td>0</td>\n",
       "      <td>18</td>\n",
       "      <td>2017-11-07 03:00:00</td>\n",
       "      <td>False</td>\n",
       "      <td>1</td>\n",
       "      <td>...</td>\n",
       "      <td>6</td>\n",
       "      <td>7</td>\n",
       "      <td>3</td>\n",
       "      <td>2</td>\n",
       "      <td>1</td>\n",
       "      <td>1</td>\n",
       "      <td>NaT</td>\n",
       "      <td>9999</td>\n",
       "      <td>9999</td>\n",
       "      <td>9999</td>\n",
       "    </tr>\n",
       "    <tr>\n",
       "      <th>21</th>\n",
       "      <td>12</td>\n",
       "      <td>259</td>\n",
       "      <td>99999999</td>\n",
       "      <td>1</td>\n",
       "      <td>23907</td>\n",
       "      <td>0</td>\n",
       "      <td>18</td>\n",
       "      <td>2017-11-07 03:25:53</td>\n",
       "      <td>False</td>\n",
       "      <td>1</td>\n",
       "      <td>...</td>\n",
       "      <td>6</td>\n",
       "      <td>7</td>\n",
       "      <td>2</td>\n",
       "      <td>2</td>\n",
       "      <td>15</td>\n",
       "      <td>1</td>\n",
       "      <td>2017-11-07 03:12:55</td>\n",
       "      <td>12</td>\n",
       "      <td>8888</td>\n",
       "      <td>778</td>\n",
       "    </tr>\n",
       "    <tr>\n",
       "      <th>27</th>\n",
       "      <td>12</td>\n",
       "      <td>265</td>\n",
       "      <td>99999999</td>\n",
       "      <td>1</td>\n",
       "      <td>81489</td>\n",
       "      <td>0</td>\n",
       "      <td>17</td>\n",
       "      <td>2017-11-07 03:00:00</td>\n",
       "      <td>False</td>\n",
       "      <td>1</td>\n",
       "      <td>...</td>\n",
       "      <td>2</td>\n",
       "      <td>2</td>\n",
       "      <td>2</td>\n",
       "      <td>2</td>\n",
       "      <td>1</td>\n",
       "      <td>1</td>\n",
       "      <td>NaT</td>\n",
       "      <td>9999</td>\n",
       "      <td>9999</td>\n",
       "      <td>9999</td>\n",
       "    </tr>\n",
       "    <tr>\n",
       "      <th>29</th>\n",
       "      <td>20</td>\n",
       "      <td>259</td>\n",
       "      <td>99999999</td>\n",
       "      <td>1</td>\n",
       "      <td>123642</td>\n",
       "      <td>0</td>\n",
       "      <td>22</td>\n",
       "      <td>2017-11-07 03:00:00</td>\n",
       "      <td>False</td>\n",
       "      <td>1</td>\n",
       "      <td>...</td>\n",
       "      <td>6</td>\n",
       "      <td>7</td>\n",
       "      <td>6</td>\n",
       "      <td>7</td>\n",
       "      <td>1</td>\n",
       "      <td>1</td>\n",
       "      <td>NaT</td>\n",
       "      <td>9999</td>\n",
       "      <td>9999</td>\n",
       "      <td>9999</td>\n",
       "    </tr>\n",
       "  </tbody>\n",
       "</table>\n",
       "<p>5 rows × 33 columns</p>\n",
       "</div>"
      ],
      "text/plain": [
       "    app  channel  click_id  device      ip  is_attributed  os  \\\n",
       "0    23      153  99999999       1   76508              0  35   \n",
       "7     3      280  99999999       1   23907              0  18   \n",
       "21   12      259  99999999       1   23907              0  18   \n",
       "27   12      265  99999999       1   81489              0  17   \n",
       "29   20      259  99999999       1  123642              0  22   \n",
       "\n",
       "            click_time  is_test  dow      ...        \\\n",
       "0  2017-11-07 03:00:00    False    1      ...         \n",
       "7  2017-11-07 03:00:00    False    1      ...         \n",
       "21 2017-11-07 03:25:53    False    1      ...         \n",
       "27 2017-11-07 03:00:00    False    1      ...         \n",
       "29 2017-11-07 03:00:00    False    1      ...         \n",
       "\n",
       "    app_variety_ip_os_device_dow_hour  chan_variety_ip_os_device_dow_hour  \\\n",
       "0                                   7                                   7   \n",
       "7                                   6                                   7   \n",
       "21                                  6                                   7   \n",
       "27                                  2                                   2   \n",
       "29                                  6                                   7   \n",
       "\n",
       "    app_variety_ip_os_device_dow_hour_min5  \\\n",
       "0                                        7   \n",
       "7                                        3   \n",
       "21                                       2   \n",
       "27                                       2   \n",
       "29                                       6   \n",
       "\n",
       "    chan_variety_ip_os_device_dow_hour_min5  rank_by_ip_os_device_dow_hour  \\\n",
       "0                                         7                              1   \n",
       "7                                         2                              1   \n",
       "21                                        2                             15   \n",
       "27                                        2                              1   \n",
       "29                                        7                              1   \n",
       "\n",
       "    rank_by_ip_os_device_dow_hour_min5     click_time_prev  app_prev  \\\n",
       "0                                    1                 NaT      9999   \n",
       "7                                    1                 NaT      9999   \n",
       "21                                   1 2017-11-07 03:12:55        12   \n",
       "27                                   1                 NaT      9999   \n",
       "29                                   1                 NaT      9999   \n",
       "\n",
       "    channel_prev  interval_prev  \n",
       "0           9999           9999  \n",
       "7           9999           9999  \n",
       "21          8888            778  \n",
       "27          9999           9999  \n",
       "29          9999           9999  \n",
       "\n",
       "[5 rows x 33 columns]"
      ]
     },
     "execution_count": 28,
     "metadata": {},
     "output_type": "execute_result"
    }
   ],
   "source": [
    "merge[merge.app_prev != 8888].head()"
   ]
  },
  {
   "cell_type": "code",
   "execution_count": 29,
   "metadata": {},
   "outputs": [
    {
     "data": {
      "text/plain": [
       "app                                                uint16\n",
       "channel                                            uint16\n",
       "click_id                                           uint32\n",
       "device                                             uint16\n",
       "ip                                                 uint32\n",
       "is_attributed                                       uint8\n",
       "os                                                 uint16\n",
       "click_time                                 datetime64[ns]\n",
       "is_test                                              bool\n",
       "dow                                                 uint8\n",
       "hour                                                uint8\n",
       "minute                                              uint8\n",
       "min5                                                uint8\n",
       "second                                              uint8\n",
       "sin_time                                          float64\n",
       "cos_time                                          float64\n",
       "ip_os_device                                       uint64\n",
       "ip_os_device_dow_hour                              uint64\n",
       "ip_os_device_dow_hour_min5                         uint64\n",
       "ip_os_device_app_encoded                           uint32\n",
       "ip_os_device_channel_encoded                       uint32\n",
       "count_by_ip_os_device_dow_hour                     uint32\n",
       "count_by_ip_os_device_dow_hour_min5                uint32\n",
       "app_variety_ip_os_device_dow_hour                  uint16\n",
       "chan_variety_ip_os_device_dow_hour                 uint16\n",
       "app_variety_ip_os_device_dow_hour_min5             uint16\n",
       "chan_variety_ip_os_device_dow_hour_min5            uint16\n",
       "rank_by_ip_os_device_dow_hour                      uint32\n",
       "rank_by_ip_os_device_dow_hour_min5                 uint32\n",
       "click_time_prev                            datetime64[ns]\n",
       "app_prev                                           uint16\n",
       "channel_prev                                       uint16\n",
       "interval_prev                                      uint16\n",
       "dtype: object"
      ]
     },
     "execution_count": 29,
     "metadata": {},
     "output_type": "execute_result"
    }
   ],
   "source": [
    "merge.dtypes"
   ]
  },
  {
   "cell_type": "code",
   "execution_count": null,
   "metadata": {},
   "outputs": [],
   "source": []
  },
  {
   "cell_type": "markdown",
   "metadata": {},
   "source": [
    "### subsequent values / click interval"
   ]
  },
  {
   "cell_type": "code",
   "execution_count": 30,
   "metadata": {},
   "outputs": [],
   "source": [
    "next_names = {\n",
    "    \"click_time\": \"click_time_next\",\n",
    "    \"app\": \"app_next\",\n",
    "    \"channel\": \"channel_next\"\n",
    "}\n",
    "\n",
    "merge_next = merge[columns].rename(columns=next_names)\n",
    "merge_next['rank_by_ip_os_device_dow_hour'] = merge_next['rank_by_ip_os_device_dow_hour'] - 1"
   ]
  },
  {
   "cell_type": "code",
   "execution_count": 31,
   "metadata": {},
   "outputs": [
    {
     "data": {
      "text/html": [
       "<div>\n",
       "<style scoped>\n",
       "    .dataframe tbody tr th:only-of-type {\n",
       "        vertical-align: middle;\n",
       "    }\n",
       "\n",
       "    .dataframe tbody tr th {\n",
       "        vertical-align: top;\n",
       "    }\n",
       "\n",
       "    .dataframe thead th {\n",
       "        text-align: right;\n",
       "    }\n",
       "</style>\n",
       "<table border=\"1\" class=\"dataframe\">\n",
       "  <thead>\n",
       "    <tr style=\"text-align: right;\">\n",
       "      <th></th>\n",
       "      <th>ip_os_device_dow_hour</th>\n",
       "      <th>rank_by_ip_os_device_dow_hour</th>\n",
       "      <th>click_time_next</th>\n",
       "      <th>app_next</th>\n",
       "      <th>channel_next</th>\n",
       "    </tr>\n",
       "  </thead>\n",
       "  <tbody>\n",
       "    <tr>\n",
       "      <th>0</th>\n",
       "      <td>765080350001103</td>\n",
       "      <td>0</td>\n",
       "      <td>2017-11-07 03:00:00</td>\n",
       "      <td>23</td>\n",
       "      <td>153</td>\n",
       "    </tr>\n",
       "    <tr>\n",
       "      <th>1</th>\n",
       "      <td>765080350001103</td>\n",
       "      <td>1</td>\n",
       "      <td>2017-11-07 03:02:24</td>\n",
       "      <td>18</td>\n",
       "      <td>134</td>\n",
       "    </tr>\n",
       "    <tr>\n",
       "      <th>2</th>\n",
       "      <td>765080350001103</td>\n",
       "      <td>2</td>\n",
       "      <td>2017-11-07 03:02:29</td>\n",
       "      <td>15</td>\n",
       "      <td>315</td>\n",
       "    </tr>\n",
       "    <tr>\n",
       "      <th>3</th>\n",
       "      <td>765080350001103</td>\n",
       "      <td>3</td>\n",
       "      <td>2017-11-07 03:02:32</td>\n",
       "      <td>11</td>\n",
       "      <td>469</td>\n",
       "    </tr>\n",
       "    <tr>\n",
       "      <th>4</th>\n",
       "      <td>765080350001103</td>\n",
       "      <td>4</td>\n",
       "      <td>2017-11-07 03:02:36</td>\n",
       "      <td>3</td>\n",
       "      <td>379</td>\n",
       "    </tr>\n",
       "  </tbody>\n",
       "</table>\n",
       "</div>"
      ],
      "text/plain": [
       "   ip_os_device_dow_hour  rank_by_ip_os_device_dow_hour     click_time_next  \\\n",
       "0        765080350001103                              0 2017-11-07 03:00:00   \n",
       "1        765080350001103                              1 2017-11-07 03:02:24   \n",
       "2        765080350001103                              2 2017-11-07 03:02:29   \n",
       "3        765080350001103                              3 2017-11-07 03:02:32   \n",
       "4        765080350001103                              4 2017-11-07 03:02:36   \n",
       "\n",
       "   app_next  channel_next  \n",
       "0        23           153  \n",
       "1        18           134  \n",
       "2        15           315  \n",
       "3        11           469  \n",
       "4         3           379  "
      ]
     },
     "execution_count": 31,
     "metadata": {},
     "output_type": "execute_result"
    }
   ],
   "source": [
    "merge_next.head()"
   ]
  },
  {
   "cell_type": "code",
   "execution_count": 32,
   "metadata": {},
   "outputs": [
    {
     "name": "stdout",
     "output_type": "stream",
     "text": [
      "CPU times: user 2min 7s, sys: 41.8 s, total: 2min 49s\n",
      "Wall time: 2min 49s\n"
     ]
    }
   ],
   "source": [
    "%%time\n",
    "merge = pd.merge(merge,\n",
    "                 merge_next,\n",
    "                 on=['ip_os_device_dow_hour', 'rank_by_ip_os_device_dow_hour'],\n",
    "                 how='left')\n",
    "del merge_next\n",
    "gc.collect()"
   ]
  },
  {
   "cell_type": "code",
   "execution_count": 33,
   "metadata": {},
   "outputs": [
    {
     "name": "stdout",
     "output_type": "stream",
     "text": [
      "CPU times: user 2.61 s, sys: 1.36 s, total: 3.97 s\n",
      "Wall time: 3.97 s\n"
     ]
    }
   ],
   "source": [
    "%%time\n",
    "merge['app_next'] = merge.app_next.fillna(9999).astype('uint16')\n",
    "merge['app_next'] = merge.app_next.where((merge.app == merge.app_next) | (merge.app_next == 9999), 8888)"
   ]
  },
  {
   "cell_type": "code",
   "execution_count": 34,
   "metadata": {},
   "outputs": [
    {
     "name": "stdout",
     "output_type": "stream",
     "text": [
      "CPU times: user 2.37 s, sys: 1.08 s, total: 3.46 s\n",
      "Wall time: 3.45 s\n"
     ]
    }
   ],
   "source": [
    "%%time\n",
    "merge['channel_next'] = merge.channel_next.fillna(9999).astype('uint16')\n",
    "merge['channel_next'] = merge.channel_next.where((merge.channel == merge.channel_next) | (merge.channel_next == 9999), 8888)"
   ]
  },
  {
   "cell_type": "code",
   "execution_count": 35,
   "metadata": {},
   "outputs": [
    {
     "name": "stdout",
     "output_type": "stream",
     "text": [
      "CPU times: user 17min 2s, sys: 7.79 s, total: 17min 10s\n",
      "Wall time: 17min 9s\n"
     ]
    }
   ],
   "source": [
    "%%time\n",
    "merge['interval_next'] = (merge.click_time - merge.click_time_next).dt.seconds.fillna(9999).astype('uint16')"
   ]
  },
  {
   "cell_type": "code",
   "execution_count": 36,
   "metadata": {},
   "outputs": [
    {
     "data": {
      "text/html": [
       "<div>\n",
       "<style scoped>\n",
       "    .dataframe tbody tr th:only-of-type {\n",
       "        vertical-align: middle;\n",
       "    }\n",
       "\n",
       "    .dataframe tbody tr th {\n",
       "        vertical-align: top;\n",
       "    }\n",
       "\n",
       "    .dataframe thead th {\n",
       "        text-align: right;\n",
       "    }\n",
       "</style>\n",
       "<table border=\"1\" class=\"dataframe\">\n",
       "  <thead>\n",
       "    <tr style=\"text-align: right;\">\n",
       "      <th></th>\n",
       "      <th>app</th>\n",
       "      <th>channel</th>\n",
       "      <th>click_id</th>\n",
       "      <th>device</th>\n",
       "      <th>ip</th>\n",
       "      <th>is_attributed</th>\n",
       "      <th>os</th>\n",
       "      <th>click_time</th>\n",
       "      <th>is_test</th>\n",
       "      <th>dow</th>\n",
       "      <th>...</th>\n",
       "      <th>rank_by_ip_os_device_dow_hour</th>\n",
       "      <th>rank_by_ip_os_device_dow_hour_min5</th>\n",
       "      <th>click_time_prev</th>\n",
       "      <th>app_prev</th>\n",
       "      <th>channel_prev</th>\n",
       "      <th>interval_prev</th>\n",
       "      <th>click_time_next</th>\n",
       "      <th>app_next</th>\n",
       "      <th>channel_next</th>\n",
       "      <th>interval_next</th>\n",
       "    </tr>\n",
       "  </thead>\n",
       "  <tbody>\n",
       "    <tr>\n",
       "      <th>37</th>\n",
       "      <td>9</td>\n",
       "      <td>258</td>\n",
       "      <td>99999999</td>\n",
       "      <td>1</td>\n",
       "      <td>123642</td>\n",
       "      <td>0</td>\n",
       "      <td>22</td>\n",
       "      <td>2017-11-07 03:00:04</td>\n",
       "      <td>False</td>\n",
       "      <td>1</td>\n",
       "      <td>...</td>\n",
       "      <td>9</td>\n",
       "      <td>9</td>\n",
       "      <td>2017-11-07 03:00:04</td>\n",
       "      <td>8888</td>\n",
       "      <td>8888</td>\n",
       "      <td>0</td>\n",
       "      <td>2017-11-07 03:00:04</td>\n",
       "      <td>8888</td>\n",
       "      <td>8888</td>\n",
       "      <td>0</td>\n",
       "    </tr>\n",
       "    <tr>\n",
       "      <th>38</th>\n",
       "      <td>24</td>\n",
       "      <td>178</td>\n",
       "      <td>99999999</td>\n",
       "      <td>1</td>\n",
       "      <td>123642</td>\n",
       "      <td>0</td>\n",
       "      <td>22</td>\n",
       "      <td>2017-11-07 03:00:04</td>\n",
       "      <td>False</td>\n",
       "      <td>1</td>\n",
       "      <td>...</td>\n",
       "      <td>10</td>\n",
       "      <td>10</td>\n",
       "      <td>2017-11-07 03:00:04</td>\n",
       "      <td>8888</td>\n",
       "      <td>8888</td>\n",
       "      <td>0</td>\n",
       "      <td>2017-11-07 03:00:04</td>\n",
       "      <td>8888</td>\n",
       "      <td>8888</td>\n",
       "      <td>0</td>\n",
       "    </tr>\n",
       "    <tr>\n",
       "      <th>39</th>\n",
       "      <td>8</td>\n",
       "      <td>259</td>\n",
       "      <td>99999999</td>\n",
       "      <td>1</td>\n",
       "      <td>123642</td>\n",
       "      <td>0</td>\n",
       "      <td>22</td>\n",
       "      <td>2017-11-07 03:00:04</td>\n",
       "      <td>False</td>\n",
       "      <td>1</td>\n",
       "      <td>...</td>\n",
       "      <td>11</td>\n",
       "      <td>11</td>\n",
       "      <td>2017-11-07 03:00:04</td>\n",
       "      <td>8888</td>\n",
       "      <td>8888</td>\n",
       "      <td>0</td>\n",
       "      <td>2017-11-07 03:00:04</td>\n",
       "      <td>8888</td>\n",
       "      <td>8888</td>\n",
       "      <td>0</td>\n",
       "    </tr>\n",
       "    <tr>\n",
       "      <th>40</th>\n",
       "      <td>9</td>\n",
       "      <td>442</td>\n",
       "      <td>99999999</td>\n",
       "      <td>1</td>\n",
       "      <td>123642</td>\n",
       "      <td>0</td>\n",
       "      <td>22</td>\n",
       "      <td>2017-11-07 03:00:04</td>\n",
       "      <td>False</td>\n",
       "      <td>1</td>\n",
       "      <td>...</td>\n",
       "      <td>12</td>\n",
       "      <td>12</td>\n",
       "      <td>2017-11-07 03:00:04</td>\n",
       "      <td>8888</td>\n",
       "      <td>8888</td>\n",
       "      <td>0</td>\n",
       "      <td>2017-11-07 03:00:04</td>\n",
       "      <td>8888</td>\n",
       "      <td>8888</td>\n",
       "      <td>0</td>\n",
       "    </tr>\n",
       "  </tbody>\n",
       "</table>\n",
       "<p>4 rows × 37 columns</p>\n",
       "</div>"
      ],
      "text/plain": [
       "    app  channel  click_id  device      ip  is_attributed  os  \\\n",
       "37    9      258  99999999       1  123642              0  22   \n",
       "38   24      178  99999999       1  123642              0  22   \n",
       "39    8      259  99999999       1  123642              0  22   \n",
       "40    9      442  99999999       1  123642              0  22   \n",
       "\n",
       "            click_time  is_test  dow      ...        \\\n",
       "37 2017-11-07 03:00:04    False    1      ...         \n",
       "38 2017-11-07 03:00:04    False    1      ...         \n",
       "39 2017-11-07 03:00:04    False    1      ...         \n",
       "40 2017-11-07 03:00:04    False    1      ...         \n",
       "\n",
       "    rank_by_ip_os_device_dow_hour  rank_by_ip_os_device_dow_hour_min5  \\\n",
       "37                              9                                   9   \n",
       "38                             10                                  10   \n",
       "39                             11                                  11   \n",
       "40                             12                                  12   \n",
       "\n",
       "       click_time_prev  app_prev  channel_prev  interval_prev  \\\n",
       "37 2017-11-07 03:00:04      8888          8888              0   \n",
       "38 2017-11-07 03:00:04      8888          8888              0   \n",
       "39 2017-11-07 03:00:04      8888          8888              0   \n",
       "40 2017-11-07 03:00:04      8888          8888              0   \n",
       "\n",
       "       click_time_next  app_next  channel_next  interval_next  \n",
       "37 2017-11-07 03:00:04      8888          8888              0  \n",
       "38 2017-11-07 03:00:04      8888          8888              0  \n",
       "39 2017-11-07 03:00:04      8888          8888              0  \n",
       "40 2017-11-07 03:00:04      8888          8888              0  \n",
       "\n",
       "[4 rows x 37 columns]"
      ]
     },
     "execution_count": 36,
     "metadata": {},
     "output_type": "execute_result"
    }
   ],
   "source": [
    "merge[37:41]"
   ]
  },
  {
   "cell_type": "code",
   "execution_count": null,
   "metadata": {},
   "outputs": [
    {
     "name": "stdout",
     "output_type": "stream",
     "text": [
      "(145713707, 37)\n"
     ]
    },
    {
     "data": {
      "text/plain": [
       "app                                                uint16\n",
       "channel                                            uint16\n",
       "click_id                                           uint32\n",
       "device                                             uint16\n",
       "ip                                                 uint32\n",
       "is_attributed                                       uint8\n",
       "os                                                 uint16\n",
       "click_time                                 datetime64[ns]\n",
       "is_test                                              bool\n",
       "dow                                                 uint8\n",
       "hour                                                uint8\n",
       "minute                                              uint8\n",
       "min5                                                uint8\n",
       "second                                              uint8\n",
       "sin_time                                          float64\n",
       "cos_time                                          float64\n",
       "ip_os_device                                       uint64\n",
       "ip_os_device_dow_hour                              uint64\n",
       "ip_os_device_dow_hour_min5                         uint64\n",
       "ip_os_device_app_encoded                           uint32\n",
       "ip_os_device_channel_encoded                       uint32\n",
       "count_by_ip_os_device_dow_hour                     uint32\n",
       "count_by_ip_os_device_dow_hour_min5                uint32\n",
       "app_variety_ip_os_device_dow_hour                  uint16\n",
       "chan_variety_ip_os_device_dow_hour                 uint16\n",
       "app_variety_ip_os_device_dow_hour_min5             uint16\n",
       "chan_variety_ip_os_device_dow_hour_min5            uint16\n",
       "rank_by_ip_os_device_dow_hour                      uint32\n",
       "rank_by_ip_os_device_dow_hour_min5                 uint32\n",
       "click_time_prev                            datetime64[ns]\n",
       "app_prev                                           uint16\n",
       "channel_prev                                       uint16\n",
       "interval_prev                                      uint16\n",
       "click_time_next                            datetime64[ns]\n",
       "app_next                                           uint16\n",
       "channel_next                                       uint16\n",
       "interval_next                                      uint16\n",
       "dtype: object"
      ]
     },
     "execution_count": 37,
     "metadata": {},
     "output_type": "execute_result"
    }
   ],
   "source": [
    "print(merge.shape)\n",
    "merge.dtypes"
   ]
  },
  {
   "cell_type": "code",
   "execution_count": null,
   "metadata": {},
   "outputs": [],
   "source": [
    "merge.to_feather(\"../data/merge.feather\")"
   ]
  },
  {
   "cell_type": "code",
   "execution_count": null,
   "metadata": {},
   "outputs": [],
   "source": []
  }
 ],
 "metadata": {
  "kernelspec": {
   "display_name": "Python 3",
   "language": "python",
   "name": "python3"
  },
  "language_info": {
   "codemirror_mode": {
    "name": "ipython",
    "version": 3
   },
   "file_extension": ".py",
   "mimetype": "text/x-python",
   "name": "python",
   "nbconvert_exporter": "python",
   "pygments_lexer": "ipython3",
   "version": "3.6.4"
  }
 },
 "nbformat": 4,
 "nbformat_minor": 2
}
