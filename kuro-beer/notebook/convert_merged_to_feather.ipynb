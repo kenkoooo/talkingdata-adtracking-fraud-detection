{
 "cells": [
  {
   "cell_type": "code",
   "execution_count": 1,
   "metadata": {},
   "outputs": [],
   "source": [
    "import pandas as pd"
   ]
  },
  {
   "cell_type": "code",
   "execution_count": 2,
   "metadata": {},
   "outputs": [
    {
     "name": "stdout",
     "output_type": "stream",
     "text": [
      "total 75G\r\n",
      "drwxrwxr-x 3 ubuntu ubuntu  4.0K Apr 29 04:51 \u001b[0m\u001b[01;34m.\u001b[0m/\r\n",
      "drwxrwxr-x 7 ubuntu ubuntu  4.0K Apr 28 16:26 \u001b[01;34m..\u001b[0m/\r\n",
      "drwxrwxr-x 2 ubuntu ubuntu  4.0K Apr 28 16:52 \u001b[01;34m.ipynb_checkpoints\u001b[0m/\r\n",
      "-rw-rw-r-- 1 ubuntu ubuntu  1.5G Apr 29 03:27 \u001b[01;31mclick_count.zip\u001b[0m\r\n",
      "-rw-rw-r-- 1 ubuntu ubuntu  1.3G Apr 29 04:44 \u001b[01;31mclick_data.hdf.zip\u001b[0m\r\n",
      "-rw-rw-r-- 1 ubuntu ubuntu  2.5G Apr 29 04:17 click_time_interval_ip_device_os_app_hash.hdf\r\n",
      "-rw-rw-r-- 1 ubuntu ubuntu 1020M Apr 29 03:15 \u001b[01;31mclick_time_intervals.hdf.zip\u001b[0m\r\n",
      "-rw-rw-r-- 1 ubuntu ubuntu  313M Apr 29 04:49 \u001b[01;31mclick_times.hdf.zip\u001b[0m\r\n",
      "-rw-rw-r-- 1 ubuntu ubuntu  2.5G Apr 29 03:05 \u001b[01;31mintervals.zip\u001b[0m\r\n",
      "-rw-rw-r-- 1 ubuntu ubuntu  3.0G Apr 28 16:48 ip_os_device.hdf\r\n",
      "-rw-rw-r-- 1 ubuntu ubuntu  4.6G Apr 28 17:04 ip_os_device_dow.hdf\r\n",
      "-rw-rw-r-- 1 ubuntu ubuntu   55G Apr 29 04:25 merged_click_data.hdf\r\n",
      "-rw-rw-r-- 1 ubuntu ubuntu  2.4G Apr 29 03:43 \u001b[01;31mranks.zip\u001b[0m\r\n",
      "-rw-rw-r-- 1 ubuntu ubuntu  1.4G Apr 28 17:20 \u001b[01;31mraw.zip\u001b[0m\r\n",
      "-rw-rw-r-- 1 ubuntu ubuntu  187M Feb 27 06:52 sample_submission.csv\r\n"
     ]
    }
   ],
   "source": [
    "ls -lha ../data/"
   ]
  },
  {
   "cell_type": "code",
   "execution_count": null,
   "metadata": {},
   "outputs": [],
   "source": [
    "df = pd.read_hdf(\"../data/merged_click_data.hdf\", \"merged_click_data\")"
   ]
  },
  {
   "cell_type": "code",
   "execution_count": null,
   "metadata": {},
   "outputs": [],
   "source": [
    "df.to_feather(\"../data/merged_click_data\")"
   ]
  },
  {
   "cell_type": "code",
   "execution_count": null,
   "metadata": {},
   "outputs": [],
   "source": [
    "ls -lha ../data/"
   ]
  },
  {
   "cell_type": "code",
   "execution_count": null,
   "metadata": {},
   "outputs": [],
   "source": []
  }
 ],
 "metadata": {
  "kernelspec": {
   "display_name": "Python 3",
   "language": "python",
   "name": "python3"
  },
  "language_info": {
   "codemirror_mode": {
    "name": "ipython",
    "version": 3
   },
   "file_extension": ".py",
   "mimetype": "text/x-python",
   "name": "python",
   "nbconvert_exporter": "python",
   "pygments_lexer": "ipython3",
   "version": "3.6.4"
  }
 },
 "nbformat": 4,
 "nbformat_minor": 2
}
