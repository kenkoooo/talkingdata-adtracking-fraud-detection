{
 "cells": [
  {
   "cell_type": "code",
   "execution_count": 1,
   "metadata": {},
   "outputs": [],
   "source": [
    "import gc\n",
    "import time\n",
    "import numpy as np\n",
    "import pandas as pd\n",
    "import xgboost as xgb\n",
    "from xgboost import plot_importance\n",
    "import matplotlib.pyplot as plt\n",
    "from logzero import logger"
   ]
  },
  {
   "cell_type": "code",
   "execution_count": null,
   "metadata": {},
   "outputs": [],
   "source": [
    "%%time\n",
    "click_data = pd.concat([\n",
    "    pd.read_feather(\"../data/basic_table\"),\n",
    "    pd.read_feather(\"../data/click_count_table\"),\n",
    "    pd.read_feather(\"../data/click_time_interval_ip_device_os_app_hash\"),\n",
    "    pd.read_feather(\"../data/intervals_table\"),\n",
    "    pd.read_feather(\"../data/misc_counts\"),\n",
    "    pd.read_feather(\"../data/multi_basic\"),\n",
    "    pd.read_feather(\"../data/next_prev_channels\"),\n",
    "    pd.read_feather(\"../data/ranks_table\"),\n",
    "    pd.read_feather(\"../data/time_of_day\"),\n",
    "    pd.read_feather(\"../data/time_table\"),\n",
    "], axis=1)"
   ]
  },
  {
   "cell_type": "code",
   "execution_count": null,
   "metadata": {},
   "outputs": [],
   "source": [
    "click_data.dtypes"
   ]
  },
  {
   "cell_type": "code",
   "execution_count": null,
   "metadata": {},
   "outputs": [],
   "source": [
    "error = pd.read_feather(\"../data/down_sampling_train\")"
   ]
  },
  {
   "cell_type": "code",
   "execution_count": null,
   "metadata": {},
   "outputs": [],
   "source": [
    "error"
   ]
  },
  {
   "cell_type": "code",
   "execution_count": null,
   "metadata": {},
   "outputs": [],
   "source": [
    "click_data = click_data[:184903890]"
   ]
  },
  {
   "cell_type": "code",
   "execution_count": null,
   "metadata": {},
   "outputs": [],
   "source": [
    "click_data[\"error\"] = error[\"error\"]"
   ]
  },
  {
   "cell_type": "code",
   "execution_count": null,
   "metadata": {},
   "outputs": [],
   "source": [
    "error.sort_values(by=[\"error\"], inplace=True)"
   ]
  },
  {
   "cell_type": "code",
   "execution_count": 14,
   "metadata": {},
   "outputs": [],
   "source": [
    "error[\"abs\"] = np.abs(error[\"error\"])"
   ]
  },
  {
   "cell_type": "code",
   "execution_count": 16,
   "metadata": {},
   "outputs": [],
   "source": [
    "error.sort_values(by=[\"sq\"], inplace=True)"
   ]
  },
  {
   "cell_type": "code",
   "execution_count": 25,
   "metadata": {},
   "outputs": [
    {
     "data": {
      "text/plain": [
       "(18491169, 2)"
      ]
     },
     "execution_count": 25,
     "metadata": {},
     "output_type": "execute_result"
    }
   ],
   "source": [
    "error[error[\"sq\"]>0.007287].shape"
   ]
  },
  {
   "cell_type": "code",
   "execution_count": 27,
   "metadata": {},
   "outputs": [
    {
     "name": "stderr",
     "output_type": "stream",
     "text": [
      "[I 180427 08:27:11 <timed exec>:1] Splitting data...\n"
     ]
    },
    {
     "name": "stdout",
     "output_type": "stream",
     "text": [
      "CPU times: user 1min 35s, sys: 3min 19s, total: 4min 55s\n",
      "Wall time: 4min 55s\n"
     ]
    }
   ],
   "source": [
    "%%time\n",
    "logger.info(\"Splitting data...\")\n",
    "click_data.drop(columns=[\"click_id\"], inplace=True)\n",
    "train = click_data[click_data[\"dow\"] < 3]\n",
    "valid = click_data[click_data[\"dow\"] == 3]\n",
    "\n",
    "del click_data\n",
    "gc.collect()"
   ]
  },
  {
   "cell_type": "code",
   "execution_count": 28,
   "metadata": {},
   "outputs": [
    {
     "data": {
      "text/plain": [
       "(11077958, 104)"
      ]
     },
     "execution_count": 28,
     "metadata": {},
     "output_type": "execute_result"
    }
   ],
   "source": [
    "threshold = 0.008\n",
    "train = train[np.abs(train[\"error\"]) > threshold]\n",
    "train.shape"
   ]
  },
  {
   "cell_type": "code",
   "execution_count": 29,
   "metadata": {},
   "outputs": [
    {
     "name": "stdout",
     "output_type": "stream",
     "text": [
      "CPU times: user 11.3 s, sys: 8.38 s, total: 19.7 s\n",
      "Wall time: 19.6 s\n"
     ]
    }
   ],
   "source": [
    "%%time\n",
    "y_train = train[\"is_attributed\"].astype(\"int\")\n",
    "train.drop(columns=[\"is_attributed\"], inplace=True)\n",
    "y_valid = valid[\"is_attributed\"].astype(\"int\")\n",
    "valid.drop(columns=[\"is_attributed\"], inplace=True)\n",
    "gc.collect()"
   ]
  },
  {
   "cell_type": "code",
   "execution_count": null,
   "metadata": {},
   "outputs": [
    {
     "name": "stderr",
     "output_type": "stream",
     "text": [
      "[I 180427 08:34:48 <timed exec>:1] Generating matrix...\n"
     ]
    }
   ],
   "source": [
    "%%time\n",
    "logger.info(\"Generating matrix...\")\n",
    "dtrain = xgb.DMatrix(train, y_train)\n",
    "del train, y_train\n",
    "gc.collect()\n",
    "\n",
    "dvalid = xgb.DMatrix(valid, y_valid)\n",
    "del valid, y_valid\n",
    "gc.collect()"
   ]
  },
  {
   "cell_type": "code",
   "execution_count": null,
   "metadata": {},
   "outputs": [],
   "source": [
    "%%time\n",
    "n_thread = 32\n",
    "logger.info(\"Validating...\")\n",
    "params = {'eta': 0.6,\n",
    "          'tree_method': \"hist\",\n",
    "          'grow_policy': \"lossguide\",\n",
    "          'max_leaves': 1400,\n",
    "          'max_depth': 0,\n",
    "          'subsample': 0.9,\n",
    "          'colsample_bytree': 0.7,\n",
    "          'colsample_bylevel': 0.7,\n",
    "          'min_child_weight': 0,\n",
    "          'alpha': 4,\n",
    "          'objective': 'binary:logistic',\n",
    "          'scale_pos_weight': 9,\n",
    "          'eval_metric': 'auc',\n",
    "          'nthread': n_thread,\n",
    "          'random_state': 99,\n",
    "          'silent': True}\n",
    "watchlist = [(dtrain, 'train'), (dvalid, 'valid')]\n",
    "model = xgb.train(params,\n",
    "                  dtrain,\n",
    "                  200,\n",
    "                  watchlist,\n",
    "                  maximize=True,\n",
    "                  early_stopping_rounds=25,\n",
    "                  verbose_eval=5)\n",
    "fig, ax = plt.subplots(figsize=(12,18))\n",
    "xgb.plot_importance(model, max_num_features=50, height=0.8, ax=ax)\n",
    "plt.show()"
   ]
  },
  {
   "cell_type": "code",
   "execution_count": null,
   "metadata": {},
   "outputs": [],
   "source": []
  }
 ],
 "metadata": {
  "kernelspec": {
   "display_name": "Python 3",
   "language": "python",
   "name": "python3"
  },
  "language_info": {
   "codemirror_mode": {
    "name": "ipython",
    "version": 3
   },
   "file_extension": ".py",
   "mimetype": "text/x-python",
   "name": "python",
   "nbconvert_exporter": "python",
   "pygments_lexer": "ipython3",
   "version": "3.6.5"
  }
 },
 "nbformat": 4,
 "nbformat_minor": 2
}
