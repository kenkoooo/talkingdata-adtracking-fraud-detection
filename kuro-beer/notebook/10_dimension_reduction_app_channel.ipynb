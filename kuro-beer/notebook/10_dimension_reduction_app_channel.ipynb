{
 "cells": [
  {
   "cell_type": "code",
   "execution_count": 1,
   "metadata": {},
   "outputs": [],
   "source": [
    "import gc\n",
    "import time\n",
    "from logzero import logger\n",
    "import numpy as np\n",
    "import pandas as pd"
   ]
  },
  {
   "cell_type": "code",
   "execution_count": 2,
   "metadata": {},
   "outputs": [
    {
     "name": "stdout",
     "output_type": "stream",
     "text": [
      "total 24G\r\n",
      "drwxrwxr-x 5 ubuntu ubuntu 4.0K May  4 15:54 \u001b[0m\u001b[01;34m.\u001b[0m/\r\n",
      "drwxrwxr-x 8 ubuntu ubuntu 4.0K Apr 30 17:30 \u001b[01;34m..\u001b[0m/\r\n",
      "drwxrwxr-x 2 ubuntu ubuntu 4.0K Apr 28 16:52 \u001b[01;34m.ipynb_checkpoints\u001b[0m/\r\n",
      "-rw-r--r-- 1 ubuntu ubuntu 4.3K May  4 15:41 agg_by_channel.feather\r\n",
      "-rw-r--r-- 1 ubuntu ubuntu 4.8G Apr 30 14:27 click_data.feather\r\n",
      "-rw-r--r-- 1 ubuntu ubuntu 1.1M May  4 16:12 count_user_by_channel_app.feather\r\n",
      "drwxrwxr-x 2 ubuntu ubuntu 4.0K Apr 29 14:21 \u001b[01;34mkenkoooos\u001b[0m/\r\n",
      "-rw-r--r-- 1 ubuntu ubuntu  18G May  4 07:40 merge.feather\r\n",
      "drwxrwxr-x 2 ubuntu ubuntu 4.0K Apr 28 17:13 \u001b[01;34mraw\u001b[0m/\r\n",
      "-rw-rw-r-- 1 ubuntu ubuntu 1.4G Apr 28 17:20 \u001b[01;31mraw.zip\u001b[0m\r\n",
      "-rw-r--r-- 1 ubuntu ubuntu 8.4K May  4 15:44 uqcount_by_channel.feather\r\n"
     ]
    }
   ],
   "source": [
    "ls -lah ../data/"
   ]
  },
  {
   "cell_type": "code",
   "execution_count": 3,
   "metadata": {},
   "outputs": [
    {
     "name": "stdout",
     "output_type": "stream",
     "text": [
      "CPU times: user 0 ns, sys: 0 ns, total: 0 ns\n",
      "Wall time: 5.72 µs\n"
     ]
    }
   ],
   "source": [
    "%time\n",
    "merge = pd.read_feather(\"../data/merge.feather\", nthreads=8)"
   ]
  },
  {
   "cell_type": "code",
   "execution_count": 11,
   "metadata": {},
   "outputs": [
    {
     "data": {
      "text/plain": [
       "42"
      ]
     },
     "execution_count": 11,
     "metadata": {},
     "output_type": "execute_result"
    }
   ],
   "source": [
    "merge = merge[merge.is_test == False]\n",
    "gc.collect()"
   ]
  },
  {
   "cell_type": "code",
   "execution_count": 12,
   "metadata": {},
   "outputs": [
    {
     "name": "stdout",
     "output_type": "stream",
     "text": [
      "(126923238, 37)\n"
     ]
    },
    {
     "data": {
      "text/plain": [
       "app                                                uint16\n",
       "channel                                            uint16\n",
       "click_id                                           uint32\n",
       "device                                             uint16\n",
       "ip                                                 uint32\n",
       "is_attributed                                       uint8\n",
       "os                                                 uint16\n",
       "click_time                                 datetime64[ns]\n",
       "is_test                                              bool\n",
       "dow                                                 uint8\n",
       "hour                                                uint8\n",
       "minute                                              uint8\n",
       "min5                                                uint8\n",
       "second                                              uint8\n",
       "sin_time                                          float64\n",
       "cos_time                                          float64\n",
       "ip_os_device                                       uint64\n",
       "ip_os_device_dow_hour                              uint64\n",
       "ip_os_device_dow_hour_min5                         uint64\n",
       "ip_os_device_app_encoded                           uint32\n",
       "ip_os_device_channel_encoded                       uint32\n",
       "count_by_ip_os_device_dow_hour                     uint32\n",
       "count_by_ip_os_device_dow_hour_min5                uint32\n",
       "app_variety_ip_os_device_dow_hour                  uint16\n",
       "chan_variety_ip_os_device_dow_hour                 uint16\n",
       "app_variety_ip_os_device_dow_hour_min5             uint16\n",
       "chan_variety_ip_os_device_dow_hour_min5            uint16\n",
       "rank_by_ip_os_device_dow_hour                      uint32\n",
       "rank_by_ip_os_device_dow_hour_min5                 uint32\n",
       "click_time_prev                            datetime64[ns]\n",
       "app_prev                                           uint16\n",
       "channel_prev                                       uint16\n",
       "interval_prev                                      uint16\n",
       "click_time_next                            datetime64[ns]\n",
       "app_next                                           uint16\n",
       "channel_next                                       uint16\n",
       "interval_next                                      uint16\n",
       "dtype: object"
      ]
     },
     "execution_count": 12,
     "metadata": {},
     "output_type": "execute_result"
    }
   ],
   "source": [
    "print(merge.shape)\n",
    "merge.dtypes"
   ]
  },
  {
   "cell_type": "markdown",
   "metadata": {},
   "source": [
    "### preparation"
   ]
  },
  {
   "cell_type": "code",
   "execution_count": 13,
   "metadata": {},
   "outputs": [
    {
     "name": "stdout",
     "output_type": "stream",
     "text": [
      "CPU times: user 4 ms, sys: 48 ms, total: 52 ms\n",
      "Wall time: 50.2 ms\n"
     ]
    }
   ],
   "source": [
    "%%time\n",
    "channel_grp = merge.groupby('channel', as_index=False)"
   ]
  },
  {
   "cell_type": "code",
   "execution_count": 14,
   "metadata": {},
   "outputs": [
    {
     "data": {
      "text/plain": [
       "0"
      ]
     },
     "execution_count": 14,
     "metadata": {},
     "output_type": "execute_result"
    }
   ],
   "source": [
    "del merge\n",
    "gc.collect()"
   ]
  },
  {
   "cell_type": "markdown",
   "metadata": {},
   "source": [
    "### simple count"
   ]
  },
  {
   "cell_type": "code",
   "execution_count": 15,
   "metadata": {},
   "outputs": [
    {
     "name": "stdout",
     "output_type": "stream",
     "text": [
      "CPU times: user 1.93 s, sys: 1.05 s, total: 2.98 s\n",
      "Wall time: 2.98 s\n"
     ]
    }
   ],
   "source": [
    "%%time\n",
    "count_by_channel = (channel_grp.ip.count().rename(columns={'ip': 'count_by_channel'}))"
   ]
  },
  {
   "cell_type": "code",
   "execution_count": 24,
   "metadata": {},
   "outputs": [
    {
     "data": {
      "text/html": [
       "<div>\n",
       "<style scoped>\n",
       "    .dataframe tbody tr th:only-of-type {\n",
       "        vertical-align: middle;\n",
       "    }\n",
       "\n",
       "    .dataframe tbody tr th {\n",
       "        vertical-align: top;\n",
       "    }\n",
       "\n",
       "    .dataframe thead th {\n",
       "        text-align: right;\n",
       "    }\n",
       "</style>\n",
       "<table border=\"1\" class=\"dataframe\">\n",
       "  <thead>\n",
       "    <tr style=\"text-align: right;\">\n",
       "      <th></th>\n",
       "      <th>channel</th>\n",
       "      <th>count_by_channel</th>\n",
       "    </tr>\n",
       "  </thead>\n",
       "  <tbody>\n",
       "    <tr>\n",
       "      <th>0</th>\n",
       "      <td>0</td>\n",
       "      <td>1258</td>\n",
       "    </tr>\n",
       "    <tr>\n",
       "      <th>1</th>\n",
       "      <td>3</td>\n",
       "      <td>546455</td>\n",
       "    </tr>\n",
       "    <tr>\n",
       "      <th>2</th>\n",
       "      <td>4</td>\n",
       "      <td>735</td>\n",
       "    </tr>\n",
       "    <tr>\n",
       "      <th>3</th>\n",
       "      <td>5</td>\n",
       "      <td>9289</td>\n",
       "    </tr>\n",
       "    <tr>\n",
       "      <th>4</th>\n",
       "      <td>13</td>\n",
       "      <td>86058</td>\n",
       "    </tr>\n",
       "  </tbody>\n",
       "</table>\n",
       "</div>"
      ],
      "text/plain": [
       "   channel  count_by_channel\n",
       "0        0              1258\n",
       "1        3            546455\n",
       "2        4               735\n",
       "3        5              9289\n",
       "4       13             86058"
      ]
     },
     "execution_count": 24,
     "metadata": {},
     "output_type": "execute_result"
    }
   ],
   "source": [
    "count_by_channel.head()"
   ]
  },
  {
   "cell_type": "code",
   "execution_count": 23,
   "metadata": {},
   "outputs": [
    {
     "name": "stdout",
     "output_type": "stream",
     "text": [
      "CPU times: user 896 ms, sys: 496 ms, total: 1.39 s\n",
      "Wall time: 1.39 s\n"
     ]
    }
   ],
   "source": [
    "%%time\n",
    "attrib_by_channel = (channel_grp.is_attributed.sum().rename(columns={'is_attributed': 'attrib_by_channel'})).astype('uint32')"
   ]
  },
  {
   "cell_type": "code",
   "execution_count": 26,
   "metadata": {},
   "outputs": [
    {
     "data": {
      "text/html": [
       "<div>\n",
       "<style scoped>\n",
       "    .dataframe tbody tr th:only-of-type {\n",
       "        vertical-align: middle;\n",
       "    }\n",
       "\n",
       "    .dataframe tbody tr th {\n",
       "        vertical-align: top;\n",
       "    }\n",
       "\n",
       "    .dataframe thead th {\n",
       "        text-align: right;\n",
       "    }\n",
       "</style>\n",
       "<table border=\"1\" class=\"dataframe\">\n",
       "  <thead>\n",
       "    <tr style=\"text-align: right;\">\n",
       "      <th></th>\n",
       "      <th>channel</th>\n",
       "      <th>attrib_by_channel</th>\n",
       "    </tr>\n",
       "  </thead>\n",
       "  <tbody>\n",
       "    <tr>\n",
       "      <th>0</th>\n",
       "      <td>0</td>\n",
       "      <td>87</td>\n",
       "    </tr>\n",
       "    <tr>\n",
       "      <th>1</th>\n",
       "      <td>3</td>\n",
       "      <td>283</td>\n",
       "    </tr>\n",
       "    <tr>\n",
       "      <th>2</th>\n",
       "      <td>4</td>\n",
       "      <td>54</td>\n",
       "    </tr>\n",
       "    <tr>\n",
       "      <th>3</th>\n",
       "      <td>5</td>\n",
       "      <td>5735</td>\n",
       "    </tr>\n",
       "    <tr>\n",
       "      <th>4</th>\n",
       "      <td>13</td>\n",
       "      <td>6</td>\n",
       "    </tr>\n",
       "  </tbody>\n",
       "</table>\n",
       "</div>"
      ],
      "text/plain": [
       "   channel  attrib_by_channel\n",
       "0        0                 87\n",
       "1        3                283\n",
       "2        4                 54\n",
       "3        5               5735\n",
       "4       13                  6"
      ]
     },
     "execution_count": 26,
     "metadata": {},
     "output_type": "execute_result"
    }
   ],
   "source": [
    "attrib_by_channel.head()"
   ]
  },
  {
   "cell_type": "code",
   "execution_count": 29,
   "metadata": {},
   "outputs": [],
   "source": [
    "agg_by_channel = pd.concat([count_by_channel, \n",
    "                            attrib_by_channel['attrib_by_channel']], axis=1)"
   ]
  },
  {
   "cell_type": "code",
   "execution_count": 30,
   "metadata": {},
   "outputs": [],
   "source": [
    "agg_by_channel.to_feather('../data/agg_by_channel.feather')"
   ]
  },
  {
   "cell_type": "code",
   "execution_count": 31,
   "metadata": {},
   "outputs": [
    {
     "data": {
      "text/plain": [
       "7"
      ]
     },
     "execution_count": 31,
     "metadata": {},
     "output_type": "execute_result"
    }
   ],
   "source": [
    "del agg_by_channel\n",
    "gc.collect()"
   ]
  },
  {
   "cell_type": "code",
   "execution_count": 32,
   "metadata": {},
   "outputs": [
    {
     "name": "stdout",
     "output_type": "stream",
     "text": [
      "-rw-r--r-- 1 ubuntu ubuntu 4.3K May  4 15:41 ../data/agg_by_channel.feather\r\n",
      "-rw-r--r-- 1 ubuntu ubuntu 4.8G Apr 30 14:27 ../data/click_data.feather\r\n",
      "-rw-r--r-- 1 ubuntu ubuntu 3.2K May  4 11:58 ../data/count_by_channel.feather\r\n",
      "-rw-r--r-- 1 ubuntu ubuntu  18G May  4 07:40 ../data/merge.feather\r\n",
      "-rw-r--r-- 1 ubuntu ubuntu 7.8K May  4 11:58 ../data/uqcount_by_channel.feather\r\n"
     ]
    }
   ],
   "source": [
    "ls -lah ../data/*.feather"
   ]
  },
  {
   "cell_type": "markdown",
   "metadata": {},
   "source": [
    "### unique count"
   ]
  },
  {
   "cell_type": "code",
   "execution_count": 35,
   "metadata": {},
   "outputs": [
    {
     "name": "stdout",
     "output_type": "stream",
     "text": [
      "CPU times: user 2min 46s, sys: 5.46 s, total: 2min 51s\n",
      "Wall time: 2min 51s\n"
     ]
    }
   ],
   "source": [
    "%%time\n",
    "uqcount_by_channel = pd.concat([\n",
    "    channel_grp.app.nunique().to_frame('uqcount_app_by_channel')\n",
    "    , channel_grp.ip.nunique().to_frame('uqcount_ip_by_channel')\n",
    "    , channel_grp.device.nunique().to_frame('uqcount_device_by_channel')\n",
    "    , channel_grp.os.nunique().to_frame('uqcount_os_by_channel')\n",
    "    , channel_grp.ip_os_device_dow_hour.nunique().to_frame('uqcount_user_by_channel')\n",
    "], axis=1)"
   ]
  },
  {
   "cell_type": "code",
   "execution_count": 36,
   "metadata": {},
   "outputs": [
    {
     "data": {
      "text/html": [
       "<div>\n",
       "<style scoped>\n",
       "    .dataframe tbody tr th:only-of-type {\n",
       "        vertical-align: middle;\n",
       "    }\n",
       "\n",
       "    .dataframe tbody tr th {\n",
       "        vertical-align: top;\n",
       "    }\n",
       "\n",
       "    .dataframe thead th {\n",
       "        text-align: right;\n",
       "    }\n",
       "</style>\n",
       "<table border=\"1\" class=\"dataframe\">\n",
       "  <thead>\n",
       "    <tr style=\"text-align: right;\">\n",
       "      <th></th>\n",
       "      <th>uqcount_app_by_channel</th>\n",
       "      <th>uqcount_ip_by_channel</th>\n",
       "      <th>uqcount_device_by_channel</th>\n",
       "      <th>uqcount_os_by_channel</th>\n",
       "      <th>uqcount_user_by_channel</th>\n",
       "    </tr>\n",
       "  </thead>\n",
       "  <tbody>\n",
       "    <tr>\n",
       "      <th>0</th>\n",
       "      <td>25</td>\n",
       "      <td>705</td>\n",
       "      <td>13</td>\n",
       "      <td>49</td>\n",
       "      <td>776</td>\n",
       "    </tr>\n",
       "    <tr>\n",
       "      <th>1</th>\n",
       "      <td>13</td>\n",
       "      <td>10646</td>\n",
       "      <td>12</td>\n",
       "      <td>184</td>\n",
       "      <td>279071</td>\n",
       "    </tr>\n",
       "    <tr>\n",
       "      <th>2</th>\n",
       "      <td>6</td>\n",
       "      <td>496</td>\n",
       "      <td>6</td>\n",
       "      <td>42</td>\n",
       "      <td>587</td>\n",
       "    </tr>\n",
       "    <tr>\n",
       "      <th>3</th>\n",
       "      <td>2</td>\n",
       "      <td>6831</td>\n",
       "      <td>7</td>\n",
       "      <td>44</td>\n",
       "      <td>8403</td>\n",
       "    </tr>\n",
       "    <tr>\n",
       "      <th>4</th>\n",
       "      <td>2</td>\n",
       "      <td>8995</td>\n",
       "      <td>6</td>\n",
       "      <td>108</td>\n",
       "      <td>36210</td>\n",
       "    </tr>\n",
       "  </tbody>\n",
       "</table>\n",
       "</div>"
      ],
      "text/plain": [
       "   uqcount_app_by_channel  uqcount_ip_by_channel  uqcount_device_by_channel  \\\n",
       "0                      25                    705                         13   \n",
       "1                      13                  10646                         12   \n",
       "2                       6                    496                          6   \n",
       "3                       2                   6831                          7   \n",
       "4                       2                   8995                          6   \n",
       "\n",
       "   uqcount_os_by_channel  uqcount_user_by_channel  \n",
       "0                     49                      776  \n",
       "1                    184                   279071  \n",
       "2                     42                      587  \n",
       "3                     44                     8403  \n",
       "4                    108                    36210  "
      ]
     },
     "execution_count": 36,
     "metadata": {},
     "output_type": "execute_result"
    }
   ],
   "source": [
    "uqcount_by_channel.head()"
   ]
  },
  {
   "cell_type": "code",
   "execution_count": 37,
   "metadata": {},
   "outputs": [],
   "source": [
    "uqcount_by_channel.to_feather('../data/uqcount_by_channel.feather')"
   ]
  },
  {
   "cell_type": "code",
   "execution_count": 38,
   "metadata": {},
   "outputs": [
    {
     "data": {
      "text/plain": [
       "69"
      ]
     },
     "execution_count": 38,
     "metadata": {},
     "output_type": "execute_result"
    }
   ],
   "source": [
    "del uqcount_by_channel\n",
    "gc.collect()"
   ]
  },
  {
   "cell_type": "code",
   "execution_count": 1,
   "metadata": {},
   "outputs": [
    {
     "name": "stdout",
     "output_type": "stream",
     "text": [
      "-rw-r--r-- 1 ubuntu ubuntu 4.3K May  4 15:41 ../data/agg_by_channel.feather\r\n",
      "-rw-r--r-- 1 ubuntu ubuntu 4.8G Apr 30 14:27 ../data/click_data.feather\r\n",
      "-rw-r--r-- 1 ubuntu ubuntu 1.1M May  4 15:45 ../data/count_mat_channel_app.feather\r\n",
      "-rw-r--r-- 1 ubuntu ubuntu  18G May  4 07:40 ../data/merge.feather\r\n",
      "-rw-r--r-- 1 ubuntu ubuntu 8.4K May  4 15:44 ../data/uqcount_by_channel.feather\r\n"
     ]
    }
   ],
   "source": [
    "ls -lah ../data/*.feather"
   ]
  },
  {
   "cell_type": "markdown",
   "metadata": {},
   "source": [
    "### cross tabulation(app)"
   ]
  },
  {
   "cell_type": "code",
   "execution_count": 3,
   "metadata": {},
   "outputs": [
    {
     "name": "stdout",
     "output_type": "stream",
     "text": [
      "CPU times: user 0 ns, sys: 0 ns, total: 0 ns\n",
      "Wall time: 5.96 µs\n"
     ]
    }
   ],
   "source": [
    "%time\n",
    "merge = pd.read_feather(\"../data/merge.feather\", nthreads=8)"
   ]
  },
  {
   "cell_type": "code",
   "execution_count": 4,
   "metadata": {},
   "outputs": [
    {
     "data": {
      "text/plain": [
       "0"
      ]
     },
     "execution_count": 4,
     "metadata": {},
     "output_type": "execute_result"
    }
   ],
   "source": [
    "merge = merge[['channel', 'app', 'ip_os_device_dow_hour']][merge.is_test == False]\n",
    "merge['counter'] = 1\n",
    "gc.collect()"
   ]
  },
  {
   "cell_type": "code",
   "execution_count": 5,
   "metadata": {},
   "outputs": [
    {
     "name": "stdout",
     "output_type": "stream",
     "text": [
      "(126923238, 4)\n"
     ]
    },
    {
     "data": {
      "text/html": [
       "<div>\n",
       "<style scoped>\n",
       "    .dataframe tbody tr th:only-of-type {\n",
       "        vertical-align: middle;\n",
       "    }\n",
       "\n",
       "    .dataframe tbody tr th {\n",
       "        vertical-align: top;\n",
       "    }\n",
       "\n",
       "    .dataframe thead th {\n",
       "        text-align: right;\n",
       "    }\n",
       "</style>\n",
       "<table border=\"1\" class=\"dataframe\">\n",
       "  <thead>\n",
       "    <tr style=\"text-align: right;\">\n",
       "      <th></th>\n",
       "      <th>channel</th>\n",
       "      <th>app</th>\n",
       "      <th>ip_os_device_dow_hour</th>\n",
       "      <th>counter</th>\n",
       "    </tr>\n",
       "  </thead>\n",
       "  <tbody>\n",
       "    <tr>\n",
       "      <th>0</th>\n",
       "      <td>153</td>\n",
       "      <td>23</td>\n",
       "      <td>765080350001103</td>\n",
       "      <td>1</td>\n",
       "    </tr>\n",
       "    <tr>\n",
       "      <th>1</th>\n",
       "      <td>134</td>\n",
       "      <td>18</td>\n",
       "      <td>765080350001103</td>\n",
       "      <td>1</td>\n",
       "    </tr>\n",
       "    <tr>\n",
       "      <th>2</th>\n",
       "      <td>315</td>\n",
       "      <td>15</td>\n",
       "      <td>765080350001103</td>\n",
       "      <td>1</td>\n",
       "    </tr>\n",
       "    <tr>\n",
       "      <th>3</th>\n",
       "      <td>469</td>\n",
       "      <td>11</td>\n",
       "      <td>765080350001103</td>\n",
       "      <td>1</td>\n",
       "    </tr>\n",
       "    <tr>\n",
       "      <th>4</th>\n",
       "      <td>379</td>\n",
       "      <td>3</td>\n",
       "      <td>765080350001103</td>\n",
       "      <td>1</td>\n",
       "    </tr>\n",
       "  </tbody>\n",
       "</table>\n",
       "</div>"
      ],
      "text/plain": [
       "   channel  app  ip_os_device_dow_hour  counter\n",
       "0      153   23        765080350001103        1\n",
       "1      134   18        765080350001103        1\n",
       "2      315   15        765080350001103        1\n",
       "3      469   11        765080350001103        1\n",
       "4      379    3        765080350001103        1"
      ]
     },
     "execution_count": 5,
     "metadata": {},
     "output_type": "execute_result"
    }
   ],
   "source": [
    "print(merge.shape)\n",
    "merge.head()"
   ]
  },
  {
   "cell_type": "code",
   "execution_count": 6,
   "metadata": {},
   "outputs": [],
   "source": [
    "merge.drop_duplicates(inplace = True)"
   ]
  },
  {
   "cell_type": "code",
   "execution_count": 7,
   "metadata": {},
   "outputs": [
    {
     "name": "stdout",
     "output_type": "stream",
     "text": [
      "(83747805, 4)\n"
     ]
    },
    {
     "data": {
      "text/html": [
       "<div>\n",
       "<style scoped>\n",
       "    .dataframe tbody tr th:only-of-type {\n",
       "        vertical-align: middle;\n",
       "    }\n",
       "\n",
       "    .dataframe tbody tr th {\n",
       "        vertical-align: top;\n",
       "    }\n",
       "\n",
       "    .dataframe thead th {\n",
       "        text-align: right;\n",
       "    }\n",
       "</style>\n",
       "<table border=\"1\" class=\"dataframe\">\n",
       "  <thead>\n",
       "    <tr style=\"text-align: right;\">\n",
       "      <th></th>\n",
       "      <th>channel</th>\n",
       "      <th>app</th>\n",
       "      <th>ip_os_device_dow_hour</th>\n",
       "      <th>counter</th>\n",
       "    </tr>\n",
       "  </thead>\n",
       "  <tbody>\n",
       "    <tr>\n",
       "      <th>0</th>\n",
       "      <td>153</td>\n",
       "      <td>23</td>\n",
       "      <td>765080350001103</td>\n",
       "      <td>1</td>\n",
       "    </tr>\n",
       "    <tr>\n",
       "      <th>1</th>\n",
       "      <td>134</td>\n",
       "      <td>18</td>\n",
       "      <td>765080350001103</td>\n",
       "      <td>1</td>\n",
       "    </tr>\n",
       "    <tr>\n",
       "      <th>2</th>\n",
       "      <td>315</td>\n",
       "      <td>15</td>\n",
       "      <td>765080350001103</td>\n",
       "      <td>1</td>\n",
       "    </tr>\n",
       "    <tr>\n",
       "      <th>3</th>\n",
       "      <td>469</td>\n",
       "      <td>11</td>\n",
       "      <td>765080350001103</td>\n",
       "      <td>1</td>\n",
       "    </tr>\n",
       "    <tr>\n",
       "      <th>4</th>\n",
       "      <td>379</td>\n",
       "      <td>3</td>\n",
       "      <td>765080350001103</td>\n",
       "      <td>1</td>\n",
       "    </tr>\n",
       "  </tbody>\n",
       "</table>\n",
       "</div>"
      ],
      "text/plain": [
       "   channel  app  ip_os_device_dow_hour  counter\n",
       "0      153   23        765080350001103        1\n",
       "1      134   18        765080350001103        1\n",
       "2      315   15        765080350001103        1\n",
       "3      469   11        765080350001103        1\n",
       "4      379    3        765080350001103        1"
      ]
     },
     "execution_count": 7,
     "metadata": {},
     "output_type": "execute_result"
    }
   ],
   "source": [
    "print(merge.shape)\n",
    "merge.head()"
   ]
  },
  {
   "cell_type": "code",
   "execution_count": 8,
   "metadata": {},
   "outputs": [
    {
     "name": "stdout",
     "output_type": "stream",
     "text": [
      "CPU times: user 3.78 s, sys: 2.33 s, total: 6.12 s\n",
      "Wall time: 6.11 s\n"
     ]
    }
   ],
   "source": [
    "%%time\n",
    "count_user_by_channel_app = merge.pivot_table(values  = 'counter',\n",
    "                                              index   = 'channel',\n",
    "                                              columns = 'app', \n",
    "                                              aggfunc = sum,\n",
    "                                              fill_value = 0)"
   ]
  },
  {
   "cell_type": "code",
   "execution_count": 9,
   "metadata": {},
   "outputs": [],
   "source": [
    "applabel = ['app_{0:03d}'.format(i) for i in list(set(merge.app))]\n",
    "count_user_by_channel_app.columns = applabel\n",
    "count_user_by_channel_app.reset_index(inplace=True)"
   ]
  },
  {
   "cell_type": "code",
   "execution_count": 10,
   "metadata": {},
   "outputs": [
    {
     "data": {
      "text/html": [
       "<div>\n",
       "<style scoped>\n",
       "    .dataframe tbody tr th:only-of-type {\n",
       "        vertical-align: middle;\n",
       "    }\n",
       "\n",
       "    .dataframe tbody tr th {\n",
       "        vertical-align: top;\n",
       "    }\n",
       "\n",
       "    .dataframe thead th {\n",
       "        text-align: right;\n",
       "    }\n",
       "</style>\n",
       "<table border=\"1\" class=\"dataframe\">\n",
       "  <thead>\n",
       "    <tr style=\"text-align: right;\">\n",
       "      <th></th>\n",
       "      <th>channel</th>\n",
       "      <th>app_000</th>\n",
       "      <th>app_001</th>\n",
       "      <th>app_002</th>\n",
       "      <th>app_003</th>\n",
       "      <th>app_004</th>\n",
       "      <th>app_005</th>\n",
       "      <th>app_006</th>\n",
       "      <th>app_007</th>\n",
       "      <th>app_008</th>\n",
       "      <th>...</th>\n",
       "      <th>app_758</th>\n",
       "      <th>app_759</th>\n",
       "      <th>app_760</th>\n",
       "      <th>app_761</th>\n",
       "      <th>app_763</th>\n",
       "      <th>app_764</th>\n",
       "      <th>app_765</th>\n",
       "      <th>app_766</th>\n",
       "      <th>app_767</th>\n",
       "      <th>app_768</th>\n",
       "    </tr>\n",
       "  </thead>\n",
       "  <tbody>\n",
       "    <tr>\n",
       "      <th>0</th>\n",
       "      <td>0</td>\n",
       "      <td>0</td>\n",
       "      <td>0</td>\n",
       "      <td>0</td>\n",
       "      <td>0</td>\n",
       "      <td>0</td>\n",
       "      <td>0</td>\n",
       "      <td>0</td>\n",
       "      <td>0</td>\n",
       "      <td>0</td>\n",
       "      <td>...</td>\n",
       "      <td>0</td>\n",
       "      <td>0</td>\n",
       "      <td>0</td>\n",
       "      <td>0</td>\n",
       "      <td>0</td>\n",
       "      <td>0</td>\n",
       "      <td>0</td>\n",
       "      <td>0</td>\n",
       "      <td>0</td>\n",
       "      <td>0</td>\n",
       "    </tr>\n",
       "    <tr>\n",
       "      <th>1</th>\n",
       "      <td>3</td>\n",
       "      <td>0</td>\n",
       "      <td>4</td>\n",
       "      <td>0</td>\n",
       "      <td>0</td>\n",
       "      <td>0</td>\n",
       "      <td>0</td>\n",
       "      <td>0</td>\n",
       "      <td>0</td>\n",
       "      <td>0</td>\n",
       "      <td>...</td>\n",
       "      <td>0</td>\n",
       "      <td>0</td>\n",
       "      <td>0</td>\n",
       "      <td>0</td>\n",
       "      <td>0</td>\n",
       "      <td>0</td>\n",
       "      <td>0</td>\n",
       "      <td>0</td>\n",
       "      <td>0</td>\n",
       "      <td>0</td>\n",
       "    </tr>\n",
       "    <tr>\n",
       "      <th>2</th>\n",
       "      <td>4</td>\n",
       "      <td>0</td>\n",
       "      <td>0</td>\n",
       "      <td>0</td>\n",
       "      <td>0</td>\n",
       "      <td>0</td>\n",
       "      <td>0</td>\n",
       "      <td>0</td>\n",
       "      <td>0</td>\n",
       "      <td>0</td>\n",
       "      <td>...</td>\n",
       "      <td>0</td>\n",
       "      <td>0</td>\n",
       "      <td>0</td>\n",
       "      <td>0</td>\n",
       "      <td>0</td>\n",
       "      <td>0</td>\n",
       "      <td>0</td>\n",
       "      <td>0</td>\n",
       "      <td>0</td>\n",
       "      <td>0</td>\n",
       "    </tr>\n",
       "    <tr>\n",
       "      <th>3</th>\n",
       "      <td>5</td>\n",
       "      <td>0</td>\n",
       "      <td>0</td>\n",
       "      <td>0</td>\n",
       "      <td>0</td>\n",
       "      <td>0</td>\n",
       "      <td>0</td>\n",
       "      <td>0</td>\n",
       "      <td>0</td>\n",
       "      <td>0</td>\n",
       "      <td>...</td>\n",
       "      <td>0</td>\n",
       "      <td>0</td>\n",
       "      <td>0</td>\n",
       "      <td>0</td>\n",
       "      <td>0</td>\n",
       "      <td>0</td>\n",
       "      <td>1</td>\n",
       "      <td>0</td>\n",
       "      <td>0</td>\n",
       "      <td>0</td>\n",
       "    </tr>\n",
       "    <tr>\n",
       "      <th>4</th>\n",
       "      <td>13</td>\n",
       "      <td>0</td>\n",
       "      <td>36209</td>\n",
       "      <td>0</td>\n",
       "      <td>0</td>\n",
       "      <td>0</td>\n",
       "      <td>0</td>\n",
       "      <td>0</td>\n",
       "      <td>0</td>\n",
       "      <td>0</td>\n",
       "      <td>...</td>\n",
       "      <td>0</td>\n",
       "      <td>0</td>\n",
       "      <td>0</td>\n",
       "      <td>0</td>\n",
       "      <td>0</td>\n",
       "      <td>0</td>\n",
       "      <td>0</td>\n",
       "      <td>0</td>\n",
       "      <td>0</td>\n",
       "      <td>0</td>\n",
       "    </tr>\n",
       "  </tbody>\n",
       "</table>\n",
       "<p>5 rows × 675 columns</p>\n",
       "</div>"
      ],
      "text/plain": [
       "   channel  app_000  app_001  app_002  app_003  app_004  app_005  app_006  \\\n",
       "0        0        0        0        0        0        0        0        0   \n",
       "1        3        0        4        0        0        0        0        0   \n",
       "2        4        0        0        0        0        0        0        0   \n",
       "3        5        0        0        0        0        0        0        0   \n",
       "4       13        0    36209        0        0        0        0        0   \n",
       "\n",
       "   app_007  app_008   ...     app_758  app_759  app_760  app_761  app_763  \\\n",
       "0        0        0   ...           0        0        0        0        0   \n",
       "1        0        0   ...           0        0        0        0        0   \n",
       "2        0        0   ...           0        0        0        0        0   \n",
       "3        0        0   ...           0        0        0        0        0   \n",
       "4        0        0   ...           0        0        0        0        0   \n",
       "\n",
       "   app_764  app_765  app_766  app_767  app_768  \n",
       "0        0        0        0        0        0  \n",
       "1        0        0        0        0        0  \n",
       "2        0        0        0        0        0  \n",
       "3        0        1        0        0        0  \n",
       "4        0        0        0        0        0  \n",
       "\n",
       "[5 rows x 675 columns]"
      ]
     },
     "execution_count": 10,
     "metadata": {},
     "output_type": "execute_result"
    }
   ],
   "source": [
    "count_user_by_channel_app.head()"
   ]
  },
  {
   "cell_type": "code",
   "execution_count": 11,
   "metadata": {},
   "outputs": [
    {
     "data": {
      "text/html": [
       "<div>\n",
       "<style scoped>\n",
       "    .dataframe tbody tr th:only-of-type {\n",
       "        vertical-align: middle;\n",
       "    }\n",
       "\n",
       "    .dataframe tbody tr th {\n",
       "        vertical-align: top;\n",
       "    }\n",
       "\n",
       "    .dataframe thead th {\n",
       "        text-align: right;\n",
       "    }\n",
       "</style>\n",
       "<table border=\"1\" class=\"dataframe\">\n",
       "  <thead>\n",
       "    <tr style=\"text-align: right;\">\n",
       "      <th></th>\n",
       "      <th>channel</th>\n",
       "      <th>app_000</th>\n",
       "      <th>app_001</th>\n",
       "      <th>app_002</th>\n",
       "      <th>app_003</th>\n",
       "      <th>app_004</th>\n",
       "      <th>app_005</th>\n",
       "      <th>app_006</th>\n",
       "      <th>app_007</th>\n",
       "      <th>app_008</th>\n",
       "      <th>...</th>\n",
       "      <th>app_758</th>\n",
       "      <th>app_759</th>\n",
       "      <th>app_760</th>\n",
       "      <th>app_761</th>\n",
       "      <th>app_763</th>\n",
       "      <th>app_764</th>\n",
       "      <th>app_765</th>\n",
       "      <th>app_766</th>\n",
       "      <th>app_767</th>\n",
       "      <th>app_768</th>\n",
       "    </tr>\n",
       "  </thead>\n",
       "  <tbody>\n",
       "    <tr>\n",
       "      <th>194</th>\n",
       "      <td>490</td>\n",
       "      <td>0</td>\n",
       "      <td>0</td>\n",
       "      <td>0</td>\n",
       "      <td>0</td>\n",
       "      <td>0</td>\n",
       "      <td>0</td>\n",
       "      <td>0</td>\n",
       "      <td>0</td>\n",
       "      <td>0</td>\n",
       "      <td>...</td>\n",
       "      <td>0</td>\n",
       "      <td>0</td>\n",
       "      <td>0</td>\n",
       "      <td>0</td>\n",
       "      <td>0</td>\n",
       "      <td>0</td>\n",
       "      <td>0</td>\n",
       "      <td>0</td>\n",
       "      <td>0</td>\n",
       "      <td>0</td>\n",
       "    </tr>\n",
       "    <tr>\n",
       "      <th>195</th>\n",
       "      <td>496</td>\n",
       "      <td>0</td>\n",
       "      <td>0</td>\n",
       "      <td>0</td>\n",
       "      <td>0</td>\n",
       "      <td>0</td>\n",
       "      <td>0</td>\n",
       "      <td>0</td>\n",
       "      <td>0</td>\n",
       "      <td>0</td>\n",
       "      <td>...</td>\n",
       "      <td>0</td>\n",
       "      <td>0</td>\n",
       "      <td>0</td>\n",
       "      <td>0</td>\n",
       "      <td>0</td>\n",
       "      <td>0</td>\n",
       "      <td>0</td>\n",
       "      <td>0</td>\n",
       "      <td>0</td>\n",
       "      <td>0</td>\n",
       "    </tr>\n",
       "    <tr>\n",
       "      <th>196</th>\n",
       "      <td>497</td>\n",
       "      <td>0</td>\n",
       "      <td>1</td>\n",
       "      <td>0</td>\n",
       "      <td>0</td>\n",
       "      <td>0</td>\n",
       "      <td>0</td>\n",
       "      <td>0</td>\n",
       "      <td>0</td>\n",
       "      <td>0</td>\n",
       "      <td>...</td>\n",
       "      <td>0</td>\n",
       "      <td>0</td>\n",
       "      <td>0</td>\n",
       "      <td>0</td>\n",
       "      <td>0</td>\n",
       "      <td>0</td>\n",
       "      <td>0</td>\n",
       "      <td>0</td>\n",
       "      <td>0</td>\n",
       "      <td>0</td>\n",
       "    </tr>\n",
       "    <tr>\n",
       "      <th>197</th>\n",
       "      <td>498</td>\n",
       "      <td>0</td>\n",
       "      <td>0</td>\n",
       "      <td>0</td>\n",
       "      <td>0</td>\n",
       "      <td>0</td>\n",
       "      <td>0</td>\n",
       "      <td>0</td>\n",
       "      <td>0</td>\n",
       "      <td>0</td>\n",
       "      <td>...</td>\n",
       "      <td>0</td>\n",
       "      <td>0</td>\n",
       "      <td>0</td>\n",
       "      <td>0</td>\n",
       "      <td>0</td>\n",
       "      <td>0</td>\n",
       "      <td>0</td>\n",
       "      <td>0</td>\n",
       "      <td>0</td>\n",
       "      <td>0</td>\n",
       "    </tr>\n",
       "    <tr>\n",
       "      <th>198</th>\n",
       "      <td>500</td>\n",
       "      <td>0</td>\n",
       "      <td>0</td>\n",
       "      <td>0</td>\n",
       "      <td>0</td>\n",
       "      <td>0</td>\n",
       "      <td>0</td>\n",
       "      <td>0</td>\n",
       "      <td>0</td>\n",
       "      <td>0</td>\n",
       "      <td>...</td>\n",
       "      <td>0</td>\n",
       "      <td>0</td>\n",
       "      <td>0</td>\n",
       "      <td>0</td>\n",
       "      <td>0</td>\n",
       "      <td>0</td>\n",
       "      <td>0</td>\n",
       "      <td>0</td>\n",
       "      <td>0</td>\n",
       "      <td>0</td>\n",
       "    </tr>\n",
       "  </tbody>\n",
       "</table>\n",
       "<p>5 rows × 675 columns</p>\n",
       "</div>"
      ],
      "text/plain": [
       "     channel  app_000  app_001  app_002  app_003  app_004  app_005  app_006  \\\n",
       "194      490        0        0        0        0        0        0        0   \n",
       "195      496        0        0        0        0        0        0        0   \n",
       "196      497        0        1        0        0        0        0        0   \n",
       "197      498        0        0        0        0        0        0        0   \n",
       "198      500        0        0        0        0        0        0        0   \n",
       "\n",
       "     app_007  app_008   ...     app_758  app_759  app_760  app_761  app_763  \\\n",
       "194        0        0   ...           0        0        0        0        0   \n",
       "195        0        0   ...           0        0        0        0        0   \n",
       "196        0        0   ...           0        0        0        0        0   \n",
       "197        0        0   ...           0        0        0        0        0   \n",
       "198        0        0   ...           0        0        0        0        0   \n",
       "\n",
       "     app_764  app_765  app_766  app_767  app_768  \n",
       "194        0        0        0        0        0  \n",
       "195        0        0        0        0        0  \n",
       "196        0        0        0        0        0  \n",
       "197        0        0        0        0        0  \n",
       "198        0        0        0        0        0  \n",
       "\n",
       "[5 rows x 675 columns]"
      ]
     },
     "execution_count": 11,
     "metadata": {},
     "output_type": "execute_result"
    }
   ],
   "source": [
    "count_user_by_channel_app.tail()"
   ]
  },
  {
   "cell_type": "code",
   "execution_count": 12,
   "metadata": {},
   "outputs": [],
   "source": [
    "count_user_by_channel_app.to_feather('../data/count_user_by_channel_app.feather')"
   ]
  },
  {
   "cell_type": "code",
   "execution_count": 13,
   "metadata": {},
   "outputs": [
    {
     "data": {
      "text/plain": [
       "6090"
      ]
     },
     "execution_count": 13,
     "metadata": {},
     "output_type": "execute_result"
    }
   ],
   "source": [
    "del count_user_by_channel_app\n",
    "gc.collect()"
   ]
  },
  {
   "cell_type": "code",
   "execution_count": 14,
   "metadata": {},
   "outputs": [
    {
     "name": "stdout",
     "output_type": "stream",
     "text": [
      "-rw-r--r-- 1 ubuntu ubuntu 4.3K May  4 15:41 ../data/agg_by_channel.feather\r\n",
      "-rw-r--r-- 1 ubuntu ubuntu 4.8G Apr 30 14:27 ../data/click_data.feather\r\n",
      "-rw-r--r-- 1 ubuntu ubuntu 1.1M May  4 16:12 ../data/count_user_by_channel_app.feather\r\n",
      "-rw-r--r-- 1 ubuntu ubuntu  18G May  4 07:40 ../data/merge.feather\r\n",
      "-rw-r--r-- 1 ubuntu ubuntu 8.4K May  4 15:44 ../data/uqcount_by_channel.feather\r\n"
     ]
    }
   ],
   "source": [
    "ls -lah ../data/*.feather"
   ]
  },
  {
   "cell_type": "markdown",
   "metadata": {},
   "source": [
    "### cross tabulation (channels clicked by the same user)"
   ]
  },
  {
   "cell_type": "code",
   "execution_count": 8,
   "metadata": {},
   "outputs": [],
   "source": [
    "merge.drop(['app'], axis=1,  inplace=True)\n",
    "merge.drop_duplicates(inplace=True)"
   ]
  },
  {
   "cell_type": "code",
   "execution_count": 9,
   "metadata": {},
   "outputs": [
    {
     "name": "stdout",
     "output_type": "stream",
     "text": [
      "(75266415, 3)\n"
     ]
    },
    {
     "data": {
      "text/html": [
       "<div>\n",
       "<style scoped>\n",
       "    .dataframe tbody tr th:only-of-type {\n",
       "        vertical-align: middle;\n",
       "    }\n",
       "\n",
       "    .dataframe tbody tr th {\n",
       "        vertical-align: top;\n",
       "    }\n",
       "\n",
       "    .dataframe thead th {\n",
       "        text-align: right;\n",
       "    }\n",
       "</style>\n",
       "<table border=\"1\" class=\"dataframe\">\n",
       "  <thead>\n",
       "    <tr style=\"text-align: right;\">\n",
       "      <th></th>\n",
       "      <th>channel</th>\n",
       "      <th>ip_os_device_dow_hour</th>\n",
       "      <th>counter</th>\n",
       "    </tr>\n",
       "  </thead>\n",
       "  <tbody>\n",
       "    <tr>\n",
       "      <th>0</th>\n",
       "      <td>153</td>\n",
       "      <td>765080350001103</td>\n",
       "      <td>1</td>\n",
       "    </tr>\n",
       "    <tr>\n",
       "      <th>1</th>\n",
       "      <td>134</td>\n",
       "      <td>765080350001103</td>\n",
       "      <td>1</td>\n",
       "    </tr>\n",
       "    <tr>\n",
       "      <th>2</th>\n",
       "      <td>315</td>\n",
       "      <td>765080350001103</td>\n",
       "      <td>1</td>\n",
       "    </tr>\n",
       "    <tr>\n",
       "      <th>3</th>\n",
       "      <td>469</td>\n",
       "      <td>765080350001103</td>\n",
       "      <td>1</td>\n",
       "    </tr>\n",
       "    <tr>\n",
       "      <th>4</th>\n",
       "      <td>379</td>\n",
       "      <td>765080350001103</td>\n",
       "      <td>1</td>\n",
       "    </tr>\n",
       "  </tbody>\n",
       "</table>\n",
       "</div>"
      ],
      "text/plain": [
       "   channel  ip_os_device_dow_hour  counter\n",
       "0      153        765080350001103        1\n",
       "1      134        765080350001103        1\n",
       "2      315        765080350001103        1\n",
       "3      469        765080350001103        1\n",
       "4      379        765080350001103        1"
      ]
     },
     "execution_count": 9,
     "metadata": {},
     "output_type": "execute_result"
    }
   ],
   "source": [
    "print(merge.shape)\n",
    "merge.head()"
   ]
  },
  {
   "cell_type": "code",
   "execution_count": 10,
   "metadata": {},
   "outputs": [],
   "source": [
    "merge['counter'] = merge['counter'].astype('bool')"
   ]
  },
  {
   "cell_type": "code",
   "execution_count": 12,
   "metadata": {},
   "outputs": [],
   "source": [
    "d = merge.pivot('ip_os_device_dow_hour', 'channel')"
   ]
  },
  {
   "cell_type": "code",
   "execution_count": 17,
   "metadata": {},
   "outputs": [],
   "source": [
    "d = d.fillna(False)"
   ]
  },
  {
   "cell_type": "code",
   "execution_count": 18,
   "metadata": {},
   "outputs": [
    {
     "data": {
      "text/html": [
       "<div>\n",
       "<style scoped>\n",
       "    .dataframe tbody tr th:only-of-type {\n",
       "        vertical-align: middle;\n",
       "    }\n",
       "\n",
       "    .dataframe tbody tr th {\n",
       "        vertical-align: top;\n",
       "    }\n",
       "\n",
       "    .dataframe thead tr th {\n",
       "        text-align: left;\n",
       "    }\n",
       "\n",
       "    .dataframe thead tr:last-of-type th {\n",
       "        text-align: right;\n",
       "    }\n",
       "</style>\n",
       "<table border=\"1\" class=\"dataframe\">\n",
       "  <thead>\n",
       "    <tr>\n",
       "      <th></th>\n",
       "      <th colspan=\"21\" halign=\"left\">counter</th>\n",
       "    </tr>\n",
       "    <tr>\n",
       "      <th>channel</th>\n",
       "      <th>0</th>\n",
       "      <th>3</th>\n",
       "      <th>4</th>\n",
       "      <th>5</th>\n",
       "      <th>13</th>\n",
       "      <th>14</th>\n",
       "      <th>15</th>\n",
       "      <th>17</th>\n",
       "      <th>18</th>\n",
       "      <th>19</th>\n",
       "      <th>...</th>\n",
       "      <th>484</th>\n",
       "      <th>486</th>\n",
       "      <th>487</th>\n",
       "      <th>488</th>\n",
       "      <th>489</th>\n",
       "      <th>490</th>\n",
       "      <th>496</th>\n",
       "      <th>497</th>\n",
       "      <th>498</th>\n",
       "      <th>500</th>\n",
       "    </tr>\n",
       "    <tr>\n",
       "      <th>ip_os_device_dow_hour</th>\n",
       "      <th></th>\n",
       "      <th></th>\n",
       "      <th></th>\n",
       "      <th></th>\n",
       "      <th></th>\n",
       "      <th></th>\n",
       "      <th></th>\n",
       "      <th></th>\n",
       "      <th></th>\n",
       "      <th></th>\n",
       "      <th></th>\n",
       "      <th></th>\n",
       "      <th></th>\n",
       "      <th></th>\n",
       "      <th></th>\n",
       "      <th></th>\n",
       "      <th></th>\n",
       "      <th></th>\n",
       "      <th></th>\n",
       "      <th></th>\n",
       "      <th></th>\n",
       "    </tr>\n",
       "  </thead>\n",
       "  <tbody>\n",
       "    <tr>\n",
       "      <th>10020001303</th>\n",
       "      <td>False</td>\n",
       "      <td>False</td>\n",
       "      <td>False</td>\n",
       "      <td>False</td>\n",
       "      <td>False</td>\n",
       "      <td>False</td>\n",
       "      <td>False</td>\n",
       "      <td>False</td>\n",
       "      <td>False</td>\n",
       "      <td>False</td>\n",
       "      <td>...</td>\n",
       "      <td>False</td>\n",
       "      <td>False</td>\n",
       "      <td>False</td>\n",
       "      <td>False</td>\n",
       "      <td>False</td>\n",
       "      <td>False</td>\n",
       "      <td>False</td>\n",
       "      <td>False</td>\n",
       "      <td>False</td>\n",
       "      <td>False</td>\n",
       "    </tr>\n",
       "    <tr>\n",
       "      <th>10020001314</th>\n",
       "      <td>False</td>\n",
       "      <td>False</td>\n",
       "      <td>False</td>\n",
       "      <td>False</td>\n",
       "      <td>False</td>\n",
       "      <td>False</td>\n",
       "      <td>False</td>\n",
       "      <td>False</td>\n",
       "      <td>False</td>\n",
       "      <td>False</td>\n",
       "      <td>...</td>\n",
       "      <td>False</td>\n",
       "      <td>False</td>\n",
       "      <td>False</td>\n",
       "      <td>False</td>\n",
       "      <td>False</td>\n",
       "      <td>False</td>\n",
       "      <td>False</td>\n",
       "      <td>False</td>\n",
       "      <td>False</td>\n",
       "      <td>False</td>\n",
       "    </tr>\n",
       "    <tr>\n",
       "      <th>10040001312</th>\n",
       "      <td>False</td>\n",
       "      <td>False</td>\n",
       "      <td>False</td>\n",
       "      <td>False</td>\n",
       "      <td>False</td>\n",
       "      <td>False</td>\n",
       "      <td>False</td>\n",
       "      <td>False</td>\n",
       "      <td>False</td>\n",
       "      <td>False</td>\n",
       "      <td>...</td>\n",
       "      <td>False</td>\n",
       "      <td>False</td>\n",
       "      <td>False</td>\n",
       "      <td>False</td>\n",
       "      <td>False</td>\n",
       "      <td>False</td>\n",
       "      <td>False</td>\n",
       "      <td>False</td>\n",
       "      <td>False</td>\n",
       "      <td>False</td>\n",
       "    </tr>\n",
       "    <tr>\n",
       "      <th>10040001314</th>\n",
       "      <td>False</td>\n",
       "      <td>False</td>\n",
       "      <td>False</td>\n",
       "      <td>False</td>\n",
       "      <td>False</td>\n",
       "      <td>False</td>\n",
       "      <td>False</td>\n",
       "      <td>False</td>\n",
       "      <td>False</td>\n",
       "      <td>False</td>\n",
       "      <td>...</td>\n",
       "      <td>False</td>\n",
       "      <td>False</td>\n",
       "      <td>False</td>\n",
       "      <td>False</td>\n",
       "      <td>False</td>\n",
       "      <td>False</td>\n",
       "      <td>False</td>\n",
       "      <td>False</td>\n",
       "      <td>False</td>\n",
       "      <td>False</td>\n",
       "    </tr>\n",
       "    <tr>\n",
       "      <th>10090001303</th>\n",
       "      <td>False</td>\n",
       "      <td>False</td>\n",
       "      <td>False</td>\n",
       "      <td>False</td>\n",
       "      <td>False</td>\n",
       "      <td>False</td>\n",
       "      <td>False</td>\n",
       "      <td>False</td>\n",
       "      <td>False</td>\n",
       "      <td>False</td>\n",
       "      <td>...</td>\n",
       "      <td>False</td>\n",
       "      <td>False</td>\n",
       "      <td>False</td>\n",
       "      <td>False</td>\n",
       "      <td>False</td>\n",
       "      <td>False</td>\n",
       "      <td>False</td>\n",
       "      <td>False</td>\n",
       "      <td>False</td>\n",
       "      <td>False</td>\n",
       "    </tr>\n",
       "  </tbody>\n",
       "</table>\n",
       "<p>5 rows × 199 columns</p>\n",
       "</div>"
      ],
      "text/plain": [
       "                      counter                                            \\\n",
       "channel                   0      3      4      5      13     14     15    \n",
       "ip_os_device_dow_hour                                                     \n",
       "10020001303             False  False  False  False  False  False  False   \n",
       "10020001314             False  False  False  False  False  False  False   \n",
       "10040001312             False  False  False  False  False  False  False   \n",
       "10040001314             False  False  False  False  False  False  False   \n",
       "10090001303             False  False  False  False  False  False  False   \n",
       "\n",
       "                                            ...                                \\\n",
       "channel                  17     18     19   ...      484    486    487    488   \n",
       "ip_os_device_dow_hour                       ...                                 \n",
       "10020001303            False  False  False  ...    False  False  False  False   \n",
       "10020001314            False  False  False  ...    False  False  False  False   \n",
       "10040001312            False  False  False  ...    False  False  False  False   \n",
       "10040001314            False  False  False  ...    False  False  False  False   \n",
       "10090001303            False  False  False  ...    False  False  False  False   \n",
       "\n",
       "                                                                 \n",
       "channel                  489    490    496    497    498    500  \n",
       "ip_os_device_dow_hour                                            \n",
       "10020001303            False  False  False  False  False  False  \n",
       "10020001314            False  False  False  False  False  False  \n",
       "10040001312            False  False  False  False  False  False  \n",
       "10040001314            False  False  False  False  False  False  \n",
       "10090001303            False  False  False  False  False  False  \n",
       "\n",
       "[5 rows x 199 columns]"
      ]
     },
     "execution_count": 18,
     "metadata": {},
     "output_type": "execute_result"
    }
   ],
   "source": [
    "d.head()"
   ]
  },
  {
   "cell_type": "code",
   "execution_count": 19,
   "metadata": {},
   "outputs": [
    {
     "name": "stdout",
     "output_type": "stream",
     "text": [
      "CPU times: user 7min 41s, sys: 3.5 s, total: 7min 45s\n",
      "Wall time: 7min 45s\n"
     ]
    }
   ],
   "source": [
    "%%time\n",
    "mat = np.dot(d.astype('bool').astype('uint16').values.T,\n",
    "             d.astype('bool').astype('uint16').values)"
   ]
  },
  {
   "cell_type": "code",
   "execution_count": 20,
   "metadata": {},
   "outputs": [],
   "source": [
    "count_channel_coincidence_per_user = pd.DataFrame(mat)"
   ]
  },
  {
   "cell_type": "code",
   "execution_count": 21,
   "metadata": {},
   "outputs": [
    {
     "data": {
      "text/plain": [
       "101"
      ]
     },
     "execution_count": 21,
     "metadata": {},
     "output_type": "execute_result"
    }
   ],
   "source": [
    "del merge, mat, d\n",
    "gc.collect()"
   ]
  },
  {
   "cell_type": "code",
   "execution_count": 25,
   "metadata": {},
   "outputs": [
    {
     "data": {
      "text/html": [
       "<div>\n",
       "<style scoped>\n",
       "    .dataframe tbody tr th:only-of-type {\n",
       "        vertical-align: middle;\n",
       "    }\n",
       "\n",
       "    .dataframe tbody tr th {\n",
       "        vertical-align: top;\n",
       "    }\n",
       "\n",
       "    .dataframe thead th {\n",
       "        text-align: right;\n",
       "    }\n",
       "</style>\n",
       "<table border=\"1\" class=\"dataframe\">\n",
       "  <thead>\n",
       "    <tr style=\"text-align: right;\">\n",
       "      <th></th>\n",
       "      <th>chan_000</th>\n",
       "      <th>chan_003</th>\n",
       "      <th>chan_004</th>\n",
       "      <th>chan_005</th>\n",
       "      <th>chan_013</th>\n",
       "      <th>chan_014</th>\n",
       "      <th>chan_015</th>\n",
       "      <th>chan_017</th>\n",
       "      <th>chan_018</th>\n",
       "      <th>chan_019</th>\n",
       "      <th>...</th>\n",
       "      <th>chan_484</th>\n",
       "      <th>chan_486</th>\n",
       "      <th>chan_487</th>\n",
       "      <th>chan_488</th>\n",
       "      <th>chan_489</th>\n",
       "      <th>chan_490</th>\n",
       "      <th>chan_496</th>\n",
       "      <th>chan_497</th>\n",
       "      <th>chan_498</th>\n",
       "      <th>chan_500</th>\n",
       "    </tr>\n",
       "  </thead>\n",
       "  <tbody>\n",
       "    <tr>\n",
       "      <th>0</th>\n",
       "      <td>776</td>\n",
       "      <td>46</td>\n",
       "      <td>0</td>\n",
       "      <td>0</td>\n",
       "      <td>4</td>\n",
       "      <td>0</td>\n",
       "      <td>1</td>\n",
       "      <td>21</td>\n",
       "      <td>5</td>\n",
       "      <td>98</td>\n",
       "      <td>...</td>\n",
       "      <td>7</td>\n",
       "      <td>0</td>\n",
       "      <td>52</td>\n",
       "      <td>2</td>\n",
       "      <td>140</td>\n",
       "      <td>5</td>\n",
       "      <td>20</td>\n",
       "      <td>55</td>\n",
       "      <td>0</td>\n",
       "      <td>0</td>\n",
       "    </tr>\n",
       "    <tr>\n",
       "      <th>1</th>\n",
       "      <td>46</td>\n",
       "      <td>16927</td>\n",
       "      <td>6</td>\n",
       "      <td>143</td>\n",
       "      <td>2478</td>\n",
       "      <td>1</td>\n",
       "      <td>262</td>\n",
       "      <td>6136</td>\n",
       "      <td>1586</td>\n",
       "      <td>22342</td>\n",
       "      <td>...</td>\n",
       "      <td>3382</td>\n",
       "      <td>107</td>\n",
       "      <td>8503</td>\n",
       "      <td>604</td>\n",
       "      <td>37836</td>\n",
       "      <td>1745</td>\n",
       "      <td>1724</td>\n",
       "      <td>11075</td>\n",
       "      <td>8</td>\n",
       "      <td>0</td>\n",
       "    </tr>\n",
       "    <tr>\n",
       "      <th>2</th>\n",
       "      <td>0</td>\n",
       "      <td>6</td>\n",
       "      <td>587</td>\n",
       "      <td>1</td>\n",
       "      <td>1</td>\n",
       "      <td>0</td>\n",
       "      <td>0</td>\n",
       "      <td>14</td>\n",
       "      <td>1</td>\n",
       "      <td>58</td>\n",
       "      <td>...</td>\n",
       "      <td>2</td>\n",
       "      <td>0</td>\n",
       "      <td>27</td>\n",
       "      <td>0</td>\n",
       "      <td>169</td>\n",
       "      <td>2</td>\n",
       "      <td>7</td>\n",
       "      <td>21</td>\n",
       "      <td>0</td>\n",
       "      <td>0</td>\n",
       "    </tr>\n",
       "    <tr>\n",
       "      <th>3</th>\n",
       "      <td>0</td>\n",
       "      <td>143</td>\n",
       "      <td>1</td>\n",
       "      <td>8403</td>\n",
       "      <td>43</td>\n",
       "      <td>0</td>\n",
       "      <td>5</td>\n",
       "      <td>123</td>\n",
       "      <td>17</td>\n",
       "      <td>372</td>\n",
       "      <td>...</td>\n",
       "      <td>58</td>\n",
       "      <td>1</td>\n",
       "      <td>171</td>\n",
       "      <td>10</td>\n",
       "      <td>537</td>\n",
       "      <td>36</td>\n",
       "      <td>118</td>\n",
       "      <td>210</td>\n",
       "      <td>0</td>\n",
       "      <td>0</td>\n",
       "    </tr>\n",
       "    <tr>\n",
       "      <th>4</th>\n",
       "      <td>4</td>\n",
       "      <td>2478</td>\n",
       "      <td>1</td>\n",
       "      <td>43</td>\n",
       "      <td>36210</td>\n",
       "      <td>1</td>\n",
       "      <td>1115</td>\n",
       "      <td>1083</td>\n",
       "      <td>2152</td>\n",
       "      <td>3988</td>\n",
       "      <td>...</td>\n",
       "      <td>5198</td>\n",
       "      <td>105</td>\n",
       "      <td>1635</td>\n",
       "      <td>1673</td>\n",
       "      <td>6331</td>\n",
       "      <td>1103</td>\n",
       "      <td>4</td>\n",
       "      <td>1999</td>\n",
       "      <td>1</td>\n",
       "      <td>0</td>\n",
       "    </tr>\n",
       "  </tbody>\n",
       "</table>\n",
       "<p>5 rows × 199 columns</p>\n",
       "</div>"
      ],
      "text/plain": [
       "   chan_000  chan_003  chan_004  chan_005  chan_013  chan_014  chan_015  \\\n",
       "0       776        46         0         0         4         0         1   \n",
       "1        46     16927         6       143      2478         1       262   \n",
       "2         0         6       587         1         1         0         0   \n",
       "3         0       143         1      8403        43         0         5   \n",
       "4         4      2478         1        43     36210         1      1115   \n",
       "\n",
       "   chan_017  chan_018  chan_019    ...     chan_484  chan_486  chan_487  \\\n",
       "0        21         5        98    ...            7         0        52   \n",
       "1      6136      1586     22342    ...         3382       107      8503   \n",
       "2        14         1        58    ...            2         0        27   \n",
       "3       123        17       372    ...           58         1       171   \n",
       "4      1083      2152      3988    ...         5198       105      1635   \n",
       "\n",
       "   chan_488  chan_489  chan_490  chan_496  chan_497  chan_498  chan_500  \n",
       "0         2       140         5        20        55         0         0  \n",
       "1       604     37836      1745      1724     11075         8         0  \n",
       "2         0       169         2         7        21         0         0  \n",
       "3        10       537        36       118       210         0         0  \n",
       "4      1673      6331      1103         4      1999         1         0  \n",
       "\n",
       "[5 rows x 199 columns]"
      ]
     },
     "execution_count": 25,
     "metadata": {},
     "output_type": "execute_result"
    }
   ],
   "source": [
    "chanlabel = ['chan_{0:03d}'.format(i) for i in list(set(merge.channel))]\n",
    "count_channel_coincidence_per_user.columns = chanlabel\n",
    "count_channel_coincidence_per_user.head()"
   ]
  },
  {
   "cell_type": "code",
   "execution_count": 26,
   "metadata": {},
   "outputs": [],
   "source": [
    "count_channel_coincidence_per_user.to_feather('../data/count_channel_coincidence_per_user.feather')"
   ]
  },
  {
   "cell_type": "code",
   "execution_count": 27,
   "metadata": {},
   "outputs": [
    {
     "data": {
      "text/plain": [
       "1937"
      ]
     },
     "execution_count": 27,
     "metadata": {},
     "output_type": "execute_result"
    }
   ],
   "source": [
    "del count_channel_coincidence_per_user\n",
    "gc.collect()"
   ]
  },
  {
   "cell_type": "code",
   "execution_count": 28,
   "metadata": {},
   "outputs": [
    {
     "name": "stdout",
     "output_type": "stream",
     "text": [
      "-rw-r--r-- 1 ubuntu ubuntu 4.3K May  4 15:41 ../data/agg_by_channel.feather\r\n",
      "-rw-r--r-- 1 ubuntu ubuntu 4.8G Apr 30 14:27 ../data/click_data.feather\r\n",
      "-rw-r--r-- 1 ubuntu ubuntu  93K May  4 16:57 ../data/count_channel_coincidence_per_user.feather\r\n",
      "-rw-r--r-- 1 ubuntu ubuntu 1.1M May  4 16:12 ../data/count_user_by_channel_app.feather\r\n",
      "-rw-r--r-- 1 ubuntu ubuntu  18G May  4 07:40 ../data/merge.feather\r\n",
      "-rw-r--r-- 1 ubuntu ubuntu 8.4K May  4 15:44 ../data/uqcount_by_channel.feather\r\n"
     ]
    }
   ],
   "source": [
    "ls -lah ../data/*.feather"
   ]
  },
  {
   "cell_type": "markdown",
   "metadata": {},
   "source": [
    "### pca"
   ]
  },
  {
   "cell_type": "code",
   "execution_count": 39,
   "metadata": {},
   "outputs": [],
   "source": [
    "from sklearn.decomposition import PCA"
   ]
  },
  {
   "cell_type": "code",
   "execution_count": 34,
   "metadata": {},
   "outputs": [],
   "source": [
    "d = pd.concat([\n",
    "    pd.read_feather('../data/agg_by_channel.feather'),\n",
    "    pd.read_feather('../data/uqcount_by_channel.feather'),\n",
    "    pd.read_feather('../data/count_user_by_channel_app.feather'),\n",
    "    pd.read_feather('../data/count_channel_coincidence_per_user.feather')\n",
    "], axis = 1)"
   ]
  },
  {
   "cell_type": "code",
   "execution_count": 44,
   "metadata": {},
   "outputs": [
    {
     "name": "stdout",
     "output_type": "stream",
     "text": [
      "(199, 882)\n"
     ]
    },
    {
     "data": {
      "text/html": [
       "<div>\n",
       "<style scoped>\n",
       "    .dataframe tbody tr th:only-of-type {\n",
       "        vertical-align: middle;\n",
       "    }\n",
       "\n",
       "    .dataframe tbody tr th {\n",
       "        vertical-align: top;\n",
       "    }\n",
       "\n",
       "    .dataframe thead th {\n",
       "        text-align: right;\n",
       "    }\n",
       "</style>\n",
       "<table border=\"1\" class=\"dataframe\">\n",
       "  <thead>\n",
       "    <tr style=\"text-align: right;\">\n",
       "      <th></th>\n",
       "      <th>channel</th>\n",
       "      <th>count_by_channel</th>\n",
       "      <th>attrib_by_channel</th>\n",
       "      <th>uqcount_app_by_channel</th>\n",
       "      <th>uqcount_ip_by_channel</th>\n",
       "      <th>uqcount_device_by_channel</th>\n",
       "      <th>uqcount_os_by_channel</th>\n",
       "      <th>uqcount_user_by_channel</th>\n",
       "      <th>channel</th>\n",
       "      <th>app_000</th>\n",
       "      <th>...</th>\n",
       "      <th>chan_484</th>\n",
       "      <th>chan_486</th>\n",
       "      <th>chan_487</th>\n",
       "      <th>chan_488</th>\n",
       "      <th>chan_489</th>\n",
       "      <th>chan_490</th>\n",
       "      <th>chan_496</th>\n",
       "      <th>chan_497</th>\n",
       "      <th>chan_498</th>\n",
       "      <th>chan_500</th>\n",
       "    </tr>\n",
       "  </thead>\n",
       "  <tbody>\n",
       "    <tr>\n",
       "      <th>0</th>\n",
       "      <td>0</td>\n",
       "      <td>1258</td>\n",
       "      <td>87</td>\n",
       "      <td>25</td>\n",
       "      <td>705</td>\n",
       "      <td>13</td>\n",
       "      <td>49</td>\n",
       "      <td>776</td>\n",
       "      <td>0</td>\n",
       "      <td>0</td>\n",
       "      <td>...</td>\n",
       "      <td>7</td>\n",
       "      <td>0</td>\n",
       "      <td>52</td>\n",
       "      <td>2</td>\n",
       "      <td>140</td>\n",
       "      <td>5</td>\n",
       "      <td>20</td>\n",
       "      <td>55</td>\n",
       "      <td>0</td>\n",
       "      <td>0</td>\n",
       "    </tr>\n",
       "    <tr>\n",
       "      <th>1</th>\n",
       "      <td>3</td>\n",
       "      <td>546455</td>\n",
       "      <td>283</td>\n",
       "      <td>13</td>\n",
       "      <td>10646</td>\n",
       "      <td>12</td>\n",
       "      <td>184</td>\n",
       "      <td>279071</td>\n",
       "      <td>3</td>\n",
       "      <td>0</td>\n",
       "      <td>...</td>\n",
       "      <td>3382</td>\n",
       "      <td>107</td>\n",
       "      <td>8503</td>\n",
       "      <td>604</td>\n",
       "      <td>37836</td>\n",
       "      <td>1745</td>\n",
       "      <td>1724</td>\n",
       "      <td>11075</td>\n",
       "      <td>8</td>\n",
       "      <td>0</td>\n",
       "    </tr>\n",
       "    <tr>\n",
       "      <th>2</th>\n",
       "      <td>4</td>\n",
       "      <td>735</td>\n",
       "      <td>54</td>\n",
       "      <td>6</td>\n",
       "      <td>496</td>\n",
       "      <td>6</td>\n",
       "      <td>42</td>\n",
       "      <td>587</td>\n",
       "      <td>4</td>\n",
       "      <td>0</td>\n",
       "      <td>...</td>\n",
       "      <td>2</td>\n",
       "      <td>0</td>\n",
       "      <td>27</td>\n",
       "      <td>0</td>\n",
       "      <td>169</td>\n",
       "      <td>2</td>\n",
       "      <td>7</td>\n",
       "      <td>21</td>\n",
       "      <td>0</td>\n",
       "      <td>0</td>\n",
       "    </tr>\n",
       "    <tr>\n",
       "      <th>3</th>\n",
       "      <td>5</td>\n",
       "      <td>9289</td>\n",
       "      <td>5735</td>\n",
       "      <td>2</td>\n",
       "      <td>6831</td>\n",
       "      <td>7</td>\n",
       "      <td>44</td>\n",
       "      <td>8403</td>\n",
       "      <td>5</td>\n",
       "      <td>0</td>\n",
       "      <td>...</td>\n",
       "      <td>58</td>\n",
       "      <td>1</td>\n",
       "      <td>171</td>\n",
       "      <td>10</td>\n",
       "      <td>537</td>\n",
       "      <td>36</td>\n",
       "      <td>118</td>\n",
       "      <td>210</td>\n",
       "      <td>0</td>\n",
       "      <td>0</td>\n",
       "    </tr>\n",
       "    <tr>\n",
       "      <th>4</th>\n",
       "      <td>13</td>\n",
       "      <td>86058</td>\n",
       "      <td>6</td>\n",
       "      <td>2</td>\n",
       "      <td>8995</td>\n",
       "      <td>6</td>\n",
       "      <td>108</td>\n",
       "      <td>36210</td>\n",
       "      <td>13</td>\n",
       "      <td>0</td>\n",
       "      <td>...</td>\n",
       "      <td>5198</td>\n",
       "      <td>105</td>\n",
       "      <td>1635</td>\n",
       "      <td>1673</td>\n",
       "      <td>6331</td>\n",
       "      <td>1103</td>\n",
       "      <td>4</td>\n",
       "      <td>1999</td>\n",
       "      <td>1</td>\n",
       "      <td>0</td>\n",
       "    </tr>\n",
       "  </tbody>\n",
       "</table>\n",
       "<p>5 rows × 882 columns</p>\n",
       "</div>"
      ],
      "text/plain": [
       "   channel  count_by_channel  attrib_by_channel  uqcount_app_by_channel  \\\n",
       "0        0              1258                 87                      25   \n",
       "1        3            546455                283                      13   \n",
       "2        4               735                 54                       6   \n",
       "3        5              9289               5735                       2   \n",
       "4       13             86058                  6                       2   \n",
       "\n",
       "   uqcount_ip_by_channel  uqcount_device_by_channel  uqcount_os_by_channel  \\\n",
       "0                    705                         13                     49   \n",
       "1                  10646                         12                    184   \n",
       "2                    496                          6                     42   \n",
       "3                   6831                          7                     44   \n",
       "4                   8995                          6                    108   \n",
       "\n",
       "   uqcount_user_by_channel  channel  app_000    ...     chan_484  chan_486  \\\n",
       "0                      776        0        0    ...            7         0   \n",
       "1                   279071        3        0    ...         3382       107   \n",
       "2                      587        4        0    ...            2         0   \n",
       "3                     8403        5        0    ...           58         1   \n",
       "4                    36210       13        0    ...         5198       105   \n",
       "\n",
       "   chan_487  chan_488  chan_489  chan_490  chan_496  chan_497  chan_498  \\\n",
       "0        52         2       140         5        20        55         0   \n",
       "1      8503       604     37836      1745      1724     11075         8   \n",
       "2        27         0       169         2         7        21         0   \n",
       "3       171        10       537        36       118       210         0   \n",
       "4      1635      1673      6331      1103         4      1999         1   \n",
       "\n",
       "   chan_500  \n",
       "0         0  \n",
       "1         0  \n",
       "2         0  \n",
       "3         0  \n",
       "4         0  \n",
       "\n",
       "[5 rows x 882 columns]"
      ]
     },
     "execution_count": 44,
     "metadata": {},
     "output_type": "execute_result"
    }
   ],
   "source": [
    "print(d.shape)\n",
    "d.head()"
   ]
  },
  {
   "cell_type": "code",
   "execution_count": 37,
   "metadata": {},
   "outputs": [],
   "source": [
    "y = d[['channel', 'attrib_by_channel']]\n",
    "X = d.drop(['channel', 'attrib_by_channel'], axis=1)"
   ]
  },
  {
   "cell_type": "code",
   "execution_count": 52,
   "metadata": {},
   "outputs": [],
   "source": [
    "pca = PCA()\n",
    "res = pca.fit_transform(X.values)"
   ]
  },
  {
   "cell_type": "code",
   "execution_count": 53,
   "metadata": {},
   "outputs": [
    {
     "data": {
      "text/plain": [
       "(199, 199)"
      ]
     },
     "execution_count": 53,
     "metadata": {},
     "output_type": "execute_result"
    }
   ],
   "source": [
    "res.shape"
   ]
  }
 ],
 "metadata": {
  "kernelspec": {
   "display_name": "Python 3",
   "language": "python",
   "name": "python3"
  },
  "language_info": {
   "codemirror_mode": {
    "name": "ipython",
    "version": 3
   },
   "file_extension": ".py",
   "mimetype": "text/x-python",
   "name": "python",
   "nbconvert_exporter": "python",
   "pygments_lexer": "ipython3",
   "version": "3.6.4"
  }
 },
 "nbformat": 4,
 "nbformat_minor": 2
}
