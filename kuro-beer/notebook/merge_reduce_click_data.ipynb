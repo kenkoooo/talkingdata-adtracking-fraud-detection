{
 "cells": [
  {
   "cell_type": "code",
   "execution_count": 2,
   "metadata": {},
   "outputs": [
    {
     "name": "stderr",
     "output_type": "stream",
     "text": [
      "/home/ubuntu/anaconda3/lib/python3.6/site-packages/sklearn/cross_validation.py:41: DeprecationWarning: This module was deprecated in version 0.18 in favor of the model_selection module into which all the refactored classes and functions are moved. Also note that the interface of the new CV iterators are different from that of this module. This module will be removed in 0.20.\n",
      "  \"This module will be removed in 0.20.\", DeprecationWarning)\n"
     ]
    }
   ],
   "source": [
    "import gc\n",
    "import time\n",
    "import numpy as np\n",
    "import pandas as pd\n",
    "from sklearn.cross_validation import train_test_split\n",
    "import xgboost as xgb\n",
    "from xgboost import plot_importance\n",
    "import matplotlib.pyplot as plt\n",
    "\n",
    "def read_hdf(name:str):\n",
    "    return pd.read_hdf(\"../data/{}.hdf\".format(name), name)"
   ]
  },
  {
   "cell_type": "code",
   "execution_count": 2,
   "metadata": {},
   "outputs": [
    {
     "name": "stdout",
     "output_type": "stream",
     "text": [
      "-rw-rw-r-- 1 ubuntu ubuntu 7.7M Apr 28 17:08 ../data/click_count_by_ip.hdf\r\n",
      "-rw-rw-r-- 1 ubuntu ubuntu 158M Apr 28 17:08 ../data/click_count_by_ip_os_device_dow.hdf\r\n",
      "-rw-rw-r-- 1 ubuntu ubuntu 529M Apr 28 17:09 ../data/click_count_by_ip_os_device_dow_hour.hdf\r\n",
      "-rw-rw-r-- 1 ubuntu ubuntu 6.1G Apr 28 17:27 ../data/click_counts.hdf\r\n",
      "-rw-rw-r-- 1 ubuntu ubuntu  11G Apr 28 16:21 ../data/click_data.hdf\r\n",
      "-rw-rw-r-- 1 ubuntu ubuntu 3.1G Apr 28 17:40 ../data/click_time_interval_by_ip.hdf\r\n",
      "-rw-rw-r-- 1 ubuntu ubuntu 3.1G Apr 28 17:50 ../data/click_time_interval_by_ip_os_device.hdf\r\n",
      "-rw-rw-r-- 1 ubuntu ubuntu 3.1G Apr 28 17:58 ../data/click_time_interval_by_ip_os_device_dow.hdf\r\n",
      "-rw-rw-r-- 1 ubuntu ubuntu 3.1G Apr 28 18:07 ../data/click_time_interval_by_ip_os_device_dow_hour.hdf\r\n",
      "-rw-rw-r-- 1 ubuntu ubuntu 7.6G Apr 29 01:37 ../data/click_time_intervals.hdf\r\n",
      "-rw-rw-r-- 1 ubuntu ubuntu 7.6G Apr 28 16:42 ../data/click_times.hdf\r\n",
      "-rw-rw-r-- 1 ubuntu ubuntu 3.0G Apr 28 16:48 ../data/ip_os_device.hdf\r\n",
      "-rw-rw-r-- 1 ubuntu ubuntu 4.6G Apr 28 17:04 ../data/ip_os_device_dow.hdf\r\n",
      "-rw-rw-r-- 1 ubuntu ubuntu  35G Apr 29 02:04 ../data/merged_click_data.hdf\r\n",
      "-rw-rw-r-- 1 ubuntu ubuntu 3.1G Apr 28 17:31 ../data/rank_by_ip.hdf\r\n",
      "-rw-rw-r-- 1 ubuntu ubuntu 6.1G Apr 28 17:34 ../data/ranks.hdf\r\n"
     ]
    }
   ],
   "source": [
    "ls -lha ../data/*.hdf"
   ]
  },
  {
   "cell_type": "code",
   "execution_count": 3,
   "metadata": {},
   "outputs": [
    {
     "name": "stdout",
     "output_type": "stream",
     "text": [
      "CPU times: user 936 ms, sys: 2.73 s, total: 3.66 s\n",
      "Wall time: 1min 43s\n"
     ]
    }
   ],
   "source": [
    "%%time\n",
    "click_counts = read_hdf(\"click_counts\")"
   ]
  },
  {
   "cell_type": "code",
   "execution_count": 4,
   "metadata": {},
   "outputs": [
    {
     "name": "stdout",
     "output_type": "stream",
     "text": [
      "CPU times: user 300 ms, sys: 3.31 s, total: 3.61 s\n",
      "Wall time: 1min 44s\n"
     ]
    }
   ],
   "source": [
    "%%time\n",
    "ranks = read_hdf(\"ranks\")"
   ]
  },
  {
   "cell_type": "code",
   "execution_count": 5,
   "metadata": {},
   "outputs": [
    {
     "name": "stdout",
     "output_type": "stream",
     "text": [
      "CPU times: user 13.7 s, sys: 9.42 s, total: 23.2 s\n",
      "Wall time: 3min 8s\n"
     ]
    }
   ],
   "source": [
    "%%time\n",
    "click_data = read_hdf(\"click_data\")"
   ]
  },
  {
   "cell_type": "code",
   "execution_count": 6,
   "metadata": {},
   "outputs": [
    {
     "name": "stdout",
     "output_type": "stream",
     "text": [
      "CPU times: user 988 ms, sys: 3.53 s, total: 4.52 s\n",
      "Wall time: 2min 9s\n"
     ]
    }
   ],
   "source": [
    "%%time\n",
    "click_times = read_hdf(\"click_times\")"
   ]
  },
  {
   "cell_type": "code",
   "execution_count": 7,
   "metadata": {},
   "outputs": [
    {
     "data": {
      "text/plain": [
       "((203694359, 3), (203694359, 3), (203694359, 9), (203694359, 4))"
      ]
     },
     "execution_count": 7,
     "metadata": {},
     "output_type": "execute_result"
    }
   ],
   "source": [
    "click_counts.shape, ranks.shape, click_data.shape, click_times.shape"
   ]
  },
  {
   "cell_type": "code",
   "execution_count": 8,
   "metadata": {},
   "outputs": [
    {
     "name": "stdout",
     "output_type": "stream",
     "text": [
      "CPU times: user 17 s, sys: 6.94 s, total: 23.9 s\n",
      "Wall time: 23.9 s\n"
     ]
    }
   ],
   "source": [
    "%%time\n",
    "merged_data = pd.concat([click_data, click_counts, click_times, ranks], axis=1)"
   ]
  },
  {
   "cell_type": "code",
   "execution_count": 9,
   "metadata": {},
   "outputs": [
    {
     "name": "stdout",
     "output_type": "stream",
     "text": [
      "CPU times: user 16.3 s, sys: 17.3 s, total: 33.6 s\n",
      "Wall time: 33.5 s\n"
     ]
    }
   ],
   "source": [
    "%%time\n",
    "del click_data\n",
    "del click_counts\n",
    "del click_times\n",
    "del ranks\n",
    "merged_data.drop(columns=[\"click_time\"], inplace=True)"
   ]
  },
  {
   "cell_type": "code",
   "execution_count": 10,
   "metadata": {},
   "outputs": [
    {
     "data": {
      "text/plain": [
       "42"
      ]
     },
     "execution_count": 10,
     "metadata": {},
     "output_type": "execute_result"
    }
   ],
   "source": [
    "gc.collect()"
   ]
  },
  {
   "cell_type": "code",
   "execution_count": 11,
   "metadata": {},
   "outputs": [
    {
     "name": "stderr",
     "output_type": "stream",
     "text": [
      "/home/ubuntu/anaconda3/lib/python3.6/site-packages/pandas/core/generic.py:1471: PerformanceWarning: \n",
      "your performance may suffer as PyTables will pickle object types that it cannot\n",
      "map directly to c-types [inferred_type->mixed,key->block1_values] [items->['attributed_time']]\n",
      "\n",
      "  return pytables.to_hdf(path_or_buf, key, self, **kwargs)\n"
     ]
    },
    {
     "name": "stdout",
     "output_type": "stream",
     "text": [
      "CPU times: user 26.8 s, sys: 27.5 s, total: 54.3 s\n",
      "Wall time: 4min 15s\n"
     ]
    }
   ],
   "source": [
    "%%time\n",
    "merged_data.to_hdf(\"../data/merged_click_data.hdf\", \"merged_click_data\")"
   ]
  },
  {
   "cell_type": "code",
   "execution_count": 12,
   "metadata": {},
   "outputs": [
    {
     "name": "stdout",
     "output_type": "stream",
     "text": [
      "-rw-rw-r-- 1 ubuntu ubuntu 7.7M Apr 28 17:08 ../data/click_count_by_ip.hdf\r\n",
      "-rw-rw-r-- 1 ubuntu ubuntu 158M Apr 28 17:08 ../data/click_count_by_ip_os_device_dow.hdf\r\n",
      "-rw-rw-r-- 1 ubuntu ubuntu 529M Apr 28 17:09 ../data/click_count_by_ip_os_device_dow_hour.hdf\r\n",
      "-rw-rw-r-- 1 ubuntu ubuntu 6.1G Apr 28 17:27 ../data/click_counts.hdf\r\n",
      "-rw-rw-r-- 1 ubuntu ubuntu  11G Apr 28 16:21 ../data/click_data.hdf\r\n",
      "-rw-rw-r-- 1 ubuntu ubuntu 3.1G Apr 28 17:40 ../data/click_time_interval_by_ip.hdf\r\n",
      "-rw-rw-r-- 1 ubuntu ubuntu 3.1G Apr 28 17:50 ../data/click_time_interval_by_ip_os_device.hdf\r\n",
      "-rw-rw-r-- 1 ubuntu ubuntu 3.1G Apr 28 17:58 ../data/click_time_interval_by_ip_os_device_dow.hdf\r\n",
      "-rw-rw-r-- 1 ubuntu ubuntu 3.1G Apr 28 18:07 ../data/click_time_interval_by_ip_os_device_dow_hour.hdf\r\n",
      "-rw-rw-r-- 1 ubuntu ubuntu 7.6G Apr 28 16:42 ../data/click_times.hdf\r\n",
      "-rw-rw-r-- 1 ubuntu ubuntu 3.0G Apr 28 16:48 ../data/ip_os_device.hdf\r\n",
      "-rw-rw-r-- 1 ubuntu ubuntu 4.6G Apr 28 17:04 ../data/ip_os_device_dow.hdf\r\n",
      "-rw-rw-r-- 1 ubuntu ubuntu  24G Apr 29 01:31 ../data/merged_click_data.hdf\r\n",
      "-rw-rw-r-- 1 ubuntu ubuntu 3.1G Apr 28 17:31 ../data/rank_by_ip.hdf\r\n",
      "-rw-rw-r-- 1 ubuntu ubuntu 6.1G Apr 28 17:34 ../data/ranks.hdf\r\n"
     ]
    }
   ],
   "source": [
    "ls -lha ../data/*.hdf"
   ]
  },
  {
   "cell_type": "code",
   "execution_count": 13,
   "metadata": {},
   "outputs": [
    {
     "name": "stdout",
     "output_type": "stream",
     "text": [
      "CPU times: user 3.38 s, sys: 7.01 s, total: 10.4 s\n",
      "Wall time: 4min 35s\n"
     ]
    }
   ],
   "source": [
    "%%time\n",
    "click_time_interval_by_ip = read_hdf(\"click_time_interval_by_ip\")\n",
    "click_time_interval_by_ip_os_device = read_hdf(\"click_time_interval_by_ip_os_device\")\n",
    "click_time_interval_by_ip_os_device_dow = read_hdf(\"click_time_interval_by_ip_os_device_dow\")\n",
    "click_time_interval_by_ip_os_device_dow_hour = read_hdf(\"click_time_interval_by_ip_os_device_dow_hour\")"
   ]
  },
  {
   "cell_type": "code",
   "execution_count": 14,
   "metadata": {},
   "outputs": [
    {
     "name": "stdout",
     "output_type": "stream",
     "text": [
      "CPU times: user 3.62 s, sys: 1.76 s, total: 5.38 s\n",
      "Wall time: 5.38 s\n"
     ]
    }
   ],
   "source": [
    "%%time\n",
    "click_time_intervals = pd.concat([\n",
    "    click_time_interval_by_ip, \n",
    "    click_time_interval_by_ip_os_device, \n",
    "    click_time_interval_by_ip_os_device_dow, \n",
    "    click_time_interval_by_ip_os_device_dow_hour], axis=1)"
   ]
  },
  {
   "cell_type": "code",
   "execution_count": 15,
   "metadata": {},
   "outputs": [
    {
     "name": "stdout",
     "output_type": "stream",
     "text": [
      "CPU times: user 4.84 s, sys: 13.7 s, total: 18.5 s\n",
      "Wall time: 18.5 s\n"
     ]
    }
   ],
   "source": [
    "%%time\n",
    "click_time_intervals.to_hdf(\"../data/click_time_intervals.hdf\", \"click_time_intervals\")"
   ]
  },
  {
   "cell_type": "code",
   "execution_count": 16,
   "metadata": {},
   "outputs": [
    {
     "name": "stdout",
     "output_type": "stream",
     "text": [
      "CPU times: user 1.04 s, sys: 5.68 s, total: 6.72 s\n",
      "Wall time: 6.72 s\n"
     ]
    }
   ],
   "source": [
    "%%time\n",
    "click_time_intervals = read_hdf(\"click_time_intervals\")"
   ]
  },
  {
   "cell_type": "code",
   "execution_count": 17,
   "metadata": {},
   "outputs": [
    {
     "name": "stdout",
     "output_type": "stream",
     "text": [
      "CPU times: user 10.9 s, sys: 18.3 s, total: 29.2 s\n",
      "Wall time: 1min 25s\n"
     ]
    }
   ],
   "source": [
    "%%time\n",
    "merged_click_data = read_hdf(\"merged_click_data\")"
   ]
  },
  {
   "cell_type": "code",
   "execution_count": 18,
   "metadata": {},
   "outputs": [
    {
     "data": {
      "text/plain": [
       "app                                      uint16\n",
       "attributed_time                          object\n",
       "channel                                  uint16\n",
       "click_id                                float64\n",
       "device                                   uint16\n",
       "ip                                       uint32\n",
       "is_attributed                           float64\n",
       "os                                       uint16\n",
       "click_count_by_ip_os_device_dow           int64\n",
       "click_count_by_ip_os_device_dow_hour      int64\n",
       "click_count_by_ip                         int64\n",
       "dow                                       int64\n",
       "hour                                      int64\n",
       "minute                                    int64\n",
       "second                                    int64\n",
       "rank_by_ip                                int64\n",
       "rank_by_ip_os_device                      int64\n",
       "rank_by_ip_os_device_dow                  int64\n",
       "dtype: object"
      ]
     },
     "execution_count": 18,
     "metadata": {},
     "output_type": "execute_result"
    }
   ],
   "source": [
    "merged_click_data.dtypes"
   ]
  },
  {
   "cell_type": "code",
   "execution_count": 19,
   "metadata": {},
   "outputs": [],
   "source": [
    "merged_click_data[\"click_count_by_ip_os_device_dow\"] = merged_click_data[\"click_count_by_ip_os_device_dow\"].astype(\"uint32\")"
   ]
  },
  {
   "cell_type": "code",
   "execution_count": 20,
   "metadata": {},
   "outputs": [],
   "source": [
    "merged_click_data[\"click_count_by_ip_os_device_dow_hour\"] = merged_click_data[\"click_count_by_ip_os_device_dow_hour\"].astype(\"uint16\")"
   ]
  },
  {
   "cell_type": "code",
   "execution_count": 21,
   "metadata": {},
   "outputs": [
    {
     "name": "stdout",
     "output_type": "stream",
     "text": [
      "CPU times: user 2.52 s, sys: 3.19 s, total: 5.71 s\n",
      "Wall time: 5.71 s\n"
     ]
    }
   ],
   "source": [
    "%%time\n",
    "merged_click_data[\"click_count_by_ip\"] = merged_click_data[\"click_count_by_ip\"].astype(\"uint32\")"
   ]
  },
  {
   "cell_type": "code",
   "execution_count": 22,
   "metadata": {},
   "outputs": [
    {
     "data": {
      "text/plain": [
       "(4, 0)"
      ]
     },
     "execution_count": 22,
     "metadata": {},
     "output_type": "execute_result"
    }
   ],
   "source": [
    "merged_click_data[\"dow\"].max(), merged_click_data[\"dow\"].min()"
   ]
  },
  {
   "cell_type": "code",
   "execution_count": 23,
   "metadata": {},
   "outputs": [
    {
     "name": "stdout",
     "output_type": "stream",
     "text": [
      "CPU times: user 2.17 s, sys: 2.5 s, total: 4.67 s\n",
      "Wall time: 4.67 s\n"
     ]
    }
   ],
   "source": [
    "%%time\n",
    "merged_click_data[\"dow\"] = merged_click_data[\"dow\"].astype(\"uint8\")"
   ]
  },
  {
   "cell_type": "code",
   "execution_count": 24,
   "metadata": {},
   "outputs": [
    {
     "name": "stdout",
     "output_type": "stream",
     "text": [
      "CPU times: user 4.75 s, sys: 5.05 s, total: 9.8 s\n",
      "Wall time: 9.8 s\n"
     ]
    }
   ],
   "source": [
    "%%time\n",
    "merged_click_data[\"hour\"] = merged_click_data[\"hour\"].astype(\"uint8\")\n",
    "merged_click_data[\"minute\"] = merged_click_data[\"minute\"].astype(\"uint8\")\n",
    "merged_click_data[\"second\"] = merged_click_data[\"second\"].astype(\"uint8\")"
   ]
  },
  {
   "cell_type": "code",
   "execution_count": 25,
   "metadata": {},
   "outputs": [
    {
     "data": {
      "text/plain": [
       "app                                      uint16\n",
       "attributed_time                          object\n",
       "channel                                  uint16\n",
       "click_id                                float64\n",
       "device                                   uint16\n",
       "ip                                       uint32\n",
       "is_attributed                           float64\n",
       "os                                       uint16\n",
       "click_count_by_ip_os_device_dow          uint32\n",
       "click_count_by_ip_os_device_dow_hour     uint16\n",
       "click_count_by_ip                        uint32\n",
       "dow                                       uint8\n",
       "hour                                      uint8\n",
       "minute                                    uint8\n",
       "second                                    uint8\n",
       "rank_by_ip                                int64\n",
       "rank_by_ip_os_device                      int64\n",
       "rank_by_ip_os_device_dow                  int64\n",
       "dtype: object"
      ]
     },
     "execution_count": 25,
     "metadata": {},
     "output_type": "execute_result"
    }
   ],
   "source": [
    "merged_click_data.dtypes"
   ]
  },
  {
   "cell_type": "code",
   "execution_count": 26,
   "metadata": {},
   "outputs": [
    {
     "data": {
      "text/plain": [
       "(282426, 0)"
      ]
     },
     "execution_count": 26,
     "metadata": {},
     "output_type": "execute_result"
    }
   ],
   "source": [
    "merged_click_data[\"rank_by_ip_os_device\"].max(), merged_click_data[\"rank_by_ip_os_device\"].min()"
   ]
  },
  {
   "cell_type": "code",
   "execution_count": 27,
   "metadata": {},
   "outputs": [
    {
     "name": "stdout",
     "output_type": "stream",
     "text": [
      "CPU times: user 1.08 s, sys: 1.19 s, total: 2.27 s\n",
      "Wall time: 2.27 s\n"
     ]
    }
   ],
   "source": [
    "%%time\n",
    "merged_click_data[\"rank_by_ip_os_device\"] = merged_click_data[\"rank_by_ip_os_device\"].astype(\"uint32\")"
   ]
  },
  {
   "cell_type": "code",
   "execution_count": 28,
   "metadata": {},
   "outputs": [
    {
     "data": {
      "text/plain": [
       "(93200, 0)"
      ]
     },
     "execution_count": 28,
     "metadata": {},
     "output_type": "execute_result"
    }
   ],
   "source": [
    "merged_click_data[\"rank_by_ip_os_device_dow\"].max(), merged_click_data[\"rank_by_ip_os_device_dow\"].min()"
   ]
  },
  {
   "cell_type": "code",
   "execution_count": 29,
   "metadata": {},
   "outputs": [
    {
     "name": "stdout",
     "output_type": "stream",
     "text": [
      "CPU times: user 720 ms, sys: 824 ms, total: 1.54 s\n",
      "Wall time: 1.55 s\n"
     ]
    }
   ],
   "source": [
    "%%time\n",
    "merged_click_data[\"rank_by_ip_os_device_dow\"] = merged_click_data[\"rank_by_ip_os_device_dow\"].astype(\"uint32\")"
   ]
  },
  {
   "cell_type": "code",
   "execution_count": 30,
   "metadata": {},
   "outputs": [
    {
     "data": {
      "text/plain": [
       "app                                      uint16\n",
       "attributed_time                          object\n",
       "channel                                  uint16\n",
       "click_id                                float64\n",
       "device                                   uint16\n",
       "ip                                       uint32\n",
       "is_attributed                           float64\n",
       "os                                       uint16\n",
       "click_count_by_ip_os_device_dow          uint32\n",
       "click_count_by_ip_os_device_dow_hour     uint16\n",
       "click_count_by_ip                        uint32\n",
       "dow                                       uint8\n",
       "hour                                      uint8\n",
       "minute                                    uint8\n",
       "second                                    uint8\n",
       "rank_by_ip                                int64\n",
       "rank_by_ip_os_device                     uint32\n",
       "rank_by_ip_os_device_dow                 uint32\n",
       "dtype: object"
      ]
     },
     "execution_count": 30,
     "metadata": {},
     "output_type": "execute_result"
    }
   ],
   "source": [
    "merged_click_data.dtypes"
   ]
  },
  {
   "cell_type": "code",
   "execution_count": 31,
   "metadata": {},
   "outputs": [
    {
     "data": {
      "text/plain": [
       "(1421255, 0)"
      ]
     },
     "execution_count": 31,
     "metadata": {},
     "output_type": "execute_result"
    }
   ],
   "source": [
    "merged_click_data[\"rank_by_ip\"].max(), merged_click_data[\"rank_by_ip\"].min()"
   ]
  },
  {
   "cell_type": "code",
   "execution_count": 32,
   "metadata": {},
   "outputs": [
    {
     "name": "stdout",
     "output_type": "stream",
     "text": [
      "CPU times: user 416 ms, sys: 392 ms, total: 808 ms\n",
      "Wall time: 808 ms\n"
     ]
    }
   ],
   "source": [
    "%%time\n",
    "merged_click_data[\"rank_by_ip\"] = merged_click_data[\"rank_by_ip\"].astype(\"uint32\")"
   ]
  },
  {
   "cell_type": "code",
   "execution_count": 33,
   "metadata": {},
   "outputs": [],
   "source": [
    "merged_click_data.drop(columns=[\"attributed_time\"], inplace=True)"
   ]
  },
  {
   "cell_type": "code",
   "execution_count": 34,
   "metadata": {},
   "outputs": [],
   "source": [
    "merged_click_data.to_hdf(\"../data/merged_click_data.hdf\", \"merged_click_data\")"
   ]
  },
  {
   "cell_type": "code",
   "execution_count": 3,
   "metadata": {},
   "outputs": [
    {
     "name": "stdout",
     "output_type": "stream",
     "text": [
      "CPU times: user 1.37 s, sys: 10.2 s, total: 11.6 s\n",
      "Wall time: 11.7 s\n"
     ]
    }
   ],
   "source": [
    "%%time\n",
    "merged_click_data = read_hdf(\"merged_click_data\")"
   ]
  },
  {
   "cell_type": "code",
   "execution_count": 4,
   "metadata": {},
   "outputs": [
    {
     "name": "stdout",
     "output_type": "stream",
     "text": [
      "-rw-rw-r-- 1 ubuntu ubuntu 7.7M Apr 28 17:08 ../data/click_count_by_ip.hdf\r\n",
      "-rw-rw-r-- 1 ubuntu ubuntu 158M Apr 28 17:08 ../data/click_count_by_ip_os_device_dow.hdf\r\n",
      "-rw-rw-r-- 1 ubuntu ubuntu 529M Apr 28 17:09 ../data/click_count_by_ip_os_device_dow_hour.hdf\r\n",
      "-rw-rw-r-- 1 ubuntu ubuntu 6.1G Apr 28 17:27 ../data/click_counts.hdf\r\n",
      "-rw-rw-r-- 1 ubuntu ubuntu  11G Apr 28 16:21 ../data/click_data.hdf\r\n",
      "-rw-rw-r-- 1 ubuntu ubuntu 3.1G Apr 28 17:40 ../data/click_time_interval_by_ip.hdf\r\n",
      "-rw-rw-r-- 1 ubuntu ubuntu 3.1G Apr 28 17:50 ../data/click_time_interval_by_ip_os_device.hdf\r\n",
      "-rw-rw-r-- 1 ubuntu ubuntu 3.1G Apr 28 17:58 ../data/click_time_interval_by_ip_os_device_dow.hdf\r\n",
      "-rw-rw-r-- 1 ubuntu ubuntu 3.1G Apr 28 18:07 ../data/click_time_interval_by_ip_os_device_dow_hour.hdf\r\n",
      "-rw-rw-r-- 1 ubuntu ubuntu 7.6G Apr 29 01:37 ../data/click_time_intervals.hdf\r\n",
      "-rw-rw-r-- 1 ubuntu ubuntu 7.6G Apr 28 16:42 ../data/click_times.hdf\r\n",
      "-rw-rw-r-- 1 ubuntu ubuntu 3.0G Apr 28 16:48 ../data/ip_os_device.hdf\r\n",
      "-rw-rw-r-- 1 ubuntu ubuntu 4.6G Apr 28 17:04 ../data/ip_os_device_dow.hdf\r\n",
      "-rw-rw-r-- 1 ubuntu ubuntu  35G Apr 29 02:04 ../data/merged_click_data.hdf\r\n",
      "-rw-rw-r-- 1 ubuntu ubuntu 3.1G Apr 28 17:31 ../data/rank_by_ip.hdf\r\n",
      "-rw-rw-r-- 1 ubuntu ubuntu 6.1G Apr 28 17:34 ../data/ranks.hdf\r\n"
     ]
    }
   ],
   "source": [
    "ls -lha ../data/*.hdf"
   ]
  },
  {
   "cell_type": "code",
   "execution_count": 5,
   "metadata": {},
   "outputs": [
    {
     "data": {
      "text/plain": [
       "app                                                      uint16\n",
       "channel                                                  uint16\n",
       "click_id                                                float64\n",
       "device                                                   uint16\n",
       "ip                                                       uint32\n",
       "is_attributed                                           float64\n",
       "os                                                       uint16\n",
       "click_count_by_ip_os_device_dow                          uint32\n",
       "click_count_by_ip_os_device_dow_hour                     uint16\n",
       "click_count_by_ip                                        uint32\n",
       "dow                                                       uint8\n",
       "hour                                                      uint8\n",
       "minute                                                    uint8\n",
       "second                                                    uint8\n",
       "rank_by_ip                                               uint32\n",
       "rank_by_ip_os_device                                     uint32\n",
       "rank_by_ip_os_device_dow                                 uint32\n",
       "click_time_interval_by_ip                       timedelta64[ns]\n",
       "click_time_interval_by_ip_os_device             timedelta64[ns]\n",
       "click_time_interval_by_ip_os_device_dow         timedelta64[ns]\n",
       "click_time_interval_by_ip_os_device_dow_hour    timedelta64[ns]\n",
       "dtype: object"
      ]
     },
     "execution_count": 5,
     "metadata": {},
     "output_type": "execute_result"
    }
   ],
   "source": [
    "merged_click_data.dtypes"
   ]
  },
  {
   "cell_type": "code",
   "execution_count": null,
   "metadata": {},
   "outputs": [],
   "source": [
    "%%time\n",
    "click_time_intervals = read_hdf(\"click_time_intervals\")"
   ]
  },
  {
   "cell_type": "code",
   "execution_count": 38,
   "metadata": {},
   "outputs": [
    {
     "name": "stdout",
     "output_type": "stream",
     "text": [
      "CPU times: user 18 s, sys: 7.81 s, total: 25.8 s\n",
      "Wall time: 25.8 s\n"
     ]
    }
   ],
   "source": [
    "%%time\n",
    "merged_click_data = pd.concat([merged_click_data, click_time_intervals], axis=1)"
   ]
  },
  {
   "cell_type": "code",
   "execution_count": 39,
   "metadata": {},
   "outputs": [],
   "source": [
    "merged_click_data.to_hdf(\"../data/merged_click_data.hdf\", \"merged_click_data\")"
   ]
  },
  {
   "cell_type": "code",
   "execution_count": 1,
   "metadata": {},
   "outputs": [
    {
     "ename": "NameError",
     "evalue": "name 'merged_click_data' is not defined",
     "output_type": "error",
     "traceback": [
      "\u001b[0;31m---------------------------------------------------------------------------\u001b[0m",
      "\u001b[0;31mNameError\u001b[0m                                 Traceback (most recent call last)",
      "\u001b[0;32m<ipython-input-1-0fa5caa5cc4b>\u001b[0m in \u001b[0;36m<module>\u001b[0;34m()\u001b[0m\n\u001b[0;32m----> 1\u001b[0;31m \u001b[0mmerged_click_data\u001b[0m\u001b[0;34m\u001b[0m\u001b[0m\n\u001b[0m",
      "\u001b[0;31mNameError\u001b[0m: name 'merged_click_data' is not defined"
     ]
    }
   ],
   "source": [
    "merged_click_data.head()"
   ]
  },
  {
   "cell_type": "code",
   "execution_count": 3,
   "metadata": {},
   "outputs": [],
   "source": [
    "merged_click_data = read_hdf(\"merged_click_data\")"
   ]
  },
  {
   "cell_type": "code",
   "execution_count": 4,
   "metadata": {},
   "outputs": [
    {
     "data": {
      "text/plain": [
       "app                                                      uint16\n",
       "channel                                                  uint16\n",
       "click_id                                                float64\n",
       "device                                                   uint16\n",
       "ip                                                       uint32\n",
       "is_attributed                                           float64\n",
       "os                                                       uint16\n",
       "click_count_by_ip_os_device_dow                          uint32\n",
       "click_count_by_ip_os_device_dow_hour                     uint16\n",
       "click_count_by_ip                                        uint32\n",
       "dow                                                       uint8\n",
       "hour                                                      uint8\n",
       "minute                                                    uint8\n",
       "second                                                    uint8\n",
       "rank_by_ip                                               uint32\n",
       "rank_by_ip_os_device                                     uint32\n",
       "rank_by_ip_os_device_dow                                 uint32\n",
       "click_time_interval_by_ip                       timedelta64[ns]\n",
       "click_time_interval_by_ip_os_device             timedelta64[ns]\n",
       "click_time_interval_by_ip_os_device_dow         timedelta64[ns]\n",
       "click_time_interval_by_ip_os_device_dow_hour    timedelta64[ns]\n",
       "dtype: object"
      ]
     },
     "execution_count": 4,
     "metadata": {},
     "output_type": "execute_result"
    }
   ],
   "source": [
    "merged_click_data.dtypes"
   ]
  },
  {
   "cell_type": "code",
   "execution_count": 5,
   "metadata": {},
   "outputs": [
    {
     "data": {
      "text/plain": [
       "7"
      ]
     },
     "execution_count": 5,
     "metadata": {},
     "output_type": "execute_result"
    }
   ],
   "source": [
    "gc.collect()"
   ]
  },
  {
   "cell_type": "code",
   "execution_count": 6,
   "metadata": {},
   "outputs": [
    {
     "name": "stdout",
     "output_type": "stream",
     "text": [
      "CPU times: user 24.2 s, sys: 11.9 s, total: 36.1 s\n",
      "Wall time: 31 s\n"
     ]
    }
   ],
   "source": [
    "%%time\n",
    "merged_click_data[\"click_time_interval_by_ip\"] = merged_click_data[\"click_time_interval_by_ip\"] / np.timedelta64(1, \"s\")\n",
    "merged_click_data[\"click_time_interval_by_ip_os_device\"] = merged_click_data[\"click_time_interval_by_ip_os_device\"] / np.timedelta64(1, \"s\")\n",
    "merged_click_data[\"click_time_interval_by_ip_os_device_dow\"] = merged_click_data[\"click_time_interval_by_ip_os_device_dow\"] / np.timedelta64(1, \"s\")\n",
    "merged_click_data[\"click_time_interval_by_ip_os_device_dow_hour\"] = merged_click_data[\"click_time_interval_by_ip_os_device_dow_hour\"] / np.timedelta64(1, \"s\")"
   ]
  },
  {
   "cell_type": "code",
   "execution_count": 7,
   "metadata": {},
   "outputs": [
    {
     "data": {
      "text/plain": [
       "app                                              uint16\n",
       "channel                                          uint16\n",
       "click_id                                        float64\n",
       "device                                           uint16\n",
       "ip                                               uint32\n",
       "is_attributed                                   float64\n",
       "os                                               uint16\n",
       "click_count_by_ip_os_device_dow                  uint32\n",
       "click_count_by_ip_os_device_dow_hour             uint16\n",
       "click_count_by_ip                                uint32\n",
       "dow                                               uint8\n",
       "hour                                              uint8\n",
       "minute                                            uint8\n",
       "second                                            uint8\n",
       "rank_by_ip                                       uint32\n",
       "rank_by_ip_os_device                             uint32\n",
       "rank_by_ip_os_device_dow                         uint32\n",
       "click_time_interval_by_ip                       float64\n",
       "click_time_interval_by_ip_os_device             float64\n",
       "click_time_interval_by_ip_os_device_dow         float64\n",
       "click_time_interval_by_ip_os_device_dow_hour    float64\n",
       "dtype: object"
      ]
     },
     "execution_count": 7,
     "metadata": {},
     "output_type": "execute_result"
    }
   ],
   "source": [
    "merged_click_data.dtypes"
   ]
  },
  {
   "cell_type": "code",
   "execution_count": null,
   "metadata": {},
   "outputs": [],
   "source": [
    "merged_click_data.to_hdf(\"../data/merged_click_data.hdf\", \"merged_click_data\")"
   ]
  }
 ],
 "metadata": {
  "kernelspec": {
   "display_name": "Python 3",
   "language": "python",
   "name": "python3"
  },
  "language_info": {
   "codemirror_mode": {
    "name": "ipython",
    "version": 3
   },
   "file_extension": ".py",
   "mimetype": "text/x-python",
   "name": "python",
   "nbconvert_exporter": "python",
   "pygments_lexer": "ipython3",
   "version": "3.6.4"
  }
 },
 "nbformat": 4,
 "nbformat_minor": 2
}
