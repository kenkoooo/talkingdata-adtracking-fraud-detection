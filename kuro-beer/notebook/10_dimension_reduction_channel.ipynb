{
 "cells": [
  {
   "cell_type": "code",
   "execution_count": 1,
   "metadata": {},
   "outputs": [],
   "source": [
    "import gc\n",
    "import time\n",
    "from logzero import logger\n",
    "import numpy as np\n",
    "import pandas as pd"
   ]
  },
  {
   "cell_type": "code",
   "execution_count": 2,
   "metadata": {},
   "outputs": [
    {
     "name": "stdout",
     "output_type": "stream",
     "text": [
      "total 24G\r\n",
      "drwxrwxr-x 5 ubuntu ubuntu 4.0K May  4 16:57 \u001b[0m\u001b[01;34m.\u001b[0m/\r\n",
      "drwxrwxr-x 8 ubuntu ubuntu 4.0K Apr 30 17:30 \u001b[01;34m..\u001b[0m/\r\n",
      "drwxrwxr-x 2 ubuntu ubuntu 4.0K Apr 28 16:52 \u001b[01;34m.ipynb_checkpoints\u001b[0m/\r\n",
      "-rw-r--r-- 1 ubuntu ubuntu 4.3K May  5 02:58 agg_by_channel.feather\r\n",
      "-rw-r--r-- 1 ubuntu ubuntu 4.8G Apr 30 14:27 click_data.feather\r\n",
      "-rw-r--r-- 1 ubuntu ubuntu  93K May  4 16:57 count_channel_coincidence_per_user.feather\r\n",
      "-rw-r--r-- 1 ubuntu ubuntu 1.2M May  5 03:03 count_user_by_channel_app.feather\r\n",
      "drwxrwxr-x 2 ubuntu ubuntu 4.0K Apr 29 14:21 \u001b[01;34mkenkoooos\u001b[0m/\r\n",
      "-rw-r--r-- 1 ubuntu ubuntu  18G May  4 07:40 merge.feather\r\n",
      "drwxrwxr-x 2 ubuntu ubuntu 4.0K Apr 28 17:13 \u001b[01;34mraw\u001b[0m/\r\n",
      "-rw-rw-r-- 1 ubuntu ubuntu 1.4G Apr 28 17:20 \u001b[01;31mraw.zip\u001b[0m\r\n",
      "-rw-r--r-- 1 ubuntu ubuntu 8.4K May  5 03:02 uqcount_by_channel.feather\r\n"
     ]
    }
   ],
   "source": [
    "ls -lah ../data/"
   ]
  },
  {
   "cell_type": "code",
   "execution_count": 3,
   "metadata": {},
   "outputs": [
    {
     "name": "stdout",
     "output_type": "stream",
     "text": [
      "CPU times: user 0 ns, sys: 0 ns, total: 0 ns\n",
      "Wall time: 5.96 µs\n"
     ]
    }
   ],
   "source": [
    "%time\n",
    "merge = pd.read_feather(\"../data/merge.feather\", nthreads=8)"
   ]
  },
  {
   "cell_type": "code",
   "execution_count": 4,
   "metadata": {},
   "outputs": [
    {
     "data": {
      "text/plain": [
       "14"
      ]
     },
     "execution_count": 4,
     "metadata": {},
     "output_type": "execute_result"
    }
   ],
   "source": [
    "merge = merge[merge.is_test == False]\n",
    "gc.collect()"
   ]
  },
  {
   "cell_type": "code",
   "execution_count": 5,
   "metadata": {},
   "outputs": [
    {
     "name": "stdout",
     "output_type": "stream",
     "text": [
      "(126923238, 37)\n"
     ]
    },
    {
     "data": {
      "text/plain": [
       "app                                                uint16\n",
       "channel                                            uint16\n",
       "click_id                                           uint32\n",
       "device                                             uint16\n",
       "ip                                                 uint32\n",
       "is_attributed                                       uint8\n",
       "os                                                 uint16\n",
       "click_time                                 datetime64[ns]\n",
       "is_test                                              bool\n",
       "dow                                                 uint8\n",
       "hour                                                uint8\n",
       "minute                                              uint8\n",
       "min5                                                uint8\n",
       "second                                              uint8\n",
       "sin_time                                          float64\n",
       "cos_time                                          float64\n",
       "ip_os_device                                       uint64\n",
       "ip_os_device_dow_hour                              uint64\n",
       "ip_os_device_dow_hour_min5                         uint64\n",
       "ip_os_device_app_encoded                           uint32\n",
       "ip_os_device_channel_encoded                       uint32\n",
       "count_by_ip_os_device_dow_hour                     uint32\n",
       "count_by_ip_os_device_dow_hour_min5                uint32\n",
       "app_variety_ip_os_device_dow_hour                  uint16\n",
       "chan_variety_ip_os_device_dow_hour                 uint16\n",
       "app_variety_ip_os_device_dow_hour_min5             uint16\n",
       "chan_variety_ip_os_device_dow_hour_min5            uint16\n",
       "rank_by_ip_os_device_dow_hour                      uint32\n",
       "rank_by_ip_os_device_dow_hour_min5                 uint32\n",
       "click_time_prev                            datetime64[ns]\n",
       "app_prev                                           uint16\n",
       "channel_prev                                       uint16\n",
       "interval_prev                                      uint16\n",
       "click_time_next                            datetime64[ns]\n",
       "app_next                                           uint16\n",
       "channel_next                                       uint16\n",
       "interval_next                                      uint16\n",
       "dtype: object"
      ]
     },
     "execution_count": 5,
     "metadata": {},
     "output_type": "execute_result"
    }
   ],
   "source": [
    "print(merge.shape)\n",
    "merge.dtypes"
   ]
  },
  {
   "cell_type": "markdown",
   "metadata": {},
   "source": [
    "### preparation"
   ]
  },
  {
   "cell_type": "code",
   "execution_count": 6,
   "metadata": {},
   "outputs": [
    {
     "name": "stdout",
     "output_type": "stream",
     "text": [
      "CPU times: user 0 ns, sys: 0 ns, total: 0 ns\n",
      "Wall time: 253 µs\n"
     ]
    }
   ],
   "source": [
    "%%time\n",
    "channel_grp = merge.groupby('channel', as_index=False)"
   ]
  },
  {
   "cell_type": "code",
   "execution_count": 7,
   "metadata": {},
   "outputs": [
    {
     "data": {
      "text/plain": [
       "0"
      ]
     },
     "execution_count": 7,
     "metadata": {},
     "output_type": "execute_result"
    }
   ],
   "source": [
    "del merge\n",
    "gc.collect()"
   ]
  },
  {
   "cell_type": "markdown",
   "metadata": {},
   "source": [
    "### simple count"
   ]
  },
  {
   "cell_type": "code",
   "execution_count": 8,
   "metadata": {},
   "outputs": [
    {
     "name": "stdout",
     "output_type": "stream",
     "text": [
      "CPU times: user 2.44 s, sys: 1.11 s, total: 3.55 s\n",
      "Wall time: 3.55 s\n"
     ]
    }
   ],
   "source": [
    "%%time\n",
    "count_by_channel = (channel_grp.ip.count().rename(columns={'ip': 'count_by_channel'}))"
   ]
  },
  {
   "cell_type": "code",
   "execution_count": 9,
   "metadata": {},
   "outputs": [
    {
     "data": {
      "text/html": [
       "<div>\n",
       "<style scoped>\n",
       "    .dataframe tbody tr th:only-of-type {\n",
       "        vertical-align: middle;\n",
       "    }\n",
       "\n",
       "    .dataframe tbody tr th {\n",
       "        vertical-align: top;\n",
       "    }\n",
       "\n",
       "    .dataframe thead th {\n",
       "        text-align: right;\n",
       "    }\n",
       "</style>\n",
       "<table border=\"1\" class=\"dataframe\">\n",
       "  <thead>\n",
       "    <tr style=\"text-align: right;\">\n",
       "      <th></th>\n",
       "      <th>channel</th>\n",
       "      <th>count_by_channel</th>\n",
       "    </tr>\n",
       "  </thead>\n",
       "  <tbody>\n",
       "    <tr>\n",
       "      <th>0</th>\n",
       "      <td>0</td>\n",
       "      <td>1258</td>\n",
       "    </tr>\n",
       "    <tr>\n",
       "      <th>1</th>\n",
       "      <td>3</td>\n",
       "      <td>546455</td>\n",
       "    </tr>\n",
       "    <tr>\n",
       "      <th>2</th>\n",
       "      <td>4</td>\n",
       "      <td>735</td>\n",
       "    </tr>\n",
       "    <tr>\n",
       "      <th>3</th>\n",
       "      <td>5</td>\n",
       "      <td>9289</td>\n",
       "    </tr>\n",
       "    <tr>\n",
       "      <th>4</th>\n",
       "      <td>13</td>\n",
       "      <td>86058</td>\n",
       "    </tr>\n",
       "  </tbody>\n",
       "</table>\n",
       "</div>"
      ],
      "text/plain": [
       "   channel  count_by_channel\n",
       "0        0              1258\n",
       "1        3            546455\n",
       "2        4               735\n",
       "3        5              9289\n",
       "4       13             86058"
      ]
     },
     "execution_count": 9,
     "metadata": {},
     "output_type": "execute_result"
    }
   ],
   "source": [
    "count_by_channel.head()"
   ]
  },
  {
   "cell_type": "code",
   "execution_count": 10,
   "metadata": {},
   "outputs": [
    {
     "name": "stdout",
     "output_type": "stream",
     "text": [
      "CPU times: user 1 s, sys: 588 ms, total: 1.59 s\n",
      "Wall time: 1.59 s\n"
     ]
    }
   ],
   "source": [
    "%%time\n",
    "attrib_by_channel = (channel_grp.is_attributed.sum().rename(columns={'is_attributed': 'attrib_by_channel'})).astype('uint32')"
   ]
  },
  {
   "cell_type": "code",
   "execution_count": 11,
   "metadata": {},
   "outputs": [
    {
     "data": {
      "text/html": [
       "<div>\n",
       "<style scoped>\n",
       "    .dataframe tbody tr th:only-of-type {\n",
       "        vertical-align: middle;\n",
       "    }\n",
       "\n",
       "    .dataframe tbody tr th {\n",
       "        vertical-align: top;\n",
       "    }\n",
       "\n",
       "    .dataframe thead th {\n",
       "        text-align: right;\n",
       "    }\n",
       "</style>\n",
       "<table border=\"1\" class=\"dataframe\">\n",
       "  <thead>\n",
       "    <tr style=\"text-align: right;\">\n",
       "      <th></th>\n",
       "      <th>channel</th>\n",
       "      <th>attrib_by_channel</th>\n",
       "    </tr>\n",
       "  </thead>\n",
       "  <tbody>\n",
       "    <tr>\n",
       "      <th>0</th>\n",
       "      <td>0</td>\n",
       "      <td>87</td>\n",
       "    </tr>\n",
       "    <tr>\n",
       "      <th>1</th>\n",
       "      <td>3</td>\n",
       "      <td>283</td>\n",
       "    </tr>\n",
       "    <tr>\n",
       "      <th>2</th>\n",
       "      <td>4</td>\n",
       "      <td>54</td>\n",
       "    </tr>\n",
       "    <tr>\n",
       "      <th>3</th>\n",
       "      <td>5</td>\n",
       "      <td>5735</td>\n",
       "    </tr>\n",
       "    <tr>\n",
       "      <th>4</th>\n",
       "      <td>13</td>\n",
       "      <td>6</td>\n",
       "    </tr>\n",
       "  </tbody>\n",
       "</table>\n",
       "</div>"
      ],
      "text/plain": [
       "   channel  attrib_by_channel\n",
       "0        0                 87\n",
       "1        3                283\n",
       "2        4                 54\n",
       "3        5               5735\n",
       "4       13                  6"
      ]
     },
     "execution_count": 11,
     "metadata": {},
     "output_type": "execute_result"
    }
   ],
   "source": [
    "attrib_by_channel.head()"
   ]
  },
  {
   "cell_type": "code",
   "execution_count": 12,
   "metadata": {},
   "outputs": [],
   "source": [
    "agg_by_channel = pd.concat([count_by_channel, \n",
    "                            attrib_by_channel['attrib_by_channel']], axis=1)"
   ]
  },
  {
   "cell_type": "code",
   "execution_count": 13,
   "metadata": {},
   "outputs": [],
   "source": [
    "agg_by_channel.to_feather('../data/agg_by_channel.feather')"
   ]
  },
  {
   "cell_type": "code",
   "execution_count": 14,
   "metadata": {},
   "outputs": [
    {
     "data": {
      "text/plain": [
       "14"
      ]
     },
     "execution_count": 14,
     "metadata": {},
     "output_type": "execute_result"
    }
   ],
   "source": [
    "del agg_by_channel\n",
    "gc.collect()"
   ]
  },
  {
   "cell_type": "code",
   "execution_count": 15,
   "metadata": {},
   "outputs": [
    {
     "name": "stdout",
     "output_type": "stream",
     "text": [
      "-rw-r--r-- 1 ubuntu ubuntu 4.3K May  5 04:22 ../data/agg_by_channel.feather\r\n",
      "-rw-r--r-- 1 ubuntu ubuntu 4.8G Apr 30 14:27 ../data/click_data.feather\r\n",
      "-rw-r--r-- 1 ubuntu ubuntu  93K May  4 16:57 ../data/count_channel_coincidence_per_user.feather\r\n",
      "-rw-r--r-- 1 ubuntu ubuntu 1.2M May  5 03:03 ../data/count_user_by_channel_app.feather\r\n",
      "-rw-r--r-- 1 ubuntu ubuntu  18G May  4 07:40 ../data/merge.feather\r\n",
      "-rw-r--r-- 1 ubuntu ubuntu 8.4K May  5 03:02 ../data/uqcount_by_channel.feather\r\n"
     ]
    }
   ],
   "source": [
    "ls -lah ../data/*.feather"
   ]
  },
  {
   "cell_type": "markdown",
   "metadata": {},
   "source": [
    "### unique count"
   ]
  },
  {
   "cell_type": "code",
   "execution_count": 16,
   "metadata": {},
   "outputs": [
    {
     "name": "stdout",
     "output_type": "stream",
     "text": [
      "CPU times: user 3min 36s, sys: 3.48 s, total: 3min 39s\n",
      "Wall time: 3min 39s\n"
     ]
    }
   ],
   "source": [
    "%%time\n",
    "uqcount_by_channel = pd.concat([\n",
    "    channel_grp.app.nunique().to_frame('uqcount_app_by_channel')\n",
    "    , channel_grp.ip.nunique().to_frame('uqcount_ip_by_channel')\n",
    "    , channel_grp.device.nunique().to_frame('uqcount_device_by_channel')\n",
    "    , channel_grp.os.nunique().to_frame('uqcount_os_by_channel')\n",
    "    , channel_grp.ip_os_device_dow_hour.nunique().to_frame('uqcount_user_by_channel')\n",
    "], axis=1)"
   ]
  },
  {
   "cell_type": "code",
   "execution_count": 17,
   "metadata": {},
   "outputs": [
    {
     "data": {
      "text/html": [
       "<div>\n",
       "<style scoped>\n",
       "    .dataframe tbody tr th:only-of-type {\n",
       "        vertical-align: middle;\n",
       "    }\n",
       "\n",
       "    .dataframe tbody tr th {\n",
       "        vertical-align: top;\n",
       "    }\n",
       "\n",
       "    .dataframe thead th {\n",
       "        text-align: right;\n",
       "    }\n",
       "</style>\n",
       "<table border=\"1\" class=\"dataframe\">\n",
       "  <thead>\n",
       "    <tr style=\"text-align: right;\">\n",
       "      <th></th>\n",
       "      <th>uqcount_app_by_channel</th>\n",
       "      <th>uqcount_ip_by_channel</th>\n",
       "      <th>uqcount_device_by_channel</th>\n",
       "      <th>uqcount_os_by_channel</th>\n",
       "      <th>uqcount_user_by_channel</th>\n",
       "    </tr>\n",
       "  </thead>\n",
       "  <tbody>\n",
       "    <tr>\n",
       "      <th>0</th>\n",
       "      <td>25</td>\n",
       "      <td>705</td>\n",
       "      <td>13</td>\n",
       "      <td>49</td>\n",
       "      <td>776</td>\n",
       "    </tr>\n",
       "    <tr>\n",
       "      <th>1</th>\n",
       "      <td>13</td>\n",
       "      <td>10646</td>\n",
       "      <td>12</td>\n",
       "      <td>184</td>\n",
       "      <td>279071</td>\n",
       "    </tr>\n",
       "    <tr>\n",
       "      <th>2</th>\n",
       "      <td>6</td>\n",
       "      <td>496</td>\n",
       "      <td>6</td>\n",
       "      <td>42</td>\n",
       "      <td>587</td>\n",
       "    </tr>\n",
       "    <tr>\n",
       "      <th>3</th>\n",
       "      <td>2</td>\n",
       "      <td>6831</td>\n",
       "      <td>7</td>\n",
       "      <td>44</td>\n",
       "      <td>8403</td>\n",
       "    </tr>\n",
       "    <tr>\n",
       "      <th>4</th>\n",
       "      <td>2</td>\n",
       "      <td>8995</td>\n",
       "      <td>6</td>\n",
       "      <td>108</td>\n",
       "      <td>36210</td>\n",
       "    </tr>\n",
       "  </tbody>\n",
       "</table>\n",
       "</div>"
      ],
      "text/plain": [
       "   uqcount_app_by_channel  uqcount_ip_by_channel  uqcount_device_by_channel  \\\n",
       "0                      25                    705                         13   \n",
       "1                      13                  10646                         12   \n",
       "2                       6                    496                          6   \n",
       "3                       2                   6831                          7   \n",
       "4                       2                   8995                          6   \n",
       "\n",
       "   uqcount_os_by_channel  uqcount_user_by_channel  \n",
       "0                     49                      776  \n",
       "1                    184                   279071  \n",
       "2                     42                      587  \n",
       "3                     44                     8403  \n",
       "4                    108                    36210  "
      ]
     },
     "execution_count": 17,
     "metadata": {},
     "output_type": "execute_result"
    }
   ],
   "source": [
    "uqcount_by_channel.head()"
   ]
  },
  {
   "cell_type": "code",
   "execution_count": 18,
   "metadata": {},
   "outputs": [],
   "source": [
    "uqcount_by_channel.to_feather('../data/uqcount_by_channel.feather')"
   ]
  },
  {
   "cell_type": "code",
   "execution_count": 19,
   "metadata": {},
   "outputs": [
    {
     "data": {
      "text/plain": [
       "151"
      ]
     },
     "execution_count": 19,
     "metadata": {},
     "output_type": "execute_result"
    }
   ],
   "source": [
    "del uqcount_by_channel\n",
    "gc.collect()"
   ]
  },
  {
   "cell_type": "code",
   "execution_count": 20,
   "metadata": {},
   "outputs": [
    {
     "name": "stdout",
     "output_type": "stream",
     "text": [
      "-rw-r--r-- 1 ubuntu ubuntu 4.3K May  5 04:22 ../data/agg_by_channel.feather\r\n",
      "-rw-r--r-- 1 ubuntu ubuntu 4.8G Apr 30 14:27 ../data/click_data.feather\r\n",
      "-rw-r--r-- 1 ubuntu ubuntu  93K May  4 16:57 ../data/count_channel_coincidence_per_user.feather\r\n",
      "-rw-r--r-- 1 ubuntu ubuntu 1.2M May  5 03:03 ../data/count_user_by_channel_app.feather\r\n",
      "-rw-r--r-- 1 ubuntu ubuntu  18G May  4 07:40 ../data/merge.feather\r\n",
      "-rw-r--r-- 1 ubuntu ubuntu 8.4K May  5 04:26 ../data/uqcount_by_channel.feather\r\n"
     ]
    }
   ],
   "source": [
    "ls -lah ../data/*.feather"
   ]
  },
  {
   "cell_type": "markdown",
   "metadata": {},
   "source": [
    "### cross tabulation(app)"
   ]
  },
  {
   "cell_type": "code",
   "execution_count": 44,
   "metadata": {},
   "outputs": [
    {
     "name": "stdout",
     "output_type": "stream",
     "text": [
      "CPU times: user 0 ns, sys: 0 ns, total: 0 ns\n",
      "Wall time: 5.72 µs\n"
     ]
    }
   ],
   "source": [
    "%time\n",
    "merge = pd.read_feather(\"../data/merge.feather\", nthreads=8)"
   ]
  },
  {
   "cell_type": "code",
   "execution_count": 22,
   "metadata": {},
   "outputs": [
    {
     "data": {
      "text/plain": [
       "0"
      ]
     },
     "execution_count": 22,
     "metadata": {},
     "output_type": "execute_result"
    }
   ],
   "source": [
    "merge = merge[['channel', 'app', 'ip_os_device_dow_hour']][merge.is_test == False]\n",
    "# merge = merge[['channel', 'app', 'ip_os_device_dow_hour']]\n",
    "merge['counter'] = 1\n",
    "gc.collect()"
   ]
  },
  {
   "cell_type": "code",
   "execution_count": 23,
   "metadata": {},
   "outputs": [
    {
     "name": "stdout",
     "output_type": "stream",
     "text": [
      "(126923238, 4)\n"
     ]
    },
    {
     "data": {
      "text/html": [
       "<div>\n",
       "<style scoped>\n",
       "    .dataframe tbody tr th:only-of-type {\n",
       "        vertical-align: middle;\n",
       "    }\n",
       "\n",
       "    .dataframe tbody tr th {\n",
       "        vertical-align: top;\n",
       "    }\n",
       "\n",
       "    .dataframe thead th {\n",
       "        text-align: right;\n",
       "    }\n",
       "</style>\n",
       "<table border=\"1\" class=\"dataframe\">\n",
       "  <thead>\n",
       "    <tr style=\"text-align: right;\">\n",
       "      <th></th>\n",
       "      <th>channel</th>\n",
       "      <th>app</th>\n",
       "      <th>ip_os_device_dow_hour</th>\n",
       "      <th>counter</th>\n",
       "    </tr>\n",
       "  </thead>\n",
       "  <tbody>\n",
       "    <tr>\n",
       "      <th>0</th>\n",
       "      <td>153</td>\n",
       "      <td>23</td>\n",
       "      <td>765080350001103</td>\n",
       "      <td>1</td>\n",
       "    </tr>\n",
       "    <tr>\n",
       "      <th>1</th>\n",
       "      <td>134</td>\n",
       "      <td>18</td>\n",
       "      <td>765080350001103</td>\n",
       "      <td>1</td>\n",
       "    </tr>\n",
       "    <tr>\n",
       "      <th>2</th>\n",
       "      <td>315</td>\n",
       "      <td>15</td>\n",
       "      <td>765080350001103</td>\n",
       "      <td>1</td>\n",
       "    </tr>\n",
       "    <tr>\n",
       "      <th>3</th>\n",
       "      <td>469</td>\n",
       "      <td>11</td>\n",
       "      <td>765080350001103</td>\n",
       "      <td>1</td>\n",
       "    </tr>\n",
       "    <tr>\n",
       "      <th>4</th>\n",
       "      <td>379</td>\n",
       "      <td>3</td>\n",
       "      <td>765080350001103</td>\n",
       "      <td>1</td>\n",
       "    </tr>\n",
       "  </tbody>\n",
       "</table>\n",
       "</div>"
      ],
      "text/plain": [
       "   channel  app  ip_os_device_dow_hour  counter\n",
       "0      153   23        765080350001103        1\n",
       "1      134   18        765080350001103        1\n",
       "2      315   15        765080350001103        1\n",
       "3      469   11        765080350001103        1\n",
       "4      379    3        765080350001103        1"
      ]
     },
     "execution_count": 23,
     "metadata": {},
     "output_type": "execute_result"
    }
   ],
   "source": [
    "print(merge.shape)\n",
    "merge.head()"
   ]
  },
  {
   "cell_type": "code",
   "execution_count": 24,
   "metadata": {},
   "outputs": [],
   "source": [
    "merge.drop_duplicates(inplace = True)"
   ]
  },
  {
   "cell_type": "code",
   "execution_count": 25,
   "metadata": {},
   "outputs": [
    {
     "name": "stdout",
     "output_type": "stream",
     "text": [
      "(83747805, 4)\n"
     ]
    },
    {
     "data": {
      "text/html": [
       "<div>\n",
       "<style scoped>\n",
       "    .dataframe tbody tr th:only-of-type {\n",
       "        vertical-align: middle;\n",
       "    }\n",
       "\n",
       "    .dataframe tbody tr th {\n",
       "        vertical-align: top;\n",
       "    }\n",
       "\n",
       "    .dataframe thead th {\n",
       "        text-align: right;\n",
       "    }\n",
       "</style>\n",
       "<table border=\"1\" class=\"dataframe\">\n",
       "  <thead>\n",
       "    <tr style=\"text-align: right;\">\n",
       "      <th></th>\n",
       "      <th>channel</th>\n",
       "      <th>app</th>\n",
       "      <th>ip_os_device_dow_hour</th>\n",
       "      <th>counter</th>\n",
       "    </tr>\n",
       "  </thead>\n",
       "  <tbody>\n",
       "    <tr>\n",
       "      <th>0</th>\n",
       "      <td>153</td>\n",
       "      <td>23</td>\n",
       "      <td>765080350001103</td>\n",
       "      <td>1</td>\n",
       "    </tr>\n",
       "    <tr>\n",
       "      <th>1</th>\n",
       "      <td>134</td>\n",
       "      <td>18</td>\n",
       "      <td>765080350001103</td>\n",
       "      <td>1</td>\n",
       "    </tr>\n",
       "    <tr>\n",
       "      <th>2</th>\n",
       "      <td>315</td>\n",
       "      <td>15</td>\n",
       "      <td>765080350001103</td>\n",
       "      <td>1</td>\n",
       "    </tr>\n",
       "    <tr>\n",
       "      <th>3</th>\n",
       "      <td>469</td>\n",
       "      <td>11</td>\n",
       "      <td>765080350001103</td>\n",
       "      <td>1</td>\n",
       "    </tr>\n",
       "    <tr>\n",
       "      <th>4</th>\n",
       "      <td>379</td>\n",
       "      <td>3</td>\n",
       "      <td>765080350001103</td>\n",
       "      <td>1</td>\n",
       "    </tr>\n",
       "  </tbody>\n",
       "</table>\n",
       "</div>"
      ],
      "text/plain": [
       "   channel  app  ip_os_device_dow_hour  counter\n",
       "0      153   23        765080350001103        1\n",
       "1      134   18        765080350001103        1\n",
       "2      315   15        765080350001103        1\n",
       "3      469   11        765080350001103        1\n",
       "4      379    3        765080350001103        1"
      ]
     },
     "execution_count": 25,
     "metadata": {},
     "output_type": "execute_result"
    }
   ],
   "source": [
    "print(merge.shape)\n",
    "merge.head()"
   ]
  },
  {
   "cell_type": "code",
   "execution_count": 26,
   "metadata": {},
   "outputs": [
    {
     "name": "stdout",
     "output_type": "stream",
     "text": [
      "CPU times: user 4.61 s, sys: 2.61 s, total: 7.22 s\n",
      "Wall time: 7.22 s\n"
     ]
    }
   ],
   "source": [
    "%%time\n",
    "count_user_by_channel_app = merge.pivot_table(values  = 'counter',\n",
    "                                              index   = 'channel',\n",
    "                                              columns = 'app', \n",
    "                                              aggfunc = sum,\n",
    "                                              fill_value = 0)"
   ]
  },
  {
   "cell_type": "code",
   "execution_count": 27,
   "metadata": {},
   "outputs": [],
   "source": [
    "applabel = ['app_{0:03d}'.format(i) for i in list(set(merge.app))]\n",
    "count_user_by_channel_app.columns = applabel\n",
    "count_user_by_channel_app.reset_index(inplace=True)"
   ]
  },
  {
   "cell_type": "code",
   "execution_count": 28,
   "metadata": {},
   "outputs": [
    {
     "data": {
      "text/html": [
       "<div>\n",
       "<style scoped>\n",
       "    .dataframe tbody tr th:only-of-type {\n",
       "        vertical-align: middle;\n",
       "    }\n",
       "\n",
       "    .dataframe tbody tr th {\n",
       "        vertical-align: top;\n",
       "    }\n",
       "\n",
       "    .dataframe thead th {\n",
       "        text-align: right;\n",
       "    }\n",
       "</style>\n",
       "<table border=\"1\" class=\"dataframe\">\n",
       "  <thead>\n",
       "    <tr style=\"text-align: right;\">\n",
       "      <th></th>\n",
       "      <th>channel</th>\n",
       "      <th>app_000</th>\n",
       "      <th>app_001</th>\n",
       "      <th>app_002</th>\n",
       "      <th>app_003</th>\n",
       "      <th>app_004</th>\n",
       "      <th>app_005</th>\n",
       "      <th>app_006</th>\n",
       "      <th>app_007</th>\n",
       "      <th>app_008</th>\n",
       "      <th>...</th>\n",
       "      <th>app_758</th>\n",
       "      <th>app_759</th>\n",
       "      <th>app_760</th>\n",
       "      <th>app_761</th>\n",
       "      <th>app_763</th>\n",
       "      <th>app_764</th>\n",
       "      <th>app_765</th>\n",
       "      <th>app_766</th>\n",
       "      <th>app_767</th>\n",
       "      <th>app_768</th>\n",
       "    </tr>\n",
       "  </thead>\n",
       "  <tbody>\n",
       "    <tr>\n",
       "      <th>0</th>\n",
       "      <td>0</td>\n",
       "      <td>0</td>\n",
       "      <td>0</td>\n",
       "      <td>0</td>\n",
       "      <td>0</td>\n",
       "      <td>0</td>\n",
       "      <td>0</td>\n",
       "      <td>0</td>\n",
       "      <td>0</td>\n",
       "      <td>0</td>\n",
       "      <td>...</td>\n",
       "      <td>0</td>\n",
       "      <td>0</td>\n",
       "      <td>0</td>\n",
       "      <td>0</td>\n",
       "      <td>0</td>\n",
       "      <td>0</td>\n",
       "      <td>0</td>\n",
       "      <td>0</td>\n",
       "      <td>0</td>\n",
       "      <td>0</td>\n",
       "    </tr>\n",
       "    <tr>\n",
       "      <th>1</th>\n",
       "      <td>3</td>\n",
       "      <td>0</td>\n",
       "      <td>4</td>\n",
       "      <td>0</td>\n",
       "      <td>0</td>\n",
       "      <td>0</td>\n",
       "      <td>0</td>\n",
       "      <td>0</td>\n",
       "      <td>0</td>\n",
       "      <td>0</td>\n",
       "      <td>...</td>\n",
       "      <td>0</td>\n",
       "      <td>0</td>\n",
       "      <td>0</td>\n",
       "      <td>0</td>\n",
       "      <td>0</td>\n",
       "      <td>0</td>\n",
       "      <td>0</td>\n",
       "      <td>0</td>\n",
       "      <td>0</td>\n",
       "      <td>0</td>\n",
       "    </tr>\n",
       "    <tr>\n",
       "      <th>2</th>\n",
       "      <td>4</td>\n",
       "      <td>0</td>\n",
       "      <td>0</td>\n",
       "      <td>0</td>\n",
       "      <td>0</td>\n",
       "      <td>0</td>\n",
       "      <td>0</td>\n",
       "      <td>0</td>\n",
       "      <td>0</td>\n",
       "      <td>0</td>\n",
       "      <td>...</td>\n",
       "      <td>0</td>\n",
       "      <td>0</td>\n",
       "      <td>0</td>\n",
       "      <td>0</td>\n",
       "      <td>0</td>\n",
       "      <td>0</td>\n",
       "      <td>0</td>\n",
       "      <td>0</td>\n",
       "      <td>0</td>\n",
       "      <td>0</td>\n",
       "    </tr>\n",
       "    <tr>\n",
       "      <th>3</th>\n",
       "      <td>5</td>\n",
       "      <td>0</td>\n",
       "      <td>0</td>\n",
       "      <td>0</td>\n",
       "      <td>0</td>\n",
       "      <td>0</td>\n",
       "      <td>0</td>\n",
       "      <td>0</td>\n",
       "      <td>0</td>\n",
       "      <td>0</td>\n",
       "      <td>...</td>\n",
       "      <td>0</td>\n",
       "      <td>0</td>\n",
       "      <td>0</td>\n",
       "      <td>0</td>\n",
       "      <td>0</td>\n",
       "      <td>0</td>\n",
       "      <td>1</td>\n",
       "      <td>0</td>\n",
       "      <td>0</td>\n",
       "      <td>0</td>\n",
       "    </tr>\n",
       "    <tr>\n",
       "      <th>4</th>\n",
       "      <td>13</td>\n",
       "      <td>0</td>\n",
       "      <td>36209</td>\n",
       "      <td>0</td>\n",
       "      <td>0</td>\n",
       "      <td>0</td>\n",
       "      <td>0</td>\n",
       "      <td>0</td>\n",
       "      <td>0</td>\n",
       "      <td>0</td>\n",
       "      <td>...</td>\n",
       "      <td>0</td>\n",
       "      <td>0</td>\n",
       "      <td>0</td>\n",
       "      <td>0</td>\n",
       "      <td>0</td>\n",
       "      <td>0</td>\n",
       "      <td>0</td>\n",
       "      <td>0</td>\n",
       "      <td>0</td>\n",
       "      <td>0</td>\n",
       "    </tr>\n",
       "  </tbody>\n",
       "</table>\n",
       "<p>5 rows × 675 columns</p>\n",
       "</div>"
      ],
      "text/plain": [
       "   channel  app_000  app_001  app_002  app_003  app_004  app_005  app_006  \\\n",
       "0        0        0        0        0        0        0        0        0   \n",
       "1        3        0        4        0        0        0        0        0   \n",
       "2        4        0        0        0        0        0        0        0   \n",
       "3        5        0        0        0        0        0        0        0   \n",
       "4       13        0    36209        0        0        0        0        0   \n",
       "\n",
       "   app_007  app_008   ...     app_758  app_759  app_760  app_761  app_763  \\\n",
       "0        0        0   ...           0        0        0        0        0   \n",
       "1        0        0   ...           0        0        0        0        0   \n",
       "2        0        0   ...           0        0        0        0        0   \n",
       "3        0        0   ...           0        0        0        0        0   \n",
       "4        0        0   ...           0        0        0        0        0   \n",
       "\n",
       "   app_764  app_765  app_766  app_767  app_768  \n",
       "0        0        0        0        0        0  \n",
       "1        0        0        0        0        0  \n",
       "2        0        0        0        0        0  \n",
       "3        0        1        0        0        0  \n",
       "4        0        0        0        0        0  \n",
       "\n",
       "[5 rows x 675 columns]"
      ]
     },
     "execution_count": 28,
     "metadata": {},
     "output_type": "execute_result"
    }
   ],
   "source": [
    "count_user_by_channel_app.head()"
   ]
  },
  {
   "cell_type": "code",
   "execution_count": 29,
   "metadata": {},
   "outputs": [
    {
     "data": {
      "text/html": [
       "<div>\n",
       "<style scoped>\n",
       "    .dataframe tbody tr th:only-of-type {\n",
       "        vertical-align: middle;\n",
       "    }\n",
       "\n",
       "    .dataframe tbody tr th {\n",
       "        vertical-align: top;\n",
       "    }\n",
       "\n",
       "    .dataframe thead th {\n",
       "        text-align: right;\n",
       "    }\n",
       "</style>\n",
       "<table border=\"1\" class=\"dataframe\">\n",
       "  <thead>\n",
       "    <tr style=\"text-align: right;\">\n",
       "      <th></th>\n",
       "      <th>channel</th>\n",
       "      <th>app_000</th>\n",
       "      <th>app_001</th>\n",
       "      <th>app_002</th>\n",
       "      <th>app_003</th>\n",
       "      <th>app_004</th>\n",
       "      <th>app_005</th>\n",
       "      <th>app_006</th>\n",
       "      <th>app_007</th>\n",
       "      <th>app_008</th>\n",
       "      <th>...</th>\n",
       "      <th>app_758</th>\n",
       "      <th>app_759</th>\n",
       "      <th>app_760</th>\n",
       "      <th>app_761</th>\n",
       "      <th>app_763</th>\n",
       "      <th>app_764</th>\n",
       "      <th>app_765</th>\n",
       "      <th>app_766</th>\n",
       "      <th>app_767</th>\n",
       "      <th>app_768</th>\n",
       "    </tr>\n",
       "  </thead>\n",
       "  <tbody>\n",
       "    <tr>\n",
       "      <th>194</th>\n",
       "      <td>490</td>\n",
       "      <td>0</td>\n",
       "      <td>0</td>\n",
       "      <td>0</td>\n",
       "      <td>0</td>\n",
       "      <td>0</td>\n",
       "      <td>0</td>\n",
       "      <td>0</td>\n",
       "      <td>0</td>\n",
       "      <td>0</td>\n",
       "      <td>...</td>\n",
       "      <td>0</td>\n",
       "      <td>0</td>\n",
       "      <td>0</td>\n",
       "      <td>0</td>\n",
       "      <td>0</td>\n",
       "      <td>0</td>\n",
       "      <td>0</td>\n",
       "      <td>0</td>\n",
       "      <td>0</td>\n",
       "      <td>0</td>\n",
       "    </tr>\n",
       "    <tr>\n",
       "      <th>195</th>\n",
       "      <td>496</td>\n",
       "      <td>0</td>\n",
       "      <td>0</td>\n",
       "      <td>0</td>\n",
       "      <td>0</td>\n",
       "      <td>0</td>\n",
       "      <td>0</td>\n",
       "      <td>0</td>\n",
       "      <td>0</td>\n",
       "      <td>0</td>\n",
       "      <td>...</td>\n",
       "      <td>0</td>\n",
       "      <td>0</td>\n",
       "      <td>0</td>\n",
       "      <td>0</td>\n",
       "      <td>0</td>\n",
       "      <td>0</td>\n",
       "      <td>0</td>\n",
       "      <td>0</td>\n",
       "      <td>0</td>\n",
       "      <td>0</td>\n",
       "    </tr>\n",
       "    <tr>\n",
       "      <th>196</th>\n",
       "      <td>497</td>\n",
       "      <td>0</td>\n",
       "      <td>1</td>\n",
       "      <td>0</td>\n",
       "      <td>0</td>\n",
       "      <td>0</td>\n",
       "      <td>0</td>\n",
       "      <td>0</td>\n",
       "      <td>0</td>\n",
       "      <td>0</td>\n",
       "      <td>...</td>\n",
       "      <td>0</td>\n",
       "      <td>0</td>\n",
       "      <td>0</td>\n",
       "      <td>0</td>\n",
       "      <td>0</td>\n",
       "      <td>0</td>\n",
       "      <td>0</td>\n",
       "      <td>0</td>\n",
       "      <td>0</td>\n",
       "      <td>0</td>\n",
       "    </tr>\n",
       "    <tr>\n",
       "      <th>197</th>\n",
       "      <td>498</td>\n",
       "      <td>0</td>\n",
       "      <td>0</td>\n",
       "      <td>0</td>\n",
       "      <td>0</td>\n",
       "      <td>0</td>\n",
       "      <td>0</td>\n",
       "      <td>0</td>\n",
       "      <td>0</td>\n",
       "      <td>0</td>\n",
       "      <td>...</td>\n",
       "      <td>0</td>\n",
       "      <td>0</td>\n",
       "      <td>0</td>\n",
       "      <td>0</td>\n",
       "      <td>0</td>\n",
       "      <td>0</td>\n",
       "      <td>0</td>\n",
       "      <td>0</td>\n",
       "      <td>0</td>\n",
       "      <td>0</td>\n",
       "    </tr>\n",
       "    <tr>\n",
       "      <th>198</th>\n",
       "      <td>500</td>\n",
       "      <td>0</td>\n",
       "      <td>0</td>\n",
       "      <td>0</td>\n",
       "      <td>0</td>\n",
       "      <td>0</td>\n",
       "      <td>0</td>\n",
       "      <td>0</td>\n",
       "      <td>0</td>\n",
       "      <td>0</td>\n",
       "      <td>...</td>\n",
       "      <td>0</td>\n",
       "      <td>0</td>\n",
       "      <td>0</td>\n",
       "      <td>0</td>\n",
       "      <td>0</td>\n",
       "      <td>0</td>\n",
       "      <td>0</td>\n",
       "      <td>0</td>\n",
       "      <td>0</td>\n",
       "      <td>0</td>\n",
       "    </tr>\n",
       "  </tbody>\n",
       "</table>\n",
       "<p>5 rows × 675 columns</p>\n",
       "</div>"
      ],
      "text/plain": [
       "     channel  app_000  app_001  app_002  app_003  app_004  app_005  app_006  \\\n",
       "194      490        0        0        0        0        0        0        0   \n",
       "195      496        0        0        0        0        0        0        0   \n",
       "196      497        0        1        0        0        0        0        0   \n",
       "197      498        0        0        0        0        0        0        0   \n",
       "198      500        0        0        0        0        0        0        0   \n",
       "\n",
       "     app_007  app_008   ...     app_758  app_759  app_760  app_761  app_763  \\\n",
       "194        0        0   ...           0        0        0        0        0   \n",
       "195        0        0   ...           0        0        0        0        0   \n",
       "196        0        0   ...           0        0        0        0        0   \n",
       "197        0        0   ...           0        0        0        0        0   \n",
       "198        0        0   ...           0        0        0        0        0   \n",
       "\n",
       "     app_764  app_765  app_766  app_767  app_768  \n",
       "194        0        0        0        0        0  \n",
       "195        0        0        0        0        0  \n",
       "196        0        0        0        0        0  \n",
       "197        0        0        0        0        0  \n",
       "198        0        0        0        0        0  \n",
       "\n",
       "[5 rows x 675 columns]"
      ]
     },
     "execution_count": 29,
     "metadata": {},
     "output_type": "execute_result"
    }
   ],
   "source": [
    "count_user_by_channel_app.tail()"
   ]
  },
  {
   "cell_type": "code",
   "execution_count": 30,
   "metadata": {},
   "outputs": [],
   "source": [
    "count_user_by_channel_app.to_feather('../data/count_user_by_channel_app.feather')"
   ]
  },
  {
   "cell_type": "code",
   "execution_count": 31,
   "metadata": {},
   "outputs": [
    {
     "data": {
      "text/plain": [
       "6090"
      ]
     },
     "execution_count": 31,
     "metadata": {},
     "output_type": "execute_result"
    }
   ],
   "source": [
    "del count_user_by_channel_app\n",
    "gc.collect()"
   ]
  },
  {
   "cell_type": "code",
   "execution_count": 32,
   "metadata": {},
   "outputs": [
    {
     "name": "stdout",
     "output_type": "stream",
     "text": [
      "-rw-r--r-- 1 ubuntu ubuntu 4.3K May  5 04:22 ../data/agg_by_channel.feather\r\n",
      "-rw-r--r-- 1 ubuntu ubuntu 4.8G Apr 30 14:27 ../data/click_data.feather\r\n",
      "-rw-r--r-- 1 ubuntu ubuntu  93K May  4 16:57 ../data/count_channel_coincidence_per_user.feather\r\n",
      "-rw-r--r-- 1 ubuntu ubuntu 1.1M May  5 04:27 ../data/count_user_by_channel_app.feather\r\n",
      "-rw-r--r-- 1 ubuntu ubuntu  18G May  4 07:40 ../data/merge.feather\r\n",
      "-rw-r--r-- 1 ubuntu ubuntu 8.4K May  5 04:26 ../data/uqcount_by_channel.feather\r\n"
     ]
    }
   ],
   "source": [
    "ls -lah ../data/*.feather"
   ]
  },
  {
   "cell_type": "markdown",
   "metadata": {},
   "source": [
    "### cross tabulation (channels clicked by the same user)"
   ]
  },
  {
   "cell_type": "code",
   "execution_count": 33,
   "metadata": {},
   "outputs": [],
   "source": [
    "merge.drop(['app'], axis=1,  inplace=True)\n",
    "merge.drop_duplicates(inplace=True)"
   ]
  },
  {
   "cell_type": "code",
   "execution_count": 34,
   "metadata": {},
   "outputs": [
    {
     "name": "stdout",
     "output_type": "stream",
     "text": [
      "(75266415, 3)\n"
     ]
    },
    {
     "data": {
      "text/html": [
       "<div>\n",
       "<style scoped>\n",
       "    .dataframe tbody tr th:only-of-type {\n",
       "        vertical-align: middle;\n",
       "    }\n",
       "\n",
       "    .dataframe tbody tr th {\n",
       "        vertical-align: top;\n",
       "    }\n",
       "\n",
       "    .dataframe thead th {\n",
       "        text-align: right;\n",
       "    }\n",
       "</style>\n",
       "<table border=\"1\" class=\"dataframe\">\n",
       "  <thead>\n",
       "    <tr style=\"text-align: right;\">\n",
       "      <th></th>\n",
       "      <th>channel</th>\n",
       "      <th>ip_os_device_dow_hour</th>\n",
       "      <th>counter</th>\n",
       "    </tr>\n",
       "  </thead>\n",
       "  <tbody>\n",
       "    <tr>\n",
       "      <th>0</th>\n",
       "      <td>153</td>\n",
       "      <td>765080350001103</td>\n",
       "      <td>1</td>\n",
       "    </tr>\n",
       "    <tr>\n",
       "      <th>1</th>\n",
       "      <td>134</td>\n",
       "      <td>765080350001103</td>\n",
       "      <td>1</td>\n",
       "    </tr>\n",
       "    <tr>\n",
       "      <th>2</th>\n",
       "      <td>315</td>\n",
       "      <td>765080350001103</td>\n",
       "      <td>1</td>\n",
       "    </tr>\n",
       "    <tr>\n",
       "      <th>3</th>\n",
       "      <td>469</td>\n",
       "      <td>765080350001103</td>\n",
       "      <td>1</td>\n",
       "    </tr>\n",
       "    <tr>\n",
       "      <th>4</th>\n",
       "      <td>379</td>\n",
       "      <td>765080350001103</td>\n",
       "      <td>1</td>\n",
       "    </tr>\n",
       "  </tbody>\n",
       "</table>\n",
       "</div>"
      ],
      "text/plain": [
       "   channel  ip_os_device_dow_hour  counter\n",
       "0      153        765080350001103        1\n",
       "1      134        765080350001103        1\n",
       "2      315        765080350001103        1\n",
       "3      469        765080350001103        1\n",
       "4      379        765080350001103        1"
      ]
     },
     "execution_count": 34,
     "metadata": {},
     "output_type": "execute_result"
    }
   ],
   "source": [
    "print(merge.shape)\n",
    "merge.head()"
   ]
  },
  {
   "cell_type": "code",
   "execution_count": 35,
   "metadata": {},
   "outputs": [
    {
     "data": {
      "text/plain": [
       "89"
      ]
     },
     "execution_count": 35,
     "metadata": {},
     "output_type": "execute_result"
    }
   ],
   "source": [
    "gc.collect()"
   ]
  },
  {
   "cell_type": "code",
   "execution_count": 36,
   "metadata": {},
   "outputs": [],
   "source": [
    "merge['counter'] = merge['counter'].astype('bool')"
   ]
  },
  {
   "cell_type": "code",
   "execution_count": 37,
   "metadata": {},
   "outputs": [],
   "source": [
    "d = merge.pivot('ip_os_device_dow_hour', 'channel')"
   ]
  },
  {
   "cell_type": "code",
   "execution_count": 38,
   "metadata": {},
   "outputs": [],
   "source": [
    "d = d.fillna(False)"
   ]
  },
  {
   "cell_type": "code",
   "execution_count": 39,
   "metadata": {},
   "outputs": [
    {
     "data": {
      "text/html": [
       "<div>\n",
       "<style scoped>\n",
       "    .dataframe tbody tr th:only-of-type {\n",
       "        vertical-align: middle;\n",
       "    }\n",
       "\n",
       "    .dataframe tbody tr th {\n",
       "        vertical-align: top;\n",
       "    }\n",
       "\n",
       "    .dataframe thead tr th {\n",
       "        text-align: left;\n",
       "    }\n",
       "\n",
       "    .dataframe thead tr:last-of-type th {\n",
       "        text-align: right;\n",
       "    }\n",
       "</style>\n",
       "<table border=\"1\" class=\"dataframe\">\n",
       "  <thead>\n",
       "    <tr>\n",
       "      <th></th>\n",
       "      <th colspan=\"21\" halign=\"left\">counter</th>\n",
       "    </tr>\n",
       "    <tr>\n",
       "      <th>channel</th>\n",
       "      <th>0</th>\n",
       "      <th>3</th>\n",
       "      <th>4</th>\n",
       "      <th>5</th>\n",
       "      <th>13</th>\n",
       "      <th>14</th>\n",
       "      <th>15</th>\n",
       "      <th>17</th>\n",
       "      <th>18</th>\n",
       "      <th>19</th>\n",
       "      <th>...</th>\n",
       "      <th>484</th>\n",
       "      <th>486</th>\n",
       "      <th>487</th>\n",
       "      <th>488</th>\n",
       "      <th>489</th>\n",
       "      <th>490</th>\n",
       "      <th>496</th>\n",
       "      <th>497</th>\n",
       "      <th>498</th>\n",
       "      <th>500</th>\n",
       "    </tr>\n",
       "    <tr>\n",
       "      <th>ip_os_device_dow_hour</th>\n",
       "      <th></th>\n",
       "      <th></th>\n",
       "      <th></th>\n",
       "      <th></th>\n",
       "      <th></th>\n",
       "      <th></th>\n",
       "      <th></th>\n",
       "      <th></th>\n",
       "      <th></th>\n",
       "      <th></th>\n",
       "      <th></th>\n",
       "      <th></th>\n",
       "      <th></th>\n",
       "      <th></th>\n",
       "      <th></th>\n",
       "      <th></th>\n",
       "      <th></th>\n",
       "      <th></th>\n",
       "      <th></th>\n",
       "      <th></th>\n",
       "      <th></th>\n",
       "    </tr>\n",
       "  </thead>\n",
       "  <tbody>\n",
       "    <tr>\n",
       "      <th>10020001303</th>\n",
       "      <td>False</td>\n",
       "      <td>False</td>\n",
       "      <td>False</td>\n",
       "      <td>False</td>\n",
       "      <td>False</td>\n",
       "      <td>False</td>\n",
       "      <td>False</td>\n",
       "      <td>False</td>\n",
       "      <td>False</td>\n",
       "      <td>False</td>\n",
       "      <td>...</td>\n",
       "      <td>False</td>\n",
       "      <td>False</td>\n",
       "      <td>False</td>\n",
       "      <td>False</td>\n",
       "      <td>False</td>\n",
       "      <td>False</td>\n",
       "      <td>False</td>\n",
       "      <td>False</td>\n",
       "      <td>False</td>\n",
       "      <td>False</td>\n",
       "    </tr>\n",
       "    <tr>\n",
       "      <th>10020001314</th>\n",
       "      <td>False</td>\n",
       "      <td>False</td>\n",
       "      <td>False</td>\n",
       "      <td>False</td>\n",
       "      <td>False</td>\n",
       "      <td>False</td>\n",
       "      <td>False</td>\n",
       "      <td>False</td>\n",
       "      <td>False</td>\n",
       "      <td>False</td>\n",
       "      <td>...</td>\n",
       "      <td>False</td>\n",
       "      <td>False</td>\n",
       "      <td>False</td>\n",
       "      <td>False</td>\n",
       "      <td>False</td>\n",
       "      <td>False</td>\n",
       "      <td>False</td>\n",
       "      <td>False</td>\n",
       "      <td>False</td>\n",
       "      <td>False</td>\n",
       "    </tr>\n",
       "    <tr>\n",
       "      <th>10040001312</th>\n",
       "      <td>False</td>\n",
       "      <td>False</td>\n",
       "      <td>False</td>\n",
       "      <td>False</td>\n",
       "      <td>False</td>\n",
       "      <td>False</td>\n",
       "      <td>False</td>\n",
       "      <td>False</td>\n",
       "      <td>False</td>\n",
       "      <td>False</td>\n",
       "      <td>...</td>\n",
       "      <td>False</td>\n",
       "      <td>False</td>\n",
       "      <td>False</td>\n",
       "      <td>False</td>\n",
       "      <td>False</td>\n",
       "      <td>False</td>\n",
       "      <td>False</td>\n",
       "      <td>False</td>\n",
       "      <td>False</td>\n",
       "      <td>False</td>\n",
       "    </tr>\n",
       "    <tr>\n",
       "      <th>10040001314</th>\n",
       "      <td>False</td>\n",
       "      <td>False</td>\n",
       "      <td>False</td>\n",
       "      <td>False</td>\n",
       "      <td>False</td>\n",
       "      <td>False</td>\n",
       "      <td>False</td>\n",
       "      <td>False</td>\n",
       "      <td>False</td>\n",
       "      <td>False</td>\n",
       "      <td>...</td>\n",
       "      <td>False</td>\n",
       "      <td>False</td>\n",
       "      <td>False</td>\n",
       "      <td>False</td>\n",
       "      <td>False</td>\n",
       "      <td>False</td>\n",
       "      <td>False</td>\n",
       "      <td>False</td>\n",
       "      <td>False</td>\n",
       "      <td>False</td>\n",
       "    </tr>\n",
       "    <tr>\n",
       "      <th>10090001303</th>\n",
       "      <td>False</td>\n",
       "      <td>False</td>\n",
       "      <td>False</td>\n",
       "      <td>False</td>\n",
       "      <td>False</td>\n",
       "      <td>False</td>\n",
       "      <td>False</td>\n",
       "      <td>False</td>\n",
       "      <td>False</td>\n",
       "      <td>False</td>\n",
       "      <td>...</td>\n",
       "      <td>False</td>\n",
       "      <td>False</td>\n",
       "      <td>False</td>\n",
       "      <td>False</td>\n",
       "      <td>False</td>\n",
       "      <td>False</td>\n",
       "      <td>False</td>\n",
       "      <td>False</td>\n",
       "      <td>False</td>\n",
       "      <td>False</td>\n",
       "    </tr>\n",
       "  </tbody>\n",
       "</table>\n",
       "<p>5 rows × 199 columns</p>\n",
       "</div>"
      ],
      "text/plain": [
       "                      counter                                            \\\n",
       "channel                   0      3      4      5      13     14     15    \n",
       "ip_os_device_dow_hour                                                     \n",
       "10020001303             False  False  False  False  False  False  False   \n",
       "10020001314             False  False  False  False  False  False  False   \n",
       "10040001312             False  False  False  False  False  False  False   \n",
       "10040001314             False  False  False  False  False  False  False   \n",
       "10090001303             False  False  False  False  False  False  False   \n",
       "\n",
       "                                            ...                                \\\n",
       "channel                  17     18     19   ...      484    486    487    488   \n",
       "ip_os_device_dow_hour                       ...                                 \n",
       "10020001303            False  False  False  ...    False  False  False  False   \n",
       "10020001314            False  False  False  ...    False  False  False  False   \n",
       "10040001312            False  False  False  ...    False  False  False  False   \n",
       "10040001314            False  False  False  ...    False  False  False  False   \n",
       "10090001303            False  False  False  ...    False  False  False  False   \n",
       "\n",
       "                                                                 \n",
       "channel                  489    490    496    497    498    500  \n",
       "ip_os_device_dow_hour                                            \n",
       "10020001303            False  False  False  False  False  False  \n",
       "10020001314            False  False  False  False  False  False  \n",
       "10040001312            False  False  False  False  False  False  \n",
       "10040001314            False  False  False  False  False  False  \n",
       "10090001303            False  False  False  False  False  False  \n",
       "\n",
       "[5 rows x 199 columns]"
      ]
     },
     "execution_count": 39,
     "metadata": {},
     "output_type": "execute_result"
    }
   ],
   "source": [
    "d.head()"
   ]
  },
  {
   "cell_type": "code",
   "execution_count": 40,
   "metadata": {},
   "outputs": [
    {
     "name": "stdout",
     "output_type": "stream",
     "text": [
      "CPU times: user 8min 20s, sys: 4.02 s, total: 8min 24s\n",
      "Wall time: 8min 24s\n"
     ]
    }
   ],
   "source": [
    "%%time\n",
    "mat = np.dot(d.astype('bool').astype('uint16').values.T,\n",
    "             d.astype('bool').astype('uint16').values)"
   ]
  },
  {
   "cell_type": "code",
   "execution_count": 41,
   "metadata": {},
   "outputs": [],
   "source": [
    "count_channel_coincidence_per_user = pd.DataFrame(mat)"
   ]
  },
  {
   "cell_type": "code",
   "execution_count": 45,
   "metadata": {},
   "outputs": [
    {
     "data": {
      "text/html": [
       "<div>\n",
       "<style scoped>\n",
       "    .dataframe tbody tr th:only-of-type {\n",
       "        vertical-align: middle;\n",
       "    }\n",
       "\n",
       "    .dataframe tbody tr th {\n",
       "        vertical-align: top;\n",
       "    }\n",
       "\n",
       "    .dataframe thead th {\n",
       "        text-align: right;\n",
       "    }\n",
       "</style>\n",
       "<table border=\"1\" class=\"dataframe\">\n",
       "  <thead>\n",
       "    <tr style=\"text-align: right;\">\n",
       "      <th></th>\n",
       "      <th>chan_000</th>\n",
       "      <th>chan_003</th>\n",
       "      <th>chan_004</th>\n",
       "      <th>chan_005</th>\n",
       "      <th>chan_013</th>\n",
       "      <th>chan_014</th>\n",
       "      <th>chan_015</th>\n",
       "      <th>chan_017</th>\n",
       "      <th>chan_018</th>\n",
       "      <th>chan_019</th>\n",
       "      <th>...</th>\n",
       "      <th>chan_484</th>\n",
       "      <th>chan_486</th>\n",
       "      <th>chan_487</th>\n",
       "      <th>chan_488</th>\n",
       "      <th>chan_489</th>\n",
       "      <th>chan_490</th>\n",
       "      <th>chan_496</th>\n",
       "      <th>chan_497</th>\n",
       "      <th>chan_498</th>\n",
       "      <th>chan_500</th>\n",
       "    </tr>\n",
       "  </thead>\n",
       "  <tbody>\n",
       "    <tr>\n",
       "      <th>0</th>\n",
       "      <td>776</td>\n",
       "      <td>46</td>\n",
       "      <td>0</td>\n",
       "      <td>0</td>\n",
       "      <td>4</td>\n",
       "      <td>0</td>\n",
       "      <td>1</td>\n",
       "      <td>21</td>\n",
       "      <td>5</td>\n",
       "      <td>98</td>\n",
       "      <td>...</td>\n",
       "      <td>7</td>\n",
       "      <td>0</td>\n",
       "      <td>52</td>\n",
       "      <td>2</td>\n",
       "      <td>140</td>\n",
       "      <td>5</td>\n",
       "      <td>20</td>\n",
       "      <td>55</td>\n",
       "      <td>0</td>\n",
       "      <td>0</td>\n",
       "    </tr>\n",
       "    <tr>\n",
       "      <th>1</th>\n",
       "      <td>46</td>\n",
       "      <td>16927</td>\n",
       "      <td>6</td>\n",
       "      <td>143</td>\n",
       "      <td>2478</td>\n",
       "      <td>1</td>\n",
       "      <td>262</td>\n",
       "      <td>6136</td>\n",
       "      <td>1586</td>\n",
       "      <td>22342</td>\n",
       "      <td>...</td>\n",
       "      <td>3382</td>\n",
       "      <td>107</td>\n",
       "      <td>8503</td>\n",
       "      <td>604</td>\n",
       "      <td>37836</td>\n",
       "      <td>1745</td>\n",
       "      <td>1724</td>\n",
       "      <td>11075</td>\n",
       "      <td>8</td>\n",
       "      <td>0</td>\n",
       "    </tr>\n",
       "    <tr>\n",
       "      <th>2</th>\n",
       "      <td>0</td>\n",
       "      <td>6</td>\n",
       "      <td>587</td>\n",
       "      <td>1</td>\n",
       "      <td>1</td>\n",
       "      <td>0</td>\n",
       "      <td>0</td>\n",
       "      <td>14</td>\n",
       "      <td>1</td>\n",
       "      <td>58</td>\n",
       "      <td>...</td>\n",
       "      <td>2</td>\n",
       "      <td>0</td>\n",
       "      <td>27</td>\n",
       "      <td>0</td>\n",
       "      <td>169</td>\n",
       "      <td>2</td>\n",
       "      <td>7</td>\n",
       "      <td>21</td>\n",
       "      <td>0</td>\n",
       "      <td>0</td>\n",
       "    </tr>\n",
       "    <tr>\n",
       "      <th>3</th>\n",
       "      <td>0</td>\n",
       "      <td>143</td>\n",
       "      <td>1</td>\n",
       "      <td>8403</td>\n",
       "      <td>43</td>\n",
       "      <td>0</td>\n",
       "      <td>5</td>\n",
       "      <td>123</td>\n",
       "      <td>17</td>\n",
       "      <td>372</td>\n",
       "      <td>...</td>\n",
       "      <td>58</td>\n",
       "      <td>1</td>\n",
       "      <td>171</td>\n",
       "      <td>10</td>\n",
       "      <td>537</td>\n",
       "      <td>36</td>\n",
       "      <td>118</td>\n",
       "      <td>210</td>\n",
       "      <td>0</td>\n",
       "      <td>0</td>\n",
       "    </tr>\n",
       "    <tr>\n",
       "      <th>4</th>\n",
       "      <td>4</td>\n",
       "      <td>2478</td>\n",
       "      <td>1</td>\n",
       "      <td>43</td>\n",
       "      <td>36210</td>\n",
       "      <td>1</td>\n",
       "      <td>1115</td>\n",
       "      <td>1083</td>\n",
       "      <td>2152</td>\n",
       "      <td>3988</td>\n",
       "      <td>...</td>\n",
       "      <td>5198</td>\n",
       "      <td>105</td>\n",
       "      <td>1635</td>\n",
       "      <td>1673</td>\n",
       "      <td>6331</td>\n",
       "      <td>1103</td>\n",
       "      <td>4</td>\n",
       "      <td>1999</td>\n",
       "      <td>1</td>\n",
       "      <td>0</td>\n",
       "    </tr>\n",
       "  </tbody>\n",
       "</table>\n",
       "<p>5 rows × 199 columns</p>\n",
       "</div>"
      ],
      "text/plain": [
       "   chan_000  chan_003  chan_004  chan_005  chan_013  chan_014  chan_015  \\\n",
       "0       776        46         0         0         4         0         1   \n",
       "1        46     16927         6       143      2478         1       262   \n",
       "2         0         6       587         1         1         0         0   \n",
       "3         0       143         1      8403        43         0         5   \n",
       "4         4      2478         1        43     36210         1      1115   \n",
       "\n",
       "   chan_017  chan_018  chan_019    ...     chan_484  chan_486  chan_487  \\\n",
       "0        21         5        98    ...            7         0        52   \n",
       "1      6136      1586     22342    ...         3382       107      8503   \n",
       "2        14         1        58    ...            2         0        27   \n",
       "3       123        17       372    ...           58         1       171   \n",
       "4      1083      2152      3988    ...         5198       105      1635   \n",
       "\n",
       "   chan_488  chan_489  chan_490  chan_496  chan_497  chan_498  chan_500  \n",
       "0         2       140         5        20        55         0         0  \n",
       "1       604     37836      1745      1724     11075         8         0  \n",
       "2         0       169         2         7        21         0         0  \n",
       "3        10       537        36       118       210         0         0  \n",
       "4      1673      6331      1103         4      1999         1         0  \n",
       "\n",
       "[5 rows x 199 columns]"
      ]
     },
     "execution_count": 45,
     "metadata": {},
     "output_type": "execute_result"
    }
   ],
   "source": [
    "chanlabel = ['chan_{0:03d}'.format(i) for i in list(set(merge.channel))]\n",
    "count_channel_coincidence_per_user.columns = chanlabel\n",
    "count_channel_coincidence_per_user.head()"
   ]
  },
  {
   "cell_type": "code",
   "execution_count": 42,
   "metadata": {},
   "outputs": [
    {
     "data": {
      "text/plain": [
       "111"
      ]
     },
     "execution_count": 42,
     "metadata": {},
     "output_type": "execute_result"
    }
   ],
   "source": [
    "del merge, mat, d\n",
    "gc.collect()"
   ]
  },
  {
   "cell_type": "code",
   "execution_count": 46,
   "metadata": {},
   "outputs": [],
   "source": [
    "count_channel_coincidence_per_user.to_feather('../data/count_channel_coincidence_per_user.feather')"
   ]
  },
  {
   "cell_type": "code",
   "execution_count": 47,
   "metadata": {},
   "outputs": [
    {
     "data": {
      "text/plain": [
       "1803"
      ]
     },
     "execution_count": 47,
     "metadata": {},
     "output_type": "execute_result"
    }
   ],
   "source": [
    "del count_channel_coincidence_per_user\n",
    "gc.collect()"
   ]
  },
  {
   "cell_type": "code",
   "execution_count": 48,
   "metadata": {},
   "outputs": [
    {
     "name": "stdout",
     "output_type": "stream",
     "text": [
      "-rw-r--r-- 1 ubuntu ubuntu 4.3K May  5 04:22 ../data/agg_by_channel.feather\r\n",
      "-rw-r--r-- 1 ubuntu ubuntu 4.8G Apr 30 14:27 ../data/click_data.feather\r\n",
      "-rw-r--r-- 1 ubuntu ubuntu  93K May  5 04:53 ../data/count_channel_coincidence_per_user.feather\r\n",
      "-rw-r--r-- 1 ubuntu ubuntu 1.1M May  5 04:27 ../data/count_user_by_channel_app.feather\r\n",
      "-rw-r--r-- 1 ubuntu ubuntu  18G May  4 07:40 ../data/merge.feather\r\n",
      "-rw-r--r-- 1 ubuntu ubuntu 8.4K May  5 04:26 ../data/uqcount_by_channel.feather\r\n"
     ]
    }
   ],
   "source": [
    "ls -lah ../data/*.feather"
   ]
  },
  {
   "cell_type": "markdown",
   "metadata": {},
   "source": [
    "### pca"
   ]
  },
  {
   "cell_type": "code",
   "execution_count": 1,
   "metadata": {},
   "outputs": [],
   "source": [
    "import pandas as pd\n",
    "import numpy as np\n",
    "from sklearn.decomposition import PCA"
   ]
  },
  {
   "cell_type": "code",
   "execution_count": 2,
   "metadata": {},
   "outputs": [],
   "source": [
    "d = pd.concat([\n",
    "    pd.read_feather('../data/agg_by_channel.feather'),\n",
    "    pd.read_feather('../data/uqcount_by_channel.feather'),\n",
    "    pd.read_feather('../data/count_user_by_channel_app.feather'),\n",
    "    pd.read_feather('../data/count_channel_coincidence_per_user.feather')\n",
    "], axis = 1)"
   ]
  },
  {
   "cell_type": "code",
   "execution_count": 3,
   "metadata": {},
   "outputs": [
    {
     "name": "stdout",
     "output_type": "stream",
     "text": [
      "(199, 882)\n"
     ]
    },
    {
     "data": {
      "text/html": [
       "<div>\n",
       "<style scoped>\n",
       "    .dataframe tbody tr th:only-of-type {\n",
       "        vertical-align: middle;\n",
       "    }\n",
       "\n",
       "    .dataframe tbody tr th {\n",
       "        vertical-align: top;\n",
       "    }\n",
       "\n",
       "    .dataframe thead th {\n",
       "        text-align: right;\n",
       "    }\n",
       "</style>\n",
       "<table border=\"1\" class=\"dataframe\">\n",
       "  <thead>\n",
       "    <tr style=\"text-align: right;\">\n",
       "      <th></th>\n",
       "      <th>channel</th>\n",
       "      <th>count_by_channel</th>\n",
       "      <th>attrib_by_channel</th>\n",
       "      <th>uqcount_app_by_channel</th>\n",
       "      <th>uqcount_ip_by_channel</th>\n",
       "      <th>uqcount_device_by_channel</th>\n",
       "      <th>uqcount_os_by_channel</th>\n",
       "      <th>uqcount_user_by_channel</th>\n",
       "      <th>channel</th>\n",
       "      <th>app_000</th>\n",
       "      <th>...</th>\n",
       "      <th>chan_484</th>\n",
       "      <th>chan_486</th>\n",
       "      <th>chan_487</th>\n",
       "      <th>chan_488</th>\n",
       "      <th>chan_489</th>\n",
       "      <th>chan_490</th>\n",
       "      <th>chan_496</th>\n",
       "      <th>chan_497</th>\n",
       "      <th>chan_498</th>\n",
       "      <th>chan_500</th>\n",
       "    </tr>\n",
       "  </thead>\n",
       "  <tbody>\n",
       "    <tr>\n",
       "      <th>0</th>\n",
       "      <td>0</td>\n",
       "      <td>1258</td>\n",
       "      <td>87</td>\n",
       "      <td>25</td>\n",
       "      <td>705</td>\n",
       "      <td>13</td>\n",
       "      <td>49</td>\n",
       "      <td>776</td>\n",
       "      <td>0</td>\n",
       "      <td>0</td>\n",
       "      <td>...</td>\n",
       "      <td>7</td>\n",
       "      <td>0</td>\n",
       "      <td>52</td>\n",
       "      <td>2</td>\n",
       "      <td>140</td>\n",
       "      <td>5</td>\n",
       "      <td>20</td>\n",
       "      <td>55</td>\n",
       "      <td>0</td>\n",
       "      <td>0</td>\n",
       "    </tr>\n",
       "    <tr>\n",
       "      <th>1</th>\n",
       "      <td>3</td>\n",
       "      <td>546455</td>\n",
       "      <td>283</td>\n",
       "      <td>13</td>\n",
       "      <td>10646</td>\n",
       "      <td>12</td>\n",
       "      <td>184</td>\n",
       "      <td>279071</td>\n",
       "      <td>3</td>\n",
       "      <td>0</td>\n",
       "      <td>...</td>\n",
       "      <td>3382</td>\n",
       "      <td>107</td>\n",
       "      <td>8503</td>\n",
       "      <td>604</td>\n",
       "      <td>37836</td>\n",
       "      <td>1745</td>\n",
       "      <td>1724</td>\n",
       "      <td>11075</td>\n",
       "      <td>8</td>\n",
       "      <td>0</td>\n",
       "    </tr>\n",
       "    <tr>\n",
       "      <th>2</th>\n",
       "      <td>4</td>\n",
       "      <td>735</td>\n",
       "      <td>54</td>\n",
       "      <td>6</td>\n",
       "      <td>496</td>\n",
       "      <td>6</td>\n",
       "      <td>42</td>\n",
       "      <td>587</td>\n",
       "      <td>4</td>\n",
       "      <td>0</td>\n",
       "      <td>...</td>\n",
       "      <td>2</td>\n",
       "      <td>0</td>\n",
       "      <td>27</td>\n",
       "      <td>0</td>\n",
       "      <td>169</td>\n",
       "      <td>2</td>\n",
       "      <td>7</td>\n",
       "      <td>21</td>\n",
       "      <td>0</td>\n",
       "      <td>0</td>\n",
       "    </tr>\n",
       "    <tr>\n",
       "      <th>3</th>\n",
       "      <td>5</td>\n",
       "      <td>9289</td>\n",
       "      <td>5735</td>\n",
       "      <td>2</td>\n",
       "      <td>6831</td>\n",
       "      <td>7</td>\n",
       "      <td>44</td>\n",
       "      <td>8403</td>\n",
       "      <td>5</td>\n",
       "      <td>0</td>\n",
       "      <td>...</td>\n",
       "      <td>58</td>\n",
       "      <td>1</td>\n",
       "      <td>171</td>\n",
       "      <td>10</td>\n",
       "      <td>537</td>\n",
       "      <td>36</td>\n",
       "      <td>118</td>\n",
       "      <td>210</td>\n",
       "      <td>0</td>\n",
       "      <td>0</td>\n",
       "    </tr>\n",
       "    <tr>\n",
       "      <th>4</th>\n",
       "      <td>13</td>\n",
       "      <td>86058</td>\n",
       "      <td>6</td>\n",
       "      <td>2</td>\n",
       "      <td>8995</td>\n",
       "      <td>6</td>\n",
       "      <td>108</td>\n",
       "      <td>36210</td>\n",
       "      <td>13</td>\n",
       "      <td>0</td>\n",
       "      <td>...</td>\n",
       "      <td>5198</td>\n",
       "      <td>105</td>\n",
       "      <td>1635</td>\n",
       "      <td>1673</td>\n",
       "      <td>6331</td>\n",
       "      <td>1103</td>\n",
       "      <td>4</td>\n",
       "      <td>1999</td>\n",
       "      <td>1</td>\n",
       "      <td>0</td>\n",
       "    </tr>\n",
       "  </tbody>\n",
       "</table>\n",
       "<p>5 rows × 882 columns</p>\n",
       "</div>"
      ],
      "text/plain": [
       "   channel  count_by_channel  attrib_by_channel  uqcount_app_by_channel  \\\n",
       "0        0              1258                 87                      25   \n",
       "1        3            546455                283                      13   \n",
       "2        4               735                 54                       6   \n",
       "3        5              9289               5735                       2   \n",
       "4       13             86058                  6                       2   \n",
       "\n",
       "   uqcount_ip_by_channel  uqcount_device_by_channel  uqcount_os_by_channel  \\\n",
       "0                    705                         13                     49   \n",
       "1                  10646                         12                    184   \n",
       "2                    496                          6                     42   \n",
       "3                   6831                          7                     44   \n",
       "4                   8995                          6                    108   \n",
       "\n",
       "   uqcount_user_by_channel  channel  app_000    ...     chan_484  chan_486  \\\n",
       "0                      776        0        0    ...            7         0   \n",
       "1                   279071        3        0    ...         3382       107   \n",
       "2                      587        4        0    ...            2         0   \n",
       "3                     8403        5        0    ...           58         1   \n",
       "4                    36210       13        0    ...         5198       105   \n",
       "\n",
       "   chan_487  chan_488  chan_489  chan_490  chan_496  chan_497  chan_498  \\\n",
       "0        52         2       140         5        20        55         0   \n",
       "1      8503       604     37836      1745      1724     11075         8   \n",
       "2        27         0       169         2         7        21         0   \n",
       "3       171        10       537        36       118       210         0   \n",
       "4      1635      1673      6331      1103         4      1999         1   \n",
       "\n",
       "   chan_500  \n",
       "0         0  \n",
       "1         0  \n",
       "2         0  \n",
       "3         0  \n",
       "4         0  \n",
       "\n",
       "[5 rows x 882 columns]"
      ]
     },
     "execution_count": 3,
     "metadata": {},
     "output_type": "execute_result"
    }
   ],
   "source": [
    "print(d.shape)\n",
    "d.head()"
   ]
  },
  {
   "cell_type": "code",
   "execution_count": 4,
   "metadata": {},
   "outputs": [],
   "source": [
    "y = d[['channel', 'attrib_by_channel']].iloc[:, 1:]\n",
    "X = d.drop(['channel', 'attrib_by_channel'], axis=1)"
   ]
  },
  {
   "cell_type": "code",
   "execution_count": 5,
   "metadata": {},
   "outputs": [],
   "source": [
    "n_components = 20\n",
    "pca = PCA(n_components = n_components)\n",
    "res = pca.fit_transform(X.values)"
   ]
  },
  {
   "cell_type": "code",
   "execution_count": 6,
   "metadata": {},
   "outputs": [
    {
     "data": {
      "text/plain": [
       "(199, 20)"
      ]
     },
     "execution_count": 6,
     "metadata": {},
     "output_type": "execute_result"
    }
   ],
   "source": [
    "res.shape"
   ]
  },
  {
   "cell_type": "code",
   "execution_count": 7,
   "metadata": {},
   "outputs": [
    {
     "data": {
      "text/plain": [
       "array([0.84613685, 0.88533139, 0.91000717, 0.92937141, 0.94309187,\n",
       "       0.95279619, 0.96147134, 0.96703268, 0.97245128, 0.97691818,\n",
       "       0.98097505, 0.98406001, 0.98667171, 0.98860084, 0.99005921,\n",
       "       0.99137541, 0.99250953, 0.9935579 , 0.99424756, 0.99482423])"
      ]
     },
     "execution_count": 7,
     "metadata": {},
     "output_type": "execute_result"
    }
   ],
   "source": [
    "pca.explained_variance_ratio_.cumsum()"
   ]
  },
  {
   "cell_type": "code",
   "execution_count": 8,
   "metadata": {},
   "outputs": [],
   "source": [
    "col = ['channel_pca_{0:02d}'.format(i) for i in [i + 1 for i in range(20)]]\n",
    "res = pd.DataFrame(res, columns=col)\n",
    "channel_pca = pd.concat([y.channel, res], axis=1)"
   ]
  },
  {
   "cell_type": "code",
   "execution_count": 10,
   "metadata": {},
   "outputs": [],
   "source": [
    "channel_pca.to_feather('../data/channel_pca.feather')"
   ]
  },
  {
   "cell_type": "code",
   "execution_count": 9,
   "metadata": {},
   "outputs": [
    {
     "data": {
      "text/html": [
       "<div>\n",
       "<style scoped>\n",
       "    .dataframe tbody tr th:only-of-type {\n",
       "        vertical-align: middle;\n",
       "    }\n",
       "\n",
       "    .dataframe tbody tr th {\n",
       "        vertical-align: top;\n",
       "    }\n",
       "\n",
       "    .dataframe thead th {\n",
       "        text-align: right;\n",
       "    }\n",
       "</style>\n",
       "<table border=\"1\" class=\"dataframe\">\n",
       "  <thead>\n",
       "    <tr style=\"text-align: right;\">\n",
       "      <th></th>\n",
       "      <th>channel</th>\n",
       "      <th>channel_pca_01</th>\n",
       "      <th>channel_pca_02</th>\n",
       "      <th>channel_pca_03</th>\n",
       "      <th>channel_pca_04</th>\n",
       "      <th>channel_pca_05</th>\n",
       "      <th>channel_pca_06</th>\n",
       "      <th>channel_pca_07</th>\n",
       "      <th>channel_pca_08</th>\n",
       "      <th>channel_pca_09</th>\n",
       "      <th>...</th>\n",
       "      <th>channel_pca_11</th>\n",
       "      <th>channel_pca_12</th>\n",
       "      <th>channel_pca_13</th>\n",
       "      <th>channel_pca_14</th>\n",
       "      <th>channel_pca_15</th>\n",
       "      <th>channel_pca_16</th>\n",
       "      <th>channel_pca_17</th>\n",
       "      <th>channel_pca_18</th>\n",
       "      <th>channel_pca_19</th>\n",
       "      <th>channel_pca_20</th>\n",
       "    </tr>\n",
       "  </thead>\n",
       "  <tbody>\n",
       "    <tr>\n",
       "      <th>0</th>\n",
       "      <td>0</td>\n",
       "      <td>-752818.244165</td>\n",
       "      <td>51908.446351</td>\n",
       "      <td>24084.129406</td>\n",
       "      <td>-61086.744195</td>\n",
       "      <td>69772.192004</td>\n",
       "      <td>9664.098810</td>\n",
       "      <td>-21196.799379</td>\n",
       "      <td>5825.773622</td>\n",
       "      <td>10385.103648</td>\n",
       "      <td>...</td>\n",
       "      <td>-12887.367785</td>\n",
       "      <td>-2545.875057</td>\n",
       "      <td>-37452.297652</td>\n",
       "      <td>4153.414052</td>\n",
       "      <td>8944.322702</td>\n",
       "      <td>5453.486828</td>\n",
       "      <td>7468.202736</td>\n",
       "      <td>724.312470</td>\n",
       "      <td>3826.247412</td>\n",
       "      <td>2832.185252</td>\n",
       "    </tr>\n",
       "    <tr>\n",
       "      <th>1</th>\n",
       "      <td>3</td>\n",
       "      <td>-130830.412280</td>\n",
       "      <td>-39690.161209</td>\n",
       "      <td>-75434.725347</td>\n",
       "      <td>-49293.680501</td>\n",
       "      <td>-2887.239246</td>\n",
       "      <td>114504.559921</td>\n",
       "      <td>175029.709959</td>\n",
       "      <td>-135512.245910</td>\n",
       "      <td>-48637.925197</td>\n",
       "      <td>...</td>\n",
       "      <td>-1681.408214</td>\n",
       "      <td>-1708.302756</td>\n",
       "      <td>47264.302591</td>\n",
       "      <td>-13309.292334</td>\n",
       "      <td>-12437.432243</td>\n",
       "      <td>-18154.741356</td>\n",
       "      <td>-21433.616990</td>\n",
       "      <td>-10974.927755</td>\n",
       "      <td>-27888.468723</td>\n",
       "      <td>-5670.686402</td>\n",
       "    </tr>\n",
       "    <tr>\n",
       "      <th>2</th>\n",
       "      <td>4</td>\n",
       "      <td>-753386.848518</td>\n",
       "      <td>51979.279630</td>\n",
       "      <td>24131.105319</td>\n",
       "      <td>-61155.075120</td>\n",
       "      <td>69854.031239</td>\n",
       "      <td>9622.948792</td>\n",
       "      <td>-21246.193832</td>\n",
       "      <td>5839.320265</td>\n",
       "      <td>10416.722360</td>\n",
       "      <td>...</td>\n",
       "      <td>-12984.261963</td>\n",
       "      <td>-2582.235473</td>\n",
       "      <td>-37749.390562</td>\n",
       "      <td>4175.201124</td>\n",
       "      <td>9028.090233</td>\n",
       "      <td>5526.026571</td>\n",
       "      <td>7551.844882</td>\n",
       "      <td>731.748658</td>\n",
       "      <td>3884.571108</td>\n",
       "      <td>2873.608418</td>\n",
       "    </tr>\n",
       "    <tr>\n",
       "      <th>3</th>\n",
       "      <td>5</td>\n",
       "      <td>-742193.572720</td>\n",
       "      <td>50291.630508</td>\n",
       "      <td>23837.067834</td>\n",
       "      <td>-58894.469669</td>\n",
       "      <td>67275.447628</td>\n",
       "      <td>8970.978590</td>\n",
       "      <td>-20197.406721</td>\n",
       "      <td>6673.033984</td>\n",
       "      <td>9845.711583</td>\n",
       "      <td>...</td>\n",
       "      <td>-12450.057179</td>\n",
       "      <td>-2376.740001</td>\n",
       "      <td>-36298.403254</td>\n",
       "      <td>3999.363226</td>\n",
       "      <td>8873.627135</td>\n",
       "      <td>5868.181044</td>\n",
       "      <td>7663.260330</td>\n",
       "      <td>326.569169</td>\n",
       "      <td>3127.659777</td>\n",
       "      <td>2897.295679</td>\n",
       "    </tr>\n",
       "    <tr>\n",
       "      <th>4</th>\n",
       "      <td>13</td>\n",
       "      <td>-659150.843687</td>\n",
       "      <td>39703.522279</td>\n",
       "      <td>19338.725568</td>\n",
       "      <td>-51718.550735</td>\n",
       "      <td>57973.518248</td>\n",
       "      <td>17399.894770</td>\n",
       "      <td>-9317.838809</td>\n",
       "      <td>17013.266838</td>\n",
       "      <td>2051.281541</td>\n",
       "      <td>...</td>\n",
       "      <td>-3649.617223</td>\n",
       "      <td>1863.984973</td>\n",
       "      <td>3756.454250</td>\n",
       "      <td>-2246.902155</td>\n",
       "      <td>11516.344750</td>\n",
       "      <td>-5239.480764</td>\n",
       "      <td>-10999.921091</td>\n",
       "      <td>2755.701520</td>\n",
       "      <td>15534.328965</td>\n",
       "      <td>6055.053807</td>\n",
       "    </tr>\n",
       "  </tbody>\n",
       "</table>\n",
       "<p>5 rows × 21 columns</p>\n",
       "</div>"
      ],
      "text/plain": [
       "   channel  channel_pca_01  channel_pca_02  channel_pca_03  channel_pca_04  \\\n",
       "0        0  -752818.244165    51908.446351    24084.129406   -61086.744195   \n",
       "1        3  -130830.412280   -39690.161209   -75434.725347   -49293.680501   \n",
       "2        4  -753386.848518    51979.279630    24131.105319   -61155.075120   \n",
       "3        5  -742193.572720    50291.630508    23837.067834   -58894.469669   \n",
       "4       13  -659150.843687    39703.522279    19338.725568   -51718.550735   \n",
       "\n",
       "   channel_pca_05  channel_pca_06  channel_pca_07  channel_pca_08  \\\n",
       "0    69772.192004     9664.098810   -21196.799379     5825.773622   \n",
       "1    -2887.239246   114504.559921   175029.709959  -135512.245910   \n",
       "2    69854.031239     9622.948792   -21246.193832     5839.320265   \n",
       "3    67275.447628     8970.978590   -20197.406721     6673.033984   \n",
       "4    57973.518248    17399.894770    -9317.838809    17013.266838   \n",
       "\n",
       "   channel_pca_09       ...        channel_pca_11  channel_pca_12  \\\n",
       "0    10385.103648       ...         -12887.367785    -2545.875057   \n",
       "1   -48637.925197       ...          -1681.408214    -1708.302756   \n",
       "2    10416.722360       ...         -12984.261963    -2582.235473   \n",
       "3     9845.711583       ...         -12450.057179    -2376.740001   \n",
       "4     2051.281541       ...          -3649.617223     1863.984973   \n",
       "\n",
       "   channel_pca_13  channel_pca_14  channel_pca_15  channel_pca_16  \\\n",
       "0   -37452.297652     4153.414052     8944.322702     5453.486828   \n",
       "1    47264.302591   -13309.292334   -12437.432243   -18154.741356   \n",
       "2   -37749.390562     4175.201124     9028.090233     5526.026571   \n",
       "3   -36298.403254     3999.363226     8873.627135     5868.181044   \n",
       "4     3756.454250    -2246.902155    11516.344750    -5239.480764   \n",
       "\n",
       "   channel_pca_17  channel_pca_18  channel_pca_19  channel_pca_20  \n",
       "0     7468.202736      724.312470     3826.247412     2832.185252  \n",
       "1   -21433.616990   -10974.927755   -27888.468723    -5670.686402  \n",
       "2     7551.844882      731.748658     3884.571108     2873.608418  \n",
       "3     7663.260330      326.569169     3127.659777     2897.295679  \n",
       "4   -10999.921091     2755.701520    15534.328965     6055.053807  \n",
       "\n",
       "[5 rows x 21 columns]"
      ]
     },
     "execution_count": 9,
     "metadata": {},
     "output_type": "execute_result"
    }
   ],
   "source": [
    "channel_pca.head()"
   ]
  },
  {
   "cell_type": "markdown",
   "metadata": {},
   "source": [
    "### とりあえず回帰してみる"
   ]
  },
  {
   "cell_type": "code",
   "execution_count": null,
   "metadata": {},
   "outputs": [],
   "source": [
    "import statsmodels as sm"
   ]
  },
  {
   "cell_type": "code",
   "execution_count": 92,
   "metadata": {},
   "outputs": [],
   "source": [
    "X1 = sm.add_constant(\n",
    "    channel_pca.iloc[:, 1:] / channel_pca.iloc[:, 1:].max().max()\n",
    "    , prepend=False\n",
    ")"
   ]
  },
  {
   "cell_type": "code",
   "execution_count": 93,
   "metadata": {},
   "outputs": [
    {
     "data": {
      "text/html": [
       "<div>\n",
       "<style scoped>\n",
       "    .dataframe tbody tr th:only-of-type {\n",
       "        vertical-align: middle;\n",
       "    }\n",
       "\n",
       "    .dataframe tbody tr th {\n",
       "        vertical-align: top;\n",
       "    }\n",
       "\n",
       "    .dataframe thead th {\n",
       "        text-align: right;\n",
       "    }\n",
       "</style>\n",
       "<table border=\"1\" class=\"dataframe\">\n",
       "  <thead>\n",
       "    <tr style=\"text-align: right;\">\n",
       "      <th></th>\n",
       "      <th>channel_pca_01</th>\n",
       "      <th>channel_pca_02</th>\n",
       "      <th>channel_pca_03</th>\n",
       "      <th>channel_pca_04</th>\n",
       "      <th>channel_pca_05</th>\n",
       "      <th>channel_pca_06</th>\n",
       "      <th>channel_pca_07</th>\n",
       "      <th>channel_pca_08</th>\n",
       "      <th>channel_pca_09</th>\n",
       "      <th>channel_pca_10</th>\n",
       "      <th>...</th>\n",
       "      <th>channel_pca_12</th>\n",
       "      <th>channel_pca_13</th>\n",
       "      <th>channel_pca_14</th>\n",
       "      <th>channel_pca_15</th>\n",
       "      <th>channel_pca_16</th>\n",
       "      <th>channel_pca_17</th>\n",
       "      <th>channel_pca_18</th>\n",
       "      <th>channel_pca_19</th>\n",
       "      <th>channel_pca_20</th>\n",
       "      <th>const</th>\n",
       "    </tr>\n",
       "  </thead>\n",
       "  <tbody>\n",
       "    <tr>\n",
       "      <th>0</th>\n",
       "      <td>-0.067062</td>\n",
       "      <td>0.004624</td>\n",
       "      <td>0.002145</td>\n",
       "      <td>-0.005442</td>\n",
       "      <td>0.006215</td>\n",
       "      <td>0.000861</td>\n",
       "      <td>-0.001888</td>\n",
       "      <td>0.000519</td>\n",
       "      <td>0.000925</td>\n",
       "      <td>0.003068</td>\n",
       "      <td>...</td>\n",
       "      <td>-0.000227</td>\n",
       "      <td>-0.003336</td>\n",
       "      <td>0.000370</td>\n",
       "      <td>0.000797</td>\n",
       "      <td>0.000486</td>\n",
       "      <td>0.000665</td>\n",
       "      <td>0.000065</td>\n",
       "      <td>0.000341</td>\n",
       "      <td>0.000253</td>\n",
       "      <td>1.0</td>\n",
       "    </tr>\n",
       "    <tr>\n",
       "      <th>1</th>\n",
       "      <td>-0.011655</td>\n",
       "      <td>-0.003536</td>\n",
       "      <td>-0.006720</td>\n",
       "      <td>-0.004391</td>\n",
       "      <td>-0.000257</td>\n",
       "      <td>0.010200</td>\n",
       "      <td>0.015592</td>\n",
       "      <td>-0.012072</td>\n",
       "      <td>-0.004333</td>\n",
       "      <td>-0.008070</td>\n",
       "      <td>...</td>\n",
       "      <td>-0.000152</td>\n",
       "      <td>0.004210</td>\n",
       "      <td>-0.001186</td>\n",
       "      <td>-0.001108</td>\n",
       "      <td>-0.001617</td>\n",
       "      <td>-0.001910</td>\n",
       "      <td>-0.000978</td>\n",
       "      <td>-0.002484</td>\n",
       "      <td>-0.000519</td>\n",
       "      <td>1.0</td>\n",
       "    </tr>\n",
       "    <tr>\n",
       "      <th>2</th>\n",
       "      <td>-0.067112</td>\n",
       "      <td>0.004630</td>\n",
       "      <td>0.002150</td>\n",
       "      <td>-0.005448</td>\n",
       "      <td>0.006223</td>\n",
       "      <td>0.000857</td>\n",
       "      <td>-0.001893</td>\n",
       "      <td>0.000520</td>\n",
       "      <td>0.000928</td>\n",
       "      <td>0.003083</td>\n",
       "      <td>...</td>\n",
       "      <td>-0.000230</td>\n",
       "      <td>-0.003363</td>\n",
       "      <td>0.000372</td>\n",
       "      <td>0.000804</td>\n",
       "      <td>0.000492</td>\n",
       "      <td>0.000673</td>\n",
       "      <td>0.000065</td>\n",
       "      <td>0.000346</td>\n",
       "      <td>0.000257</td>\n",
       "      <td>1.0</td>\n",
       "    </tr>\n",
       "    <tr>\n",
       "      <th>3</th>\n",
       "      <td>-0.066115</td>\n",
       "      <td>0.004480</td>\n",
       "      <td>0.002123</td>\n",
       "      <td>-0.005246</td>\n",
       "      <td>0.005993</td>\n",
       "      <td>0.000799</td>\n",
       "      <td>-0.001799</td>\n",
       "      <td>0.000594</td>\n",
       "      <td>0.000877</td>\n",
       "      <td>0.002890</td>\n",
       "      <td>...</td>\n",
       "      <td>-0.000212</td>\n",
       "      <td>-0.003233</td>\n",
       "      <td>0.000356</td>\n",
       "      <td>0.000790</td>\n",
       "      <td>0.000523</td>\n",
       "      <td>0.000683</td>\n",
       "      <td>0.000029</td>\n",
       "      <td>0.000278</td>\n",
       "      <td>0.000259</td>\n",
       "      <td>1.0</td>\n",
       "    </tr>\n",
       "    <tr>\n",
       "      <th>4</th>\n",
       "      <td>-0.058718</td>\n",
       "      <td>0.003537</td>\n",
       "      <td>0.001723</td>\n",
       "      <td>-0.004607</td>\n",
       "      <td>0.005164</td>\n",
       "      <td>0.001550</td>\n",
       "      <td>-0.000830</td>\n",
       "      <td>0.001516</td>\n",
       "      <td>0.000183</td>\n",
       "      <td>0.002031</td>\n",
       "      <td>...</td>\n",
       "      <td>0.000166</td>\n",
       "      <td>0.000335</td>\n",
       "      <td>-0.000200</td>\n",
       "      <td>0.001026</td>\n",
       "      <td>-0.000467</td>\n",
       "      <td>-0.000980</td>\n",
       "      <td>0.000246</td>\n",
       "      <td>0.001384</td>\n",
       "      <td>0.000536</td>\n",
       "      <td>1.0</td>\n",
       "    </tr>\n",
       "  </tbody>\n",
       "</table>\n",
       "<p>5 rows × 21 columns</p>\n",
       "</div>"
      ],
      "text/plain": [
       "   channel_pca_01  channel_pca_02  channel_pca_03  channel_pca_04  \\\n",
       "0       -0.067062        0.004624        0.002145       -0.005442   \n",
       "1       -0.011655       -0.003536       -0.006720       -0.004391   \n",
       "2       -0.067112        0.004630        0.002150       -0.005448   \n",
       "3       -0.066115        0.004480        0.002123       -0.005246   \n",
       "4       -0.058718        0.003537        0.001723       -0.004607   \n",
       "\n",
       "   channel_pca_05  channel_pca_06  channel_pca_07  channel_pca_08  \\\n",
       "0        0.006215        0.000861       -0.001888        0.000519   \n",
       "1       -0.000257        0.010200        0.015592       -0.012072   \n",
       "2        0.006223        0.000857       -0.001893        0.000520   \n",
       "3        0.005993        0.000799       -0.001799        0.000594   \n",
       "4        0.005164        0.001550       -0.000830        0.001516   \n",
       "\n",
       "   channel_pca_09  channel_pca_10  ...    channel_pca_12  channel_pca_13  \\\n",
       "0        0.000925        0.003068  ...         -0.000227       -0.003336   \n",
       "1       -0.004333       -0.008070  ...         -0.000152        0.004210   \n",
       "2        0.000928        0.003083  ...         -0.000230       -0.003363   \n",
       "3        0.000877        0.002890  ...         -0.000212       -0.003233   \n",
       "4        0.000183        0.002031  ...          0.000166        0.000335   \n",
       "\n",
       "   channel_pca_14  channel_pca_15  channel_pca_16  channel_pca_17  \\\n",
       "0        0.000370        0.000797        0.000486        0.000665   \n",
       "1       -0.001186       -0.001108       -0.001617       -0.001910   \n",
       "2        0.000372        0.000804        0.000492        0.000673   \n",
       "3        0.000356        0.000790        0.000523        0.000683   \n",
       "4       -0.000200        0.001026       -0.000467       -0.000980   \n",
       "\n",
       "   channel_pca_18  channel_pca_19  channel_pca_20  const  \n",
       "0        0.000065        0.000341        0.000253    1.0  \n",
       "1       -0.000978       -0.002484       -0.000519    1.0  \n",
       "2        0.000065        0.000346        0.000257    1.0  \n",
       "3        0.000029        0.000278        0.000259    1.0  \n",
       "4        0.000246        0.001384        0.000536    1.0  \n",
       "\n",
       "[5 rows x 21 columns]"
      ]
     },
     "execution_count": 93,
     "metadata": {},
     "output_type": "execute_result"
    }
   ],
   "source": [
    "X1.head()"
   ]
  },
  {
   "cell_type": "code",
   "execution_count": 81,
   "metadata": {},
   "outputs": [],
   "source": [
    "model = sm.GLM(y.attrib_by_channel,\n",
    "               X1,\n",
    "               family=sm.families.Poisson(),\n",
    "               offset=X.count_by_channel)"
   ]
  },
  {
   "cell_type": "code",
   "execution_count": 96,
   "metadata": {},
   "outputs": [],
   "source": [
    "model = sm.GLM(y.attrib_by_channel.values,\n",
    "               X1.values,\n",
    "               family=sm.families.Poisson(),\n",
    "               offset = np.log(X.count_by_channel.values)\n",
    "              )"
   ]
  },
  {
   "cell_type": "code",
   "execution_count": 97,
   "metadata": {},
   "outputs": [
    {
     "name": "stdout",
     "output_type": "stream",
     "text": [
      "(199,)\n",
      "(199, 21)\n",
      "(199,)\n"
     ]
    }
   ],
   "source": [
    "print(y.attrib_by_channel.shape)\n",
    "print(X1.shape)\n",
    "print(X.count_by_channel.shape)"
   ]
  },
  {
   "cell_type": "code",
   "execution_count": 98,
   "metadata": {},
   "outputs": [
    {
     "name": "stdout",
     "output_type": "stream",
     "text": [
      "                 Generalized Linear Model Regression Results                  \n",
      "==============================================================================\n",
      "Dep. Variable:                      y   No. Observations:                  199\n",
      "Model:                            GLM   Df Residuals:                      178\n",
      "Model Family:                 Poisson   Df Model:                           20\n",
      "Link Function:                    log   Scale:                             1.0\n",
      "Method:                          IRLS   Log-Likelihood:            -4.7362e+05\n",
      "Date:                Sat, 05 May 2018   Deviance:                   9.4609e+05\n",
      "Time:                        05:46:06   Pearson chi2:                 1.27e+08\n",
      "No. Iterations:                     8                                         \n",
      "==============================================================================\n",
      "                 coef    std err          z      P>|z|      [0.025      0.975]\n",
      "------------------------------------------------------------------------------\n",
      "x1           -13.9893      0.024   -578.931      0.000     -14.037     -13.942\n",
      "x2            25.7859      0.092    280.949      0.000      25.606      25.966\n",
      "x3            24.7678      0.189    130.869      0.000      24.397      25.139\n",
      "x4           -18.9104      0.176   -107.614      0.000     -19.255     -18.566\n",
      "x5            47.7811      0.146    327.866      0.000      47.495      48.067\n",
      "x6            24.3946      0.214    114.020      0.000      23.975      24.814\n",
      "x7           -32.0325      0.252   -127.213      0.000     -32.526     -31.539\n",
      "x8            29.3942      0.346     84.880      0.000      28.715      30.073\n",
      "x9            12.7648      0.223     57.313      0.000      12.328      13.201\n",
      "x10           13.7287      0.242     56.730      0.000      13.254      14.203\n",
      "x11           -7.3218      0.232    -31.556      0.000      -7.777      -6.867\n",
      "x12           11.4822      0.231     49.613      0.000      11.029      11.936\n",
      "x13          -26.0716      0.379    -68.771      0.000     -26.815     -25.329\n",
      "x14           38.0383      0.322    118.123      0.000      37.407      38.670\n",
      "x15          -29.9071      0.322    -92.816      0.000     -30.539     -29.276\n",
      "x16           66.9790      0.369    181.546      0.000      66.256      67.702\n",
      "x17           68.6091      0.524    130.872      0.000      67.582      69.637\n",
      "x18           -5.0514      0.459    -10.999      0.000      -5.952      -4.151\n",
      "x19         -282.9419      1.186   -238.637      0.000    -285.266    -280.618\n",
      "x20          -94.3142      0.776   -121.614      0.000     -95.834     -92.794\n",
      "const         -5.0235      0.003  -1608.172      0.000      -5.030      -5.017\n",
      "==============================================================================\n"
     ]
    }
   ],
   "source": [
    "print(model.fit().summary())"
   ]
  },
  {
   "cell_type": "code",
   "execution_count": null,
   "metadata": {},
   "outputs": [],
   "source": []
  },
  {
   "cell_type": "code",
   "execution_count": null,
   "metadata": {},
   "outputs": [],
   "source": []
  }
 ],
 "metadata": {
  "kernelspec": {
   "display_name": "Python 3",
   "language": "python",
   "name": "python3"
  },
  "language_info": {
   "codemirror_mode": {
    "name": "ipython",
    "version": 3
   },
   "file_extension": ".py",
   "mimetype": "text/x-python",
   "name": "python",
   "nbconvert_exporter": "python",
   "pygments_lexer": "ipython3",
   "version": "3.6.4"
  }
 },
 "nbformat": 4,
 "nbformat_minor": 2
}
