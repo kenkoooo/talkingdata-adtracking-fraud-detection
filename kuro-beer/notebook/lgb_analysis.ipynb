{
 "cells": [
  {
   "cell_type": "code",
   "execution_count": 1,
   "metadata": {},
   "outputs": [],
   "source": [
    "import gc\n",
    "import time\n",
    "import numpy as np\n",
    "import pandas as pd\n",
    "import matplotlib.pyplot as plt\n",
    "from logzero import logger\n",
    "from sklearn.metrics import roc_auc_score\n",
    "import lightgbm as lgb"
   ]
  },
  {
   "cell_type": "code",
   "execution_count": 2,
   "metadata": {},
   "outputs": [
    {
     "name": "stdout",
     "output_type": "stream",
     "text": [
      "CPU times: user 39.7 s, sys: 51.8 s, total: 1min 31s\n",
      "Wall time: 3min 4s\n"
     ]
    }
   ],
   "source": [
    "%%time\n",
    "click_data = pd.concat([\n",
    "    pd.read_feather(\"../data/basic_table\"),\n",
    "    pd.read_feather(\"../data/click_count_table\"),\n",
    "    pd.read_feather(\"../data/click_time_interval_ip_device_os_app_hash\"),\n",
    "    pd.read_feather(\"../data/intervals_table\"),\n",
    "    pd.read_feather(\"../data/misc_counts\"),\n",
    "    pd.read_feather(\"../data/multi_basic\"),\n",
    "    pd.read_feather(\"../data/next_prev_channels\"),\n",
    "    pd.read_feather(\"../data/ranks_table\"),\n",
    "    pd.read_feather(\"../data/time_table\"),\n",
    "], axis=1)"
   ]
  },
  {
   "cell_type": "code",
   "execution_count": 3,
   "metadata": {},
   "outputs": [
    {
     "data": {
      "text/plain": [
       "(203694359, 100)"
      ]
     },
     "execution_count": 3,
     "metadata": {},
     "output_type": "execute_result"
    }
   ],
   "source": [
    "click_data.shape"
   ]
  },
  {
   "cell_type": "code",
   "execution_count": 4,
   "metadata": {},
   "outputs": [
    {
     "name": "stderr",
     "output_type": "stream",
     "text": [
      "[I 180425 23:09:07 <timed exec>:1] Splitting data...\n"
     ]
    },
    {
     "name": "stdout",
     "output_type": "stream",
     "text": [
      "CPU times: user 1min 53s, sys: 2min 48s, total: 4min 41s\n",
      "Wall time: 4min 42s\n"
     ]
    }
   ],
   "source": [
    "%%time\n",
    "logger.info(\"Splitting data...\")\n",
    "click_data.drop(columns=[\"click_id\"], inplace=True)\n",
    "train = click_data[click_data[\"dow\"] < 3]\n",
    "valid = click_data[click_data[\"dow\"] == 3]\n",
    "\n",
    "del click_data\n",
    "gc.collect()"
   ]
  },
  {
   "cell_type": "code",
   "execution_count": 5,
   "metadata": {},
   "outputs": [
    {
     "data": {
      "text/plain": [
       "Index(['app', 'channel', 'device', 'ip', 'is_attributed', 'os',\n",
       "       'click_count_by_ip', 'click_count_by_ip_os_device_dow',\n",
       "       'click_count_by_ip_os_device_dow_hour',\n",
       "       'click_time_interval_ip_device_os_app_hash',\n",
       "       'first_click_interval_ip_device_os_app_hash',\n",
       "       'click_time_interval_by_ip', 'click_time_interval_by_ip_os_device',\n",
       "       'click_time_interval_by_ip_os_device_dow',\n",
       "       'click_time_interval_by_ip_os_device_dow_hour', 'first_click_by_ip',\n",
       "       'first_click_by_ip_os_device', 'first_click_by_ip_os_device_dow',\n",
       "       'first_click_by_ip_os_device_dow_hour', 'ip_device_os_cumcount',\n",
       "       'ip_cumcount', 'ip_channel_countuniq', 'ip_dow_hour_countuniq',\n",
       "       'ip_app_countuniq', 'ip_app_os_countuniq', 'ip_device_countuniq',\n",
       "       'app_channel_countuniq', 'ip_device_os_app_countuniq',\n",
       "       'ip_dow_hour_count', 'ip_app_count', 'ip_app_os_count',\n",
       "       'ip_dow_channel_var', 'ip_app_os_var', 'ip_app_channel_var',\n",
       "       'ip_app_channel_mean', 'ip_os_device_app_hash', 'ip_os', 'ip_device',\n",
       "       'ip_app', 'ip_channel', 'os_device', 'os_app', 'os_channel',\n",
       "       'device_app', 'device_channel', 'app_channel', 'ip_os_device',\n",
       "       'ip_os_app', 'ip_os_channel', 'ip_device_app', 'ip_device_channel',\n",
       "       'ip_app_channel', 'os_device_app', 'os_device_channel',\n",
       "       'os_app_channel', 'device_app_channel', 'ip_os_device_app',\n",
       "       'ip_os_device_channel', 'ip_os_app_channel', 'ip_device_app_channel',\n",
       "       'os_device_app_channel', 'ip_os_device_app_channel',\n",
       "       'next_channel_by_app', 'prev_channel_by_app', 'next_channel_by_device',\n",
       "       'prev_channel_by_device', 'next_channel_by_ip', 'prev_channel_by_ip',\n",
       "       'next_channel_by_os', 'prev_channel_by_os', 'next_channel_by_ip_os',\n",
       "       'prev_channel_by_ip_os', 'next_channel_by_ip_device',\n",
       "       'prev_channel_by_ip_device', 'next_channel_by_ip_app',\n",
       "       'prev_channel_by_ip_app', 'next_channel_by_os_device',\n",
       "       'prev_channel_by_os_device', 'next_channel_by_os_app',\n",
       "       'prev_channel_by_os_app', 'next_channel_by_device_app',\n",
       "       'prev_channel_by_device_app', 'next_channel_by_ip_os_device',\n",
       "       'prev_channel_by_ip_os_device', 'next_channel_by_ip_os_app',\n",
       "       'prev_channel_by_ip_os_app', 'next_channel_by_ip_device_app',\n",
       "       'prev_channel_by_ip_device_app', 'next_channel_by_os_device_app',\n",
       "       'prev_channel_by_os_device_app', 'next_channel_by_ip_os_device_app',\n",
       "       'prev_channel_by_ip_os_device_app', 'rank_by_ip',\n",
       "       'rank_by_ip_os_device', 'rank_by_ip_os_device_dow', 'dow', 'hour',\n",
       "       'minute', 'second'],\n",
       "      dtype='object')"
      ]
     },
     "execution_count": 5,
     "metadata": {},
     "output_type": "execute_result"
    }
   ],
   "source": [
    "train.columns"
   ]
  },
  {
   "cell_type": "code",
   "execution_count": 12,
   "metadata": {},
   "outputs": [],
   "source": [
    "numeric_features = ['ip_device_os_cumcount', 'ip_cumcount', 'ip_channel_countuniq', 'ip_dow_hour_countuniq',\n",
    "       'ip_app_countuniq', 'ip_app_os_countuniq', 'ip_device_countuniq',\n",
    "       'app_channel_countuniq', 'ip_device_os_app_countuniq',\n",
    "       'ip_dow_hour_count', 'ip_app_count', 'ip_app_os_count',\n",
    "       'ip_dow_channel_var', 'ip_app_os_var', 'ip_app_channel_var',\n",
    "       'ip_app_channel_mean', 'dow', 'hour', 'minute', 'second',\n",
    " 'click_count_by_ip',\n",
    " 'click_count_by_ip_os_device_dow',\n",
    " 'click_count_by_ip_os_device_dow_hour',\n",
    " 'click_time_interval_by_ip',\n",
    " 'click_time_interval_by_ip_os_device',\n",
    " 'click_time_interval_by_ip_os_device_dow',\n",
    " 'click_time_interval_by_ip_os_device_dow_hour',\n",
    " 'click_time_interval_ip_device_os_app_hash',\n",
    " 'rank_by_ip',\n",
    " 'rank_by_ip_os_device',\n",
    " 'rank_by_ip_os_device_dow']\n",
    "categorical_features = [c for c in train.columns if c not in numeric_features and c!=\"is_attributed\"]"
   ]
  },
  {
   "cell_type": "code",
   "execution_count": 13,
   "metadata": {},
   "outputs": [
    {
     "data": {
      "text/plain": [
       "['app',\n",
       " 'app_channel',\n",
       " 'channel',\n",
       " 'device',\n",
       " 'device_app',\n",
       " 'device_app_channel',\n",
       " 'device_channel',\n",
       " 'first_click_by_ip',\n",
       " 'first_click_by_ip_os_device',\n",
       " 'first_click_by_ip_os_device_dow',\n",
       " 'first_click_by_ip_os_device_dow_hour',\n",
       " 'first_click_interval_ip_device_os_app_hash',\n",
       " 'ip',\n",
       " 'ip_app',\n",
       " 'ip_app_channel',\n",
       " 'ip_channel',\n",
       " 'ip_device',\n",
       " 'ip_device_app',\n",
       " 'ip_device_app_channel',\n",
       " 'ip_device_channel',\n",
       " 'ip_os',\n",
       " 'ip_os_app',\n",
       " 'ip_os_app_channel',\n",
       " 'ip_os_channel',\n",
       " 'ip_os_device',\n",
       " 'ip_os_device_app',\n",
       " 'ip_os_device_app_channel',\n",
       " 'ip_os_device_app_hash',\n",
       " 'ip_os_device_channel',\n",
       " 'next_channel_by_app',\n",
       " 'next_channel_by_device',\n",
       " 'next_channel_by_device_app',\n",
       " 'next_channel_by_ip',\n",
       " 'next_channel_by_ip_app',\n",
       " 'next_channel_by_ip_device',\n",
       " 'next_channel_by_ip_device_app',\n",
       " 'next_channel_by_ip_os',\n",
       " 'next_channel_by_ip_os_app',\n",
       " 'next_channel_by_ip_os_device',\n",
       " 'next_channel_by_ip_os_device_app',\n",
       " 'next_channel_by_os',\n",
       " 'next_channel_by_os_app',\n",
       " 'next_channel_by_os_device',\n",
       " 'next_channel_by_os_device_app',\n",
       " 'os',\n",
       " 'os_app',\n",
       " 'os_app_channel',\n",
       " 'os_channel',\n",
       " 'os_device',\n",
       " 'os_device_app',\n",
       " 'os_device_app_channel',\n",
       " 'os_device_channel',\n",
       " 'prev_channel_by_app',\n",
       " 'prev_channel_by_device',\n",
       " 'prev_channel_by_device_app',\n",
       " 'prev_channel_by_ip',\n",
       " 'prev_channel_by_ip_app',\n",
       " 'prev_channel_by_ip_device',\n",
       " 'prev_channel_by_ip_device_app',\n",
       " 'prev_channel_by_ip_os',\n",
       " 'prev_channel_by_ip_os_app',\n",
       " 'prev_channel_by_ip_os_device',\n",
       " 'prev_channel_by_ip_os_device_app',\n",
       " 'prev_channel_by_os',\n",
       " 'prev_channel_by_os_app',\n",
       " 'prev_channel_by_os_device',\n",
       " 'prev_channel_by_os_device_app']"
      ]
     },
     "execution_count": 13,
     "metadata": {},
     "output_type": "execute_result"
    }
   ],
   "source": [
    "sorted(categorical_features)"
   ]
  },
  {
   "cell_type": "code",
   "execution_count": 14,
   "metadata": {},
   "outputs": [],
   "source": [
    "objective = 'binary' \n",
    "metrics = 'auc'\n",
    "early_stopping_rounds = 30 \n",
    "verbose_eval = True \n",
    "num_boost_round = 1000\n",
    "nthread = 32\n",
    "\n",
    "lgb_params = {\n",
    "    'boosting_type': 'gbdt',\n",
    "    'objective': objective,\n",
    "    'learning_rate': 0.10,\n",
    "    #'is_unbalance': 'true', # replaced with scale_pos_weight argument\n",
    "    'num_leaves': 7,  # 2^max_depth - 1\n",
    "    'max_depth': 3,  # -1 means no limit\n",
    "    'min_child_samples': 100,  # Minimum number of data need in a child(min_data_in_leaf)\n",
    "    'max_bin': 100,  # Number of bucketed bin for feature values\n",
    "    'subsample': 0.7,  # Subsample ratio of the training instance.\n",
    "    'subsample_freq': 1,  # frequence of subsample, <=0 means no enable\n",
    "    'colsample_bytree': 0.9,  # Subsample ratio of columns when constructing each tree.\n",
    "    'min_child_weight': 0,  # Minimum sum of instance weight(hessian) needed in a child(leaf)\n",
    "    'scale_pos_weight':200, # because training data is extremely unbalanced \n",
    "    'subsample_for_bin': 200000,  # Number of samples for constructing bin\n",
    "    'min_split_gain': 0,  # lambda_l1, lambda_l2 and min_gain_to_split to regularization\n",
    "    'reg_alpha': 0,  # L1 regularization term on weights\n",
    "    'reg_lambda': 0,  # L2 regularization term on weights\n",
    "    'nthread': nthread,\n",
    "    'verbose': 1,\n",
    "    'metric':metrics\n",
    "}"
   ]
  },
  {
   "cell_type": "code",
   "execution_count": 15,
   "metadata": {},
   "outputs": [],
   "source": [
    "predictors = [c for c in train.columns if c!=\"is_attributed\"]"
   ]
  },
  {
   "cell_type": "code",
   "execution_count": null,
   "metadata": {},
   "outputs": [],
   "source": [
    "%%time\n",
    "xgtrain = lgb.Dataset(train[predictors].values, label=train[\"is_attributed\"].values, feature_name=predictors, categorical_feature=categorical_features)"
   ]
  },
  {
   "cell_type": "code",
   "execution_count": null,
   "metadata": {},
   "outputs": [],
   "source": [
    "%%time\n",
    "xgvalid = lgb.Dataset(valid[predictors].values, label=valid[\"is_attributed\"].values, feature_name=predictors, categorical_feature=categorical_features)"
   ]
  },
  {
   "cell_type": "code",
   "execution_count": null,
   "metadata": {},
   "outputs": [],
   "source": []
  }
 ],
 "metadata": {
  "kernelspec": {
   "display_name": "Python 3",
   "language": "python",
   "name": "python3"
  },
  "language_info": {
   "codemirror_mode": {
    "name": "ipython",
    "version": 3
   },
   "file_extension": ".py",
   "mimetype": "text/x-python",
   "name": "python",
   "nbconvert_exporter": "python",
   "pygments_lexer": "ipython3",
   "version": "3.6.5"
  }
 },
 "nbformat": 4,
 "nbformat_minor": 2
}
