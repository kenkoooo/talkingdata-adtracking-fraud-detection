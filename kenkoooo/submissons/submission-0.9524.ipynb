{
 "cells": [
  {
   "cell_type": "code",
   "execution_count": 1,
   "metadata": {},
   "outputs": [],
   "source": [
    "import gc\n",
    "import time\n",
    "import numpy as np\n",
    "import pandas as pd\n",
    "import xgboost as xgb\n",
    "from xgboost import plot_importance\n",
    "import matplotlib.pyplot as plt\n",
    "from logzero import logger\n",
    "import sys\n",
    "\n",
    "nthread = 8\n",
    "\n",
    "def read_feather(name: str):\n",
    "    logger.info(\"loading {}\".format(name))\n",
    "    df = pd.read_feather(name, nthreads=nthread).astype(\"float\")\n",
    "    logger.info(df.columns)\n",
    "    return df\n",
    "\n",
    "def show_top(var_names):\n",
    "    print(\"{}{: >25}{}{: >12}{}\".format('|','Variable Name','|','Memory','|'))\n",
    "    print(\" ------------------------------------ \")\n",
    "    for var_name in var_names:\n",
    "        memory = sys.getsizeof(eval(var_name))//1024//1024//1024\n",
    "        if memory == 0:\n",
    "            continue\n",
    "        print(\"{}{: >25}{}{: >10}GB{}\".format('|', var_name, '|', memory, '|'))"
   ]
  },
  {
   "cell_type": "markdown",
   "metadata": {},
   "source": [
    "# Extract\n",
    "\n",
    "小さいデータで学習して、データを間引く"
   ]
  },
  {
   "cell_type": "code",
   "execution_count": 2,
   "metadata": {},
   "outputs": [
    {
     "name": "stdout",
     "output_type": "stream",
     "text": [
      "total 217G\n",
      "drwxrwxr-x 2 ubuntu ubuntu 4.0K May  2 12:51 \u001b[0m\u001b[01;34m.\u001b[0m/\n",
      "drwxrwxr-x 7 ubuntu ubuntu 4.0K Apr 27 18:29 \u001b[01;34m..\u001b[0m/\n",
      "-rw-rw-r-- 1 ubuntu ubuntu 3.3G Apr 25 19:19 basic_table\n",
      "-rw-rw-r-- 1 ubuntu ubuntu 850M Apr 25 19:19 channel_categorical\n",
      "-rw-rw-r-- 1 ubuntu ubuntu 1.9G Apr 25 19:19 click_count_table\n",
      "-rw-rw-r-- 1 ubuntu ubuntu 802M Apr 25 19:19 click_time_interval_ip_device_os_app_hash\n",
      "-rw-rw-r-- 1 ubuntu ubuntu 706M Apr 26 07:28 down_sampling_train\n",
      "-rw-rw-r-- 1 ubuntu ubuntu 3.2G Apr 25 19:19 intervals_table\n",
      "-rw-rw-r-- 1 ubuntu ubuntu  10G Apr 25 19:19 misc_counts\n",
      "-rw-rw-r-- 1 ubuntu ubuntu  16G Apr 25 19:19 multi_basic\n",
      "-rw-rw-r-- 1 ubuntu ubuntu  12G Apr 25 21:45 next_prev_channels\n",
      "-rw-r--r-- 1 ubuntu ubuntu  16G Apr 28 04:12 prev_next_click_basic\n",
      "-rw-r--r-- 1 ubuntu ubuntu  31G Apr 28 05:27 prev_next_click_for_2_columns\n",
      "-rw-r--r-- 1 ubuntu ubuntu  31G Apr 28 15:36 prev_next_click_for_3_columns\n",
      "-rw-r--r-- 1 ubuntu ubuntu  19G Apr 29 12:27 prev_next_click_for_45_columns\n",
      "-rw-rw-r-- 1 ubuntu ubuntu 2.3G Apr 25 19:20 ranks_table\n",
      "-rw-rw-r-- 1 ubuntu ubuntu 5.0G Apr 26 06:08 time_of_day\n",
      "-rw-rw-r-- 1 ubuntu ubuntu 778M Apr 25 19:22 time_table\n",
      "-rw-r--r-- 1 ubuntu ubuntu  65G May  2 12:59 tmp\n"
     ]
    }
   ],
   "source": [
    "ls -lha ../data/"
   ]
  },
  {
   "cell_type": "code",
   "execution_count": 3,
   "metadata": {},
   "outputs": [
    {
     "data": {
      "text/plain": [
       "['next_channel_by_device',\n",
       " 'prev_channel_by_device',\n",
       " 'click_count_by_ip_os_device_dow_hour',\n",
       " 'second_of_day',\n",
       " 'ip_app_os_var',\n",
       " 'app',\n",
       " 'ip_dow_channel_var',\n",
       " 'channel',\n",
       " 'next_channel_by_ip_os',\n",
       " 'sin_of_day',\n",
       " 'cos_of_day',\n",
       " 'ip_app_count',\n",
       " 'device_app',\n",
       " 'click_count_by_ip',\n",
       " 'ip_app_channel_mean',\n",
       " 'ip_device_countuniq',\n",
       " 'click_time_interval_ip_device_os_app_hash',\n",
       " 'ip_app_countuniq',\n",
       " 'app_channel',\n",
       " 'ip_channel_countuniq',\n",
       " 'ip_app_os_countuniq',\n",
       " 'ip_app_channel_var',\n",
       " 'ip_device_os_app_countuniq',\n",
       " 'device_app_channel',\n",
       " 'click_time_interval_by_ip',\n",
       " 'click_count_by_ip_os_device_dow',\n",
       " 'next_channel_by_ip_os_device_app',\n",
       " 'rank_by_ip_os_device_dow',\n",
       " 'ip',\n",
       " 'next_channel_by_ip',\n",
       " 'app_channel_countuniq',\n",
       " 'ip_device_os_cumcount',\n",
       " 'ip_os',\n",
       " 'next_channel_by_ip_app',\n",
       " 'os',\n",
       " 'next_channel_by_ip_device',\n",
       " 'ip_dow_hour_count',\n",
       " 'next_channel_by_ip_os_device',\n",
       " 'ip_dow_hour_countuniq',\n",
       " 'minute',\n",
       " 'click_time_interval_by_ip_os_device',\n",
       " 'hour']"
      ]
     },
     "execution_count": 3,
     "metadata": {},
     "output_type": "execute_result"
    }
   ],
   "source": [
    "prev_importances = [\n",
    " (1271, 'next_channel_by_device'),\n",
    " (1030, 'prev_channel_by_device'),\n",
    " (524, 'click_count_by_ip_os_device_dow_hour'),\n",
    " (522, 'second_of_day'),\n",
    " (487, 'ip_app_os_var'),\n",
    " (471, 'app'),\n",
    " (435, 'ip_dow_channel_var'),\n",
    " (410, 'channel'),\n",
    " (389, 'next_channel_by_ip_os'),\n",
    " (377, 'sin_of_day'),\n",
    " (373, 'cos_of_day'),\n",
    " (366, 'ip_app_count'),\n",
    " (353, 'device_app'),\n",
    " (351, 'click_count_by_ip'),\n",
    " (343, 'ip_app_channel_mean'),\n",
    " (332, 'ip_device_countuniq'),\n",
    " (332, 'click_time_interval_ip_device_os_app_hash'),\n",
    " (328, 'ip_app_countuniq'),\n",
    " (324, 'app_channel'),\n",
    " (321, 'ip_channel_countuniq'),\n",
    " (321, 'ip_app_os_countuniq'),\n",
    " (321, 'ip_app_channel_var'),\n",
    " (313, 'ip_device_os_app_countuniq'),\n",
    " (307, 'device_app_channel'),\n",
    " (307, 'click_time_interval_by_ip'),\n",
    " (299, 'click_count_by_ip_os_device_dow'),\n",
    " (297, 'next_channel_by_ip_os_device_app'),\n",
    " (292, 'rank_by_ip_os_device_dow'),\n",
    " (291, 'ip'),\n",
    " (278, 'next_channel_by_ip'),\n",
    " (273, 'app_channel_countuniq'),\n",
    " (272, 'ip_device_os_cumcount'),\n",
    " (258, 'ip_os'),\n",
    " (257, 'next_channel_by_ip_app'),\n",
    " (256, 'os'),\n",
    " (247, 'next_channel_by_ip_device'),\n",
    " (240, 'ip_dow_hour_count'),\n",
    " (235, 'next_channel_by_ip_os_device'),\n",
    " (229, 'ip_dow_hour_countuniq'),\n",
    " (228, 'minute'),\n",
    " (228, 'click_time_interval_by_ip_os_device'),\n",
    " (224, 'hour')]\n",
    "prev_columns = [c for i, c in prev_importances]\n",
    "prev_columns"
   ]
  },
  {
   "cell_type": "code",
   "execution_count": 4,
   "metadata": {},
   "outputs": [
    {
     "name": "stderr",
     "output_type": "stream",
     "text": [
      "[I 180502 14:13:30 <ipython-input-1-29f11ab86043>:14] loading ../data/basic_table\n",
      "[I 180502 14:14:11 <ipython-input-1-29f11ab86043>:16] Index(['app', 'channel', 'click_id', 'device', 'ip', 'is_attributed', 'os'], dtype='object')\n",
      "[I 180502 14:14:13 <ipython-input-1-29f11ab86043>:14] loading ../data/click_count_table\n",
      "[I 180502 14:14:35 <ipython-input-1-29f11ab86043>:16] Index(['click_count_by_ip', 'click_count_by_ip_os_device_dow',\n",
      "           'click_count_by_ip_os_device_dow_hour'],\n",
      "          dtype='object')\n",
      "[I 180502 14:14:37 <ipython-input-1-29f11ab86043>:14] loading ../data/click_time_interval_ip_device_os_app_hash\n",
      "[I 180502 14:14:47 <ipython-input-1-29f11ab86043>:16] Index(['click_time_interval_ip_device_os_app_hash', 'first_click_interval_ip_device_os_app_hash'], dtype='object')\n",
      "[I 180502 14:14:48 <ipython-input-1-29f11ab86043>:14] loading ../data/intervals_table\n",
      "[I 180502 14:15:30 <ipython-input-1-29f11ab86043>:16] Index(['click_time_interval_by_ip', 'click_time_interval_by_ip_os_device',\n",
      "           'click_time_interval_by_ip_os_device_dow',\n",
      "           'click_time_interval_by_ip_os_device_dow_hour', 'first_click_by_ip',\n",
      "           'first_click_by_ip_os_device', 'first_click_by_ip_os_device_dow',\n",
      "           'first_click_by_ip_os_device_dow_hour'],\n",
      "          dtype='object')\n",
      "[I 180502 14:15:32 <ipython-input-1-29f11ab86043>:14] loading ../data/misc_counts\n",
      "[I 180502 14:17:30 <ipython-input-1-29f11ab86043>:16] Index(['ip_device_os_cumcount', 'ip_cumcount', 'ip_channel_countuniq',\n",
      "           'ip_dow_hour_countuniq', 'ip_app_countuniq', 'ip_app_os_countuniq',\n",
      "           'ip_device_countuniq', 'app_channel_countuniq',\n",
      "           'ip_device_os_app_countuniq', 'ip_dow_hour_count', 'ip_app_count',\n",
      "           'ip_app_os_count', 'ip_dow_channel_var', 'ip_app_os_var',\n",
      "           'ip_app_channel_var', 'ip_app_channel_mean', 'ip_os_device_app_hash'],\n",
      "          dtype='object')\n",
      "[I 180502 14:17:40 <ipython-input-1-29f11ab86043>:14] loading ../data/multi_basic\n",
      "[I 180502 14:20:59 <ipython-input-1-29f11ab86043>:16] Index(['ip_os', 'ip_device', 'ip_app', 'ip_channel', 'os_device', 'os_app',\n",
      "           'os_channel', 'device_app', 'device_channel', 'app_channel',\n",
      "           'ip_os_device', 'ip_os_app', 'ip_os_channel', 'ip_device_app',\n",
      "           'ip_device_channel', 'ip_app_channel', 'os_device_app',\n",
      "           'os_device_channel', 'os_app_channel', 'device_app_channel',\n",
      "           'ip_os_device_app', 'ip_os_device_channel', 'ip_os_app_channel',\n",
      "           'ip_device_app_channel', 'os_device_app_channel',\n",
      "           'ip_os_device_app_channel'],\n",
      "          dtype='object')\n",
      "[I 180502 14:21:02 <ipython-input-1-29f11ab86043>:14] loading ../data/next_prev_channels\n",
      "[I 180502 14:22:55 <ipython-input-1-29f11ab86043>:16] Index(['next_channel_by_app', 'prev_channel_by_app', 'next_channel_by_device',\n",
      "           'prev_channel_by_device', 'next_channel_by_ip', 'prev_channel_by_ip',\n",
      "           'next_channel_by_os', 'prev_channel_by_os', 'next_channel_by_ip_os',\n",
      "           'prev_channel_by_ip_os', 'next_channel_by_ip_device',\n",
      "           'prev_channel_by_ip_device', 'next_channel_by_ip_app',\n",
      "           'prev_channel_by_ip_app', 'next_channel_by_os_device',\n",
      "           'prev_channel_by_os_device', 'next_channel_by_os_app',\n",
      "           'prev_channel_by_os_app', 'next_channel_by_device_app',\n",
      "           'prev_channel_by_device_app', 'next_channel_by_ip_os_device',\n",
      "           'prev_channel_by_ip_os_device', 'next_channel_by_ip_os_app',\n",
      "           'prev_channel_by_ip_os_app', 'next_channel_by_ip_device_app',\n",
      "           'prev_channel_by_ip_device_app', 'next_channel_by_os_device_app',\n",
      "           'prev_channel_by_os_device_app', 'next_channel_by_ip_os_device_app',\n",
      "           'prev_channel_by_ip_os_device_app'],\n",
      "          dtype='object')\n",
      "[I 180502 14:23:01 <ipython-input-1-29f11ab86043>:14] loading ../data/prev_next_click_basic\n",
      "[I 180502 14:25:19 <ipython-input-1-29f11ab86043>:16] Index(['prev_click_second_ip', 'next_click_second_ip',\n",
      "           'prev_click_second_device', 'next_click_second_device',\n",
      "           'prev_click_second_app', 'next_click_second_app',\n",
      "           'prev_click_second_channel', 'next_click_second_channel',\n",
      "           'prev_click_second_os', 'next_click_second_os'],\n",
      "          dtype='object')\n",
      "[I 180502 14:25:20 <ipython-input-1-29f11ab86043>:14] loading ../data/ranks_table\n",
      "[I 180502 14:25:40 <ipython-input-1-29f11ab86043>:16] Index(['rank_by_ip', 'rank_by_ip_os_device', 'rank_by_ip_os_device_dow'], dtype='object')\n",
      "[I 180502 14:25:41 <ipython-input-1-29f11ab86043>:14] loading ../data/time_of_day\n",
      "[I 180502 14:26:30 <ipython-input-1-29f11ab86043>:16] Index(['second_of_day', 'ratio_of_day', 'sin_of_day', 'cos_of_day'], dtype='object')\n",
      "[I 180502 14:26:33 <ipython-input-1-29f11ab86043>:14] loading ../data/time_table\n",
      "[I 180502 14:26:41 <ipython-input-1-29f11ab86043>:16] Index(['dow', 'hour', 'minute', 'second'], dtype='object')\n"
     ]
    },
    {
     "name": "stdout",
     "output_type": "stream",
     "text": [
      "CPU times: user 1min 37s, sys: 2min 46s, total: 4min 24s\n",
      "Wall time: 13min 12s\n"
     ]
    }
   ],
   "source": [
    "%%time\n",
    "\n",
    "data_files = [\n",
    "    \"../data/basic_table\",\n",
    "    \"../data/click_count_table\",\n",
    "    \"../data/click_time_interval_ip_device_os_app_hash\",\n",
    "    \"../data/intervals_table\",\n",
    "    \"../data/misc_counts\",\n",
    "    \"../data/multi_basic\",\n",
    "    \"../data/next_prev_channels\",\n",
    "    \"../data/prev_next_click_basic\",\n",
    "#     \"../data/prev_next_click_for_2_columns\",\n",
    "#     \"../data/prev_next_click_for_3_columns\",\n",
    "#     \"../data/prev_next_click_for_45_columns\",\n",
    "    \"../data/ranks_table\",\n",
    "    \"../data/time_of_day\",\n",
    "    \"../data/time_table\",\n",
    "]\n",
    "\n",
    "dfs = []\n",
    "for file in data_files:\n",
    "    df = read_feather(file)\n",
    "    dropping = [c for c in df.columns if c not in prev_columns]\n",
    "    df.drop(columns=dropping, inplace=True)\n",
    "    dfs.append(df)"
   ]
  },
  {
   "cell_type": "code",
   "execution_count": 5,
   "metadata": {},
   "outputs": [],
   "source": [
    "click_data = pd.concat(dfs, axis=1, copy=False)"
   ]
  },
  {
   "cell_type": "code",
   "execution_count": 6,
   "metadata": {},
   "outputs": [
    {
     "data": {
      "text/plain": [
       "105"
      ]
     },
     "execution_count": 6,
     "metadata": {},
     "output_type": "execute_result"
    }
   ],
   "source": [
    "del dfs\n",
    "gc.collect()"
   ]
  },
  {
   "cell_type": "code",
   "execution_count": 7,
   "metadata": {},
   "outputs": [
    {
     "name": "stdout",
     "output_type": "stream",
     "text": [
      "|            Variable Name|      Memory|\n",
      " ------------------------------------ \n",
      "|               click_data|        63GB|\n",
      "|                       df|         3GB|\n"
     ]
    }
   ],
   "source": [
    "show_top(dir())"
   ]
  },
  {
   "cell_type": "code",
   "execution_count": 8,
   "metadata": {},
   "outputs": [
    {
     "data": {
      "text/plain": [
       "Index(['app', 'channel', 'ip', 'os', 'click_count_by_ip',\n",
       "       'click_count_by_ip_os_device_dow',\n",
       "       'click_count_by_ip_os_device_dow_hour',\n",
       "       'click_time_interval_ip_device_os_app_hash',\n",
       "       'click_time_interval_by_ip', 'click_time_interval_by_ip_os_device',\n",
       "       'ip_device_os_cumcount', 'ip_channel_countuniq',\n",
       "       'ip_dow_hour_countuniq', 'ip_app_countuniq', 'ip_app_os_countuniq',\n",
       "       'ip_device_countuniq', 'app_channel_countuniq',\n",
       "       'ip_device_os_app_countuniq', 'ip_dow_hour_count', 'ip_app_count',\n",
       "       'ip_dow_channel_var', 'ip_app_os_var', 'ip_app_channel_var',\n",
       "       'ip_app_channel_mean', 'ip_os', 'device_app', 'app_channel',\n",
       "       'device_app_channel', 'next_channel_by_device',\n",
       "       'prev_channel_by_device', 'next_channel_by_ip', 'next_channel_by_ip_os',\n",
       "       'next_channel_by_ip_device', 'next_channel_by_ip_app',\n",
       "       'next_channel_by_ip_os_device', 'next_channel_by_ip_os_device_app',\n",
       "       'rank_by_ip_os_device_dow', 'second_of_day', 'sin_of_day', 'cos_of_day',\n",
       "       'hour', 'minute'],\n",
       "      dtype='object')"
      ]
     },
     "execution_count": 8,
     "metadata": {},
     "output_type": "execute_result"
    }
   ],
   "source": [
    "click_data.columns"
   ]
  },
  {
   "cell_type": "code",
   "execution_count": 9,
   "metadata": {},
   "outputs": [
    {
     "name": "stderr",
     "output_type": "stream",
     "text": [
      "[I 180502 14:31:30 <ipython-input-1-29f11ab86043>:14] loading ../data/time_table\n",
      "[I 180502 14:31:33 <ipython-input-1-29f11ab86043>:16] Index(['dow', 'hour', 'minute', 'second'], dtype='object')\n"
     ]
    }
   ],
   "source": [
    "click_data[\"dow\"] = read_feather(\"../data/time_table\")[\"dow\"]"
   ]
  },
  {
   "cell_type": "code",
   "execution_count": 10,
   "metadata": {},
   "outputs": [],
   "source": [
    "click_data = click_data[click_data[\"dow\"] <= 3]"
   ]
  },
  {
   "cell_type": "code",
   "execution_count": 18,
   "metadata": {},
   "outputs": [
    {
     "name": "stdout",
     "output_type": "stream",
     "text": [
      "|            Variable Name|      Memory|\n",
      " ------------------------------------ \n",
      "|               click_data|        61GB|\n"
     ]
    }
   ],
   "source": [
    "show_top(dir())"
   ]
  },
  {
   "cell_type": "code",
   "execution_count": 17,
   "metadata": {},
   "outputs": [],
   "source": [
    "del df"
   ]
  },
  {
   "cell_type": "code",
   "execution_count": 12,
   "metadata": {},
   "outputs": [
    {
     "name": "stderr",
     "output_type": "stream",
     "text": [
      "[I 180502 14:34:16 <ipython-input-1-29f11ab86043>:14] loading ../data/basic_table\n",
      "[I 180502 14:34:56 <ipython-input-1-29f11ab86043>:16] Index(['app', 'channel', 'click_id', 'device', 'ip', 'is_attributed', 'os'], dtype='object')\n"
     ]
    }
   ],
   "source": [
    "is_attributed = read_feather(\"../data/basic_table\")[:click_data.shape[0]]"
   ]
  },
  {
   "cell_type": "code",
   "execution_count": 13,
   "metadata": {},
   "outputs": [],
   "source": [
    "click_data[\"is_attributed\"] = is_attributed[\"is_attributed\"]"
   ]
  },
  {
   "cell_type": "code",
   "execution_count": 14,
   "metadata": {},
   "outputs": [
    {
     "data": {
      "text/plain": [
       "7"
      ]
     },
     "execution_count": 14,
     "metadata": {},
     "output_type": "execute_result"
    }
   ],
   "source": [
    "del is_attributed\n",
    "gc.collect()"
   ]
  },
  {
   "cell_type": "code",
   "execution_count": 15,
   "metadata": {},
   "outputs": [],
   "source": [
    "click_data.to_feather(\"../data/tmp\")"
   ]
  },
  {
   "cell_type": "code",
   "execution_count": 2,
   "metadata": {},
   "outputs": [
    {
     "name": "stderr",
     "output_type": "stream",
     "text": [
      "[I 180502 13:57:55 <ipython-input-1-29f11ab86043>:14] loading ../data/tmp\n",
      "[I 180502 14:07:42 <ipython-input-1-29f11ab86043>:16] Index(['app', 'channel', 'ip', 'os', 'click_count_by_ip',\n",
      "           'click_count_by_ip_os_device_dow',\n",
      "           'click_count_by_ip_os_device_dow_hour',\n",
      "           'click_time_interval_ip_device_os_app_hash',\n",
      "           'click_time_interval_by_ip', 'click_time_interval_by_ip_os_device',\n",
      "           'ip_device_os_cumcount', 'ip_channel_countuniq',\n",
      "           'ip_dow_hour_countuniq', 'ip_app_countuniq', 'ip_app_os_countuniq',\n",
      "           'ip_device_countuniq', 'app_channel_countuniq',\n",
      "           'ip_device_os_app_countuniq', 'ip_dow_hour_count', 'ip_app_count',\n",
      "           'ip_app_os_count', 'ip_dow_channel_var', 'ip_app_os_var',\n",
      "           'ip_app_channel_var', 'ip_app_channel_mean', 'ip_os_device_app_hash',\n",
      "           'ip_os', 'device_app', 'app_channel', 'device_app_channel',\n",
      "           'next_channel_by_device', 'prev_channel_by_device',\n",
      "           'next_channel_by_ip', 'prev_channel_by_ip', 'next_channel_by_ip_os',\n",
      "           'next_channel_by_ip_device', 'next_channel_by_ip_app',\n",
      "           'next_channel_by_ip_os_device', 'next_channel_by_ip_os_device_app',\n",
      "           'rank_by_ip_os_device_dow', 'second_of_day', 'sin_of_day', 'cos_of_day',\n",
      "           'hour', 'minute', 'dow', 'is_attributed'],\n",
      "          dtype='object')\n"
     ]
    }
   ],
   "source": [
    "click_data = read_feather(\"../data/tmp\")"
   ]
  },
  {
   "cell_type": "code",
   "execution_count": null,
   "metadata": {},
   "outputs": [
    {
     "name": "stderr",
     "output_type": "stream",
     "text": [
      "[I 180502 14:48:44 <timed exec>:53] day 0\n",
      "[I 180502 14:48:44 <timed exec>:2] train started\n",
      "[I 180502 14:53:54 <timed exec>:4] train created\n",
      "[I 180502 14:53:56 <timed exec>:6] test created\n",
      "/home/ubuntu/.pyenv/versions/3.6.5/lib/python3.6/site-packages/ipykernel_launcher.py:9: SettingWithCopyWarning: \n",
      "A value is trying to be set on a copy of a slice from a DataFrame\n",
      "\n",
      "See the caveats in the documentation: http://pandas.pydata.org/pandas-docs/stable/indexing.html#indexing-view-versus-copy\n",
      "  if __name__ == '__main__':\n",
      "/home/ubuntu/.pyenv/versions/3.6.5/lib/python3.6/site-packages/ipykernel_launcher.py:10: SettingWithCopyWarning: \n",
      "A value is trying to be set on a copy of a slice from a DataFrame\n",
      "\n",
      "See the caveats in the documentation: http://pandas.pydata.org/pandas-docs/stable/indexing.html#indexing-view-versus-copy\n",
      "  # Remove the CWD from sys.path while we load stuff.\n",
      "[I 180502 14:54:26 <timed exec>:13] dropped\n",
      "[I 180502 14:54:26 <timed exec>:17] Generating matrix...\n",
      "[I 180502 14:58:02 <timed exec>:22] testing...\n"
     ]
    },
    {
     "name": "stdout",
     "output_type": "stream",
     "text": [
      "[0]\ttrain-auc:0.971319\n",
      "[1]\ttrain-auc:0.973401\n",
      "[2]\ttrain-auc:0.975875\n",
      "[3]\ttrain-auc:0.978341\n",
      "[4]\ttrain-auc:0.980457\n",
      "[5]\ttrain-auc:0.98101\n",
      "[6]\ttrain-auc:0.982078\n",
      "[7]\ttrain-auc:0.982384\n",
      "[8]\ttrain-auc:0.982537\n",
      "[9]\ttrain-auc:0.983656\n",
      "[10]\ttrain-auc:0.984648\n",
      "[11]\ttrain-auc:0.98559\n",
      "[12]\ttrain-auc:0.985688\n",
      "[13]\ttrain-auc:0.985622\n",
      "[14]\ttrain-auc:0.985923\n"
     ]
    },
    {
     "name": "stderr",
     "output_type": "stream",
     "text": [
      "[I 180502 15:18:50 <timed exec>:45] Generating test matrix\n",
      "[I 180502 15:18:56 <timed exec>:53] day 1\n",
      "[I 180502 15:18:56 <timed exec>:2] train started\n",
      "[I 180502 15:19:21 <timed exec>:4] train created\n",
      "[I 180502 15:19:34 <timed exec>:6] test created\n",
      "[I 180502 15:20:02 <timed exec>:13] dropped\n",
      "[I 180502 15:20:02 <timed exec>:17] Generating matrix...\n",
      "[I 180502 15:20:47 <timed exec>:22] testing...\n"
     ]
    },
    {
     "name": "stdout",
     "output_type": "stream",
     "text": [
      "[0]\ttrain-auc:0.968843\n",
      "[1]\ttrain-auc:0.975119\n",
      "[2]\ttrain-auc:0.976101\n",
      "[3]\ttrain-auc:0.978401\n",
      "[4]\ttrain-auc:0.980212\n",
      "[5]\ttrain-auc:0.980661\n",
      "[6]\ttrain-auc:0.981355\n",
      "[7]\ttrain-auc:0.982051\n",
      "[8]\ttrain-auc:0.98253\n",
      "[9]\ttrain-auc:0.983299\n",
      "[10]\ttrain-auc:0.984378\n",
      "[11]\ttrain-auc:0.985384\n",
      "[12]\ttrain-auc:0.986058\n",
      "[13]\ttrain-auc:0.986484\n",
      "[14]\ttrain-auc:0.986055\n"
     ]
    },
    {
     "name": "stderr",
     "output_type": "stream",
     "text": [
      "[I 180502 15:36:09 <timed exec>:45] Generating test matrix\n",
      "[I 180502 15:36:49 <timed exec>:53] day 2\n",
      "[I 180502 15:36:49 <timed exec>:2] train started\n",
      "[I 180502 15:37:14 <timed exec>:4] train created\n",
      "[I 180502 15:37:27 <timed exec>:6] test created\n",
      "[I 180502 15:37:55 <timed exec>:13] dropped\n",
      "[I 180502 15:37:55 <timed exec>:17] Generating matrix...\n",
      "[I 180502 15:38:41 <timed exec>:22] testing...\n"
     ]
    },
    {
     "name": "stdout",
     "output_type": "stream",
     "text": [
      "[0]\ttrain-auc:0.960732\n",
      "[1]\ttrain-auc:0.971809\n",
      "[2]\ttrain-auc:0.974655\n",
      "[3]\ttrain-auc:0.976758\n",
      "[4]\ttrain-auc:0.977789\n",
      "[5]\ttrain-auc:0.978991\n"
     ]
    }
   ],
   "source": [
    "%%time\n",
    "def do_train(df, day):\n",
    "    logger.info(\"train started\")\n",
    "    train = df[df[\"dow\"] != day]\n",
    "    logger.info(\"train created\")\n",
    "    test = df[df[\"dow\"] == day]\n",
    "    logger.info(\"test created\")\n",
    "    \n",
    "    y_train = train[\"is_attributed\"].astype(\"int\")\n",
    "    train.drop(columns=[\"is_attributed\"], inplace=True)\n",
    "    test.drop(columns=[\"is_attributed\"], inplace=True)\n",
    "    gc.collect()\n",
    "    \n",
    "    logger.info(\"dropped\")\n",
    "    train = train.values\n",
    "    gc.collect()\n",
    "    \n",
    "    logger.info(\"Generating matrix...\")\n",
    "    dtrain = xgb.DMatrix(train, y_train, nthread=nthread)\n",
    "    del train, y_train\n",
    "    gc.collect()\n",
    "    \n",
    "    logger.info(\"testing...\")\n",
    "    params = {'eta': 0.6,\n",
    "          'tree_method': \"hist\",\n",
    "          'grow_policy': \"lossguide\",\n",
    "          'max_leaves': 1400,\n",
    "          'max_depth': 0,\n",
    "          'subsample': 0.9,\n",
    "          'colsample_bytree': 0.7,\n",
    "          'colsample_bylevel': 0.7,\n",
    "          'min_child_weight': 0,\n",
    "          'alpha': 4,\n",
    "          'objective': 'binary:logistic',\n",
    "          'scale_pos_weight': 9,\n",
    "          'eval_metric': 'auc',\n",
    "          'nthread': nthread,\n",
    "          'random_state': 99,\n",
    "          'silent': False}\n",
    "    \n",
    "    watchlist = [(dtrain, 'train')]\n",
    "    model = xgb.train(params, dtrain, 15, watchlist, maximize=True, verbose_eval=1)\n",
    "    del dtrain\n",
    "    gc.collect()\n",
    "\n",
    "    logger.info(\"Generating test matrix\")\n",
    "    test = xgb.DMatrix(test.values, nthread=nthread)\n",
    "    gc.collect()\n",
    "    \n",
    "    return model.predict(test, ntree_limit=model.best_ntree_limit)\n",
    "    \n",
    "predicts = []\n",
    "for day in range(4):\n",
    "    logger.info(\"day {}\".format(day))\n",
    "    predicts.append(do_train(click_data, day))"
   ]
  },
  {
   "cell_type": "code",
   "execution_count": 20,
   "metadata": {},
   "outputs": [
    {
     "data": {
      "text/plain": [
       "4"
      ]
     },
     "execution_count": 20,
     "metadata": {},
     "output_type": "execute_result"
    }
   ],
   "source": [
    "len(predicts)"
   ]
  },
  {
   "cell_type": "code",
   "execution_count": 21,
   "metadata": {},
   "outputs": [
    {
     "data": {
      "text/plain": [
       "array([8.2362583e-04, 8.2676363e-04, 8.2676363e-04, ..., 2.9272158e-04,\n",
       "       6.6526383e-01, 3.4567919e-02], dtype=float32)"
      ]
     },
     "execution_count": 21,
     "metadata": {},
     "output_type": "execute_result"
    }
   ],
   "source": [
    "predicts[0]"
   ]
  },
  {
   "cell_type": "code",
   "execution_count": 24,
   "metadata": {},
   "outputs": [],
   "source": [
    "predicts = np.concatenate(predicts, axis=0)"
   ]
  },
  {
   "cell_type": "code",
   "execution_count": 25,
   "metadata": {},
   "outputs": [
    {
     "data": {
      "text/plain": [
       "array([0.00082363, 0.00082676, 0.00082676, ..., 0.00263758, 0.00010159,\n",
       "       0.00251996], dtype=float32)"
      ]
     },
     "execution_count": 25,
     "metadata": {},
     "output_type": "execute_result"
    }
   ],
   "source": [
    "predicts"
   ]
  },
  {
   "cell_type": "code",
   "execution_count": 26,
   "metadata": {},
   "outputs": [
    {
     "name": "stderr",
     "output_type": "stream",
     "text": [
      "[I 180502 18:34:20 <ipython-input-1-29f11ab86043>:14] loading ../data/basic_table\n",
      "[I 180502 18:35:01 <ipython-input-1-29f11ab86043>:16] Index(['app', 'channel', 'click_id', 'device', 'ip', 'is_attributed', 'os'], dtype='object')\n"
     ]
    }
   ],
   "source": [
    "is_attributed = read_feather(\"../data/basic_table\")[[\"is_attributed\"]]"
   ]
  },
  {
   "cell_type": "code",
   "execution_count": 30,
   "metadata": {},
   "outputs": [],
   "source": [
    "is_attributed = is_attributed[:len(predicts)]"
   ]
  },
  {
   "cell_type": "code",
   "execution_count": 32,
   "metadata": {},
   "outputs": [
    {
     "name": "stderr",
     "output_type": "stream",
     "text": [
      "/home/ubuntu/.pyenv/versions/3.6.5/lib/python3.6/site-packages/ipykernel_launcher.py:1: SettingWithCopyWarning: \n",
      "A value is trying to be set on a copy of a slice from a DataFrame.\n",
      "Try using .loc[row_indexer,col_indexer] = value instead\n",
      "\n",
      "See the caveats in the documentation: http://pandas.pydata.org/pandas-docs/stable/indexing.html#indexing-view-versus-copy\n",
      "  \"\"\"Entry point for launching an IPython kernel.\n"
     ]
    }
   ],
   "source": [
    "is_attributed[\"prediction\"] = predicts"
   ]
  },
  {
   "cell_type": "code",
   "execution_count": 34,
   "metadata": {},
   "outputs": [
    {
     "name": "stderr",
     "output_type": "stream",
     "text": [
      "/home/ubuntu/.pyenv/versions/3.6.5/lib/python3.6/site-packages/ipykernel_launcher.py:1: SettingWithCopyWarning: \n",
      "A value is trying to be set on a copy of a slice from a DataFrame.\n",
      "Try using .loc[row_indexer,col_indexer] = value instead\n",
      "\n",
      "See the caveats in the documentation: http://pandas.pydata.org/pandas-docs/stable/indexing.html#indexing-view-versus-copy\n",
      "  \"\"\"Entry point for launching an IPython kernel.\n"
     ]
    }
   ],
   "source": [
    "is_attributed[\"abs\"] = np.abs(is_attributed[\"is_attributed\"] - is_attributed[\"prediction\"])"
   ]
  },
  {
   "cell_type": "code",
   "execution_count": 38,
   "metadata": {},
   "outputs": [
    {
     "name": "stderr",
     "output_type": "stream",
     "text": [
      "/home/ubuntu/.pyenv/versions/3.6.5/lib/python3.6/site-packages/ipykernel_launcher.py:1: SettingWithCopyWarning: \n",
      "A value is trying to be set on a copy of a slice from a DataFrame\n",
      "\n",
      "See the caveats in the documentation: http://pandas.pydata.org/pandas-docs/stable/indexing.html#indexing-view-versus-copy\n",
      "  \"\"\"Entry point for launching an IPython kernel.\n"
     ]
    }
   ],
   "source": [
    "is_attributed.drop(columns=[\"is_attributed\"], inplace=True)"
   ]
  },
  {
   "cell_type": "code",
   "execution_count": 39,
   "metadata": {},
   "outputs": [],
   "source": [
    "is_attributed.to_feather(\"../data/down_sampling_train\")"
   ]
  },
  {
   "cell_type": "code",
   "execution_count": 40,
   "metadata": {},
   "outputs": [
    {
     "data": {
      "text/html": [
       "<div>\n",
       "<style scoped>\n",
       "    .dataframe tbody tr th:only-of-type {\n",
       "        vertical-align: middle;\n",
       "    }\n",
       "\n",
       "    .dataframe tbody tr th {\n",
       "        vertical-align: top;\n",
       "    }\n",
       "\n",
       "    .dataframe thead th {\n",
       "        text-align: right;\n",
       "    }\n",
       "</style>\n",
       "<table border=\"1\" class=\"dataframe\">\n",
       "  <thead>\n",
       "    <tr style=\"text-align: right;\">\n",
       "      <th></th>\n",
       "      <th>prediction</th>\n",
       "      <th>abs</th>\n",
       "    </tr>\n",
       "  </thead>\n",
       "  <tbody>\n",
       "    <tr>\n",
       "      <th>0</th>\n",
       "      <td>0.000824</td>\n",
       "      <td>0.000824</td>\n",
       "    </tr>\n",
       "    <tr>\n",
       "      <th>1</th>\n",
       "      <td>0.000827</td>\n",
       "      <td>0.000827</td>\n",
       "    </tr>\n",
       "    <tr>\n",
       "      <th>2</th>\n",
       "      <td>0.000827</td>\n",
       "      <td>0.000827</td>\n",
       "    </tr>\n",
       "    <tr>\n",
       "      <th>3</th>\n",
       "      <td>0.000202</td>\n",
       "      <td>0.000202</td>\n",
       "    </tr>\n",
       "    <tr>\n",
       "      <th>4</th>\n",
       "      <td>0.003911</td>\n",
       "      <td>0.003911</td>\n",
       "    </tr>\n",
       "    <tr>\n",
       "      <th>5</th>\n",
       "      <td>0.004696</td>\n",
       "      <td>0.004696</td>\n",
       "    </tr>\n",
       "    <tr>\n",
       "      <th>6</th>\n",
       "      <td>0.000502</td>\n",
       "      <td>0.000502</td>\n",
       "    </tr>\n",
       "    <tr>\n",
       "      <th>7</th>\n",
       "      <td>0.000977</td>\n",
       "      <td>0.000977</td>\n",
       "    </tr>\n",
       "    <tr>\n",
       "      <th>8</th>\n",
       "      <td>0.001174</td>\n",
       "      <td>0.001174</td>\n",
       "    </tr>\n",
       "    <tr>\n",
       "      <th>9</th>\n",
       "      <td>0.001130</td>\n",
       "      <td>0.001130</td>\n",
       "    </tr>\n",
       "    <tr>\n",
       "      <th>10</th>\n",
       "      <td>0.011198</td>\n",
       "      <td>0.011198</td>\n",
       "    </tr>\n",
       "    <tr>\n",
       "      <th>11</th>\n",
       "      <td>0.000998</td>\n",
       "      <td>0.000998</td>\n",
       "    </tr>\n",
       "    <tr>\n",
       "      <th>12</th>\n",
       "      <td>0.001027</td>\n",
       "      <td>0.001027</td>\n",
       "    </tr>\n",
       "    <tr>\n",
       "      <th>13</th>\n",
       "      <td>0.001392</td>\n",
       "      <td>0.001392</td>\n",
       "    </tr>\n",
       "    <tr>\n",
       "      <th>14</th>\n",
       "      <td>0.000972</td>\n",
       "      <td>0.000972</td>\n",
       "    </tr>\n",
       "    <tr>\n",
       "      <th>15</th>\n",
       "      <td>0.000446</td>\n",
       "      <td>0.000446</td>\n",
       "    </tr>\n",
       "    <tr>\n",
       "      <th>16</th>\n",
       "      <td>0.002369</td>\n",
       "      <td>0.002369</td>\n",
       "    </tr>\n",
       "    <tr>\n",
       "      <th>17</th>\n",
       "      <td>0.017476</td>\n",
       "      <td>0.017476</td>\n",
       "    </tr>\n",
       "    <tr>\n",
       "      <th>18</th>\n",
       "      <td>0.013199</td>\n",
       "      <td>0.013199</td>\n",
       "    </tr>\n",
       "    <tr>\n",
       "      <th>19</th>\n",
       "      <td>0.001463</td>\n",
       "      <td>0.001463</td>\n",
       "    </tr>\n",
       "    <tr>\n",
       "      <th>20</th>\n",
       "      <td>0.004952</td>\n",
       "      <td>0.004952</td>\n",
       "    </tr>\n",
       "    <tr>\n",
       "      <th>21</th>\n",
       "      <td>0.001991</td>\n",
       "      <td>0.001991</td>\n",
       "    </tr>\n",
       "    <tr>\n",
       "      <th>22</th>\n",
       "      <td>0.000203</td>\n",
       "      <td>0.000203</td>\n",
       "    </tr>\n",
       "    <tr>\n",
       "      <th>23</th>\n",
       "      <td>0.000369</td>\n",
       "      <td>0.000369</td>\n",
       "    </tr>\n",
       "    <tr>\n",
       "      <th>24</th>\n",
       "      <td>0.000724</td>\n",
       "      <td>0.000724</td>\n",
       "    </tr>\n",
       "    <tr>\n",
       "      <th>25</th>\n",
       "      <td>0.016261</td>\n",
       "      <td>0.016261</td>\n",
       "    </tr>\n",
       "    <tr>\n",
       "      <th>26</th>\n",
       "      <td>0.001463</td>\n",
       "      <td>0.001463</td>\n",
       "    </tr>\n",
       "    <tr>\n",
       "      <th>27</th>\n",
       "      <td>0.000407</td>\n",
       "      <td>0.000407</td>\n",
       "    </tr>\n",
       "    <tr>\n",
       "      <th>28</th>\n",
       "      <td>1.000000</td>\n",
       "      <td>1.000000</td>\n",
       "    </tr>\n",
       "    <tr>\n",
       "      <th>29</th>\n",
       "      <td>0.002369</td>\n",
       "      <td>0.002369</td>\n",
       "    </tr>\n",
       "    <tr>\n",
       "      <th>...</th>\n",
       "      <td>...</td>\n",
       "      <td>...</td>\n",
       "    </tr>\n",
       "    <tr>\n",
       "      <th>184903860</th>\n",
       "      <td>0.000162</td>\n",
       "      <td>0.000162</td>\n",
       "    </tr>\n",
       "    <tr>\n",
       "      <th>184903861</th>\n",
       "      <td>0.000696</td>\n",
       "      <td>0.000696</td>\n",
       "    </tr>\n",
       "    <tr>\n",
       "      <th>184903862</th>\n",
       "      <td>0.000566</td>\n",
       "      <td>0.000566</td>\n",
       "    </tr>\n",
       "    <tr>\n",
       "      <th>184903863</th>\n",
       "      <td>0.003992</td>\n",
       "      <td>0.003992</td>\n",
       "    </tr>\n",
       "    <tr>\n",
       "      <th>184903864</th>\n",
       "      <td>0.000581</td>\n",
       "      <td>0.000581</td>\n",
       "    </tr>\n",
       "    <tr>\n",
       "      <th>184903865</th>\n",
       "      <td>0.001344</td>\n",
       "      <td>0.001344</td>\n",
       "    </tr>\n",
       "    <tr>\n",
       "      <th>184903866</th>\n",
       "      <td>0.000664</td>\n",
       "      <td>0.000664</td>\n",
       "    </tr>\n",
       "    <tr>\n",
       "      <th>184903867</th>\n",
       "      <td>0.000166</td>\n",
       "      <td>0.000166</td>\n",
       "    </tr>\n",
       "    <tr>\n",
       "      <th>184903868</th>\n",
       "      <td>0.005724</td>\n",
       "      <td>0.005724</td>\n",
       "    </tr>\n",
       "    <tr>\n",
       "      <th>184903869</th>\n",
       "      <td>0.004020</td>\n",
       "      <td>0.004020</td>\n",
       "    </tr>\n",
       "    <tr>\n",
       "      <th>184903870</th>\n",
       "      <td>0.999992</td>\n",
       "      <td>0.999992</td>\n",
       "    </tr>\n",
       "    <tr>\n",
       "      <th>184903871</th>\n",
       "      <td>0.001590</td>\n",
       "      <td>0.001590</td>\n",
       "    </tr>\n",
       "    <tr>\n",
       "      <th>184903872</th>\n",
       "      <td>0.000508</td>\n",
       "      <td>0.000508</td>\n",
       "    </tr>\n",
       "    <tr>\n",
       "      <th>184903873</th>\n",
       "      <td>0.000577</td>\n",
       "      <td>0.000577</td>\n",
       "    </tr>\n",
       "    <tr>\n",
       "      <th>184903874</th>\n",
       "      <td>0.002006</td>\n",
       "      <td>0.002006</td>\n",
       "    </tr>\n",
       "    <tr>\n",
       "      <th>184903875</th>\n",
       "      <td>0.000061</td>\n",
       "      <td>0.000061</td>\n",
       "    </tr>\n",
       "    <tr>\n",
       "      <th>184903876</th>\n",
       "      <td>0.000669</td>\n",
       "      <td>0.000669</td>\n",
       "    </tr>\n",
       "    <tr>\n",
       "      <th>184903877</th>\n",
       "      <td>0.000226</td>\n",
       "      <td>0.000226</td>\n",
       "    </tr>\n",
       "    <tr>\n",
       "      <th>184903878</th>\n",
       "      <td>0.000391</td>\n",
       "      <td>0.000391</td>\n",
       "    </tr>\n",
       "    <tr>\n",
       "      <th>184903879</th>\n",
       "      <td>0.000138</td>\n",
       "      <td>0.000138</td>\n",
       "    </tr>\n",
       "    <tr>\n",
       "      <th>184903880</th>\n",
       "      <td>0.000639</td>\n",
       "      <td>0.000639</td>\n",
       "    </tr>\n",
       "    <tr>\n",
       "      <th>184903881</th>\n",
       "      <td>0.000136</td>\n",
       "      <td>0.000136</td>\n",
       "    </tr>\n",
       "    <tr>\n",
       "      <th>184903882</th>\n",
       "      <td>0.003482</td>\n",
       "      <td>0.003482</td>\n",
       "    </tr>\n",
       "    <tr>\n",
       "      <th>184903883</th>\n",
       "      <td>0.000048</td>\n",
       "      <td>0.000048</td>\n",
       "    </tr>\n",
       "    <tr>\n",
       "      <th>184903884</th>\n",
       "      <td>0.000044</td>\n",
       "      <td>0.000044</td>\n",
       "    </tr>\n",
       "    <tr>\n",
       "      <th>184903885</th>\n",
       "      <td>0.000170</td>\n",
       "      <td>0.000170</td>\n",
       "    </tr>\n",
       "    <tr>\n",
       "      <th>184903886</th>\n",
       "      <td>0.000272</td>\n",
       "      <td>0.000272</td>\n",
       "    </tr>\n",
       "    <tr>\n",
       "      <th>184903887</th>\n",
       "      <td>0.002638</td>\n",
       "      <td>0.002638</td>\n",
       "    </tr>\n",
       "    <tr>\n",
       "      <th>184903888</th>\n",
       "      <td>0.000102</td>\n",
       "      <td>0.000102</td>\n",
       "    </tr>\n",
       "    <tr>\n",
       "      <th>184903889</th>\n",
       "      <td>0.002520</td>\n",
       "      <td>0.002520</td>\n",
       "    </tr>\n",
       "  </tbody>\n",
       "</table>\n",
       "<p>184903890 rows × 2 columns</p>\n",
       "</div>"
      ],
      "text/plain": [
       "           prediction       abs\n",
       "0            0.000824  0.000824\n",
       "1            0.000827  0.000827\n",
       "2            0.000827  0.000827\n",
       "3            0.000202  0.000202\n",
       "4            0.003911  0.003911\n",
       "5            0.004696  0.004696\n",
       "6            0.000502  0.000502\n",
       "7            0.000977  0.000977\n",
       "8            0.001174  0.001174\n",
       "9            0.001130  0.001130\n",
       "10           0.011198  0.011198\n",
       "11           0.000998  0.000998\n",
       "12           0.001027  0.001027\n",
       "13           0.001392  0.001392\n",
       "14           0.000972  0.000972\n",
       "15           0.000446  0.000446\n",
       "16           0.002369  0.002369\n",
       "17           0.017476  0.017476\n",
       "18           0.013199  0.013199\n",
       "19           0.001463  0.001463\n",
       "20           0.004952  0.004952\n",
       "21           0.001991  0.001991\n",
       "22           0.000203  0.000203\n",
       "23           0.000369  0.000369\n",
       "24           0.000724  0.000724\n",
       "25           0.016261  0.016261\n",
       "26           0.001463  0.001463\n",
       "27           0.000407  0.000407\n",
       "28           1.000000  1.000000\n",
       "29           0.002369  0.002369\n",
       "...               ...       ...\n",
       "184903860    0.000162  0.000162\n",
       "184903861    0.000696  0.000696\n",
       "184903862    0.000566  0.000566\n",
       "184903863    0.003992  0.003992\n",
       "184903864    0.000581  0.000581\n",
       "184903865    0.001344  0.001344\n",
       "184903866    0.000664  0.000664\n",
       "184903867    0.000166  0.000166\n",
       "184903868    0.005724  0.005724\n",
       "184903869    0.004020  0.004020\n",
       "184903870    0.999992  0.999992\n",
       "184903871    0.001590  0.001590\n",
       "184903872    0.000508  0.000508\n",
       "184903873    0.000577  0.000577\n",
       "184903874    0.002006  0.002006\n",
       "184903875    0.000061  0.000061\n",
       "184903876    0.000669  0.000669\n",
       "184903877    0.000226  0.000226\n",
       "184903878    0.000391  0.000391\n",
       "184903879    0.000138  0.000138\n",
       "184903880    0.000639  0.000639\n",
       "184903881    0.000136  0.000136\n",
       "184903882    0.003482  0.003482\n",
       "184903883    0.000048  0.000048\n",
       "184903884    0.000044  0.000044\n",
       "184903885    0.000170  0.000170\n",
       "184903886    0.000272  0.000272\n",
       "184903887    0.002638  0.002638\n",
       "184903888    0.000102  0.000102\n",
       "184903889    0.002520  0.002520\n",
       "\n",
       "[184903890 rows x 2 columns]"
      ]
     },
     "execution_count": 40,
     "metadata": {},
     "output_type": "execute_result"
    }
   ],
   "source": [
    "is_attributed"
   ]
  },
  {
   "cell_type": "markdown",
   "metadata": {},
   "source": [
    "# Validation\n",
    "\n",
    "全特徴量でやっていく"
   ]
  },
  {
   "cell_type": "code",
   "execution_count": 4,
   "metadata": {},
   "outputs": [],
   "source": [
    "state = np.random.RandomState(71)\n",
    "down[\"random_sample\"] = state.random_sample(down.shape[0])"
   ]
  },
  {
   "cell_type": "code",
   "execution_count": 31,
   "metadata": {},
   "outputs": [],
   "source": [
    "down.to_feather(\"../data/down_sampling_train\")"
   ]
  },
  {
   "cell_type": "code",
   "execution_count": 2,
   "metadata": {},
   "outputs": [
    {
     "name": "stderr",
     "output_type": "stream",
     "text": [
      "[I 180504 00:23:31 <ipython-input-1-29f11ab86043>:14] loading ../data/down_sampling_train\n",
      "[I 180504 00:23:34 <ipython-input-1-29f11ab86043>:16] Index(['prediction', 'abs', 'random_sample'], dtype='object')\n"
     ]
    }
   ],
   "source": [
    "down = read_feather(\"../data/down_sampling_train\")"
   ]
  },
  {
   "cell_type": "code",
   "execution_count": 3,
   "metadata": {},
   "outputs": [
    {
     "name": "stdout",
     "output_type": "stream",
     "text": [
      "total 155G\n",
      "drwxrwxr-x 2 ubuntu ubuntu 4.0K May  2 18:37 \u001b[0m\u001b[01;34m.\u001b[0m/\n",
      "drwxrwxr-x 7 ubuntu ubuntu 4.0K Apr 27 18:29 \u001b[01;34m..\u001b[0m/\n",
      "-rw-rw-r-- 1 ubuntu ubuntu 3.3G Apr 25 19:19 basic_table\n",
      "-rw-rw-r-- 1 ubuntu ubuntu 850M Apr 25 19:19 channel_categorical\n",
      "-rw-rw-r-- 1 ubuntu ubuntu 1.9G Apr 25 19:19 click_count_table\n",
      "-rw-rw-r-- 1 ubuntu ubuntu 802M Apr 25 19:19 click_time_interval_ip_device_os_app_hash\n",
      "-rw-rw-r-- 1 ubuntu ubuntu 4.2G May  3 23:50 down_sampling_train\n",
      "-rw-rw-r-- 1 ubuntu ubuntu 3.2G Apr 25 19:19 intervals_table\n",
      "-rw-rw-r-- 1 ubuntu ubuntu  10G Apr 25 19:19 misc_counts\n",
      "-rw-rw-r-- 1 ubuntu ubuntu  16G Apr 25 19:19 multi_basic\n",
      "-rw-rw-r-- 1 ubuntu ubuntu  12G Apr 25 21:45 next_prev_channels\n",
      "-rw-r--r-- 1 ubuntu ubuntu  16G Apr 28 04:12 prev_next_click_basic\n",
      "-rw-r--r-- 1 ubuntu ubuntu  31G Apr 28 05:27 prev_next_click_for_2_columns\n",
      "-rw-r--r-- 1 ubuntu ubuntu  31G Apr 28 15:36 prev_next_click_for_3_columns\n",
      "-rw-r--r-- 1 ubuntu ubuntu  19G Apr 29 12:27 prev_next_click_for_45_columns\n",
      "-rw-rw-r-- 1 ubuntu ubuntu 2.3G Apr 25 19:20 ranks_table\n",
      "-rw-rw-r-- 1 ubuntu ubuntu 5.0G Apr 26 06:08 time_of_day\n",
      "-rw-rw-r-- 1 ubuntu ubuntu 778M Apr 25 19:22 time_table\n"
     ]
    }
   ],
   "source": [
    "ls -lha ../data/"
   ]
  },
  {
   "cell_type": "code",
   "execution_count": 4,
   "metadata": {},
   "outputs": [],
   "source": [
    "sampling = (down[\"abs\"] > 0.005) | (down[\"prediction\"] + down[\"abs\"] == 1.0) | (down[\"random_sample\"] < 0.1)"
   ]
  },
  {
   "cell_type": "code",
   "execution_count": 5,
   "metadata": {},
   "outputs": [
    {
     "name": "stderr",
     "output_type": "stream",
     "text": [
      "[I 180504 00:24:13 <ipython-input-1-29f11ab86043>:14] loading ../data/basic_table\n",
      "[I 180504 00:24:27 <ipython-input-1-29f11ab86043>:16] Index(['app', 'channel', 'click_id', 'device', 'ip', 'is_attributed', 'os'], dtype='object')\n",
      "[I 180504 00:24:31 <ipython-input-1-29f11ab86043>:14] loading ../data/click_count_table\n",
      "[I 180504 00:24:52 <ipython-input-1-29f11ab86043>:16] Index(['click_count_by_ip', 'click_count_by_ip_os_device_dow',\n",
      "           'click_count_by_ip_os_device_dow_hour'],\n",
      "          dtype='object')\n",
      "[I 180504 00:24:55 <ipython-input-1-29f11ab86043>:14] loading ../data/click_time_interval_ip_device_os_app_hash\n",
      "[I 180504 00:25:05 <ipython-input-1-29f11ab86043>:16] Index(['click_time_interval_ip_device_os_app_hash', 'first_click_interval_ip_device_os_app_hash'], dtype='object')\n",
      "[I 180504 00:25:07 <ipython-input-1-29f11ab86043>:14] loading ../data/intervals_table\n",
      "[I 180504 00:25:49 <ipython-input-1-29f11ab86043>:16] Index(['click_time_interval_by_ip', 'click_time_interval_by_ip_os_device',\n",
      "           'click_time_interval_by_ip_os_device_dow',\n",
      "           'click_time_interval_by_ip_os_device_dow_hour', 'first_click_by_ip',\n",
      "           'first_click_by_ip_os_device', 'first_click_by_ip_os_device_dow',\n",
      "           'first_click_by_ip_os_device_dow_hour'],\n",
      "          dtype='object')\n",
      "[I 180504 00:25:53 <ipython-input-1-29f11ab86043>:14] loading ../data/misc_counts\n",
      "[I 180504 00:27:52 <ipython-input-1-29f11ab86043>:16] Index(['ip_device_os_cumcount', 'ip_cumcount', 'ip_channel_countuniq',\n",
      "           'ip_dow_hour_countuniq', 'ip_app_countuniq', 'ip_app_os_countuniq',\n",
      "           'ip_device_countuniq', 'app_channel_countuniq',\n",
      "           'ip_device_os_app_countuniq', 'ip_dow_hour_count', 'ip_app_count',\n",
      "           'ip_app_os_count', 'ip_dow_channel_var', 'ip_app_os_var',\n",
      "           'ip_app_channel_var', 'ip_app_channel_mean', 'ip_os_device_app_hash'],\n",
      "          dtype='object')\n",
      "[I 180504 00:27:58 <ipython-input-1-29f11ab86043>:14] loading ../data/multi_basic\n",
      "[I 180504 00:31:06 <ipython-input-1-29f11ab86043>:16] Index(['ip_os', 'ip_device', 'ip_app', 'ip_channel', 'os_device', 'os_app',\n",
      "           'os_channel', 'device_app', 'device_channel', 'app_channel',\n",
      "           'ip_os_device', 'ip_os_app', 'ip_os_channel', 'ip_device_app',\n",
      "           'ip_device_channel', 'ip_app_channel', 'os_device_app',\n",
      "           'os_device_channel', 'os_app_channel', 'device_app_channel',\n",
      "           'ip_os_device_app', 'ip_os_device_channel', 'ip_os_app_channel',\n",
      "           'ip_device_app_channel', 'os_device_app_channel',\n",
      "           'ip_os_device_app_channel'],\n",
      "          dtype='object')\n",
      "[I 180504 00:31:15 <ipython-input-1-29f11ab86043>:14] loading ../data/next_prev_channels\n",
      "[I 180504 00:33:09 <ipython-input-1-29f11ab86043>:16] Index(['next_channel_by_app', 'prev_channel_by_app', 'next_channel_by_device',\n",
      "           'prev_channel_by_device', 'next_channel_by_ip', 'prev_channel_by_ip',\n",
      "           'next_channel_by_os', 'prev_channel_by_os', 'next_channel_by_ip_os',\n",
      "           'prev_channel_by_ip_os', 'next_channel_by_ip_device',\n",
      "           'prev_channel_by_ip_device', 'next_channel_by_ip_app',\n",
      "           'prev_channel_by_ip_app', 'next_channel_by_os_device',\n",
      "           'prev_channel_by_os_device', 'next_channel_by_os_app',\n",
      "           'prev_channel_by_os_app', 'next_channel_by_device_app',\n",
      "           'prev_channel_by_device_app', 'next_channel_by_ip_os_device',\n",
      "           'prev_channel_by_ip_os_device', 'next_channel_by_ip_os_app',\n",
      "           'prev_channel_by_ip_os_app', 'next_channel_by_ip_device_app',\n",
      "           'prev_channel_by_ip_device_app', 'next_channel_by_os_device_app',\n",
      "           'prev_channel_by_os_device_app', 'next_channel_by_ip_os_device_app',\n",
      "           'prev_channel_by_ip_os_device_app'],\n",
      "          dtype='object')\n",
      "[I 180504 00:33:18 <ipython-input-1-29f11ab86043>:14] loading ../data/prev_next_click_basic\n",
      "[I 180504 00:35:37 <ipython-input-1-29f11ab86043>:16] Index(['prev_click_second_ip', 'next_click_second_ip',\n",
      "           'prev_click_second_device', 'next_click_second_device',\n",
      "           'prev_click_second_app', 'next_click_second_app',\n",
      "           'prev_click_second_channel', 'next_click_second_channel',\n",
      "           'prev_click_second_os', 'next_click_second_os'],\n",
      "          dtype='object')\n",
      "[I 180504 00:35:42 <ipython-input-1-29f11ab86043>:14] loading ../data/prev_next_click_for_2_columns\n",
      "[I 180504 00:40:20 <ipython-input-1-29f11ab86043>:16] Index(['prev_click_second_ip_os', 'next_click_second_ip_os',\n",
      "           'prev_click_second_ip_device', 'next_click_second_ip_device',\n",
      "           'prev_click_second_ip_app', 'next_click_second_ip_app',\n",
      "           'prev_click_second_ip_channel', 'next_click_second_ip_channel',\n",
      "           'prev_click_second_os_device', 'next_click_second_os_device',\n",
      "           'prev_click_second_os_app', 'next_click_second_os_app',\n",
      "           'prev_click_second_os_channel', 'next_click_second_os_channel',\n",
      "           'prev_click_second_device_app', 'next_click_second_device_app',\n",
      "           'prev_click_second_device_channel', 'next_click_second_device_channel',\n",
      "           'prev_click_second_app_channel', 'next_click_second_app_channel'],\n",
      "          dtype='object')\n",
      "[I 180504 00:40:27 <ipython-input-1-29f11ab86043>:14] loading ../data/prev_next_click_for_3_columns\n",
      "[I 180504 00:45:05 <ipython-input-1-29f11ab86043>:16] Index(['prev_click_second_ip_os_device', 'next_click_second_ip_os_device',\n",
      "           'prev_click_second_ip_os_app', 'next_click_second_ip_os_app',\n",
      "           'prev_click_second_ip_os_channel', 'next_click_second_ip_os_channel',\n",
      "           'prev_click_second_ip_device_app', 'next_click_second_ip_device_app',\n",
      "           'prev_click_second_ip_device_channel',\n",
      "           'next_click_second_ip_device_channel',\n",
      "           'prev_click_second_ip_app_channel', 'next_click_second_ip_app_channel',\n",
      "           'prev_click_second_os_device_app', 'next_click_second_os_device_app',\n",
      "           'prev_click_second_os_device_channel',\n",
      "           'next_click_second_os_device_channel',\n",
      "           'prev_click_second_os_app_channel', 'next_click_second_os_app_channel',\n",
      "           'prev_click_second_device_app_channel',\n",
      "           'next_click_second_device_app_channel'],\n",
      "          dtype='object')\n",
      "[I 180504 00:45:12 <ipython-input-1-29f11ab86043>:14] loading ../data/prev_next_click_for_45_columns\n",
      "[I 180504 00:47:59 <ipython-input-1-29f11ab86043>:16] Index(['prev_click_second_ip_os_device_app',\n",
      "           'next_click_second_ip_os_device_app',\n",
      "           'prev_click_second_ip_os_device_channel',\n",
      "           'next_click_second_ip_os_device_channel',\n",
      "           'prev_click_second_ip_os_app_channel',\n",
      "           'next_click_second_ip_os_app_channel',\n",
      "           'prev_click_second_ip_device_app_channel',\n",
      "           'next_click_second_ip_device_app_channel',\n",
      "           'prev_click_second_os_device_app_channel',\n",
      "           'next_click_second_os_device_app_channel',\n",
      "           'prev_click_second_ip_os_device_app_channel',\n",
      "           'next_click_second_ip_os_device_app_channel'],\n",
      "          dtype='object')\n",
      "[I 180504 00:48:04 <ipython-input-1-29f11ab86043>:14] loading ../data/ranks_table\n",
      "[I 180504 00:48:24 <ipython-input-1-29f11ab86043>:16] Index(['rank_by_ip', 'rank_by_ip_os_device', 'rank_by_ip_os_device_dow'], dtype='object')\n",
      "[I 180504 00:48:27 <ipython-input-1-29f11ab86043>:14] loading ../data/time_of_day\n",
      "[I 180504 00:49:17 <ipython-input-1-29f11ab86043>:16] Index(['second_of_day', 'ratio_of_day', 'sin_of_day', 'cos_of_day'], dtype='object')\n",
      "[I 180504 00:49:20 <ipython-input-1-29f11ab86043>:14] loading ../data/time_table\n",
      "[I 180504 00:49:27 <ipython-input-1-29f11ab86043>:16] Index(['dow', 'hour', 'minute', 'second'], dtype='object')\n"
     ]
    },
    {
     "name": "stdout",
     "output_type": "stream",
     "text": [
      "CPU times: user 3min 17s, sys: 4min 7s, total: 7min 25s\n",
      "Wall time: 25min 57s\n"
     ]
    }
   ],
   "source": [
    "%%time\n",
    "\n",
    "data_files = [\n",
    "    \"../data/basic_table\",\n",
    "    \"../data/click_count_table\",\n",
    "    \"../data/click_time_interval_ip_device_os_app_hash\",\n",
    "    \"../data/intervals_table\",\n",
    "    \"../data/misc_counts\",\n",
    "    \"../data/multi_basic\",\n",
    "    \"../data/next_prev_channels\",\n",
    "    \"../data/prev_next_click_basic\",\n",
    "    \"../data/prev_next_click_for_2_columns\",\n",
    "    \"../data/prev_next_click_for_3_columns\",\n",
    "    \"../data/prev_next_click_for_45_columns\",\n",
    "    \"../data/ranks_table\",\n",
    "    \"../data/time_of_day\",\n",
    "    \"../data/time_table\",\n",
    "]\n",
    "\n",
    "click_data = pd.concat([read_feather(file)[:down.shape[0]][sampling] for file in data_files], axis=1, copy=False)"
   ]
  },
  {
   "cell_type": "code",
   "execution_count": 6,
   "metadata": {},
   "outputs": [
    {
     "name": "stderr",
     "output_type": "stream",
     "text": [
      "[I 180504 00:50:22 <timed exec>:1] Splitting data...\n",
      "[I 180504 00:50:39 <timed exec>:3] dropped\n",
      "[I 180504 00:50:53 <timed exec>:5] created train\n",
      "[I 180504 00:51:00 <timed exec>:7] created valid\n"
     ]
    },
    {
     "name": "stdout",
     "output_type": "stream",
     "text": [
      "CPU times: user 27 s, sys: 28.6 s, total: 55.6 s\n",
      "Wall time: 55.4 s\n"
     ]
    }
   ],
   "source": [
    "%%time\n",
    "logger.info(\"Splitting data...\")\n",
    "click_data.drop(columns=[\"click_id\"], inplace=True)\n",
    "logger.info(\"dropped\")\n",
    "train = click_data[click_data[\"dow\"] < 3]\n",
    "logger.info(\"created train\")\n",
    "valid = click_data[click_data[\"dow\"] == 3]\n",
    "logger.info(\"created valid\")\n",
    "\n",
    "del click_data\n",
    "gc.collect()\n",
    "\n",
    "y_train = train[\"is_attributed\"].astype(\"int\")\n",
    "train.drop(columns=[\"is_attributed\"], inplace=True)\n",
    "\n",
    "y_valid = valid[\"is_attributed\"].astype(\"int\")\n",
    "valid.drop(columns=[\"is_attributed\"], inplace=True)\n",
    "gc.collect()"
   ]
  },
  {
   "cell_type": "code",
   "execution_count": 7,
   "metadata": {},
   "outputs": [
    {
     "name": "stderr",
     "output_type": "stream",
     "text": [
      "[I 180504 00:51:18 <timed exec>:1] Generating matrix...\n",
      "[I 180504 00:52:08 <timed exec>:3] created train\n",
      "[I 180504 00:52:34 <timed exec>:5] created test\n"
     ]
    },
    {
     "name": "stdout",
     "output_type": "stream",
     "text": [
      "CPU times: user 45.6 s, sys: 30.6 s, total: 1min 16s\n",
      "Wall time: 1min 16s\n"
     ]
    }
   ],
   "source": [
    "%%time\n",
    "logger.info(\"Generating matrix...\")\n",
    "dtrain = xgb.DMatrix(train, y_train)\n",
    "logger.info(\"created train\")\n",
    "dvalid = xgb.DMatrix(valid, y_valid)\n",
    "logger.info(\"created test\")\n",
    "\n",
    "del train, y_train, valid, y_valid\n",
    "gc.collect()"
   ]
  },
  {
   "cell_type": "code",
   "execution_count": 9,
   "metadata": {},
   "outputs": [
    {
     "name": "stderr",
     "output_type": "stream",
     "text": [
      "[I 180504 00:53:15 <timed exec>:1] Validating...\n"
     ]
    },
    {
     "name": "stdout",
     "output_type": "stream",
     "text": [
      "[0]\ttrain-auc:0.956481\tvalid-auc:0.940944\n",
      "Multiple eval metrics have been passed: 'valid-auc' will be used for early stopping.\n",
      "\n",
      "Will train until valid-auc hasn't improved in 25 rounds.\n",
      "[5]\ttrain-auc:0.974153\tvalid-auc:0.956381\n",
      "[10]\ttrain-auc:0.982909\tvalid-auc:0.959181\n",
      "[15]\ttrain-auc:0.987207\tvalid-auc:0.956741\n",
      "[20]\ttrain-auc:0.990267\tvalid-auc:0.955106\n",
      "[25]\ttrain-auc:0.992593\tvalid-auc:0.953463\n",
      "[30]\ttrain-auc:0.994316\tvalid-auc:0.953654\n",
      "[35]\ttrain-auc:0.995619\tvalid-auc:0.954653\n",
      "Stopping. Best iteration:\n",
      "[10]\ttrain-auc:0.982909\tvalid-auc:0.959181\n",
      "\n",
      "CPU times: user 1h 22min 7s, sys: 0 ns, total: 1h 22min 7s\n",
      "Wall time: 13min 7s\n"
     ]
    }
   ],
   "source": [
    "%%time\n",
    "logger.info(\"Validating...\")\n",
    "params = {'eta': 0.6,\n",
    "          'tree_method': \"hist\",\n",
    "          'grow_policy': \"lossguide\",\n",
    "          'max_leaves': 1400,\n",
    "          'max_depth': 0,\n",
    "          'subsample': 0.9,\n",
    "          'colsample_bytree': 0.7,\n",
    "          'colsample_bylevel': 0.7,\n",
    "          'min_child_weight': 0,\n",
    "          'alpha': 4,\n",
    "          'objective': 'binary:logistic',\n",
    "          'scale_pos_weight': 9,\n",
    "          'eval_metric': 'auc',\n",
    "          'nthread': nthread,\n",
    "          'random_state': 99,\n",
    "          'silent': False}\n",
    "watchlist = [(dtrain, 'train'), (dvalid, 'valid')]\n",
    "model = xgb.train(params,\n",
    "                  dtrain,\n",
    "                  200,\n",
    "                  watchlist,\n",
    "                  maximize=True,\n",
    "                  early_stopping_rounds=25,\n",
    "                  verbose_eval=5)"
   ]
  },
  {
   "cell_type": "code",
   "execution_count": 17,
   "metadata": {},
   "outputs": [
    {
     "data": {
      "image/png": "[encoded data removed]",
      "text/plain": [
       "<Figure size 864x1440 with 1 Axes>"
      ]
     },
     "metadata": {},
     "output_type": "display_data"
    }
   ],
   "source": [
    "fig, ax = plt.subplots(figsize=(12,20))\n",
    "xgb.plot_importance(model, max_num_features=200, height=0.8, ax=ax)\n",
    "plt.show()"
   ]
  },
  {
   "cell_type": "code",
   "execution_count": 16,
   "metadata": {},
   "outputs": [
    {
     "name": "stdout",
     "output_type": "stream",
     "text": [
      "1399 next_channel_by_device\n",
      "1221 prev_channel_by_device\n",
      "969 ip_dow_channel_var\n",
      "900 ip_app_channel_mean\n",
      "844 second_of_day\n",
      "775 sin_of_day\n",
      "726 ip_app_os_var\n",
      "724 next_click_second_ip_os_app\n",
      "713 click_time_interval_ip_device_os_app_hash\n",
      "687 ip_app_channel_var\n",
      "646 cos_of_day\n",
      "635 minute\n",
      "634 ip\n",
      "623 click_count_by_ip_os_device_dow\n",
      "614 second\n",
      "606 ip_device_os_app_countuniq\n",
      "605 ip_device_os_cumcount\n",
      "594 ip_os_device_app_hash\n",
      "583 app_channel\n",
      "573 ip_dow_hour_count\n",
      "569 next_click_second_ip_os_device_app\n",
      "559 ip_app_countuniq\n",
      "556 rank_by_ip_os_device_dow\n",
      "536 click_count_by_ip_os_device_dow_hour\n",
      "535 next_click_second_ip_os_channel\n",
      "535 next_click_second_ip_app\n",
      "519 prev_click_second_ip_os_channel\n",
      "514 prev_channel_by_os\n",
      "505 ip_channel_countuniq\n",
      "494 click_count_by_ip\n",
      "492 next_channel_by_ip_os\n",
      "491 ip_device_countuniq\n",
      "489 next_click_second_ip_app_channel\n",
      "485 next_channel_by_os\n",
      "481 channel\n",
      "466 prev_click_second_ip_os_device_app\n",
      "464 prev_click_second_ip_os_app\n",
      "459 ip_app_os_count\n",
      "458 prev_click_second_ip_app\n",
      "458 next_click_second_ip_os_device_app_channel\n",
      "458 ip_os\n",
      "453 next_channel_by_os_device\n",
      "452 ip_app_count\n",
      "447 next_click_second_ip_os_device\n",
      "447 app\n",
      "443 app_channel_countuniq\n",
      "442 device_channel\n",
      "441 ip_app_os_countuniq\n",
      "440 next_click_second_ip_os\n",
      "440 next_channel_by_ip\n",
      "438 next_click_second_ip_os_app_channel\n",
      "437 next_click_second_ip_os_device_channel\n",
      "435 next_channel_by_ip_device\n",
      "430 ip_cumcount\n",
      "414 next_click_second_ip_device_app\n",
      "413 prev_click_second_ip_channel\n",
      "413 prev_channel_by_os_device\n",
      "412 prev_channel_by_ip\n",
      "410 prev_click_second_ip_device_app_channel\n",
      "408 prev_click_second_ip_os_device_app_channel\n",
      "400 os_channel\n",
      "397 click_time_interval_by_ip\n",
      "391 next_click_second_ip_channel\n",
      "391 next_channel_by_ip_os_app\n",
      "386 next_click_second_ip_device_app_channel\n",
      "385 click_time_interval_by_ip_os_device\n",
      "383 prev_channel_by_ip_os\n",
      "383 prev_channel_by_app\n",
      "383 next_channel_by_ip_os_device\n",
      "380 device_app_channel\n",
      "374 prev_click_second_ip_app_channel\n",
      "363 next_click_second_ip_device_channel\n",
      "363 hour\n",
      "357 prev_click_second_ip_device_channel\n",
      "340 prev_click_second_ip_device_app\n",
      "338 next_channel_by_app\n",
      "335 prev_click_second_ip_os_app_channel\n",
      "331 prev_click_second_ip_os_device_channel\n",
      "331 next_channel_by_device_app\n",
      "329 next_channel_by_os_app\n",
      "323 prev_click_second_ip_os\n",
      "321 prev_channel_by_ip_app\n",
      "314 next_channel_by_ip_device_app\n",
      "305 next_channel_by_ip_os_device_app\n",
      "293 prev_channel_by_ip_device\n",
      "293 prev_channel_by_device_app\n",
      "286 next_click_second_ip_device\n",
      "276 next_click_second_ip\n",
      "255 prev_channel_by_os_device_app\n",
      "252 prev_channel_by_ip_os_device\n",
      "248 prev_channel_by_os_app\n",
      "238 os_device_channel\n",
      "238 os_app\n",
      "236 next_channel_by_os_device_app\n",
      "236 next_channel_by_ip_app\n",
      "233 rank_by_ip\n",
      "232 prev_click_second_ip\n",
      "232 prev_channel_by_ip_os_device_app\n",
      "216 os_app_channel\n",
      "211 prev_click_second_ip_device\n",
      "209 os\n",
      "207 prev_channel_by_ip_device_app\n",
      "205 prev_channel_by_ip_os_app\n",
      "203 device_app\n",
      "196 ip_dow_hour_countuniq\n",
      "191 os_device_app_channel\n",
      "185 dow\n",
      "184 prev_click_second_ip_os_device\n",
      "184 os_device_app\n",
      "179 ip_device\n",
      "149 click_time_interval_by_ip_os_device_dow_hour\n",
      "123 prev_click_second_os_device_app_channel\n",
      "108 click_time_interval_by_ip_os_device_dow\n",
      "107 rank_by_ip_os_device\n",
      "100 ip_app\n",
      "95 next_click_second_os_device_app_channel\n",
      "89 ip_os_device\n",
      "88 ratio_of_day\n",
      "77 prev_click_second_os_app_channel\n",
      "77 next_click_second_os_app_channel\n",
      "75 os_device\n",
      "73 prev_click_second_os_channel\n",
      "56 next_click_second_os_channel\n",
      "56 next_click_second_device_app_channel\n",
      "55 prev_click_second_app_channel\n",
      "54 next_click_second_os_device_channel\n",
      "52 ip_channel\n",
      "51 next_click_second_app_channel\n",
      "45 device\n",
      "40 prev_click_second_os_app\n",
      "39 prev_click_second_os_device_channel\n",
      "36 prev_click_second_device_app_channel\n",
      "32 prev_click_second_os_device_app\n",
      "31 next_click_second_os_device_app\n",
      "30 next_click_second_os_app\n",
      "29 ip_os_app\n",
      "23 prev_click_second_channel\n",
      "21 prev_click_second_device_channel\n",
      "20 ip_device_channel\n",
      "18 next_click_second_device_channel\n",
      "15 ip_device_app\n",
      "13 next_click_second_os_device\n",
      "13 next_click_second_app\n",
      "12 prev_click_second_device_app\n",
      "12 prev_click_second_app\n",
      "12 next_click_second_channel\n",
      "12 ip_os_device_channel\n",
      "10 prev_click_second_device\n",
      "10 ip_os_device_app\n",
      "10 ip_os_channel\n",
      "9 prev_click_second_os_device\n",
      "8 ip_device_app_channel\n",
      "7 first_click_by_ip_os_device_dow_hour\n",
      "6 prev_click_second_os\n",
      "6 next_click_second_device_app\n",
      "6 ip_os_device_app_channel\n",
      "5 ip_os_app_channel\n",
      "4 next_click_second_os\n",
      "4 first_click_interval_ip_device_os_app_hash\n",
      "3 next_click_second_device\n",
      "3 ip_app_channel\n",
      "2 first_click_by_ip_os_device_dow\n",
      "2 first_click_by_ip\n",
      "1 first_click_by_ip_os_device\n"
     ]
    }
   ],
   "source": [
    "sorted_features = sorted([(value, key) for key, value in model.get_score().items()], reverse=True)\n",
    "for importance, name in sorted_features:\n",
    "    print(importance, name)"
   ]
  },
  {
   "cell_type": "markdown",
   "metadata": {},
   "source": [
    "# Prediction"
   ]
  },
  {
   "cell_type": "code",
   "execution_count": 2,
   "metadata": {},
   "outputs": [
    {
     "name": "stderr",
     "output_type": "stream",
     "text": [
      "[I 180504 12:34:35 <ipython-input-1-29f11ab86043>:14] loading ../data/down_sampling_train\n",
      "[I 180504 12:35:12 <ipython-input-1-29f11ab86043>:16] Index(['prediction', 'abs', 'random_sample'], dtype='object')\n"
     ]
    }
   ],
   "source": [
    "down = read_feather(\"../data/down_sampling_train\")"
   ]
  },
  {
   "cell_type": "code",
   "execution_count": 3,
   "metadata": {},
   "outputs": [],
   "source": [
    "sampling = (down[\"abs\"] > 0.005) | (down[\"prediction\"] + down[\"abs\"] == 1.0) | (down[\"random_sample\"] < 0.1)"
   ]
  },
  {
   "cell_type": "code",
   "execution_count": 12,
   "metadata": {},
   "outputs": [
    {
     "name": "stderr",
     "output_type": "stream",
     "text": [
      "[I 180504 12:38:19 <ipython-input-1-29f11ab86043>:14] loading ../data/time_of_day\n",
      "[I 180504 12:38:29 <ipython-input-1-29f11ab86043>:16] Index(['second_of_day', 'ratio_of_day', 'sin_of_day', 'cos_of_day'], dtype='object')\n"
     ]
    }
   ],
   "source": [
    "total_size = read_feather(\"../data/time_of_day\").shape[0]"
   ]
  },
  {
   "cell_type": "code",
   "execution_count": 13,
   "metadata": {},
   "outputs": [
    {
     "data": {
      "text/plain": [
       "203694359"
      ]
     },
     "execution_count": 13,
     "metadata": {},
     "output_type": "execute_result"
    }
   ],
   "source": [
    "total_size"
   ]
  },
  {
   "cell_type": "code",
   "execution_count": 6,
   "metadata": {},
   "outputs": [],
   "source": [
    "sampling = sampling.values"
   ]
  },
  {
   "cell_type": "code",
   "execution_count": 7,
   "metadata": {},
   "outputs": [
    {
     "data": {
      "text/plain": [
       "array([False, False, False, ...,  True, False, False])"
      ]
     },
     "execution_count": 7,
     "metadata": {},
     "output_type": "execute_result"
    }
   ],
   "source": [
    "sampling"
   ]
  },
  {
   "cell_type": "code",
   "execution_count": 8,
   "metadata": {},
   "outputs": [
    {
     "data": {
      "text/plain": [
       "(184903890,)"
      ]
     },
     "execution_count": 8,
     "metadata": {},
     "output_type": "execute_result"
    }
   ],
   "source": [
    "sampling.shape"
   ]
  },
  {
   "cell_type": "code",
   "execution_count": 14,
   "metadata": {},
   "outputs": [],
   "source": [
    "test_size = total_size - sampling.shape[0]"
   ]
  },
  {
   "cell_type": "code",
   "execution_count": 15,
   "metadata": {},
   "outputs": [
    {
     "data": {
      "text/plain": [
       "18790469"
      ]
     },
     "execution_count": 15,
     "metadata": {},
     "output_type": "execute_result"
    }
   ],
   "source": [
    "test_size"
   ]
  },
  {
   "cell_type": "code",
   "execution_count": 16,
   "metadata": {},
   "outputs": [],
   "source": [
    "sampling = np.append(sampling, [True for _ in range(test_size)])"
   ]
  },
  {
   "cell_type": "code",
   "execution_count": 18,
   "metadata": {},
   "outputs": [],
   "source": [
    "del down"
   ]
  },
  {
   "cell_type": "code",
   "execution_count": 19,
   "metadata": {},
   "outputs": [
    {
     "name": "stdout",
     "output_type": "stream",
     "text": [
      "|            Variable Name|      Memory|\n",
      " ------------------------------------ \n"
     ]
    }
   ],
   "source": [
    "show_top(dir())"
   ]
  },
  {
   "cell_type": "markdown",
   "metadata": {},
   "source": [
    "読み込み時だけでなんだかんだ 200 GB くらいメモリ使う"
   ]
  },
  {
   "cell_type": "code",
   "execution_count": 20,
   "metadata": {},
   "outputs": [
    {
     "name": "stderr",
     "output_type": "stream",
     "text": [
      "[I 180504 12:39:39 <ipython-input-1-29f11ab86043>:14] loading ../data/basic_table\n",
      "[I 180504 12:40:20 <ipython-input-1-29f11ab86043>:16] Index(['app', 'channel', 'click_id', 'device', 'ip', 'is_attributed', 'os'], dtype='object')\n",
      "[I 180504 12:40:24 <ipython-input-1-29f11ab86043>:14] loading ../data/click_count_table\n",
      "[I 180504 12:40:46 <ipython-input-1-29f11ab86043>:16] Index(['click_count_by_ip', 'click_count_by_ip_os_device_dow',\n",
      "           'click_count_by_ip_os_device_dow_hour'],\n",
      "          dtype='object')\n",
      "[I 180504 12:40:49 <ipython-input-1-29f11ab86043>:14] loading ../data/click_time_interval_ip_device_os_app_hash\n",
      "[I 180504 12:40:59 <ipython-input-1-29f11ab86043>:16] Index(['click_time_interval_ip_device_os_app_hash', 'first_click_interval_ip_device_os_app_hash'], dtype='object')\n",
      "[I 180504 12:41:02 <ipython-input-1-29f11ab86043>:14] loading ../data/intervals_table\n",
      "[I 180504 12:41:44 <ipython-input-1-29f11ab86043>:16] Index(['click_time_interval_by_ip', 'click_time_interval_by_ip_os_device',\n",
      "           'click_time_interval_by_ip_os_device_dow',\n",
      "           'click_time_interval_by_ip_os_device_dow_hour', 'first_click_by_ip',\n",
      "           'first_click_by_ip_os_device', 'first_click_by_ip_os_device_dow',\n",
      "           'first_click_by_ip_os_device_dow_hour'],\n",
      "          dtype='object')\n",
      "[I 180504 12:41:49 <ipython-input-1-29f11ab86043>:14] loading ../data/misc_counts\n",
      "[I 180504 12:43:48 <ipython-input-1-29f11ab86043>:16] Index(['ip_device_os_cumcount', 'ip_cumcount', 'ip_channel_countuniq',\n",
      "           'ip_dow_hour_countuniq', 'ip_app_countuniq', 'ip_app_os_countuniq',\n",
      "           'ip_device_countuniq', 'app_channel_countuniq',\n",
      "           'ip_device_os_app_countuniq', 'ip_dow_hour_count', 'ip_app_count',\n",
      "           'ip_app_os_count', 'ip_dow_channel_var', 'ip_app_os_var',\n",
      "           'ip_app_channel_var', 'ip_app_channel_mean', 'ip_os_device_app_hash'],\n",
      "          dtype='object')\n",
      "[I 180504 12:43:56 <ipython-input-1-29f11ab86043>:14] loading ../data/multi_basic\n",
      "[I 180504 12:47:05 <ipython-input-1-29f11ab86043>:16] Index(['ip_os', 'ip_device', 'ip_app', 'ip_channel', 'os_device', 'os_app',\n",
      "           'os_channel', 'device_app', 'device_channel', 'app_channel',\n",
      "           'ip_os_device', 'ip_os_app', 'ip_os_channel', 'ip_device_app',\n",
      "           'ip_device_channel', 'ip_app_channel', 'os_device_app',\n",
      "           'os_device_channel', 'os_app_channel', 'device_app_channel',\n",
      "           'ip_os_device_app', 'ip_os_device_channel', 'ip_os_app_channel',\n",
      "           'ip_device_app_channel', 'os_device_app_channel',\n",
      "           'ip_os_device_app_channel'],\n",
      "          dtype='object')\n",
      "[I 180504 12:47:16 <ipython-input-1-29f11ab86043>:14] loading ../data/next_prev_channels\n",
      "[I 180504 12:49:09 <ipython-input-1-29f11ab86043>:16] Index(['next_channel_by_app', 'prev_channel_by_app', 'next_channel_by_device',\n",
      "           'prev_channel_by_device', 'next_channel_by_ip', 'prev_channel_by_ip',\n",
      "           'next_channel_by_os', 'prev_channel_by_os', 'next_channel_by_ip_os',\n",
      "           'prev_channel_by_ip_os', 'next_channel_by_ip_device',\n",
      "           'prev_channel_by_ip_device', 'next_channel_by_ip_app',\n",
      "           'prev_channel_by_ip_app', 'next_channel_by_os_device',\n",
      "           'prev_channel_by_os_device', 'next_channel_by_os_app',\n",
      "           'prev_channel_by_os_app', 'next_channel_by_device_app',\n",
      "           'prev_channel_by_device_app', 'next_channel_by_ip_os_device',\n",
      "           'prev_channel_by_ip_os_device', 'next_channel_by_ip_os_app',\n",
      "           'prev_channel_by_ip_os_app', 'next_channel_by_ip_device_app',\n",
      "           'prev_channel_by_ip_device_app', 'next_channel_by_os_device_app',\n",
      "           'prev_channel_by_os_device_app', 'next_channel_by_ip_os_device_app',\n",
      "           'prev_channel_by_ip_os_device_app'],\n",
      "          dtype='object')\n",
      "[I 180504 12:49:22 <ipython-input-1-29f11ab86043>:14] loading ../data/prev_next_click_basic\n",
      "[I 180504 12:51:41 <ipython-input-1-29f11ab86043>:16] Index(['prev_click_second_ip', 'next_click_second_ip',\n",
      "           'prev_click_second_device', 'next_click_second_device',\n",
      "           'prev_click_second_app', 'next_click_second_app',\n",
      "           'prev_click_second_channel', 'next_click_second_channel',\n",
      "           'prev_click_second_os', 'next_click_second_os'],\n",
      "          dtype='object')\n",
      "[I 180504 12:51:46 <ipython-input-1-29f11ab86043>:14] loading ../data/prev_next_click_for_2_columns\n",
      "[I 180504 12:56:24 <ipython-input-1-29f11ab86043>:16] Index(['prev_click_second_ip_os', 'next_click_second_ip_os',\n",
      "           'prev_click_second_ip_device', 'next_click_second_ip_device',\n",
      "           'prev_click_second_ip_app', 'next_click_second_ip_app',\n",
      "           'prev_click_second_ip_channel', 'next_click_second_ip_channel',\n",
      "           'prev_click_second_os_device', 'next_click_second_os_device',\n",
      "           'prev_click_second_os_app', 'next_click_second_os_app',\n",
      "           'prev_click_second_os_channel', 'next_click_second_os_channel',\n",
      "           'prev_click_second_device_app', 'next_click_second_device_app',\n",
      "           'prev_click_second_device_channel', 'next_click_second_device_channel',\n",
      "           'prev_click_second_app_channel', 'next_click_second_app_channel'],\n",
      "          dtype='object')\n",
      "[I 180504 12:56:33 <ipython-input-1-29f11ab86043>:14] loading ../data/prev_next_click_for_3_columns\n",
      "[I 180504 13:01:12 <ipython-input-1-29f11ab86043>:16] Index(['prev_click_second_ip_os_device', 'next_click_second_ip_os_device',\n",
      "           'prev_click_second_ip_os_app', 'next_click_second_ip_os_app',\n",
      "           'prev_click_second_ip_os_channel', 'next_click_second_ip_os_channel',\n",
      "           'prev_click_second_ip_device_app', 'next_click_second_ip_device_app',\n",
      "           'prev_click_second_ip_device_channel',\n",
      "           'next_click_second_ip_device_channel',\n",
      "           'prev_click_second_ip_app_channel', 'next_click_second_ip_app_channel',\n",
      "           'prev_click_second_os_device_app', 'next_click_second_os_device_app',\n",
      "           'prev_click_second_os_device_channel',\n",
      "           'next_click_second_os_device_channel',\n",
      "           'prev_click_second_os_app_channel', 'next_click_second_os_app_channel',\n",
      "           'prev_click_second_device_app_channel',\n",
      "           'next_click_second_device_app_channel'],\n",
      "          dtype='object')\n",
      "[I 180504 13:01:21 <ipython-input-1-29f11ab86043>:14] loading ../data/prev_next_click_for_45_columns\n",
      "[I 180504 13:04:08 <ipython-input-1-29f11ab86043>:16] Index(['prev_click_second_ip_os_device_app',\n",
      "           'next_click_second_ip_os_device_app',\n",
      "           'prev_click_second_ip_os_device_channel',\n",
      "           'next_click_second_ip_os_device_channel',\n",
      "           'prev_click_second_ip_os_app_channel',\n",
      "           'next_click_second_ip_os_app_channel',\n",
      "           'prev_click_second_ip_device_app_channel',\n",
      "           'next_click_second_ip_device_app_channel',\n",
      "           'prev_click_second_os_device_app_channel',\n",
      "           'next_click_second_os_device_app_channel',\n",
      "           'prev_click_second_ip_os_device_app_channel',\n",
      "           'next_click_second_ip_os_device_app_channel'],\n",
      "          dtype='object')\n",
      "[I 180504 13:04:14 <ipython-input-1-29f11ab86043>:14] loading ../data/ranks_table\n",
      "[I 180504 13:04:35 <ipython-input-1-29f11ab86043>:16] Index(['rank_by_ip', 'rank_by_ip_os_device', 'rank_by_ip_os_device_dow'], dtype='object')\n",
      "[I 180504 13:04:38 <ipython-input-1-29f11ab86043>:14] loading ../data/time_of_day\n",
      "[I 180504 13:04:47 <ipython-input-1-29f11ab86043>:16] Index(['second_of_day', 'ratio_of_day', 'sin_of_day', 'cos_of_day'], dtype='object')\n",
      "[I 180504 13:04:51 <ipython-input-1-29f11ab86043>:14] loading ../data/time_table\n",
      "[I 180504 13:04:58 <ipython-input-1-29f11ab86043>:16] Index(['dow', 'hour', 'minute', 'second'], dtype='object')\n"
     ]
    },
    {
     "name": "stdout",
     "output_type": "stream",
     "text": [
      "CPU times: user 3min 24s, sys: 8min 15s, total: 11min 40s\n",
      "Wall time: 29min 57s\n"
     ]
    }
   ],
   "source": [
    "%%time\n",
    "\n",
    "data_files = [\n",
    "    \"../data/basic_table\",\n",
    "    \"../data/click_count_table\",\n",
    "    \"../data/click_time_interval_ip_device_os_app_hash\",\n",
    "    \"../data/intervals_table\",\n",
    "    \"../data/misc_counts\",\n",
    "    \"../data/multi_basic\",\n",
    "    \"../data/next_prev_channels\",\n",
    "    \"../data/prev_next_click_basic\",\n",
    "    \"../data/prev_next_click_for_2_columns\",\n",
    "    \"../data/prev_next_click_for_3_columns\",\n",
    "    \"../data/prev_next_click_for_45_columns\",\n",
    "    \"../data/ranks_table\",\n",
    "    \"../data/time_of_day\",\n",
    "    \"../data/time_table\",\n",
    "]\n",
    "\n",
    "click_data = pd.concat([read_feather(file)[sampling] for file in data_files], axis=1, copy=False)"
   ]
  },
  {
   "cell_type": "code",
   "execution_count": 21,
   "metadata": {},
   "outputs": [
    {
     "name": "stderr",
     "output_type": "stream",
     "text": [
      "[I 180504 13:10:01 <timed exec>:1] Splitting data...\n",
      "[I 180504 13:10:22 <timed exec>:3] created train\n",
      "[I 180504 13:10:35 <timed exec>:5] created test\n"
     ]
    },
    {
     "name": "stdout",
     "output_type": "stream",
     "text": [
      "CPU times: user 19.3 s, sys: 15.7 s, total: 35 s\n",
      "Wall time: 34.9 s\n"
     ]
    }
   ],
   "source": [
    "%%time\n",
    "logger.info(\"Splitting data...\")\n",
    "train = click_data[click_data[\"dow\"] != 4]\n",
    "logger.info(\"created train\")\n",
    "test = click_data[click_data[\"dow\"] == 4]\n",
    "logger.info(\"created test\")\n",
    "\n",
    "del click_data\n",
    "gc.collect()"
   ]
  },
  {
   "cell_type": "code",
   "execution_count": 22,
   "metadata": {},
   "outputs": [
    {
     "name": "stdout",
     "output_type": "stream",
     "text": [
      "CPU times: user 12.5 s, sys: 15.3 s, total: 27.7 s\n",
      "Wall time: 27.6 s\n"
     ]
    }
   ],
   "source": [
    "%%time\n",
    "y_train = train[\"is_attributed\"].astype(\"int\")\n",
    "train.drop(columns=[\"is_attributed\", \"click_id\"], inplace=True)\n",
    "\n",
    "test.drop(columns=[\"is_attributed\", \"click_id\"], inplace=True)\n",
    "gc.collect()"
   ]
  },
  {
   "cell_type": "code",
   "execution_count": 23,
   "metadata": {},
   "outputs": [
    {
     "name": "stdout",
     "output_type": "stream",
     "text": [
      "CPU times: user 28 ms, sys: 0 ns, total: 28 ms\n",
      "Wall time: 27.8 ms\n"
     ]
    }
   ],
   "source": [
    "%%time\n",
    "feature_names = train.columns\n",
    "train = train.values\n",
    "gc.collect()"
   ]
  },
  {
   "cell_type": "code",
   "execution_count": 25,
   "metadata": {},
   "outputs": [
    {
     "name": "stderr",
     "output_type": "stream",
     "text": [
      "[I 180504 13:11:57 <timed exec>:1] Generating matrix...\n"
     ]
    },
    {
     "name": "stdout",
     "output_type": "stream",
     "text": [
      "CPU times: user 48 s, sys: 22.8 s, total: 1min 10s\n",
      "Wall time: 39.4 s\n"
     ]
    }
   ],
   "source": [
    "%%time\n",
    "logger.info(\"Generating matrix...\")\n",
    "dtrain = xgb.DMatrix(train, y_train, feature_names=feature_names, nthread=nthread)\n",
    "del train, y_train\n",
    "gc.collect()"
   ]
  },
  {
   "cell_type": "code",
   "execution_count": 26,
   "metadata": {},
   "outputs": [
    {
     "name": "stderr",
     "output_type": "stream",
     "text": [
      "[I 180504 13:13:17 <timed exec>:1] Validating...\n"
     ]
    },
    {
     "name": "stdout",
     "output_type": "stream",
     "text": [
      "[0]\ttrain-auc:0.95446\n",
      "[1]\ttrain-auc:0.961039\n",
      "[2]\ttrain-auc:0.965992\n",
      "[3]\ttrain-auc:0.967861\n",
      "[4]\ttrain-auc:0.969223\n",
      "[5]\ttrain-auc:0.97119\n",
      "[6]\ttrain-auc:0.973984\n",
      "[7]\ttrain-auc:0.976027\n",
      "[8]\ttrain-auc:0.97722\n",
      "[9]\ttrain-auc:0.978282\n",
      "[10]\ttrain-auc:0.979355\n",
      "CPU times: user 40min 42s, sys: 0 ns, total: 40min 42s\n",
      "Wall time: 7min 34s\n"
     ]
    }
   ],
   "source": [
    "%%time\n",
    "logger.info(\"Validating...\")\n",
    "params = {'eta': 0.6,\n",
    "          'tree_method': \"hist\",\n",
    "          'grow_policy': \"lossguide\",\n",
    "          'max_leaves': 1400,\n",
    "          'max_depth': 0,\n",
    "          'subsample': 0.9,\n",
    "          'colsample_bytree': 0.7,\n",
    "          'colsample_bylevel': 0.7,\n",
    "          'min_child_weight': 0,\n",
    "          'alpha': 4,\n",
    "          'objective': 'binary:logistic',\n",
    "          'scale_pos_weight': 9,\n",
    "          'eval_metric': 'auc',\n",
    "          'nthread': nthread,\n",
    "          'random_state': 99,\n",
    "          'silent': False}\n",
    "watchlist = [(dtrain, 'train')]\n",
    "model = xgb.train(params, dtrain, 11, watchlist, maximize=True, verbose_eval=True)"
   ]
  },
  {
   "cell_type": "code",
   "execution_count": 27,
   "metadata": {},
   "outputs": [
    {
     "data": {
      "text/plain": [
       "21"
      ]
     },
     "execution_count": 27,
     "metadata": {},
     "output_type": "execute_result"
    }
   ],
   "source": [
    "del dtrain\n",
    "gc.collect()"
   ]
  },
  {
   "cell_type": "code",
   "execution_count": 28,
   "metadata": {},
   "outputs": [
    {
     "name": "stderr",
     "output_type": "stream",
     "text": [
      "[I 180504 13:20:52 <timed exec>:1] Generating test matrix\n"
     ]
    },
    {
     "name": "stdout",
     "output_type": "stream",
     "text": [
      "CPU times: user 58.7 s, sys: 0 ns, total: 58.7 s\n",
      "Wall time: 38.5 s\n"
     ]
    }
   ],
   "source": [
    "%%time\n",
    "logger.info(\"Generating test matrix\")\n",
    "test = xgb.DMatrix(test, nthread=nthread)\n",
    "gc.collect()"
   ]
  },
  {
   "cell_type": "code",
   "execution_count": 29,
   "metadata": {},
   "outputs": [],
   "source": [
    "predicted = pd.concat([\n",
    "    pd.read_feather(\"../data/basic_table\"),\n",
    "    pd.read_feather(\"../data/time_table\"),\n",
    "], axis=1)\n",
    "predicted = predicted[predicted[\"dow\"] == 4]\n",
    "predicted = predicted[[\"click_id\"]]"
   ]
  },
  {
   "cell_type": "code",
   "execution_count": 30,
   "metadata": {},
   "outputs": [],
   "source": [
    "predicted['is_attributed'] = model.predict(test, ntree_limit=model.best_ntree_limit)\n",
    "predicted.to_csv('xgb_sub.csv',index=False)"
   ]
  },
  {
   "cell_type": "code",
   "execution_count": 31,
   "metadata": {},
   "outputs": [
    {
     "data": {
      "text/plain": [
       "[(785, 'prev_channel_by_device'),\n",
       " (514, 'next_channel_by_device'),\n",
       " (331, 'app'),\n",
       " (271, 'ratio_of_day'),\n",
       " (268, 'app_channel'),\n",
       " (266, 'hour'),\n",
       " (260, 'ip_app_count'),\n",
       " (257, 'channel'),\n",
       " (250, 'ip_device_os_app_countuniq'),\n",
       " (246, 'app_channel_countuniq'),\n",
       " (242, 'sin_of_day'),\n",
       " (240, 'ip_device_countuniq'),\n",
       " (240, 'device_channel'),\n",
       " (228, 'next_click_second_ip_os_device_app'),\n",
       " (224, 'click_count_by_ip'),\n",
       " (209, 'click_count_by_ip_os_device_dow'),\n",
       " (208, 'ip_dow_channel_var'),\n",
       " (200, 'next_click_second_ip_os_device_app_channel'),\n",
       " (196, 'ip_cumcount'),\n",
       " (193, 'click_time_interval_ip_device_os_app_hash'),\n",
       " (189, 'device_app_channel'),\n",
       " (186, 'device_app'),\n",
       " (185, 'ip_app_countuniq'),\n",
       " (184, 'ip_app_os_var'),\n",
       " (183, 'second_of_day'),\n",
       " (174, 'click_time_interval_by_ip'),\n",
       " (170, 'ip_app_channel_mean'),\n",
       " (165, 'next_channel_by_ip_os_app'),\n",
       " (156, 'minute'),\n",
       " (155, 'ip_device_os_cumcount'),\n",
       " (154, 'ip_app_channel_var'),\n",
       " (152, 'cos_of_day'),\n",
       " (149, 'next_channel_by_os'),\n",
       " (148, 'next_click_second_ip_os_app'),\n",
       " (146, 'next_click_second_ip_os_device_channel'),\n",
       " (145, 'ip'),\n",
       " (143, 'prev_click_second_ip_os_app'),\n",
       " (137, 'prev_channel_by_os'),\n",
       " (135, 'os_device_channel'),\n",
       " (135, 'ip_dow_hour_count'),\n",
       " (134, 'dow'),\n",
       " (131, 'prev_click_second_ip_os_device_app'),\n",
       " (131, 'os'),\n",
       " (130, 'next_channel_by_ip'),\n",
       " (123, 'click_count_by_ip_os_device_dow_hour'),\n",
       " (122, 'prev_click_second_ip_os_channel'),\n",
       " (121, 'ip_channel_countuniq'),\n",
       " (120, 'next_click_second_ip_os_device'),\n",
       " (117, 'next_channel_by_ip_app'),\n",
       " (115, 'rank_by_ip_os_device_dow'),\n",
       " (112, 'ip_os'),\n",
       " (112, 'ip_app_os_countuniq'),\n",
       " (112, 'click_time_interval_by_ip_os_device'),\n",
       " (110, 'next_click_second_ip_os_app_channel'),\n",
       " (110, 'ip_app_os_count'),\n",
       " (106, 'next_click_second_ip_app'),\n",
       " (103, 'next_click_second_ip_channel'),\n",
       " (103, 'next_channel_by_ip_os_device'),\n",
       " (100, 'prev_click_second_ip_app'),\n",
       " (99, 'second'),\n",
       " (99, 'ip_os_device_app_hash'),\n",
       " (96, 'prev_channel_by_ip'),\n",
       " (96, 'os_channel'),\n",
       " (96, 'next_channel_by_os_device'),\n",
       " (95, 'prev_click_second_ip_device_app_channel'),\n",
       " (93, 'next_click_second_ip_device_channel'),\n",
       " (90, 'prev_click_second_ip_channel'),\n",
       " (90, 'next_click_second_ip_device_app'),\n",
       " (89, 'next_channel_by_os_app'),\n",
       " (88, 'prev_click_second_ip_os_device_app_channel'),\n",
       " (88, 'prev_channel_by_os_device_app'),\n",
       " (86, 'prev_click_second_ip_os_app_channel'),\n",
       " (86, 'next_click_second_ip_os'),\n",
       " (85, 'prev_click_second_ip_os'),\n",
       " (85, 'next_channel_by_ip_os'),\n",
       " (85, 'ip_dow_hour_countuniq'),\n",
       " (82, 'prev_click_second_ip_os_device_channel'),\n",
       " (82, 'prev_channel_by_ip_os_device'),\n",
       " (82, 'next_click_second_ip_app_channel'),\n",
       " (79, 'next_channel_by_ip_os_device_app'),\n",
       " (77, 'prev_channel_by_os_device'),\n",
       " (77, 'os_app'),\n",
       " (75, 'prev_channel_by_app'),\n",
       " (75, 'next_channel_by_device_app'),\n",
       " (74, 'prev_click_second_ip_app_channel'),\n",
       " (72, 'prev_channel_by_ip_app'),\n",
       " (72, 'next_click_second_ip_os_channel'),\n",
       " (70, 'os_device'),\n",
       " (70, 'next_click_second_ip_device'),\n",
       " (69, 'os_device_app_channel'),\n",
       " (66, 'next_click_second_ip_device_app_channel'),\n",
       " (64, 'prev_channel_by_device_app'),\n",
       " (64, 'next_channel_by_app'),\n",
       " (63, 'prev_click_second_ip_device_app'),\n",
       " (63, 'prev_channel_by_os_app'),\n",
       " (61, 'next_click_second_ip'),\n",
       " (61, 'next_channel_by_os_device_app'),\n",
       " (61, 'next_channel_by_ip_device'),\n",
       " (59, 'prev_channel_by_ip_os'),\n",
       " (59, 'click_time_interval_by_ip_os_device_dow'),\n",
       " (54, 'prev_channel_by_ip_os_app'),\n",
       " (53, 'prev_channel_by_ip_device_app'),\n",
       " (52, 'prev_channel_by_ip_device'),\n",
       " (49, 'os_app_channel'),\n",
       " (48, 'prev_click_second_ip_device'),\n",
       " (48, 'next_click_second_app_channel'),\n",
       " (48, 'device'),\n",
       " (45, 'os_device_app'),\n",
       " (45, 'next_channel_by_ip_device_app'),\n",
       " (44, 'rank_by_ip_os_device'),\n",
       " (42, 'prev_click_second_app_channel'),\n",
       " (41, 'prev_channel_by_ip_os_device_app'),\n",
       " (38, 'prev_click_second_ip_os_device'),\n",
       " (38, 'ip_device'),\n",
       " (37, 'next_click_second_device_app_channel'),\n",
       " (34, 'click_time_interval_by_ip_os_device_dow_hour'),\n",
       " (33, 'prev_click_second_ip'),\n",
       " (32, 'prev_click_second_os_app_channel'),\n",
       " (31, 'prev_click_second_device_app_channel'),\n",
       " (31, 'next_click_second_os_device_app_channel'),\n",
       " (30, 'next_click_second_os_app_channel'),\n",
       " (29, 'prev_click_second_ip_device_channel'),\n",
       " (20, 'next_click_second_os_device_channel'),\n",
       " (19, 'prev_click_second_os_device_app_channel'),\n",
       " (16, 'next_click_second_os_device_app'),\n",
       " (15, 'next_click_second_os_channel'),\n",
       " (13, 'prev_click_second_os_channel'),\n",
       " (12, 'prev_click_second_os_device_channel'),\n",
       " (12, 'prev_click_second_os_app'),\n",
       " (10, 'next_click_second_os_app'),\n",
       " (10, 'ip_os_device'),\n",
       " (9, 'next_click_second_app'),\n",
       " (8, 'prev_click_second_channel'),\n",
       " (8, 'next_click_second_device'),\n",
       " (8, 'ip_app'),\n",
       " (7, 'prev_click_second_os_device_app'),\n",
       " (7, 'prev_click_second_device'),\n",
       " (6, 'next_click_second_device_channel'),\n",
       " (6, 'next_click_second_channel'),\n",
       " (4, 'prev_click_second_device_channel'),\n",
       " (4, 'ip_os_app'),\n",
       " (4, 'ip_device_channel'),\n",
       " (4, 'ip_channel'),\n",
       " (3, 'prev_click_second_app'),\n",
       " (3, 'next_click_second_os_device'),\n",
       " (3, 'ip_os_app_channel'),\n",
       " (3, 'ip_device_app'),\n",
       " (3, 'first_click_interval_ip_device_os_app_hash'),\n",
       " (3, 'first_click_by_ip_os_device_dow_hour'),\n",
       " (2, 'prev_click_second_device_app'),\n",
       " (2, 'next_click_second_device_app'),\n",
       " (2, 'ip_os_channel'),\n",
       " (2, 'ip_app_channel'),\n",
       " (1, 'prev_click_second_os'),\n",
       " (1, 'next_click_second_os'),\n",
       " (1, 'ip_os_device_channel'),\n",
       " (1, 'ip_os_device_app_channel'),\n",
       " (1, 'first_click_by_ip')]"
      ]
     },
     "execution_count": 31,
     "metadata": {},
     "output_type": "execute_result"
    }
   ],
   "source": [
    "sorted([(value, key) for key, value in model.get_score(importance_type=\"weight\").items()], reverse=True)"
   ]
  },
  {
   "cell_type": "code",
   "execution_count": 32,
   "metadata": {},
   "outputs": [
    {
     "data": {
      "text/plain": [
       "[(24124.831108799994, 'ip_device_os_app_countuniq'),\n",
       " (6845.392121148028, 'app'),\n",
       " (6038.367463636366, 'ip_channel_countuniq'),\n",
       " (4152.279229674795, 'app_channel_countuniq'),\n",
       " (3553.6245908333335, 'next_click_second_ip_os_device'),\n",
       " (3452.3371463035023, 'channel'),\n",
       " (3034.2256105882343, 'ip_dow_hour_countuniq'),\n",
       " (2660.435722857142, 'next_click_second_ip_device'),\n",
       " (2065.5495083333335, 'device'),\n",
       " (1273.2878358333342, 'device_channel'),\n",
       " (1240.6941083333334, 'prev_click_second_os_app'),\n",
       " (1195.625541964286, 'ip_app_os_countuniq'),\n",
       " (1181.8604027027025, 'ip_app_countuniq'),\n",
       " (1174.6743581712071, 'next_channel_by_device'),\n",
       " (1134.8502582010597, 'device_app_channel'),\n",
       " (994.4302488372095, 'next_click_second_ip_os'),\n",
       " (976.5902339552232, 'app_channel'),\n",
       " (849.6220135031833, 'prev_channel_by_device'),\n",
       " (730.4127077669901, 'next_channel_by_ip_os_device'),\n",
       " (670.127823333333, 'next_click_second_os_app_channel'),\n",
       " (629.7809580645159, 'device_app'),\n",
       " (595.3071206140355, 'next_click_second_ip_os_device_app'),\n",
       " (532.7678333333332, 'next_click_second_device_channel'),\n",
       " (514.8570843749998, 'prev_click_second_os_app_channel'),\n",
       " (499.6822881355932, 'click_time_interval_by_ip_os_device_dow'),\n",
       " (497.334, 'next_click_second_os'),\n",
       " (489.070719047619, 'prev_click_second_app_channel'),\n",
       " (475.1355760273972, 'next_click_second_ip_os_device_channel'),\n",
       " (440.9285900000001, 'os_device'),\n",
       " (434.5080344497607, 'click_count_by_ip_os_device_dow'),\n",
       " (385.55146874999997, 'click_count_by_ip'),\n",
       " (372.03378378378363, 'next_click_second_device_app_channel'),\n",
       " (363.1029490566036, 'next_click_second_ip_app'),\n",
       " (361.18849626865676, 'dow'),\n",
       " (360.3623641666665, 'ip_device_countuniq'),\n",
       " (342.9740560150378, 'hour'),\n",
       " (342.84714444444444, 'next_click_second_app'),\n",
       " (333.91687931034494, 'click_time_interval_by_ip'),\n",
       " (331.32526086956517, 'os_device_app_channel'),\n",
       " (329.76163008130095, 'click_count_by_ip_os_device_dow_hour'),\n",
       " (320.56991486486476, 'next_click_second_ip_os_app'),\n",
       " (319.87502500000005, 'next_click_second_os_device_app'),\n",
       " (318.92795572519077, 'os'),\n",
       " (317.4651944999998, 'next_click_second_ip_os_device_app_channel'),\n",
       " (315.54369344262284, 'next_channel_by_os_device_app'),\n",
       " (303.52535764705897, 'next_channel_by_ip_os'),\n",
       " (300.3808534615383, 'ip_app_count'),\n",
       " (292.18053333333324, 'os_channel'),\n",
       " (291.63256835443036, 'next_channel_by_ip_os_device_app'),\n",
       " (290.42186250000003, 'next_channel_by_app'),\n",
       " (277.7715491071428, 'click_time_interval_by_ip_os_device'),\n",
       " (277.4198515151515, 'next_channel_by_ip_os_app'),\n",
       " (272.57581466666676, 'prev_channel_by_app'),\n",
       " (270.8857844444444, 'next_channel_by_ip_device_app'),\n",
       " (268.94015272727285, 'next_click_second_ip_os_app_channel'),\n",
       " (267.26313367875656, 'click_time_interval_ip_device_os_app_hash'),\n",
       " (265.87515789473684, 'prev_click_second_os_device_app_channel'),\n",
       " (258.29328636363647, 'next_click_second_ip_device_app_channel'),\n",
       " (253.60605806451616, 'prev_click_second_device_app_channel'),\n",
       " (242.77976153846154, 'prev_click_second_os_channel'),\n",
       " (240.502593, 'prev_click_second_ip_app'),\n",
       " (240.02198387096777, 'next_click_second_os_device_app_channel'),\n",
       " (235.72539999999995, 'ratio_of_day'),\n",
       " (234.983, 'first_click_by_ip'),\n",
       " (233.63033333333337, 'first_click_by_ip_os_device_dow_hour'),\n",
       " (231.08059687499994, 'next_channel_by_os_device'),\n",
       " (227.54105617977535, 'next_channel_by_os_app'),\n",
       " (227.3467473282442, 'prev_click_second_ip_os_device_app'),\n",
       " (226.0466993506492, 'ip_app_channel_var'),\n",
       " (224.22877419354842, 'ip_device_os_cumcount'),\n",
       " (220.77342613636364, 'prev_channel_by_os_device_app'),\n",
       " (220.72332077922073, 'os_app'),\n",
       " (220.25369733333326, 'next_channel_by_device_app'),\n",
       " (217.57928684210526, 'prev_click_second_ip_os_device'),\n",
       " (217.3318268292683, 'prev_channel_by_ip_os_device_app'),\n",
       " (216.97487708333333, 'next_click_second_app_channel'),\n",
       " (215.18979512195128, 'next_click_second_ip_app_channel'),\n",
       " (215.11072352941179, 'click_time_interval_by_ip_os_device_dow_hour'),\n",
       " (213.969, 'ip_os_channel'),\n",
       " (212.23566458333337, 'prev_click_second_ip_device'),\n",
       " (211.48509214876026, 'sin_of_day'),\n",
       " (206.01248947368433, 'cos_of_day'),\n",
       " (204.405, 'ip_os_device_app_channel'),\n",
       " (204.02166107382547, 'next_channel_by_os'),\n",
       " (201.33664000000005, 'os_device_app'),\n",
       " (200.9827096153846, 'prev_channel_by_ip_device'),\n",
       " (200.40277948717952, 'next_channel_by_ip_app'),\n",
       " (200.33610634920637, 'prev_channel_by_os_app'),\n",
       " (197.87233333333333, 'next_click_second_os_device'),\n",
       " (196.95974999999999, 'prev_click_second_channel'),\n",
       " (194.88201875, 'prev_channel_by_device_app'),\n",
       " (193.99717888888884, 'next_click_second_ip_device_app'),\n",
       " (192.38610327868852, 'next_click_second_ip'),\n",
       " (191.4423898989899, 'second'),\n",
       " (191.21020000000001, 'next_click_second_device'),\n",
       " (189.53518965517233, 'ip'),\n",
       " (188.98883333333333, 'first_click_interval_ip_device_os_app_hash'),\n",
       " (188.14190666666664, 'ip_dow_hour_count'),\n",
       " (187.98973376623374, 'prev_channel_by_os_device'),\n",
       " (187.35961043478258, 'rank_by_ip_os_device_dow'),\n",
       " (186.84400279720273, 'prev_click_second_ip_os_app'),\n",
       " (186.11028446601938, 'next_click_second_ip_channel'),\n",
       " (186.09738798076927, 'ip_dow_channel_var'),\n",
       " (185.45014603174607, 'prev_click_second_ip_device_app'),\n",
       " (184.7961717647059, 'prev_click_second_ip_os'),\n",
       " (183.11620983606548, 'next_channel_by_ip_device'),\n",
       " (183.0768494949495, 'ip_os_device_app_hash'),\n",
       " (182.93795, 'ip_app_channel'),\n",
       " (182.14007027027026, 'prev_click_second_ip_app_channel'),\n",
       " (181.2877533333333, 'next_click_second_os_channel'),\n",
       " (180.77033851851846, 'os_device_channel'),\n",
       " (180.2078810218978, 'prev_channel_by_os'),\n",
       " (180.16492395833336, 'prev_channel_by_ip'),\n",
       " (177.59685819672134, 'prev_click_second_ip_os_channel'),\n",
       " (176.78059562841523, 'second_of_day'),\n",
       " (176.05363846153844, 'next_channel_by_ip'),\n",
       " (176.00337411764707, 'ip_app_channel_mean'),\n",
       " (175.9693632653061, 'os_app_channel'),\n",
       " (175.85949239130431, 'ip_app_os_var'),\n",
       " (175.44789318181822, 'rank_by_ip_os_device'),\n",
       " (173.68945697674417, 'prev_click_second_ip_os_app_channel'),\n",
       " (173.3633987804878, 'prev_channel_by_ip_os_device'),\n",
       " (172.7458791666667, 'prev_channel_by_ip_app'),\n",
       " (172.51231777777784, 'prev_click_second_ip_channel'),\n",
       " (169.40551581632656, 'ip_cumcount'),\n",
       " (167.52528526315788, 'prev_click_second_ip_device_app_channel'),\n",
       " (164.86340566037734, 'prev_channel_by_ip_device_app'),\n",
       " (164.38173333333327, 'next_click_second_ip_os_channel'),\n",
       " (163.90422179487172, 'minute'),\n",
       " (163.80837232142855, 'ip_os'),\n",
       " (162.7055, 'next_click_second_device_app'),\n",
       " (162.58664946236559, 'next_click_second_ip_device_channel'),\n",
       " (162.50420344827586, 'prev_click_second_ip_device_channel'),\n",
       " (162.35841463414624, 'prev_click_second_ip_os_device_channel'),\n",
       " (161.26817407407404, 'prev_channel_by_ip_os_app'),\n",
       " (159.52263157894734, 'ip_device'),\n",
       " (159.27742727272735, 'prev_click_second_ip_os_device_app_channel'),\n",
       " (159.0528, 'prev_click_second_os_device_channel'),\n",
       " (158.4335, 'prev_click_second_device_app'),\n",
       " (157.67179090909087, 'ip_app_os_count'),\n",
       " (155.27882999999997, 'next_click_second_os_device_channel'),\n",
       " (153.9565, 'ip_channel'),\n",
       " (150.681, 'ip_os_app_channel'),\n",
       " (145.87424285714286, 'prev_click_second_device'),\n",
       " (144.68317575757575, 'prev_click_second_ip'),\n",
       " (143.22525932203385, 'prev_channel_by_ip_os'),\n",
       " (141.87671, 'ip_os_device'),\n",
       " (141.157, 'next_click_second_channel'),\n",
       " (133.852325, 'ip_device_channel'),\n",
       " (130.912, 'prev_click_second_app'),\n",
       " (128.12915714285717, 'prev_click_second_os_device_app'),\n",
       " (127.61937499999999, 'ip_app'),\n",
       " (127.14993333333332, 'ip_device_app'),\n",
       " (125.85501, 'next_click_second_os_app'),\n",
       " (119.43204999999999, 'prev_click_second_device_channel'),\n",
       " (106.5347, 'ip_os_app'),\n",
       " (92.5071, 'prev_click_second_os'),\n",
       " (83.9224, 'ip_os_device_channel')]"
      ]
     },
     "execution_count": 32,
     "metadata": {},
     "output_type": "execute_result"
    }
   ],
   "source": [
    "sorted([(value, key) for key, value in model.get_score(importance_type=\"gain\").items()], reverse=True)"
   ]
  },
  {
   "cell_type": "code",
   "execution_count": null,
   "metadata": {},
   "outputs": [],
   "source": []
  }
 ],
 "metadata": {
  "kernelspec": {
   "display_name": "Python 3",
   "language": "python",
   "name": "python3"
  },
  "language_info": {
   "codemirror_mode": {
    "name": "ipython",
    "version": 3
   },
   "file_extension": ".py",
   "mimetype": "text/x-python",
   "name": "python",
   "nbconvert_exporter": "python",
   "pygments_lexer": "ipython3",
   "version": "3.6.5"
  }
 },
 "nbformat": 4,
 "nbformat_minor": 2
}
