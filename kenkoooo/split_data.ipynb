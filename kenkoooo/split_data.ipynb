{
 "cells": [
  {
   "cell_type": "code",
   "execution_count": 1,
   "metadata": {},
   "outputs": [],
   "source": [
    "import pandas as pd"
   ]
  },
  {
   "cell_type": "code",
   "execution_count": 2,
   "metadata": {},
   "outputs": [
    {
     "name": "stdout",
     "output_type": "stream",
     "text": [
      "CPU times: user 1.33 s, sys: 12.8 s, total: 14.1 s\n",
      "Wall time: 6min 39s\n"
     ]
    }
   ],
   "source": [
    "%%time\n",
    "df = pd.read_hdf(\"./data/merged_click_data.hdf\", \"merged_click_data\")"
   ]
  },
  {
   "cell_type": "code",
   "execution_count": 3,
   "metadata": {},
   "outputs": [
    {
     "data": {
      "text/plain": [
       "app                                              uint16\n",
       "channel                                          uint16\n",
       "click_id                                         uint32\n",
       "device                                           uint16\n",
       "ip                                               uint32\n",
       "is_attributed                                     uint8\n",
       "os                                               uint16\n",
       "click_count_by_ip_os_device_dow                  uint32\n",
       "click_count_by_ip_os_device_dow_hour             uint16\n",
       "click_count_by_ip                                uint32\n",
       "dow                                               uint8\n",
       "hour                                              uint8\n",
       "minute                                            uint8\n",
       "second                                            uint8\n",
       "rank_by_ip                                       uint32\n",
       "rank_by_ip_os_device                             uint32\n",
       "rank_by_ip_os_device_dow                         uint32\n",
       "click_time_interval_by_ip                        uint32\n",
       "click_time_interval_by_ip_os_device              uint32\n",
       "click_time_interval_by_ip_os_device_dow          uint32\n",
       "click_time_interval_by_ip_os_device_dow_hour     uint32\n",
       "ip_device_os_cumcount                            uint32\n",
       "ip_cumcount                                      uint32\n",
       "ip_channel_countuniq                              uint8\n",
       "ip_dow_hour_countuniq                             uint8\n",
       "ip_app_countuniq                                  uint8\n",
       "ip_app_os_countuniq                               uint8\n",
       "ip_device_countuniq                              uint16\n",
       "app_channel_countuniq                            uint32\n",
       "ip_device_os_app_countuniq                       uint32\n",
       "ip_dow_hour_count                                uint32\n",
       "ip_app_count                                     uint32\n",
       "ip_app_os_count                                  uint16\n",
       "ip_dow_channel_var                              float32\n",
       "ip_app_os_var                                   float32\n",
       "ip_app_channel_var                              float32\n",
       "ip_app_channel_mean                             float32\n",
       "ip_os_device_app_hash                            uint32\n",
       "first_click_by_ip                                  bool\n",
       "first_click_by_ip_os_device                        bool\n",
       "first_click_by_ip_os_device_dow                    bool\n",
       "first_click_by_ip_os_device_dow_hour               bool\n",
       "dtype: object"
      ]
     },
     "execution_count": 3,
     "metadata": {},
     "output_type": "execute_result"
    }
   ],
   "source": [
    "df.dtypes"
   ]
  },
  {
   "cell_type": "code",
   "execution_count": 4,
   "metadata": {},
   "outputs": [
    {
     "name": "stdout",
     "output_type": "stream",
     "text": [
      "CPU times: user 28.3 s, sys: 6.8 s, total: 35.1 s\n",
      "Wall time: 35.1 s\n"
     ]
    }
   ],
   "source": [
    "%%time\n",
    "basic_columns = [\"app\", \"channel\", \"click_id\", \"device\", \"ip\", \"is_attributed\", \"os\"]\n",
    "basic_table = df[basic_columns]\n",
    "df.drop(columns=basic_columns, inplace=True)"
   ]
  },
  {
   "cell_type": "code",
   "execution_count": 7,
   "metadata": {},
   "outputs": [],
   "source": [
    "basic_table.to_hdf(\"./basic_table.hdf\", \"basic_table\")"
   ]
  },
  {
   "cell_type": "code",
   "execution_count": 11,
   "metadata": {},
   "outputs": [],
   "source": [
    "time_columns = [\"dow\", \"hour\", \"minute\", \"second\"]\n",
    "time_table = df[time_columns]\n",
    "df.drop(columns=time_columns, inplace=True)"
   ]
  },
  {
   "cell_type": "code",
   "execution_count": 14,
   "metadata": {},
   "outputs": [],
   "source": [
    "time_table.to_hdf(\"./time_table.hdf\", \"time_table\")"
   ]
  },
  {
   "cell_type": "code",
   "execution_count": 15,
   "metadata": {},
   "outputs": [
    {
     "data": {
      "text/plain": [
       "click_count_by_ip_os_device_dow                  uint32\n",
       "click_count_by_ip_os_device_dow_hour             uint16\n",
       "click_count_by_ip                                uint32\n",
       "rank_by_ip                                       uint32\n",
       "rank_by_ip_os_device                             uint32\n",
       "rank_by_ip_os_device_dow                         uint32\n",
       "click_time_interval_by_ip                        uint32\n",
       "click_time_interval_by_ip_os_device              uint32\n",
       "click_time_interval_by_ip_os_device_dow          uint32\n",
       "click_time_interval_by_ip_os_device_dow_hour     uint32\n",
       "ip_device_os_cumcount                            uint32\n",
       "ip_cumcount                                      uint32\n",
       "ip_channel_countuniq                              uint8\n",
       "ip_dow_hour_countuniq                             uint8\n",
       "ip_app_countuniq                                  uint8\n",
       "ip_app_os_countuniq                               uint8\n",
       "ip_device_countuniq                              uint16\n",
       "app_channel_countuniq                            uint32\n",
       "ip_device_os_app_countuniq                       uint32\n",
       "ip_dow_hour_count                                uint32\n",
       "ip_app_count                                     uint32\n",
       "ip_app_os_count                                  uint16\n",
       "ip_dow_channel_var                              float32\n",
       "ip_app_os_var                                   float32\n",
       "ip_app_channel_var                              float32\n",
       "ip_app_channel_mean                             float32\n",
       "ip_os_device_app_hash                            uint32\n",
       "first_click_by_ip                                  bool\n",
       "first_click_by_ip_os_device                        bool\n",
       "first_click_by_ip_os_device_dow                    bool\n",
       "first_click_by_ip_os_device_dow_hour               bool\n",
       "dtype: object"
      ]
     },
     "execution_count": 15,
     "metadata": {},
     "output_type": "execute_result"
    }
   ],
   "source": [
    "df.dtypes"
   ]
  },
  {
   "cell_type": "code",
   "execution_count": 16,
   "metadata": {},
   "outputs": [],
   "source": [
    "intervals_columns=[\"click_time_interval_by_ip\", \"click_time_interval_by_ip_os_device\", \"click_time_interval_by_ip_os_device_dow\", \"click_time_interval_by_ip_os_device_dow_hour\",\n",
    "                  \"first_click_by_ip\", \"first_click_by_ip_os_device\", \"first_click_by_ip_os_device_dow\", \"first_click_by_ip_os_device_dow_hour\"]\n",
    "intervals_table=df[intervals_columns]\n",
    "df.drop(columns=intervals_columns, inplace=True)"
   ]
  },
  {
   "cell_type": "code",
   "execution_count": 17,
   "metadata": {},
   "outputs": [],
   "source": [
    "intervals_table.to_hdf(\"./intervals_table.hdf\", \"intervals_table\")"
   ]
  },
  {
   "cell_type": "code",
   "execution_count": 19,
   "metadata": {},
   "outputs": [],
   "source": [
    "click_count_columns=[\"click_count_by_ip\", \"click_count_by_ip_os_device_dow\", \"click_count_by_ip_os_device_dow_hour\"]\n",
    "click_count_table = df[click_count_columns]\n",
    "df.drop(columns=click_count_columns, inplace=True)"
   ]
  },
  {
   "cell_type": "code",
   "execution_count": 20,
   "metadata": {},
   "outputs": [],
   "source": [
    "click_count_table.to_hdf(\"./click_count_table.hdf\", \"click_count_table\")"
   ]
  },
  {
   "cell_type": "code",
   "execution_count": 21,
   "metadata": {},
   "outputs": [
    {
     "data": {
      "text/plain": [
       "rank_by_ip                     uint32\n",
       "rank_by_ip_os_device           uint32\n",
       "rank_by_ip_os_device_dow       uint32\n",
       "ip_device_os_cumcount          uint32\n",
       "ip_cumcount                    uint32\n",
       "ip_channel_countuniq            uint8\n",
       "ip_dow_hour_countuniq           uint8\n",
       "ip_app_countuniq                uint8\n",
       "ip_app_os_countuniq             uint8\n",
       "ip_device_countuniq            uint16\n",
       "app_channel_countuniq          uint32\n",
       "ip_device_os_app_countuniq     uint32\n",
       "ip_dow_hour_count              uint32\n",
       "ip_app_count                   uint32\n",
       "ip_app_os_count                uint16\n",
       "ip_dow_channel_var            float32\n",
       "ip_app_os_var                 float32\n",
       "ip_app_channel_var            float32\n",
       "ip_app_channel_mean           float32\n",
       "ip_os_device_app_hash          uint32\n",
       "dtype: object"
      ]
     },
     "execution_count": 21,
     "metadata": {},
     "output_type": "execute_result"
    }
   ],
   "source": [
    "df.dtypes"
   ]
  },
  {
   "cell_type": "code",
   "execution_count": 22,
   "metadata": {},
   "outputs": [],
   "source": [
    "ranks_columns = [\"rank_by_ip\", \"rank_by_ip_os_device\", \"rank_by_ip_os_device_dow\"]\n",
    "ranks_table=df[ranks_columns]\n",
    "df.drop(columns=ranks_columns, inplace=True)"
   ]
  },
  {
   "cell_type": "code",
   "execution_count": 23,
   "metadata": {},
   "outputs": [],
   "source": [
    "ranks_table.to_hdf(\"./ranks_table.hdf\", \"ranks_table\")"
   ]
  },
  {
   "cell_type": "code",
   "execution_count": 25,
   "metadata": {},
   "outputs": [
    {
     "data": {
      "text/plain": [
       "ip_device_os_cumcount          uint32\n",
       "ip_cumcount                    uint32\n",
       "ip_channel_countuniq            uint8\n",
       "ip_dow_hour_countuniq           uint8\n",
       "ip_app_countuniq                uint8\n",
       "ip_app_os_countuniq             uint8\n",
       "ip_device_countuniq            uint16\n",
       "app_channel_countuniq          uint32\n",
       "ip_device_os_app_countuniq     uint32\n",
       "ip_dow_hour_count              uint32\n",
       "ip_app_count                   uint32\n",
       "ip_app_os_count                uint16\n",
       "ip_dow_channel_var            float32\n",
       "ip_app_os_var                 float32\n",
       "ip_app_channel_var            float32\n",
       "ip_app_channel_mean           float32\n",
       "ip_os_device_app_hash          uint32\n",
       "dtype: object"
      ]
     },
     "execution_count": 25,
     "metadata": {},
     "output_type": "execute_result"
    }
   ],
   "source": [
    "df.dtypes"
   ]
  },
  {
   "cell_type": "code",
   "execution_count": 26,
   "metadata": {},
   "outputs": [],
   "source": [
    "df.to_hdf(\"misc_counts.hdf\", \"misc_counts\")"
   ]
  }
 ],
 "metadata": {
  "kernelspec": {
   "display_name": "Python 3",
   "language": "python",
   "name": "python3"
  },
  "language_info": {
   "codemirror_mode": {
    "name": "ipython",
    "version": 3
   },
   "file_extension": ".py",
   "mimetype": "text/x-python",
   "name": "python",
   "nbconvert_exporter": "python",
   "pygments_lexer": "ipython3",
   "version": "3.6.4"
  }
 },
 "nbformat": 4,
 "nbformat_minor": 2
}
