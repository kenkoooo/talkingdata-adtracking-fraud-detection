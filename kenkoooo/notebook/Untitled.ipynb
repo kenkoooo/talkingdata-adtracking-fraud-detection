{
 "cells": [
  {
   "cell_type": "code",
   "execution_count": 1,
   "metadata": {},
   "outputs": [],
   "source": [
    "import gc\n",
    "import time\n",
    "import numpy as np\n",
    "import pandas as pd\n",
    "import xgboost as xgb\n",
    "from xgboost import plot_importance\n",
    "import matplotlib.pyplot as plt\n",
    "from logzero import logger\n",
    "import sys\n",
    "\n",
    "nthread = 8\n",
    "\n",
    "def read_feather(name: str):\n",
    "    logger.info(\"loading {}\".format(name))\n",
    "    df = pd.read_feather(name, nthreads=nthread).astype(\"float\")\n",
    "    logger.info(df.columns)\n",
    "    return df\n",
    "\n",
    "def show_top(var_names):\n",
    "    print(\"{}{: >25}{}{: >12}{}\".format('|','Variable Name','|','Memory','|'))\n",
    "    print(\" ------------------------------------ \")\n",
    "    for var_name in var_names:\n",
    "        memory = sys.getsizeof(eval(var_name))//1024//1024//1024\n",
    "        if memory == 0:\n",
    "            continue\n",
    "        print(\"{}{: >25}{}{: >10}GB{}\".format('|', var_name, '|', memory, '|'))"
   ]
  },
  {
   "cell_type": "markdown",
   "metadata": {},
   "source": [
    "# Extract\n",
    "\n",
    "小さいデータで学習して、データを間引く"
   ]
  },
  {
   "cell_type": "code",
   "execution_count": 2,
   "metadata": {},
   "outputs": [
    {
     "name": "stdout",
     "output_type": "stream",
     "text": [
      "total 217G\n",
      "drwxrwxr-x 2 ubuntu ubuntu 4.0K May  2 12:51 \u001b[0m\u001b[01;34m.\u001b[0m/\n",
      "drwxrwxr-x 7 ubuntu ubuntu 4.0K Apr 27 18:29 \u001b[01;34m..\u001b[0m/\n",
      "-rw-rw-r-- 1 ubuntu ubuntu 3.3G Apr 25 19:19 basic_table\n",
      "-rw-rw-r-- 1 ubuntu ubuntu 850M Apr 25 19:19 channel_categorical\n",
      "-rw-rw-r-- 1 ubuntu ubuntu 1.9G Apr 25 19:19 click_count_table\n",
      "-rw-rw-r-- 1 ubuntu ubuntu 802M Apr 25 19:19 click_time_interval_ip_device_os_app_hash\n",
      "-rw-rw-r-- 1 ubuntu ubuntu 706M Apr 26 07:28 down_sampling_train\n",
      "-rw-rw-r-- 1 ubuntu ubuntu 3.2G Apr 25 19:19 intervals_table\n",
      "-rw-rw-r-- 1 ubuntu ubuntu  10G Apr 25 19:19 misc_counts\n",
      "-rw-rw-r-- 1 ubuntu ubuntu  16G Apr 25 19:19 multi_basic\n",
      "-rw-rw-r-- 1 ubuntu ubuntu  12G Apr 25 21:45 next_prev_channels\n",
      "-rw-r--r-- 1 ubuntu ubuntu  16G Apr 28 04:12 prev_next_click_basic\n",
      "-rw-r--r-- 1 ubuntu ubuntu  31G Apr 28 05:27 prev_next_click_for_2_columns\n",
      "-rw-r--r-- 1 ubuntu ubuntu  31G Apr 28 15:36 prev_next_click_for_3_columns\n",
      "-rw-r--r-- 1 ubuntu ubuntu  19G Apr 29 12:27 prev_next_click_for_45_columns\n",
      "-rw-rw-r-- 1 ubuntu ubuntu 2.3G Apr 25 19:20 ranks_table\n",
      "-rw-rw-r-- 1 ubuntu ubuntu 5.0G Apr 26 06:08 time_of_day\n",
      "-rw-rw-r-- 1 ubuntu ubuntu 778M Apr 25 19:22 time_table\n",
      "-rw-r--r-- 1 ubuntu ubuntu  65G May  2 12:59 tmp\n"
     ]
    }
   ],
   "source": [
    "ls -lha ../data/"
   ]
  },
  {
   "cell_type": "code",
   "execution_count": 3,
   "metadata": {},
   "outputs": [
    {
     "data": {
      "text/plain": [
       "['next_channel_by_device',\n",
       " 'prev_channel_by_device',\n",
       " 'click_count_by_ip_os_device_dow_hour',\n",
       " 'second_of_day',\n",
       " 'ip_app_os_var',\n",
       " 'app',\n",
       " 'ip_dow_channel_var',\n",
       " 'channel',\n",
       " 'next_channel_by_ip_os',\n",
       " 'sin_of_day',\n",
       " 'cos_of_day',\n",
       " 'ip_app_count',\n",
       " 'device_app',\n",
       " 'click_count_by_ip',\n",
       " 'ip_app_channel_mean',\n",
       " 'ip_device_countuniq',\n",
       " 'click_time_interval_ip_device_os_app_hash',\n",
       " 'ip_app_countuniq',\n",
       " 'app_channel',\n",
       " 'ip_channel_countuniq',\n",
       " 'ip_app_os_countuniq',\n",
       " 'ip_app_channel_var',\n",
       " 'ip_device_os_app_countuniq',\n",
       " 'device_app_channel',\n",
       " 'click_time_interval_by_ip',\n",
       " 'click_count_by_ip_os_device_dow',\n",
       " 'next_channel_by_ip_os_device_app',\n",
       " 'rank_by_ip_os_device_dow',\n",
       " 'ip',\n",
       " 'next_channel_by_ip',\n",
       " 'app_channel_countuniq',\n",
       " 'ip_device_os_cumcount',\n",
       " 'ip_os',\n",
       " 'next_channel_by_ip_app',\n",
       " 'os',\n",
       " 'next_channel_by_ip_device',\n",
       " 'ip_dow_hour_count',\n",
       " 'next_channel_by_ip_os_device',\n",
       " 'ip_dow_hour_countuniq',\n",
       " 'minute',\n",
       " 'click_time_interval_by_ip_os_device',\n",
       " 'hour']"
      ]
     },
     "execution_count": 3,
     "metadata": {},
     "output_type": "execute_result"
    }
   ],
   "source": [
    "prev_importances = [\n",
    " (1271, 'next_channel_by_device'),\n",
    " (1030, 'prev_channel_by_device'),\n",
    " (524, 'click_count_by_ip_os_device_dow_hour'),\n",
    " (522, 'second_of_day'),\n",
    " (487, 'ip_app_os_var'),\n",
    " (471, 'app'),\n",
    " (435, 'ip_dow_channel_var'),\n",
    " (410, 'channel'),\n",
    " (389, 'next_channel_by_ip_os'),\n",
    " (377, 'sin_of_day'),\n",
    " (373, 'cos_of_day'),\n",
    " (366, 'ip_app_count'),\n",
    " (353, 'device_app'),\n",
    " (351, 'click_count_by_ip'),\n",
    " (343, 'ip_app_channel_mean'),\n",
    " (332, 'ip_device_countuniq'),\n",
    " (332, 'click_time_interval_ip_device_os_app_hash'),\n",
    " (328, 'ip_app_countuniq'),\n",
    " (324, 'app_channel'),\n",
    " (321, 'ip_channel_countuniq'),\n",
    " (321, 'ip_app_os_countuniq'),\n",
    " (321, 'ip_app_channel_var'),\n",
    " (313, 'ip_device_os_app_countuniq'),\n",
    " (307, 'device_app_channel'),\n",
    " (307, 'click_time_interval_by_ip'),\n",
    " (299, 'click_count_by_ip_os_device_dow'),\n",
    " (297, 'next_channel_by_ip_os_device_app'),\n",
    " (292, 'rank_by_ip_os_device_dow'),\n",
    " (291, 'ip'),\n",
    " (278, 'next_channel_by_ip'),\n",
    " (273, 'app_channel_countuniq'),\n",
    " (272, 'ip_device_os_cumcount'),\n",
    " (258, 'ip_os'),\n",
    " (257, 'next_channel_by_ip_app'),\n",
    " (256, 'os'),\n",
    " (247, 'next_channel_by_ip_device'),\n",
    " (240, 'ip_dow_hour_count'),\n",
    " (235, 'next_channel_by_ip_os_device'),\n",
    " (229, 'ip_dow_hour_countuniq'),\n",
    " (228, 'minute'),\n",
    " (228, 'click_time_interval_by_ip_os_device'),\n",
    " (224, 'hour')]\n",
    "prev_columns = [c for i, c in prev_importances]\n",
    "prev_columns"
   ]
  },
  {
   "cell_type": "code",
   "execution_count": 4,
   "metadata": {},
   "outputs": [
    {
     "name": "stderr",
     "output_type": "stream",
     "text": [
      "[I 180502 14:13:30 <ipython-input-1-29f11ab86043>:14] loading ../data/basic_table\n",
      "[I 180502 14:14:11 <ipython-input-1-29f11ab86043>:16] Index(['app', 'channel', 'click_id', 'device', 'ip', 'is_attributed', 'os'], dtype='object')\n",
      "[I 180502 14:14:13 <ipython-input-1-29f11ab86043>:14] loading ../data/click_count_table\n",
      "[I 180502 14:14:35 <ipython-input-1-29f11ab86043>:16] Index(['click_count_by_ip', 'click_count_by_ip_os_device_dow',\n",
      "           'click_count_by_ip_os_device_dow_hour'],\n",
      "          dtype='object')\n",
      "[I 180502 14:14:37 <ipython-input-1-29f11ab86043>:14] loading ../data/click_time_interval_ip_device_os_app_hash\n",
      "[I 180502 14:14:47 <ipython-input-1-29f11ab86043>:16] Index(['click_time_interval_ip_device_os_app_hash', 'first_click_interval_ip_device_os_app_hash'], dtype='object')\n",
      "[I 180502 14:14:48 <ipython-input-1-29f11ab86043>:14] loading ../data/intervals_table\n",
      "[I 180502 14:15:30 <ipython-input-1-29f11ab86043>:16] Index(['click_time_interval_by_ip', 'click_time_interval_by_ip_os_device',\n",
      "           'click_time_interval_by_ip_os_device_dow',\n",
      "           'click_time_interval_by_ip_os_device_dow_hour', 'first_click_by_ip',\n",
      "           'first_click_by_ip_os_device', 'first_click_by_ip_os_device_dow',\n",
      "           'first_click_by_ip_os_device_dow_hour'],\n",
      "          dtype='object')\n",
      "[I 180502 14:15:32 <ipython-input-1-29f11ab86043>:14] loading ../data/misc_counts\n",
      "[I 180502 14:17:30 <ipython-input-1-29f11ab86043>:16] Index(['ip_device_os_cumcount', 'ip_cumcount', 'ip_channel_countuniq',\n",
      "           'ip_dow_hour_countuniq', 'ip_app_countuniq', 'ip_app_os_countuniq',\n",
      "           'ip_device_countuniq', 'app_channel_countuniq',\n",
      "           'ip_device_os_app_countuniq', 'ip_dow_hour_count', 'ip_app_count',\n",
      "           'ip_app_os_count', 'ip_dow_channel_var', 'ip_app_os_var',\n",
      "           'ip_app_channel_var', 'ip_app_channel_mean', 'ip_os_device_app_hash'],\n",
      "          dtype='object')\n",
      "[I 180502 14:17:40 <ipython-input-1-29f11ab86043>:14] loading ../data/multi_basic\n",
      "[I 180502 14:20:59 <ipython-input-1-29f11ab86043>:16] Index(['ip_os', 'ip_device', 'ip_app', 'ip_channel', 'os_device', 'os_app',\n",
      "           'os_channel', 'device_app', 'device_channel', 'app_channel',\n",
      "           'ip_os_device', 'ip_os_app', 'ip_os_channel', 'ip_device_app',\n",
      "           'ip_device_channel', 'ip_app_channel', 'os_device_app',\n",
      "           'os_device_channel', 'os_app_channel', 'device_app_channel',\n",
      "           'ip_os_device_app', 'ip_os_device_channel', 'ip_os_app_channel',\n",
      "           'ip_device_app_channel', 'os_device_app_channel',\n",
      "           'ip_os_device_app_channel'],\n",
      "          dtype='object')\n",
      "[I 180502 14:21:02 <ipython-input-1-29f11ab86043>:14] loading ../data/next_prev_channels\n",
      "[I 180502 14:22:55 <ipython-input-1-29f11ab86043>:16] Index(['next_channel_by_app', 'prev_channel_by_app', 'next_channel_by_device',\n",
      "           'prev_channel_by_device', 'next_channel_by_ip', 'prev_channel_by_ip',\n",
      "           'next_channel_by_os', 'prev_channel_by_os', 'next_channel_by_ip_os',\n",
      "           'prev_channel_by_ip_os', 'next_channel_by_ip_device',\n",
      "           'prev_channel_by_ip_device', 'next_channel_by_ip_app',\n",
      "           'prev_channel_by_ip_app', 'next_channel_by_os_device',\n",
      "           'prev_channel_by_os_device', 'next_channel_by_os_app',\n",
      "           'prev_channel_by_os_app', 'next_channel_by_device_app',\n",
      "           'prev_channel_by_device_app', 'next_channel_by_ip_os_device',\n",
      "           'prev_channel_by_ip_os_device', 'next_channel_by_ip_os_app',\n",
      "           'prev_channel_by_ip_os_app', 'next_channel_by_ip_device_app',\n",
      "           'prev_channel_by_ip_device_app', 'next_channel_by_os_device_app',\n",
      "           'prev_channel_by_os_device_app', 'next_channel_by_ip_os_device_app',\n",
      "           'prev_channel_by_ip_os_device_app'],\n",
      "          dtype='object')\n",
      "[I 180502 14:23:01 <ipython-input-1-29f11ab86043>:14] loading ../data/prev_next_click_basic\n",
      "[I 180502 14:25:19 <ipython-input-1-29f11ab86043>:16] Index(['prev_click_second_ip', 'next_click_second_ip',\n",
      "           'prev_click_second_device', 'next_click_second_device',\n",
      "           'prev_click_second_app', 'next_click_second_app',\n",
      "           'prev_click_second_channel', 'next_click_second_channel',\n",
      "           'prev_click_second_os', 'next_click_second_os'],\n",
      "          dtype='object')\n",
      "[I 180502 14:25:20 <ipython-input-1-29f11ab86043>:14] loading ../data/ranks_table\n",
      "[I 180502 14:25:40 <ipython-input-1-29f11ab86043>:16] Index(['rank_by_ip', 'rank_by_ip_os_device', 'rank_by_ip_os_device_dow'], dtype='object')\n",
      "[I 180502 14:25:41 <ipython-input-1-29f11ab86043>:14] loading ../data/time_of_day\n",
      "[I 180502 14:26:30 <ipython-input-1-29f11ab86043>:16] Index(['second_of_day', 'ratio_of_day', 'sin_of_day', 'cos_of_day'], dtype='object')\n",
      "[I 180502 14:26:33 <ipython-input-1-29f11ab86043>:14] loading ../data/time_table\n",
      "[I 180502 14:26:41 <ipython-input-1-29f11ab86043>:16] Index(['dow', 'hour', 'minute', 'second'], dtype='object')\n"
     ]
    },
    {
     "name": "stdout",
     "output_type": "stream",
     "text": [
      "CPU times: user 1min 37s, sys: 2min 46s, total: 4min 24s\n",
      "Wall time: 13min 12s\n"
     ]
    }
   ],
   "source": [
    "%%time\n",
    "\n",
    "data_files = [\n",
    "    \"../data/basic_table\",\n",
    "    \"../data/click_count_table\",\n",
    "    \"../data/click_time_interval_ip_device_os_app_hash\",\n",
    "    \"../data/intervals_table\",\n",
    "    \"../data/misc_counts\",\n",
    "    \"../data/multi_basic\",\n",
    "    \"../data/next_prev_channels\",\n",
    "    \"../data/prev_next_click_basic\",\n",
    "#     \"../data/prev_next_click_for_2_columns\",\n",
    "#     \"../data/prev_next_click_for_3_columns\",\n",
    "#     \"../data/prev_next_click_for_45_columns\",\n",
    "    \"../data/ranks_table\",\n",
    "    \"../data/time_of_day\",\n",
    "    \"../data/time_table\",\n",
    "]\n",
    "\n",
    "dfs = []\n",
    "for file in data_files:\n",
    "    df = read_feather(file)\n",
    "    dropping = [c for c in df.columns if c not in prev_columns]\n",
    "    df.drop(columns=dropping, inplace=True)\n",
    "    dfs.append(df)"
   ]
  },
  {
   "cell_type": "code",
   "execution_count": 5,
   "metadata": {},
   "outputs": [],
   "source": [
    "click_data = pd.concat(dfs, axis=1, copy=False)"
   ]
  },
  {
   "cell_type": "code",
   "execution_count": 6,
   "metadata": {},
   "outputs": [
    {
     "data": {
      "text/plain": [
       "105"
      ]
     },
     "execution_count": 6,
     "metadata": {},
     "output_type": "execute_result"
    }
   ],
   "source": [
    "del dfs\n",
    "gc.collect()"
   ]
  },
  {
   "cell_type": "code",
   "execution_count": 7,
   "metadata": {},
   "outputs": [
    {
     "name": "stdout",
     "output_type": "stream",
     "text": [
      "|            Variable Name|      Memory|\n",
      " ------------------------------------ \n",
      "|               click_data|        63GB|\n",
      "|                       df|         3GB|\n"
     ]
    }
   ],
   "source": [
    "show_top(dir())"
   ]
  },
  {
   "cell_type": "code",
   "execution_count": 8,
   "metadata": {},
   "outputs": [
    {
     "data": {
      "text/plain": [
       "Index(['app', 'channel', 'ip', 'os', 'click_count_by_ip',\n",
       "       'click_count_by_ip_os_device_dow',\n",
       "       'click_count_by_ip_os_device_dow_hour',\n",
       "       'click_time_interval_ip_device_os_app_hash',\n",
       "       'click_time_interval_by_ip', 'click_time_interval_by_ip_os_device',\n",
       "       'ip_device_os_cumcount', 'ip_channel_countuniq',\n",
       "       'ip_dow_hour_countuniq', 'ip_app_countuniq', 'ip_app_os_countuniq',\n",
       "       'ip_device_countuniq', 'app_channel_countuniq',\n",
       "       'ip_device_os_app_countuniq', 'ip_dow_hour_count', 'ip_app_count',\n",
       "       'ip_dow_channel_var', 'ip_app_os_var', 'ip_app_channel_var',\n",
       "       'ip_app_channel_mean', 'ip_os', 'device_app', 'app_channel',\n",
       "       'device_app_channel', 'next_channel_by_device',\n",
       "       'prev_channel_by_device', 'next_channel_by_ip', 'next_channel_by_ip_os',\n",
       "       'next_channel_by_ip_device', 'next_channel_by_ip_app',\n",
       "       'next_channel_by_ip_os_device', 'next_channel_by_ip_os_device_app',\n",
       "       'rank_by_ip_os_device_dow', 'second_of_day', 'sin_of_day', 'cos_of_day',\n",
       "       'hour', 'minute'],\n",
       "      dtype='object')"
      ]
     },
     "execution_count": 8,
     "metadata": {},
     "output_type": "execute_result"
    }
   ],
   "source": [
    "click_data.columns"
   ]
  },
  {
   "cell_type": "code",
   "execution_count": 9,
   "metadata": {},
   "outputs": [
    {
     "name": "stderr",
     "output_type": "stream",
     "text": [
      "[I 180502 14:31:30 <ipython-input-1-29f11ab86043>:14] loading ../data/time_table\n",
      "[I 180502 14:31:33 <ipython-input-1-29f11ab86043>:16] Index(['dow', 'hour', 'minute', 'second'], dtype='object')\n"
     ]
    }
   ],
   "source": [
    "click_data[\"dow\"] = read_feather(\"../data/time_table\")[\"dow\"]"
   ]
  },
  {
   "cell_type": "code",
   "execution_count": 10,
   "metadata": {},
   "outputs": [],
   "source": [
    "click_data = click_data[click_data[\"dow\"] <= 3]"
   ]
  },
  {
   "cell_type": "code",
   "execution_count": 18,
   "metadata": {},
   "outputs": [
    {
     "name": "stdout",
     "output_type": "stream",
     "text": [
      "|            Variable Name|      Memory|\n",
      " ------------------------------------ \n",
      "|               click_data|        61GB|\n"
     ]
    }
   ],
   "source": [
    "show_top(dir())"
   ]
  },
  {
   "cell_type": "code",
   "execution_count": 17,
   "metadata": {},
   "outputs": [],
   "source": [
    "del df"
   ]
  },
  {
   "cell_type": "code",
   "execution_count": 12,
   "metadata": {},
   "outputs": [
    {
     "name": "stderr",
     "output_type": "stream",
     "text": [
      "[I 180502 14:34:16 <ipython-input-1-29f11ab86043>:14] loading ../data/basic_table\n",
      "[I 180502 14:34:56 <ipython-input-1-29f11ab86043>:16] Index(['app', 'channel', 'click_id', 'device', 'ip', 'is_attributed', 'os'], dtype='object')\n"
     ]
    }
   ],
   "source": [
    "is_attributed = read_feather(\"../data/basic_table\")[:click_data.shape[0]]"
   ]
  },
  {
   "cell_type": "code",
   "execution_count": 13,
   "metadata": {},
   "outputs": [],
   "source": [
    "click_data[\"is_attributed\"] = is_attributed[\"is_attributed\"]"
   ]
  },
  {
   "cell_type": "code",
   "execution_count": 14,
   "metadata": {},
   "outputs": [
    {
     "data": {
      "text/plain": [
       "7"
      ]
     },
     "execution_count": 14,
     "metadata": {},
     "output_type": "execute_result"
    }
   ],
   "source": [
    "del is_attributed\n",
    "gc.collect()"
   ]
  },
  {
   "cell_type": "code",
   "execution_count": 15,
   "metadata": {},
   "outputs": [],
   "source": [
    "click_data.to_feather(\"../data/tmp\")"
   ]
  },
  {
   "cell_type": "code",
   "execution_count": 2,
   "metadata": {},
   "outputs": [
    {
     "name": "stderr",
     "output_type": "stream",
     "text": [
      "[I 180502 13:57:55 <ipython-input-1-29f11ab86043>:14] loading ../data/tmp\n",
      "[I 180502 14:07:42 <ipython-input-1-29f11ab86043>:16] Index(['app', 'channel', 'ip', 'os', 'click_count_by_ip',\n",
      "           'click_count_by_ip_os_device_dow',\n",
      "           'click_count_by_ip_os_device_dow_hour',\n",
      "           'click_time_interval_ip_device_os_app_hash',\n",
      "           'click_time_interval_by_ip', 'click_time_interval_by_ip_os_device',\n",
      "           'ip_device_os_cumcount', 'ip_channel_countuniq',\n",
      "           'ip_dow_hour_countuniq', 'ip_app_countuniq', 'ip_app_os_countuniq',\n",
      "           'ip_device_countuniq', 'app_channel_countuniq',\n",
      "           'ip_device_os_app_countuniq', 'ip_dow_hour_count', 'ip_app_count',\n",
      "           'ip_app_os_count', 'ip_dow_channel_var', 'ip_app_os_var',\n",
      "           'ip_app_channel_var', 'ip_app_channel_mean', 'ip_os_device_app_hash',\n",
      "           'ip_os', 'device_app', 'app_channel', 'device_app_channel',\n",
      "           'next_channel_by_device', 'prev_channel_by_device',\n",
      "           'next_channel_by_ip', 'prev_channel_by_ip', 'next_channel_by_ip_os',\n",
      "           'next_channel_by_ip_device', 'next_channel_by_ip_app',\n",
      "           'next_channel_by_ip_os_device', 'next_channel_by_ip_os_device_app',\n",
      "           'rank_by_ip_os_device_dow', 'second_of_day', 'sin_of_day', 'cos_of_day',\n",
      "           'hour', 'minute', 'dow', 'is_attributed'],\n",
      "          dtype='object')\n"
     ]
    }
   ],
   "source": [
    "click_data = read_feather(\"../data/tmp\")"
   ]
  },
  {
   "cell_type": "code",
   "execution_count": null,
   "metadata": {},
   "outputs": [
    {
     "name": "stderr",
     "output_type": "stream",
     "text": [
      "[I 180502 14:48:44 <timed exec>:53] day 0\n",
      "[I 180502 14:48:44 <timed exec>:2] train started\n",
      "[I 180502 14:53:54 <timed exec>:4] train created\n",
      "[I 180502 14:53:56 <timed exec>:6] test created\n",
      "/home/ubuntu/.pyenv/versions/3.6.5/lib/python3.6/site-packages/ipykernel_launcher.py:9: SettingWithCopyWarning: \n",
      "A value is trying to be set on a copy of a slice from a DataFrame\n",
      "\n",
      "See the caveats in the documentation: http://pandas.pydata.org/pandas-docs/stable/indexing.html#indexing-view-versus-copy\n",
      "  if __name__ == '__main__':\n",
      "/home/ubuntu/.pyenv/versions/3.6.5/lib/python3.6/site-packages/ipykernel_launcher.py:10: SettingWithCopyWarning: \n",
      "A value is trying to be set on a copy of a slice from a DataFrame\n",
      "\n",
      "See the caveats in the documentation: http://pandas.pydata.org/pandas-docs/stable/indexing.html#indexing-view-versus-copy\n",
      "  # Remove the CWD from sys.path while we load stuff.\n",
      "[I 180502 14:54:26 <timed exec>:13] dropped\n",
      "[I 180502 14:54:26 <timed exec>:17] Generating matrix...\n",
      "[I 180502 14:58:02 <timed exec>:22] testing...\n"
     ]
    },
    {
     "name": "stdout",
     "output_type": "stream",
     "text": [
      "[0]\ttrain-auc:0.971319\n",
      "[1]\ttrain-auc:0.973401\n",
      "[2]\ttrain-auc:0.975875\n",
      "[3]\ttrain-auc:0.978341\n",
      "[4]\ttrain-auc:0.980457\n",
      "[5]\ttrain-auc:0.98101\n",
      "[6]\ttrain-auc:0.982078\n",
      "[7]\ttrain-auc:0.982384\n",
      "[8]\ttrain-auc:0.982537\n",
      "[9]\ttrain-auc:0.983656\n",
      "[10]\ttrain-auc:0.984648\n",
      "[11]\ttrain-auc:0.98559\n",
      "[12]\ttrain-auc:0.985688\n",
      "[13]\ttrain-auc:0.985622\n",
      "[14]\ttrain-auc:0.985923\n"
     ]
    },
    {
     "name": "stderr",
     "output_type": "stream",
     "text": [
      "[I 180502 15:18:50 <timed exec>:45] Generating test matrix\n",
      "[I 180502 15:18:56 <timed exec>:53] day 1\n",
      "[I 180502 15:18:56 <timed exec>:2] train started\n",
      "[I 180502 15:19:21 <timed exec>:4] train created\n",
      "[I 180502 15:19:34 <timed exec>:6] test created\n",
      "[I 180502 15:20:02 <timed exec>:13] dropped\n",
      "[I 180502 15:20:02 <timed exec>:17] Generating matrix...\n",
      "[I 180502 15:20:47 <timed exec>:22] testing...\n"
     ]
    },
    {
     "name": "stdout",
     "output_type": "stream",
     "text": [
      "[0]\ttrain-auc:0.968843\n",
      "[1]\ttrain-auc:0.975119\n",
      "[2]\ttrain-auc:0.976101\n",
      "[3]\ttrain-auc:0.978401\n",
      "[4]\ttrain-auc:0.980212\n",
      "[5]\ttrain-auc:0.980661\n",
      "[6]\ttrain-auc:0.981355\n",
      "[7]\ttrain-auc:0.982051\n",
      "[8]\ttrain-auc:0.98253\n",
      "[9]\ttrain-auc:0.983299\n",
      "[10]\ttrain-auc:0.984378\n",
      "[11]\ttrain-auc:0.985384\n",
      "[12]\ttrain-auc:0.986058\n",
      "[13]\ttrain-auc:0.986484\n",
      "[14]\ttrain-auc:0.986055\n"
     ]
    },
    {
     "name": "stderr",
     "output_type": "stream",
     "text": [
      "[I 180502 15:36:09 <timed exec>:45] Generating test matrix\n",
      "[I 180502 15:36:49 <timed exec>:53] day 2\n",
      "[I 180502 15:36:49 <timed exec>:2] train started\n",
      "[I 180502 15:37:14 <timed exec>:4] train created\n",
      "[I 180502 15:37:27 <timed exec>:6] test created\n",
      "[I 180502 15:37:55 <timed exec>:13] dropped\n",
      "[I 180502 15:37:55 <timed exec>:17] Generating matrix...\n",
      "[I 180502 15:38:41 <timed exec>:22] testing...\n"
     ]
    },
    {
     "name": "stdout",
     "output_type": "stream",
     "text": [
      "[0]\ttrain-auc:0.960732\n",
      "[1]\ttrain-auc:0.971809\n",
      "[2]\ttrain-auc:0.974655\n",
      "[3]\ttrain-auc:0.976758\n",
      "[4]\ttrain-auc:0.977789\n",
      "[5]\ttrain-auc:0.978991\n"
     ]
    }
   ],
   "source": [
    "%%time\n",
    "def do_train(df, day):\n",
    "    logger.info(\"train started\")\n",
    "    train = df[df[\"dow\"] != day]\n",
    "    logger.info(\"train created\")\n",
    "    test = df[df[\"dow\"] == day]\n",
    "    logger.info(\"test created\")\n",
    "    \n",
    "    y_train = train[\"is_attributed\"].astype(\"int\")\n",
    "    train.drop(columns=[\"is_attributed\"], inplace=True)\n",
    "    test.drop(columns=[\"is_attributed\"], inplace=True)\n",
    "    gc.collect()\n",
    "    \n",
    "    logger.info(\"dropped\")\n",
    "    train = train.values\n",
    "    gc.collect()\n",
    "    \n",
    "    logger.info(\"Generating matrix...\")\n",
    "    dtrain = xgb.DMatrix(train, y_train, nthread=nthread)\n",
    "    del train, y_train\n",
    "    gc.collect()\n",
    "    \n",
    "    logger.info(\"testing...\")\n",
    "    params = {'eta': 0.6,\n",
    "          'tree_method': \"hist\",\n",
    "          'grow_policy': \"lossguide\",\n",
    "          'max_leaves': 1400,\n",
    "          'max_depth': 0,\n",
    "          'subsample': 0.9,\n",
    "          'colsample_bytree': 0.7,\n",
    "          'colsample_bylevel': 0.7,\n",
    "          'min_child_weight': 0,\n",
    "          'alpha': 4,\n",
    "          'objective': 'binary:logistic',\n",
    "          'scale_pos_weight': 9,\n",
    "          'eval_metric': 'auc',\n",
    "          'nthread': nthread,\n",
    "          'random_state': 99,\n",
    "          'silent': False}\n",
    "    \n",
    "    watchlist = [(dtrain, 'train')]\n",
    "    model = xgb.train(params, dtrain, 15, watchlist, maximize=True, verbose_eval=1)\n",
    "    del dtrain\n",
    "    gc.collect()\n",
    "\n",
    "    logger.info(\"Generating test matrix\")\n",
    "    test = xgb.DMatrix(test.values, nthread=nthread)\n",
    "    gc.collect()\n",
    "    \n",
    "    return model.predict(test, ntree_limit=model.best_ntree_limit)\n",
    "    \n",
    "predicts = []\n",
    "for day in range(4):\n",
    "    logger.info(\"day {}\".format(day))\n",
    "    predicts.append(do_train(click_data, day))"
   ]
  },
  {
   "cell_type": "code",
   "execution_count": 20,
   "metadata": {},
   "outputs": [
    {
     "data": {
      "text/plain": [
       "4"
      ]
     },
     "execution_count": 20,
     "metadata": {},
     "output_type": "execute_result"
    }
   ],
   "source": [
    "len(predicts)"
   ]
  },
  {
   "cell_type": "code",
   "execution_count": 21,
   "metadata": {},
   "outputs": [
    {
     "data": {
      "text/plain": [
       "array([8.2362583e-04, 8.2676363e-04, 8.2676363e-04, ..., 2.9272158e-04,\n",
       "       6.6526383e-01, 3.4567919e-02], dtype=float32)"
      ]
     },
     "execution_count": 21,
     "metadata": {},
     "output_type": "execute_result"
    }
   ],
   "source": [
    "predicts[0]"
   ]
  },
  {
   "cell_type": "code",
   "execution_count": 24,
   "metadata": {},
   "outputs": [],
   "source": [
    "predicts = np.concatenate(predicts, axis=0)"
   ]
  },
  {
   "cell_type": "code",
   "execution_count": 25,
   "metadata": {},
   "outputs": [
    {
     "data": {
      "text/plain": [
       "array([0.00082363, 0.00082676, 0.00082676, ..., 0.00263758, 0.00010159,\n",
       "       0.00251996], dtype=float32)"
      ]
     },
     "execution_count": 25,
     "metadata": {},
     "output_type": "execute_result"
    }
   ],
   "source": [
    "predicts"
   ]
  },
  {
   "cell_type": "code",
   "execution_count": 26,
   "metadata": {},
   "outputs": [
    {
     "name": "stderr",
     "output_type": "stream",
     "text": [
      "[I 180502 18:34:20 <ipython-input-1-29f11ab86043>:14] loading ../data/basic_table\n",
      "[I 180502 18:35:01 <ipython-input-1-29f11ab86043>:16] Index(['app', 'channel', 'click_id', 'device', 'ip', 'is_attributed', 'os'], dtype='object')\n"
     ]
    }
   ],
   "source": [
    "is_attributed = read_feather(\"../data/basic_table\")[[\"is_attributed\"]]"
   ]
  },
  {
   "cell_type": "code",
   "execution_count": 30,
   "metadata": {},
   "outputs": [],
   "source": [
    "is_attributed = is_attributed[:len(predicts)]"
   ]
  },
  {
   "cell_type": "code",
   "execution_count": 32,
   "metadata": {},
   "outputs": [
    {
     "name": "stderr",
     "output_type": "stream",
     "text": [
      "/home/ubuntu/.pyenv/versions/3.6.5/lib/python3.6/site-packages/ipykernel_launcher.py:1: SettingWithCopyWarning: \n",
      "A value is trying to be set on a copy of a slice from a DataFrame.\n",
      "Try using .loc[row_indexer,col_indexer] = value instead\n",
      "\n",
      "See the caveats in the documentation: http://pandas.pydata.org/pandas-docs/stable/indexing.html#indexing-view-versus-copy\n",
      "  \"\"\"Entry point for launching an IPython kernel.\n"
     ]
    }
   ],
   "source": [
    "is_attributed[\"prediction\"] = predicts"
   ]
  },
  {
   "cell_type": "code",
   "execution_count": 34,
   "metadata": {},
   "outputs": [
    {
     "name": "stderr",
     "output_type": "stream",
     "text": [
      "/home/ubuntu/.pyenv/versions/3.6.5/lib/python3.6/site-packages/ipykernel_launcher.py:1: SettingWithCopyWarning: \n",
      "A value is trying to be set on a copy of a slice from a DataFrame.\n",
      "Try using .loc[row_indexer,col_indexer] = value instead\n",
      "\n",
      "See the caveats in the documentation: http://pandas.pydata.org/pandas-docs/stable/indexing.html#indexing-view-versus-copy\n",
      "  \"\"\"Entry point for launching an IPython kernel.\n"
     ]
    }
   ],
   "source": [
    "is_attributed[\"abs\"] = np.abs(is_attributed[\"is_attributed\"] - is_attributed[\"prediction\"])"
   ]
  },
  {
   "cell_type": "code",
   "execution_count": 38,
   "metadata": {},
   "outputs": [
    {
     "name": "stderr",
     "output_type": "stream",
     "text": [
      "/home/ubuntu/.pyenv/versions/3.6.5/lib/python3.6/site-packages/ipykernel_launcher.py:1: SettingWithCopyWarning: \n",
      "A value is trying to be set on a copy of a slice from a DataFrame\n",
      "\n",
      "See the caveats in the documentation: http://pandas.pydata.org/pandas-docs/stable/indexing.html#indexing-view-versus-copy\n",
      "  \"\"\"Entry point for launching an IPython kernel.\n"
     ]
    }
   ],
   "source": [
    "is_attributed.drop(columns=[\"is_attributed\"], inplace=True)"
   ]
  },
  {
   "cell_type": "code",
   "execution_count": 39,
   "metadata": {},
   "outputs": [],
   "source": [
    "is_attributed.to_feather(\"../data/down_sampling_train\")"
   ]
  },
  {
   "cell_type": "code",
   "execution_count": 40,
   "metadata": {},
   "outputs": [
    {
     "data": {
      "text/html": [
       "<div>\n",
       "<style scoped>\n",
       "    .dataframe tbody tr th:only-of-type {\n",
       "        vertical-align: middle;\n",
       "    }\n",
       "\n",
       "    .dataframe tbody tr th {\n",
       "        vertical-align: top;\n",
       "    }\n",
       "\n",
       "    .dataframe thead th {\n",
       "        text-align: right;\n",
       "    }\n",
       "</style>\n",
       "<table border=\"1\" class=\"dataframe\">\n",
       "  <thead>\n",
       "    <tr style=\"text-align: right;\">\n",
       "      <th></th>\n",
       "      <th>prediction</th>\n",
       "      <th>abs</th>\n",
       "    </tr>\n",
       "  </thead>\n",
       "  <tbody>\n",
       "    <tr>\n",
       "      <th>0</th>\n",
       "      <td>0.000824</td>\n",
       "      <td>0.000824</td>\n",
       "    </tr>\n",
       "    <tr>\n",
       "      <th>1</th>\n",
       "      <td>0.000827</td>\n",
       "      <td>0.000827</td>\n",
       "    </tr>\n",
       "    <tr>\n",
       "      <th>2</th>\n",
       "      <td>0.000827</td>\n",
       "      <td>0.000827</td>\n",
       "    </tr>\n",
       "    <tr>\n",
       "      <th>3</th>\n",
       "      <td>0.000202</td>\n",
       "      <td>0.000202</td>\n",
       "    </tr>\n",
       "    <tr>\n",
       "      <th>4</th>\n",
       "      <td>0.003911</td>\n",
       "      <td>0.003911</td>\n",
       "    </tr>\n",
       "    <tr>\n",
       "      <th>5</th>\n",
       "      <td>0.004696</td>\n",
       "      <td>0.004696</td>\n",
       "    </tr>\n",
       "    <tr>\n",
       "      <th>6</th>\n",
       "      <td>0.000502</td>\n",
       "      <td>0.000502</td>\n",
       "    </tr>\n",
       "    <tr>\n",
       "      <th>7</th>\n",
       "      <td>0.000977</td>\n",
       "      <td>0.000977</td>\n",
       "    </tr>\n",
       "    <tr>\n",
       "      <th>8</th>\n",
       "      <td>0.001174</td>\n",
       "      <td>0.001174</td>\n",
       "    </tr>\n",
       "    <tr>\n",
       "      <th>9</th>\n",
       "      <td>0.001130</td>\n",
       "      <td>0.001130</td>\n",
       "    </tr>\n",
       "    <tr>\n",
       "      <th>10</th>\n",
       "      <td>0.011198</td>\n",
       "      <td>0.011198</td>\n",
       "    </tr>\n",
       "    <tr>\n",
       "      <th>11</th>\n",
       "      <td>0.000998</td>\n",
       "      <td>0.000998</td>\n",
       "    </tr>\n",
       "    <tr>\n",
       "      <th>12</th>\n",
       "      <td>0.001027</td>\n",
       "      <td>0.001027</td>\n",
       "    </tr>\n",
       "    <tr>\n",
       "      <th>13</th>\n",
       "      <td>0.001392</td>\n",
       "      <td>0.001392</td>\n",
       "    </tr>\n",
       "    <tr>\n",
       "      <th>14</th>\n",
       "      <td>0.000972</td>\n",
       "      <td>0.000972</td>\n",
       "    </tr>\n",
       "    <tr>\n",
       "      <th>15</th>\n",
       "      <td>0.000446</td>\n",
       "      <td>0.000446</td>\n",
       "    </tr>\n",
       "    <tr>\n",
       "      <th>16</th>\n",
       "      <td>0.002369</td>\n",
       "      <td>0.002369</td>\n",
       "    </tr>\n",
       "    <tr>\n",
       "      <th>17</th>\n",
       "      <td>0.017476</td>\n",
       "      <td>0.017476</td>\n",
       "    </tr>\n",
       "    <tr>\n",
       "      <th>18</th>\n",
       "      <td>0.013199</td>\n",
       "      <td>0.013199</td>\n",
       "    </tr>\n",
       "    <tr>\n",
       "      <th>19</th>\n",
       "      <td>0.001463</td>\n",
       "      <td>0.001463</td>\n",
       "    </tr>\n",
       "    <tr>\n",
       "      <th>20</th>\n",
       "      <td>0.004952</td>\n",
       "      <td>0.004952</td>\n",
       "    </tr>\n",
       "    <tr>\n",
       "      <th>21</th>\n",
       "      <td>0.001991</td>\n",
       "      <td>0.001991</td>\n",
       "    </tr>\n",
       "    <tr>\n",
       "      <th>22</th>\n",
       "      <td>0.000203</td>\n",
       "      <td>0.000203</td>\n",
       "    </tr>\n",
       "    <tr>\n",
       "      <th>23</th>\n",
       "      <td>0.000369</td>\n",
       "      <td>0.000369</td>\n",
       "    </tr>\n",
       "    <tr>\n",
       "      <th>24</th>\n",
       "      <td>0.000724</td>\n",
       "      <td>0.000724</td>\n",
       "    </tr>\n",
       "    <tr>\n",
       "      <th>25</th>\n",
       "      <td>0.016261</td>\n",
       "      <td>0.016261</td>\n",
       "    </tr>\n",
       "    <tr>\n",
       "      <th>26</th>\n",
       "      <td>0.001463</td>\n",
       "      <td>0.001463</td>\n",
       "    </tr>\n",
       "    <tr>\n",
       "      <th>27</th>\n",
       "      <td>0.000407</td>\n",
       "      <td>0.000407</td>\n",
       "    </tr>\n",
       "    <tr>\n",
       "      <th>28</th>\n",
       "      <td>1.000000</td>\n",
       "      <td>1.000000</td>\n",
       "    </tr>\n",
       "    <tr>\n",
       "      <th>29</th>\n",
       "      <td>0.002369</td>\n",
       "      <td>0.002369</td>\n",
       "    </tr>\n",
       "    <tr>\n",
       "      <th>...</th>\n",
       "      <td>...</td>\n",
       "      <td>...</td>\n",
       "    </tr>\n",
       "    <tr>\n",
       "      <th>184903860</th>\n",
       "      <td>0.000162</td>\n",
       "      <td>0.000162</td>\n",
       "    </tr>\n",
       "    <tr>\n",
       "      <th>184903861</th>\n",
       "      <td>0.000696</td>\n",
       "      <td>0.000696</td>\n",
       "    </tr>\n",
       "    <tr>\n",
       "      <th>184903862</th>\n",
       "      <td>0.000566</td>\n",
       "      <td>0.000566</td>\n",
       "    </tr>\n",
       "    <tr>\n",
       "      <th>184903863</th>\n",
       "      <td>0.003992</td>\n",
       "      <td>0.003992</td>\n",
       "    </tr>\n",
       "    <tr>\n",
       "      <th>184903864</th>\n",
       "      <td>0.000581</td>\n",
       "      <td>0.000581</td>\n",
       "    </tr>\n",
       "    <tr>\n",
       "      <th>184903865</th>\n",
       "      <td>0.001344</td>\n",
       "      <td>0.001344</td>\n",
       "    </tr>\n",
       "    <tr>\n",
       "      <th>184903866</th>\n",
       "      <td>0.000664</td>\n",
       "      <td>0.000664</td>\n",
       "    </tr>\n",
       "    <tr>\n",
       "      <th>184903867</th>\n",
       "      <td>0.000166</td>\n",
       "      <td>0.000166</td>\n",
       "    </tr>\n",
       "    <tr>\n",
       "      <th>184903868</th>\n",
       "      <td>0.005724</td>\n",
       "      <td>0.005724</td>\n",
       "    </tr>\n",
       "    <tr>\n",
       "      <th>184903869</th>\n",
       "      <td>0.004020</td>\n",
       "      <td>0.004020</td>\n",
       "    </tr>\n",
       "    <tr>\n",
       "      <th>184903870</th>\n",
       "      <td>0.999992</td>\n",
       "      <td>0.999992</td>\n",
       "    </tr>\n",
       "    <tr>\n",
       "      <th>184903871</th>\n",
       "      <td>0.001590</td>\n",
       "      <td>0.001590</td>\n",
       "    </tr>\n",
       "    <tr>\n",
       "      <th>184903872</th>\n",
       "      <td>0.000508</td>\n",
       "      <td>0.000508</td>\n",
       "    </tr>\n",
       "    <tr>\n",
       "      <th>184903873</th>\n",
       "      <td>0.000577</td>\n",
       "      <td>0.000577</td>\n",
       "    </tr>\n",
       "    <tr>\n",
       "      <th>184903874</th>\n",
       "      <td>0.002006</td>\n",
       "      <td>0.002006</td>\n",
       "    </tr>\n",
       "    <tr>\n",
       "      <th>184903875</th>\n",
       "      <td>0.000061</td>\n",
       "      <td>0.000061</td>\n",
       "    </tr>\n",
       "    <tr>\n",
       "      <th>184903876</th>\n",
       "      <td>0.000669</td>\n",
       "      <td>0.000669</td>\n",
       "    </tr>\n",
       "    <tr>\n",
       "      <th>184903877</th>\n",
       "      <td>0.000226</td>\n",
       "      <td>0.000226</td>\n",
       "    </tr>\n",
       "    <tr>\n",
       "      <th>184903878</th>\n",
       "      <td>0.000391</td>\n",
       "      <td>0.000391</td>\n",
       "    </tr>\n",
       "    <tr>\n",
       "      <th>184903879</th>\n",
       "      <td>0.000138</td>\n",
       "      <td>0.000138</td>\n",
       "    </tr>\n",
       "    <tr>\n",
       "      <th>184903880</th>\n",
       "      <td>0.000639</td>\n",
       "      <td>0.000639</td>\n",
       "    </tr>\n",
       "    <tr>\n",
       "      <th>184903881</th>\n",
       "      <td>0.000136</td>\n",
       "      <td>0.000136</td>\n",
       "    </tr>\n",
       "    <tr>\n",
       "      <th>184903882</th>\n",
       "      <td>0.003482</td>\n",
       "      <td>0.003482</td>\n",
       "    </tr>\n",
       "    <tr>\n",
       "      <th>184903883</th>\n",
       "      <td>0.000048</td>\n",
       "      <td>0.000048</td>\n",
       "    </tr>\n",
       "    <tr>\n",
       "      <th>184903884</th>\n",
       "      <td>0.000044</td>\n",
       "      <td>0.000044</td>\n",
       "    </tr>\n",
       "    <tr>\n",
       "      <th>184903885</th>\n",
       "      <td>0.000170</td>\n",
       "      <td>0.000170</td>\n",
       "    </tr>\n",
       "    <tr>\n",
       "      <th>184903886</th>\n",
       "      <td>0.000272</td>\n",
       "      <td>0.000272</td>\n",
       "    </tr>\n",
       "    <tr>\n",
       "      <th>184903887</th>\n",
       "      <td>0.002638</td>\n",
       "      <td>0.002638</td>\n",
       "    </tr>\n",
       "    <tr>\n",
       "      <th>184903888</th>\n",
       "      <td>0.000102</td>\n",
       "      <td>0.000102</td>\n",
       "    </tr>\n",
       "    <tr>\n",
       "      <th>184903889</th>\n",
       "      <td>0.002520</td>\n",
       "      <td>0.002520</td>\n",
       "    </tr>\n",
       "  </tbody>\n",
       "</table>\n",
       "<p>184903890 rows × 2 columns</p>\n",
       "</div>"
      ],
      "text/plain": [
       "           prediction       abs\n",
       "0            0.000824  0.000824\n",
       "1            0.000827  0.000827\n",
       "2            0.000827  0.000827\n",
       "3            0.000202  0.000202\n",
       "4            0.003911  0.003911\n",
       "5            0.004696  0.004696\n",
       "6            0.000502  0.000502\n",
       "7            0.000977  0.000977\n",
       "8            0.001174  0.001174\n",
       "9            0.001130  0.001130\n",
       "10           0.011198  0.011198\n",
       "11           0.000998  0.000998\n",
       "12           0.001027  0.001027\n",
       "13           0.001392  0.001392\n",
       "14           0.000972  0.000972\n",
       "15           0.000446  0.000446\n",
       "16           0.002369  0.002369\n",
       "17           0.017476  0.017476\n",
       "18           0.013199  0.013199\n",
       "19           0.001463  0.001463\n",
       "20           0.004952  0.004952\n",
       "21           0.001991  0.001991\n",
       "22           0.000203  0.000203\n",
       "23           0.000369  0.000369\n",
       "24           0.000724  0.000724\n",
       "25           0.016261  0.016261\n",
       "26           0.001463  0.001463\n",
       "27           0.000407  0.000407\n",
       "28           1.000000  1.000000\n",
       "29           0.002369  0.002369\n",
       "...               ...       ...\n",
       "184903860    0.000162  0.000162\n",
       "184903861    0.000696  0.000696\n",
       "184903862    0.000566  0.000566\n",
       "184903863    0.003992  0.003992\n",
       "184903864    0.000581  0.000581\n",
       "184903865    0.001344  0.001344\n",
       "184903866    0.000664  0.000664\n",
       "184903867    0.000166  0.000166\n",
       "184903868    0.005724  0.005724\n",
       "184903869    0.004020  0.004020\n",
       "184903870    0.999992  0.999992\n",
       "184903871    0.001590  0.001590\n",
       "184903872    0.000508  0.000508\n",
       "184903873    0.000577  0.000577\n",
       "184903874    0.002006  0.002006\n",
       "184903875    0.000061  0.000061\n",
       "184903876    0.000669  0.000669\n",
       "184903877    0.000226  0.000226\n",
       "184903878    0.000391  0.000391\n",
       "184903879    0.000138  0.000138\n",
       "184903880    0.000639  0.000639\n",
       "184903881    0.000136  0.000136\n",
       "184903882    0.003482  0.003482\n",
       "184903883    0.000048  0.000048\n",
       "184903884    0.000044  0.000044\n",
       "184903885    0.000170  0.000170\n",
       "184903886    0.000272  0.000272\n",
       "184903887    0.002638  0.002638\n",
       "184903888    0.000102  0.000102\n",
       "184903889    0.002520  0.002520\n",
       "\n",
       "[184903890 rows x 2 columns]"
      ]
     },
     "execution_count": 40,
     "metadata": {},
     "output_type": "execute_result"
    }
   ],
   "source": [
    "is_attributed"
   ]
  },
  {
   "cell_type": "markdown",
   "metadata": {},
   "source": [
    "# Validation\n",
    "\n",
    "全特徴量でやっていく"
   ]
  },
  {
   "cell_type": "code",
   "execution_count": null,
   "metadata": {},
   "outputs": [],
   "source": [
    "ls -lha"
   ]
  }
 ],
 "metadata": {
  "kernelspec": {
   "display_name": "Python 3",
   "language": "python",
   "name": "python3"
  },
  "language_info": {
   "codemirror_mode": {
    "name": "ipython",
    "version": 3
   },
   "file_extension": ".py",
   "mimetype": "text/x-python",
   "name": "python",
   "nbconvert_exporter": "python",
   "pygments_lexer": "ipython3",
   "version": "3.6.5"
  }
 },
 "nbformat": 4,
 "nbformat_minor": 2
}
