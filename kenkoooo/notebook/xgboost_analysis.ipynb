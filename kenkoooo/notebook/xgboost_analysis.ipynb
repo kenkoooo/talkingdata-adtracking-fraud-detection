{
 "cells": [
  {
   "cell_type": "code",
   "execution_count": 1,
   "metadata": {},
   "outputs": [
    {
     "name": "stderr",
     "output_type": "stream",
     "text": [
      "/home/ubuntu/.pyenv/versions/3.6.4/envs/talkingdata/lib/python3.6/site-packages/sklearn/cross_validation.py:41: DeprecationWarning: This module was deprecated in version 0.18 in favor of the model_selection module into which all the refactored classes and functions are moved. Also note that the interface of the new CV iterators are different from that of this module. This module will be removed in 0.20.\n",
      "  \"This module will be removed in 0.20.\", DeprecationWarning)\n"
     ]
    }
   ],
   "source": [
    "import gc\n",
    "import time\n",
    "import numpy as np\n",
    "import pandas as pd\n",
    "from sklearn.cross_validation import train_test_split\n",
    "import xgboost as xgb\n",
    "from xgboost import plot_importance\n",
    "import matplotlib.pyplot as plt\n",
    "\n",
    "def read_hdf(name:str):\n",
    "    return pd.read_hdf(\"../data/{}.hdf\".format(name), name)"
   ]
  },
  {
   "cell_type": "code",
   "execution_count": 2,
   "metadata": {},
   "outputs": [
    {
     "name": "stdout",
     "output_type": "stream",
     "text": [
      "CPU times: user 72 ms, sys: 6.96 s, total: 7.04 s\n",
      "Wall time: 7.05 s\n"
     ]
    }
   ],
   "source": [
    "%%time\n",
    "merged_click_data = read_hdf(\"merged_click_data\")"
   ]
  },
  {
   "cell_type": "code",
   "execution_count": 3,
   "metadata": {},
   "outputs": [
    {
     "name": "stdout",
     "output_type": "stream",
     "text": [
      "CPU times: user 20.3 s, sys: 9.49 s, total: 29.8 s\n",
      "Wall time: 29.7 s\n"
     ]
    }
   ],
   "source": [
    "%%time\n",
    "merged_click_data.drop(columns=[\"click_id\"], inplace=True)\n",
    "train = merged_click_data[merged_click_data[\"dow\"] < 3]\n",
    "test = merged_click_data[merged_click_data[\"dow\"]==3]"
   ]
  },
  {
   "cell_type": "code",
   "execution_count": 4,
   "metadata": {},
   "outputs": [
    {
     "data": {
      "text/plain": [
       "14"
      ]
     },
     "execution_count": 4,
     "metadata": {},
     "output_type": "execute_result"
    }
   ],
   "source": [
    "del merged_click_data\n",
    "gc.collect()"
   ]
  },
  {
   "cell_type": "code",
   "execution_count": 5,
   "metadata": {},
   "outputs": [
    {
     "name": "stdout",
     "output_type": "stream",
     "text": [
      "CPU times: user 9.82 s, sys: 4.26 s, total: 14.1 s\n",
      "Wall time: 14.1 s\n"
     ]
    }
   ],
   "source": [
    "%%time\n",
    "y_train = train[\"is_attributed\"].astype(\"int\")\n",
    "train.drop(columns=[\"is_attributed\"], inplace=True)\n",
    "y_valid = test[\"is_attributed\"].astype(\"int\")\n",
    "test.drop(columns=[\"is_attributed\"], inplace=True)\n",
    "gc.collect()"
   ]
  },
  {
   "cell_type": "code",
   "execution_count": 6,
   "metadata": {},
   "outputs": [],
   "source": [
    "dtrain = xgb.DMatrix(train, y_train)\n",
    "dvalid = xgb.DMatrix(test, y_valid)"
   ]
  },
  {
   "cell_type": "code",
   "execution_count": 7,
   "metadata": {},
   "outputs": [
    {
     "data": {
      "text/plain": [
       "0"
      ]
     },
     "execution_count": 7,
     "metadata": {},
     "output_type": "execute_result"
    }
   ],
   "source": [
    "del train, y_train, test, y_valid\n",
    "gc.collect()"
   ]
  },
  {
   "cell_type": "code",
   "execution_count": 8,
   "metadata": {},
   "outputs": [
    {
     "name": "stdout",
     "output_type": "stream",
     "text": [
      "[0]\ttrain-auc:0.9628\tvalid-auc:0.957822\n",
      "Multiple eval metrics have been passed: 'valid-auc' will be used for early stopping.\n",
      "\n",
      "Will train until valid-auc hasn't improved in 25 rounds.\n",
      "[5]\ttrain-auc:0.973968\tvalid-auc:0.966239\n",
      "[10]\ttrain-auc:0.979503\tvalid-auc:0.969907\n",
      "[15]\ttrain-auc:0.980409\tvalid-auc:0.965792\n",
      "[20]\ttrain-auc:0.979966\tvalid-auc:0.961555\n",
      "[25]\ttrain-auc:0.978609\tvalid-auc:0.959352\n",
      "[30]\ttrain-auc:0.976225\tvalid-auc:0.956477\n",
      "[35]\ttrain-auc:0.97595\tvalid-auc:0.957869\n",
      "Stopping. Best iteration:\n",
      "[11]\ttrain-auc:0.980037\tvalid-auc:0.970026\n",
      "\n"
     ]
    }
   ],
   "source": [
    "params = {'eta': 0.6,\n",
    "          'tree_method': \"hist\",\n",
    "          'grow_policy': \"lossguide\",\n",
    "          'max_leaves': 1400,\n",
    "          'max_depth': 0,\n",
    "          'subsample': 0.9,\n",
    "          'colsample_bytree': 0.7,\n",
    "          'colsample_bylevel': 0.7,\n",
    "          'min_child_weight': 0,\n",
    "          'alpha': 4,\n",
    "          'objective': 'binary:logistic',\n",
    "          'scale_pos_weight': 9,\n",
    "          'eval_metric': 'auc',\n",
    "          'nthread': 40,\n",
    "          'random_state': 99,\n",
    "          'silent': True}\n",
    "watchlist = [(dtrain, 'train'), (dvalid, 'valid')]\n",
    "model = xgb.train(params, dtrain, 200, watchlist,\n",
    "                  maximize=True, early_stopping_rounds=25, verbose_eval=5)"
   ]
  },
  {
   "cell_type": "code",
   "execution_count": null,
   "metadata": {},
   "outputs": [],
   "source": []
  }
 ],
 "metadata": {
  "kernelspec": {
   "display_name": "Python 3",
   "language": "python",
   "name": "python3"
  },
  "language_info": {
   "codemirror_mode": {
    "name": "ipython",
    "version": 3
   },
   "file_extension": ".py",
   "mimetype": "text/x-python",
   "name": "python",
   "nbconvert_exporter": "python",
   "pygments_lexer": "ipython3",
   "version": "3.6.4"
  }
 },
 "nbformat": 4,
 "nbformat_minor": 2
}
