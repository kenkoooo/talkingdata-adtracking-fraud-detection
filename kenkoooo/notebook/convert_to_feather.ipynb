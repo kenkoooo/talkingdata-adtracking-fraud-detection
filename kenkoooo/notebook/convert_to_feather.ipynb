{
 "cells": [
  {
   "cell_type": "code",
   "execution_count": 1,
   "metadata": {},
   "outputs": [],
   "source": [
    "import pandas as pd"
   ]
  },
  {
   "cell_type": "code",
   "execution_count": 2,
   "metadata": {},
   "outputs": [
    {
     "name": "stdout",
     "output_type": "stream",
     "text": [
      "total 42G\n",
      "drwxrwxr-x 2 ubuntu ubuntu 4.0K Apr 24 14:53 \u001b[0m\u001b[01;34m.\u001b[0m/\n",
      "drwxrwxr-x 8 ubuntu ubuntu 4.0K Apr 24 14:00 \u001b[01;34m..\u001b[0m/\n",
      "-rw-rw-r-- 1 ubuntu ubuntu 4.8G Apr 24 12:10 basic_table.hdf\n",
      "-rw-rw-r-- 1 ubuntu ubuntu 8.2G Apr 24 14:54 channel_categorical.hdf\n",
      "-rw-rw-r-- 1 ubuntu ubuntu 3.5G Apr 24 12:12 click_count_table.hdf\n",
      "-rw-rw-r-- 1 ubuntu ubuntu 2.5G Apr 24 11:02 click_time_interval_ip_device_os_app_hash.hdf\n",
      "-rw-rw-r-- 1 ubuntu ubuntu 5.4G Apr 24 12:13 intervals_table.hdf\n",
      "-rw-rw-r-- 1 ubuntu ubuntu  12G Apr 24 12:16 misc_counts.hdf\n",
      "-rw-rw-r-- 1 ubuntu ubuntu 3.8G Apr 24 12:14 ranks_table.hdf\n",
      "-rw-rw-r-- 1 ubuntu ubuntu 2.3G Apr 24 12:15 time_table.hdf\n"
     ]
    }
   ],
   "source": [
    "ls -lha ../data/"
   ]
  },
  {
   "cell_type": "code",
   "execution_count": 3,
   "metadata": {},
   "outputs": [],
   "source": [
    "df = pd.read_hdf(\"../data/basic_table.hdf\", \"basic_table\")"
   ]
  },
  {
   "cell_type": "code",
   "execution_count": 6,
   "metadata": {},
   "outputs": [],
   "source": [
    "df.to_feather(\"../data/basic_table\")"
   ]
  },
  {
   "cell_type": "code",
   "execution_count": 8,
   "metadata": {},
   "outputs": [],
   "source": [
    "files = [\"basic_table\", \"channel_categorical\", \"click_count_table\", \"click_time_interval_ip_device_os_app_hash\", \"intervals_table\", \"misc_counts\", \"ranks_table\", \"time_table\"]"
   ]
  },
  {
   "cell_type": "code",
   "execution_count": 9,
   "metadata": {},
   "outputs": [
    {
     "name": "stdout",
     "output_type": "stream",
     "text": [
      "loaded basic_table.hdf\n",
      "write basic_table\n",
      "loaded channel_categorical.hdf\n",
      "write channel_categorical\n",
      "loaded click_count_table.hdf\n",
      "write click_count_table\n",
      "loaded click_time_interval_ip_device_os_app_hash.hdf\n",
      "write click_time_interval_ip_device_os_app_hash\n",
      "loaded intervals_table.hdf\n",
      "write intervals_table\n",
      "loaded misc_counts.hdf\n",
      "write misc_counts\n",
      "loaded ranks_table.hdf\n",
      "write ranks_table\n",
      "loaded time_table.hdf\n",
      "write time_table\n"
     ]
    }
   ],
   "source": [
    "for file in files:\n",
    "    df = pd.read_hdf(\"../data/{}.hdf\".format(file), file)\n",
    "    print(\"loaded {}.hdf\".format(file))\n",
    "    df.to_feather(\"../data/{}\".format(file))\n",
    "    print(\"write {}\".format(file))"
   ]
  },
  {
   "cell_type": "code",
   "execution_count": 10,
   "metadata": {},
   "outputs": [
    {
     "name": "stdout",
     "output_type": "stream",
     "text": [
      "total 65G\n",
      "drwxrwxr-x 2 ubuntu ubuntu 4.0K Apr 25 11:50 \u001b[0m\u001b[01;34m.\u001b[0m/\n",
      "drwxrwxr-x 8 ubuntu ubuntu 4.0K Apr 24 14:00 \u001b[01;34m..\u001b[0m/\n",
      "-rw-r--r-- 1 ubuntu ubuntu 3.3G Apr 25 11:44 basic_table\n",
      "-rw-rw-r-- 1 ubuntu ubuntu 4.8G Apr 24 12:10 basic_table.hdf\n",
      "-rw-r--r-- 1 ubuntu ubuntu 850M Apr 25 11:45 channel_categorical\n",
      "-rw-rw-r-- 1 ubuntu ubuntu 8.2G Apr 24 14:54 channel_categorical.hdf\n",
      "-rw-r--r-- 1 ubuntu ubuntu 1.9G Apr 25 11:46 click_count_table\n",
      "-rw-rw-r-- 1 ubuntu ubuntu 3.5G Apr 24 12:12 click_count_table.hdf\n",
      "-rw-r--r-- 1 ubuntu ubuntu 802M Apr 25 11:46 click_time_interval_ip_device_os_app_hash\n",
      "-rw-rw-r-- 1 ubuntu ubuntu 2.5G Apr 24 11:02 click_time_interval_ip_device_os_app_hash.hdf\n",
      "-rw-r--r-- 1 ubuntu ubuntu 3.2G Apr 25 11:47 intervals_table\n",
      "-rw-rw-r-- 1 ubuntu ubuntu 5.4G Apr 24 12:13 intervals_table.hdf\n",
      "-rw-r--r-- 1 ubuntu ubuntu  10G Apr 25 11:49 misc_counts\n",
      "-rw-rw-r-- 1 ubuntu ubuntu  12G Apr 24 12:16 misc_counts.hdf\n",
      "-rw-r--r-- 1 ubuntu ubuntu 2.3G Apr 25 11:49 ranks_table\n",
      "-rw-rw-r-- 1 ubuntu ubuntu 3.8G Apr 24 12:14 ranks_table.hdf\n",
      "-rw-r--r-- 1 ubuntu ubuntu 778M Apr 25 11:50 time_table\n",
      "-rw-rw-r-- 1 ubuntu ubuntu 2.3G Apr 24 12:15 time_table.hdf\n"
     ]
    }
   ],
   "source": [
    "ls -lha ../data/"
   ]
  },
  {
   "cell_type": "code",
   "execution_count": null,
   "metadata": {},
   "outputs": [],
   "source": []
  }
 ],
 "metadata": {
  "kernelspec": {
   "display_name": "Python 3",
   "language": "python",
   "name": "python3"
  },
  "language_info": {
   "codemirror_mode": {
    "name": "ipython",
    "version": 3
   },
   "file_extension": ".py",
   "mimetype": "text/x-python",
   "name": "python",
   "nbconvert_exporter": "python",
   "pygments_lexer": "ipython3",
   "version": "3.6.5"
  }
 },
 "nbformat": 4,
 "nbformat_minor": 2
}
